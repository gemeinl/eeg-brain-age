{
 "cells": [
  {
   "cell_type": "markdown",
   "id": "8cde932e-3994-4df3-ba54-2ed6e5d0c5ee",
   "metadata": {},
   "source": [
    "# Preprocess and window longitudinal datasets and save afterwards"
   ]
  },
  {
   "cell_type": "code",
   "execution_count": 1,
   "id": "d70ef0da-1edc-4bb6-9306-b4cd7ed12759",
   "metadata": {},
   "outputs": [],
   "source": [
    "%load_ext autoreload\n",
    "%autoreload 2"
   ]
  },
  {
   "cell_type": "code",
   "execution_count": 2,
   "id": "93483cf6-c6a1-474b-9d91-b5233898a2aa",
   "metadata": {},
   "outputs": [],
   "source": [
    "import os\n",
    "import sys\n",
    "sys.path.insert(0, '/home/jovyan/braindecode/')\n",
    "import pickle"
   ]
  },
  {
   "cell_type": "code",
   "execution_count": 3,
   "id": "b2efc720-092a-4b11-af6a-2c20f3af652c",
   "metadata": {},
   "outputs": [
    {
     "name": "stdout",
     "output_type": "stream",
     "text": [
      "Tue Feb 14 15:16:57 2023       \n",
      "+-----------------------------------------------------------------------------+\n",
      "| NVIDIA-SMI 515.48.07    Driver Version: 515.48.07    CUDA Version: 11.7     |\n",
      "|-------------------------------+----------------------+----------------------+\n",
      "| GPU  Name        Persistence-M| Bus-Id        Disp.A | Volatile Uncorr. ECC |\n",
      "| Fan  Temp  Perf  Pwr:Usage/Cap|         Memory-Usage | GPU-Util  Compute M. |\n",
      "|                               |                      |               MIG M. |\n",
      "|===============================+======================+======================|\n",
      "|   0  NVIDIA GeForce ...  On   | 00000000:3E:00.0 Off |                  N/A |\n",
      "| 27%   26C    P8     9W / 250W |      1MiB / 11264MiB |      0%      Default |\n",
      "|                               |                      |                  N/A |\n",
      "+-------------------------------+----------------------+----------------------+\n",
      "                                                                               \n",
      "+-----------------------------------------------------------------------------+\n",
      "| Processes:                                                                  |\n",
      "|  GPU   GI   CI        PID   Type   Process name                  GPU Memory |\n",
      "|        ID   ID                                                   Usage      |\n",
      "|=============================================================================|\n",
      "|  No running processes found                                                 |\n",
      "+-----------------------------------------------------------------------------+\n",
      "\n"
     ]
    }
   ],
   "source": [
    "from decode_tueg import (\n",
    "    get_longitudinal_ds, preprocess, get_preprocessors,\n",
    "    _create_windows, _create_final_scores, load_exp,\n",
    "    get_n_preds_per_input, DataScaler, TargetScaler,\n",
    "    Augmenter, iter_exp_dir,\n",
    ")"
   ]
  },
  {
   "cell_type": "code",
   "execution_count": 4,
   "id": "613dbbe9-3360-4f7f-babc-bf329cb7ca6c",
   "metadata": {},
   "outputs": [],
   "source": [
    "exp_date = '2023-02-09T09:34:21.685021'\n",
    "exp_dir = '/home/jovyan/experiments/'\n",
    "mapping = None  # where to get this from?\n",
    "checkpoint = 'train_end'"
   ]
  },
  {
   "cell_type": "code",
   "execution_count": 5,
   "id": "185ed843-db08-4b33-a6c3-96e40062e69d",
   "metadata": {},
   "outputs": [],
   "source": [
    "for x in iter_exp_dir(exp_dir, exp_date):\n",
    "    break"
   ]
  },
  {
   "cell_type": "code",
   "execution_count": 6,
   "id": "036a54fd-3b81-4508-b821-ee4bb6c3ed50",
   "metadata": {},
   "outputs": [],
   "source": [
    "estimator, data_scaler, target_scaler, config = load_exp(\n",
    "    exp_dir, os.path.join(exp_dir, x), checkpoint)"
   ]
  },
  {
   "cell_type": "code",
   "execution_count": 7,
   "id": "140a6ef0-38ba-41ea-9265-a926fefef570",
   "metadata": {},
   "outputs": [],
   "source": [
    "min_age = int(config.min_age)\n",
    "max_age = int(config.max_age)\n",
    "tmin = int(config.tmin)\n",
    "tmax = int(config.tmax)\n",
    "n_jobs = int(config.n_jobs)\n",
    "window_size_samples = int(config.window_size_samples)\n",
    "preload = int(config.preload)\n",
    "target_name = config.target_name\n",
    "out_dir = config.out_dir"
   ]
  },
  {
   "cell_type": "raw",
   "id": "d65fbe27-bbc0-416b-8909-02f7eb0e31ae",
   "metadata": {},
   "source": [
    "TODO: reject recs with large age derivation\n",
    "# -> nope, would cause all recs to be rejected. apparently date_age is massively off\n",
    "# maybe due to \"date in path is not recording date but date of recording export\""
   ]
  },
  {
   "cell_type": "raw",
   "id": "4a74fa11-85c1-488a-a661-1f20b8019073",
   "metadata": {},
   "source": [
    "taken from prepare_longitudinal_datasets"
   ]
  },
  {
   "cell_type": "raw",
   "id": "59fa50f0-33b8-4dde-904c-7606c26127c0",
   "metadata": {},
   "source": [
    "ds = extract_longitudinal_dataset(description, 'pathological', True)"
   ]
  },
  {
   "cell_type": "raw",
   "id": "dc3f723b-13c4-4756-855f-f77ac331d1a9",
   "metadata": {},
   "source": [
    "with open('/home/jovyan/longitudinal/pathological.pkl', 'wb') as f:\n",
    "    pickle.dump(ds, f)"
   ]
  },
  {
   "cell_type": "code",
   "execution_count": 12,
   "id": "6ced6464-34b8-4120-8ec9-33992fa6272b",
   "metadata": {},
   "outputs": [
    {
     "name": "stdout",
     "output_type": "stream",
     "text": [
      "getting\n",
      "preprocessing\n",
      "2023-02-14 12:24:39 DEBUG    adding cropper 60 – None\n",
      "2023-02-14 12:26:26 DEBUG    model produces 5504 preds for every input of size 6000\n",
      "windowing\n",
      "getting\n",
      "preprocessing\n",
      "2023-02-14 13:09:17 DEBUG    adding cropper 60 – None\n",
      "2023-02-14 13:09:37 DEBUG    model produces 5504 preds for every input of size 6000\n",
      "windowing\n",
      "getting\n",
      "preprocessing\n",
      "2023-02-14 13:15:41 DEBUG    adding cropper 60 – None\n",
      "2023-02-14 13:15:58 DEBUG    model produces 5504 preds for every input of size 6000\n",
      "windowing\n"
     ]
    }
   ],
   "source": [
    "#'pathological', 'non_pathological', 'transition'\n",
    "for ds_name in ['pathological', 'non_pathological', 'transition']:\n",
    "    print(f'getting {ds_name}')\n",
    "    ds = get_longitudinal_ds(ds_name, (min_age, max_age))\n",
    "    print('preprocessing')\n",
    "    ds = preprocess(\n",
    "        ds, \n",
    "        preprocessors=get_preprocessors(tmin, tmax), \n",
    "        n_jobs=n_jobs,\n",
    "    )\n",
    "    n_preds_per_input = get_n_preds_per_input(\n",
    "        estimator.module, ds[0][0].shape[0], window_size_samples)\n",
    "    print('windowing')\n",
    "    ds = _create_windows(\n",
    "        ds,\n",
    "        window_size_samples,\n",
    "        n_jobs, \n",
    "        preload,\n",
    "        n_preds_per_input,\n",
    "        mapping,\n",
    "    )\n",
    "    with open(f'/home/jovyan/longitudinal/{ds_name}_pre_win.pkl', 'wb') as f:\n",
    "        pickle.dump(ds, f)"
   ]
  },
  {
   "cell_type": "code",
   "execution_count": 13,
   "id": "bdf307f2-d74f-4753-88dd-e85ff414e561",
   "metadata": {},
   "outputs": [
    {
     "name": "stdout",
     "output_type": "stream",
     "text": [
      "hiu\n"
     ]
    }
   ],
   "source": [
    "print(\"hiu\")"
   ]
  },
  {
   "cell_type": "code",
   "execution_count": null,
   "id": "8ca5a2c7-d057-41b4-95e1-1fb34c909eb0",
   "metadata": {},
   "outputs": [],
   "source": []
  },
  {
   "cell_type": "code",
   "execution_count": null,
   "id": "15823d36-34e2-42be-9743-8edcf22191ec",
   "metadata": {},
   "outputs": [],
   "source": []
  },
  {
   "cell_type": "code",
   "execution_count": null,
   "id": "cd9e1fad-08dc-4daf-98fd-6fcfdda99f51",
   "metadata": {},
   "outputs": [],
   "source": []
  },
  {
   "cell_type": "markdown",
   "id": "e35b5fde-4d90-42ef-8136-3c67e1ee9691",
   "metadata": {},
   "source": [
    "# Predict the longitudinal datasets"
   ]
  },
  {
   "cell_type": "code",
   "execution_count": 1,
   "id": "69e50be0-e7d4-47a0-86e5-abe210c42e1c",
   "metadata": {},
   "outputs": [],
   "source": [
    "import os\n",
    "import sys\n",
    "sys.path.insert(0, '/home/jovyan/braindecode/')\n",
    "import pickle"
   ]
  },
  {
   "cell_type": "code",
   "execution_count": 2,
   "id": "74cee50a-c95c-49c5-86c6-41536cdfa62b",
   "metadata": {},
   "outputs": [],
   "source": [
    "import numpy as np\n",
    "import pandas as pd"
   ]
  },
  {
   "cell_type": "code",
   "execution_count": 3,
   "id": "fe0cc02b-37e4-4267-8a46-04acda17a45d",
   "metadata": {},
   "outputs": [
    {
     "name": "stdout",
     "output_type": "stream",
     "text": [
      "Tue Feb 14 15:17:23 2023       \n",
      "+-----------------------------------------------------------------------------+\n",
      "| NVIDIA-SMI 515.48.07    Driver Version: 515.48.07    CUDA Version: 11.7     |\n",
      "|-------------------------------+----------------------+----------------------+\n",
      "| GPU  Name        Persistence-M| Bus-Id        Disp.A | Volatile Uncorr. ECC |\n",
      "| Fan  Temp  Perf  Pwr:Usage/Cap|         Memory-Usage | GPU-Util  Compute M. |\n",
      "|                               |                      |               MIG M. |\n",
      "|===============================+======================+======================|\n",
      "|   0  NVIDIA GeForce ...  On   | 00000000:3E:00.0 Off |                  N/A |\n",
      "| 27%   29C    P8    10W / 250W |      1MiB / 11264MiB |      0%      Default |\n",
      "|                               |                      |                  N/A |\n",
      "+-------------------------------+----------------------+----------------------+\n",
      "                                                                               \n",
      "+-----------------------------------------------------------------------------+\n",
      "| Processes:                                                                  |\n",
      "|  GPU   GI   CI        PID   Type   Process name                  GPU Memory |\n",
      "|        ID   ID                                                   Usage      |\n",
      "|=============================================================================|\n",
      "|  No running processes found                                                 |\n",
      "+-----------------------------------------------------------------------------+\n",
      "\n"
     ]
    }
   ],
   "source": [
    "from decode_tueg import (\n",
    "    deconfound, load_exp, _create_final_scores, plot_age_gap_hist, plot_heatmaps,\n",
    "    save_csv, plot_age_gap_hist_and_permutation_test, DataScaler, TargetScaler,\n",
    "    Augmenter, iter_exp_dir,\n",
    ")"
   ]
  },
  {
   "cell_type": "raw",
   "id": "d06dabaf-b5d5-43c0-a5f6-87751040aa99",
   "metadata": {},
   "source": [
    "32GB RAM enough for transition, not for pathological"
   ]
  },
  {
   "cell_type": "code",
   "execution_count": 6,
   "id": "e4c6686d-7c62-417d-9892-757fd0208234",
   "metadata": {},
   "outputs": [],
   "source": [
    "exp_dir = '/home/jovyan/experiments/'\n",
    "exp_date = '2023-02-09T09:34:21.685021'\n",
    "checkpoint = 'train_end'"
   ]
  },
  {
   "cell_type": "code",
   "execution_count": 7,
   "id": "48965128-a0b7-40d6-b3aa-b267b514c862",
   "metadata": {},
   "outputs": [],
   "source": [
    "n_recordings = 10"
   ]
  },
  {
   "cell_type": "code",
   "execution_count": 8,
   "id": "6bd957c3-7c4a-485a-a2e9-5f879f3e7b8b",
   "metadata": {
    "scrolled": true,
    "tags": []
   },
   "outputs": [
    {
     "name": "stdout",
     "output_type": "stream",
     "text": [
      "loading exp 2023-02-09T09:34:21.685021/20230206/0\n",
      "getting transition\n",
      "predicting\n",
      "2023-02-14 15:18:14 INFO     on transition reached\n",
      "2023-02-14 15:18:18 INFO     7.56 mae\n",
      "2023-02-14 15:18:18 INFO     7.56 mdae\n",
      "2023-02-14 15:18:18 INFO     -16.07 r2\n",
      "2023-02-14 15:18:18 INFO     0.16 mape\n",
      "2023-02-14 15:18:18 INFO     0.16 mdape\n",
      "saving /home/jovyan/experiments/2023-02-09T09:34:21.685021/20230206/0/preds\n",
      "loading exp 2023-02-09T09:34:21.685021/20230207/0\n",
      "getting transition\n",
      "predicting\n",
      "2023-02-14 15:18:22 INFO     on transition reached\n",
      "2023-02-14 15:18:24 INFO     7.90 mae\n",
      "2023-02-14 15:18:24 INFO     7.90 mdae\n",
      "2023-02-14 15:18:24 INFO     -17.88 r2\n",
      "2023-02-14 15:18:24 INFO     0.17 mape\n",
      "2023-02-14 15:18:24 INFO     0.17 mdape\n",
      "saving /home/jovyan/experiments/2023-02-09T09:34:21.685021/20230207/0/preds\n",
      "loading exp 2023-02-09T09:34:21.685021/20230208/0\n",
      "getting transition\n",
      "predicting\n",
      "2023-02-14 15:18:28 INFO     on transition reached\n",
      "2023-02-14 15:18:31 INFO     4.83 mae\n",
      "2023-02-14 15:18:31 INFO     4.83 mdae\n",
      "2023-02-14 15:18:31 INFO     -4.38 r2\n",
      "2023-02-14 15:18:31 INFO     0.10 mape\n",
      "2023-02-14 15:18:31 INFO     0.10 mdape\n",
      "saving /home/jovyan/experiments/2023-02-09T09:34:21.685021/20230208/0/preds\n",
      "loading exp 2023-02-09T09:34:21.685021/20230209/0\n",
      "getting transition\n",
      "predicting\n",
      "2023-02-14 15:18:35 INFO     on transition reached\n",
      "2023-02-14 15:18:38 INFO     1.50 mae\n",
      "2023-02-14 15:18:38 INFO     1.50 mdae\n",
      "2023-02-14 15:18:38 INFO     -0.02 r2\n",
      "2023-02-14 15:18:38 INFO     0.03 mape\n",
      "2023-02-14 15:18:38 INFO     0.03 mdape\n",
      "saving /home/jovyan/experiments/2023-02-09T09:34:21.685021/20230209/0/preds\n",
      "loading exp 2023-02-09T09:34:21.685021/20230210/0\n",
      "getting transition\n",
      "predicting\n",
      "2023-02-14 15:18:42 INFO     on transition reached\n",
      "2023-02-14 15:18:45 INFO     6.34 mae\n",
      "2023-02-14 15:18:45 INFO     6.34 mdae\n",
      "2023-02-14 15:18:45 INFO     -8.30 r2\n",
      "2023-02-14 15:18:45 INFO     0.13 mape\n",
      "2023-02-14 15:18:45 INFO     0.13 mdape\n",
      "saving /home/jovyan/experiments/2023-02-09T09:34:21.685021/20230210/0/preds\n",
      "loading exp 2023-02-09T09:34:21.685021/20230206/0\n",
      "getting non_pathological\n",
      "predicting\n",
      "2023-02-14 15:18:50 INFO     on non_pathological reached\n",
      "2023-02-14 15:18:53 INFO     25.58 mae\n",
      "2023-02-14 15:18:53 INFO     18.89 mdae\n",
      "2023-02-14 15:18:53 INFO     -1.08 r2\n",
      "2023-02-14 15:18:53 INFO     12.61 mape\n",
      "2023-02-14 15:18:53 INFO     1.05 mdape\n",
      "saving /home/jovyan/experiments/2023-02-09T09:34:21.685021/20230206/0/preds\n",
      "loading exp 2023-02-09T09:34:21.685021/20230207/0\n",
      "getting non_pathological\n",
      "predicting\n",
      "2023-02-14 15:18:58 INFO     on non_pathological reached\n",
      "2023-02-14 15:19:00 INFO     22.36 mae\n",
      "2023-02-14 15:19:00 INFO     12.71 mdae\n",
      "2023-02-14 15:19:00 INFO     -0.81 r2\n",
      "2023-02-14 15:19:00 INFO     11.13 mape\n",
      "2023-02-14 15:19:00 INFO     0.71 mdape\n",
      "saving /home/jovyan/experiments/2023-02-09T09:34:21.685021/20230207/0/preds\n",
      "loading exp 2023-02-09T09:34:21.685021/20230208/0\n",
      "getting non_pathological\n",
      "predicting\n",
      "2023-02-14 15:19:05 INFO     on non_pathological reached\n",
      "2023-02-14 15:19:07 INFO     21.55 mae\n",
      "2023-02-14 15:19:07 INFO     14.76 mdae\n",
      "2023-02-14 15:19:07 INFO     -0.46 r2\n",
      "2023-02-14 15:19:07 INFO     9.57 mape\n",
      "2023-02-14 15:19:07 INFO     0.82 mdape\n",
      "saving /home/jovyan/experiments/2023-02-09T09:34:21.685021/20230208/0/preds\n",
      "loading exp 2023-02-09T09:34:21.685021/20230209/0\n",
      "getting non_pathological\n",
      "predicting\n",
      "2023-02-14 15:19:11 INFO     on non_pathological reached\n",
      "2023-02-14 15:19:14 INFO     22.91 mae\n",
      "2023-02-14 15:19:14 INFO     16.19 mdae\n",
      "2023-02-14 15:19:14 INFO     -0.79 r2\n",
      "2023-02-14 15:19:14 INFO     11.76 mape\n",
      "2023-02-14 15:19:14 INFO     0.90 mdape\n",
      "saving /home/jovyan/experiments/2023-02-09T09:34:21.685021/20230209/0/preds\n",
      "loading exp 2023-02-09T09:34:21.685021/20230210/0\n",
      "getting non_pathological\n",
      "predicting\n",
      "2023-02-14 15:19:19 INFO     on non_pathological reached\n",
      "2023-02-14 15:19:21 INFO     20.92 mae\n",
      "2023-02-14 15:19:21 INFO     14.93 mdae\n",
      "2023-02-14 15:19:21 INFO     -0.65 r2\n",
      "2023-02-14 15:19:21 INFO     11.43 mape\n",
      "2023-02-14 15:19:21 INFO     0.83 mdape\n",
      "saving /home/jovyan/experiments/2023-02-09T09:34:21.685021/20230210/0/preds\n",
      "loading exp 2023-02-09T09:34:21.685021/20230206/0\n",
      "getting pathological\n",
      "predicting\n",
      "2023-02-14 15:19:43 INFO     on pathological reached\n",
      "2023-02-14 15:19:45 INFO     37.59 mae\n",
      "2023-02-14 15:19:45 INFO     37.59 mdae\n",
      "2023-02-14 15:19:45 INFO     -7.74 r2\n",
      "2023-02-14 15:19:45 INFO     0.54 mape\n",
      "2023-02-14 15:19:45 INFO     0.54 mdape\n",
      "saving /home/jovyan/experiments/2023-02-09T09:34:21.685021/20230206/0/preds\n",
      "loading exp 2023-02-09T09:34:21.685021/20230207/0\n",
      "getting pathological\n",
      "predicting\n",
      "2023-02-14 15:20:06 INFO     on pathological reached\n",
      "2023-02-14 15:20:08 INFO     36.76 mae\n",
      "2023-02-14 15:20:08 INFO     36.76 mdae\n",
      "2023-02-14 15:20:08 INFO     -7.67 r2\n",
      "2023-02-14 15:20:08 INFO     0.52 mape\n",
      "2023-02-14 15:20:08 INFO     0.52 mdape\n",
      "saving /home/jovyan/experiments/2023-02-09T09:34:21.685021/20230207/0/preds\n",
      "loading exp 2023-02-09T09:34:21.685021/20230208/0\n",
      "getting pathological\n",
      "predicting\n",
      "2023-02-14 15:20:29 INFO     on pathological reached\n",
      "2023-02-14 15:20:31 INFO     45.22 mae\n",
      "2023-02-14 15:20:31 INFO     45.22 mdae\n",
      "2023-02-14 15:20:31 INFO     -11.59 r2\n",
      "2023-02-14 15:20:31 INFO     0.64 mape\n",
      "2023-02-14 15:20:31 INFO     0.64 mdape\n",
      "saving /home/jovyan/experiments/2023-02-09T09:34:21.685021/20230208/0/preds\n",
      "loading exp 2023-02-09T09:34:21.685021/20230209/0\n",
      "getting pathological\n",
      "predicting\n",
      "2023-02-14 15:20:52 INFO     on pathological reached\n",
      "2023-02-14 15:20:54 INFO     45.81 mae\n",
      "2023-02-14 15:20:54 INFO     45.81 mdae\n",
      "2023-02-14 15:20:54 INFO     -11.43 r2\n",
      "2023-02-14 15:20:54 INFO     0.66 mape\n",
      "2023-02-14 15:20:54 INFO     0.66 mdape\n",
      "saving /home/jovyan/experiments/2023-02-09T09:34:21.685021/20230209/0/preds\n",
      "loading exp 2023-02-09T09:34:21.685021/20230210/0\n",
      "getting pathological\n",
      "predicting\n",
      "2023-02-14 15:21:15 INFO     on pathological reached\n",
      "2023-02-14 15:21:17 INFO     29.60 mae\n",
      "2023-02-14 15:21:17 INFO     29.60 mdae\n",
      "2023-02-14 15:21:17 INFO     -5.34 r2\n",
      "2023-02-14 15:21:17 INFO     0.40 mape\n",
      "2023-02-14 15:21:17 INFO     0.40 mdape\n",
      "saving /home/jovyan/experiments/2023-02-09T09:34:21.685021/20230210/0/preds\n"
     ]
    }
   ],
   "source": [
    "# read all experiment models (seeds and cv / eval runs) to predict longitudinal datasets\n",
    "# 'transition', 'non_pathological', 'pathological'\n",
    "for ds_name in ['transition', 'non_pathological', 'pathological']:\n",
    "    for exp_path in iter_exp_dir(exp_dir, exp_date):\n",
    "        print(f'loading exp {exp_path}')\n",
    "        estimator, data_scaler, target_scaler, config = load_exp(\n",
    "            exp_dir, exp_path, checkpoint)\n",
    "        print(f'getting {ds_name}')\n",
    "        with open(f'/home/jovyan/longitudinal/{ds_name}_pre_win.pkl', 'rb') as f:\n",
    "            ds = pickle.load(f)\n",
    "        if n_recordings not in [-1, None]:\n",
    "            ds = ds.split(list(range(n_recordings)))['0']\n",
    "        print('predicting')\n",
    "        ds_preds, ds_score = _create_final_scores(\n",
    "            estimator,\n",
    "            ds,\n",
    "            ds_name,\n",
    "            config.target_name,\n",
    "            target_scaler,\n",
    "            data_scaler,\n",
    "            int(config.n_jobs),\n",
    "            subject_wise=True,\n",
    "        )\n",
    "        save_path = os.path.join(exp_dir, exp_path, 'preds')\n",
    "        print(f'saving {save_path}')\n",
    "        # write preds to file\n",
    "        #save_csv(\n",
    "        #    ds_preds,\n",
    "        #    save_path,\n",
    "        #    f'{checkpoint}_longitudinal_{ds_name}_preds.csv',\n",
    "        #)\n",
    "        # write scores to file\n",
    "        scores = pd.read_csv(\n",
    "            os.path.join(os.path.join(exp_dir, exp_path), f'{checkpoint}_scores.csv'), \n",
    "            index_col=0,\n",
    "        )\n",
    "        for k, v in ds_score.items():\n",
    "            scores[k] = v\n",
    "        #save_csv(\n",
    "        #    scores,\n",
    "        #    os.path.join(exp_dir, exp_path),\n",
    "        #    f'{checkpoint}_scores.csv',\n",
    "        #)"
   ]
  },
  {
   "cell_type": "code",
   "execution_count": 11,
   "id": "1cc7c7a7-3e2c-4e21-ac2b-20855120400a",
   "metadata": {},
   "outputs": [
    {
     "name": "stdout",
     "output_type": "stream",
     "text": [
      "hi\n"
     ]
    }
   ],
   "source": [
    "print(\"hi\")"
   ]
  },
  {
   "cell_type": "raw",
   "id": "1b7397f8-24bc-4309-85fd-e481c404bf97",
   "metadata": {},
   "source": [
    "below seems fixed"
   ]
  },
  {
   "cell_type": "raw",
   "id": "c02dbc1c-6238-4218-b198-c74234e8eee9",
   "metadata": {},
   "source": [
    "loading exp 2023-02-09T09:34:21.685021/20230206/0\n",
    "getting pathological\n",
    "predicting\n",
    "2023-02-13 16:44:25 INFO     on pathological reached\n",
    "Unexpected exception formatting exception. Falling back to standard exception\n",
    "\n",
    "Traceback (most recent call last):\n",
    "  File \"/opt/conda/envs/job-env/lib/python3.9/site-packages/IPython/core/interactiveshell.py\", line 3442, in run_code\n",
    "    exec(code_obj, self.user_global_ns, self.user_ns)\n",
    "  File \"/tmp/ipykernel_316/2270417952.py\", line 13, in <module>\n",
    "    ds_preds, ds_score = _create_final_scores(\n",
    "  File \"/home/jovyan/tueg_age_decoding/decode_tueg.py\", line 1658, in _create_final_scores\n",
    "    preds, targets = predict_ds(\n",
    "  File \"/home/jovyan/tueg_age_decoding/decode_tueg.py\", line 1723, in predict_ds\n",
    "    preds, targets = _predict_ds(\n",
    "  File \"/home/jovyan/tueg_age_decoding/decode_tueg.py\", line 1747, in _predict_ds\n",
    "    preds, targets = clf.predict_trials(ds, return_targets=True)\n",
    "  File \"/home/jovyan/braindecode/braindecode/regressor.py\", line 303, in predict_trials\n",
    "    return predict_trials(\n",
    "  File \"/home/jovyan/braindecode/braindecode/training/scoring.py\", line 454, in predict_trials\n",
    "    for X, y, ind in loader:\n",
    "  File \"/opt/conda/envs/job-env/lib/python3.9/site-packages/torch/utils/data/dataloader.py\", line 628, in __next__\n",
    "    data = self._next_data()\n",
    "  File \"/opt/conda/envs/job-env/lib/python3.9/site-packages/torch/utils/data/dataloader.py\", line 1316, in _next_data\n",
    "    idx, data = self._get_data()\n",
    "  File \"/opt/conda/envs/job-env/lib/python3.9/site-packages/torch/utils/data/dataloader.py\", line 1282, in _get_data\n",
    "    success, data = self._try_get_data()\n",
    "  File \"/opt/conda/envs/job-env/lib/python3.9/site-packages/torch/utils/data/dataloader.py\", line 1120, in _try_get_data\n",
    "    data = self._data_queue.get(timeout=timeout)\n",
    "  File \"/opt/conda/envs/job-env/lib/python3.9/multiprocessing/queues.py\", line 122, in get\n",
    "    return _ForkingPickler.loads(res)\n",
    "  File \"/opt/conda/envs/job-env/lib/python3.9/site-packages/torch/multiprocessing/reductions.py\", line 310, in rebuild_storage_fd\n",
    "    storage = cls._new_shared_fd_cpu(fd, size)\n",
    "RuntimeError: unable to mmap 32256000 bytes from file <filename not specified>: Cannot allocate memory (12)\n",
    "\n",
    "During handling of the above exception, another exception occurred:\n",
    "\n",
    "Traceback (most recent call last):\n",
    "  File \"/opt/conda/envs/job-env/lib/python3.9/site-packages/IPython/core/interactiveshell.py\", line 2057, in showtraceback\n",
    "    stb = self.InteractiveTB.structured_traceback(\n",
    "  File \"/opt/conda/envs/job-env/lib/python3.9/site-packages/IPython/core/ultratb.py\", line 1118, in structured_traceback\n",
    "    return FormattedTB.structured_traceback(\n",
    "  File \"/opt/conda/envs/job-env/lib/python3.9/site-packages/IPython/core/ultratb.py\", line 1012, in structured_traceback\n",
    "    return VerboseTB.structured_traceback(\n",
    "  File \"/opt/conda/envs/job-env/lib/python3.9/site-packages/IPython/core/ultratb.py\", line 865, in structured_traceback\n",
    "    formatted_exception = self.format_exception_as_a_whole(etype, evalue, etb, number_of_lines_of_context,\n",
    "  File \"/opt/conda/envs/job-env/lib/python3.9/site-packages/IPython/core/ultratb.py\", line 799, in format_exception_as_a_whole\n",
    "    self.get_records(etb, number_of_lines_of_context, tb_offset) if etb else []\n",
    "  File \"/opt/conda/envs/job-env/lib/python3.9/site-packages/IPython/core/ultratb.py\", line 854, in get_records\n",
    "    return list(stack_data.FrameInfo.stack_data(etb, options=options))[tb_offset:]\n",
    "  File \"/opt/conda/envs/job-env/lib/python3.9/site-packages/stack_data/core.py\", line 597, in stack_data\n",
    "    yield from collapse_repeated(\n",
    "  File \"/opt/conda/envs/job-env/lib/python3.9/site-packages/stack_data/utils.py\", line 83, in collapse_repeated\n",
    "    yield from map(mapper, original_group)\n",
    "  File \"/opt/conda/envs/job-env/lib/python3.9/site-packages/stack_data/core.py\", line 587, in mapper\n",
    "    return cls(f, options)\n",
    "  File \"/opt/conda/envs/job-env/lib/python3.9/site-packages/stack_data/core.py\", line 551, in __init__\n",
    "    self.executing = Source.executing(frame_or_tb)\n",
    "  File \"/opt/conda/envs/job-env/lib/python3.9/site-packages/executing/executing.py\", line 359, in executing\n",
    "    source = cls.for_frame(frame)\n",
    "  File \"/opt/conda/envs/job-env/lib/python3.9/site-packages/executing/executing.py\", line 277, in for_frame\n",
    "    return cls.for_filename(frame.f_code.co_filename, frame.f_globals or {}, use_cache)\n",
    "  File \"/opt/conda/envs/job-env/lib/python3.9/site-packages/executing/executing.py\", line 306, in for_filename\n",
    "    return cls._for_filename_and_lines(filename, tuple(lines))\n",
    "  File \"/opt/conda/envs/job-env/lib/python3.9/site-packages/executing/executing.py\", line 317, in _for_filename_and_lines\n",
    "    result = source_cache[(filename, lines)] = cls(filename, lines)\n",
    "  File \"/opt/conda/envs/job-env/lib/python3.9/site-packages/executing/executing.py\", line 257, in __init__\n",
    "    self.tree = ast.parse(ast_text, filename=filename)\n",
    "  File \"/opt/conda/envs/job-env/lib/python3.9/ast.py\", line 50, in parse\n",
    "    return compile(source, filename, mode, flags,\n",
    "MemoryError\n"
   ]
  },
  {
   "cell_type": "code",
   "execution_count": null,
   "id": "86cf1dd7-0b91-4ac0-9b13-f6b72e70c284",
   "metadata": {},
   "outputs": [],
   "source": []
  },
  {
   "cell_type": "code",
   "execution_count": null,
   "id": "b3bca06c-7281-4e1d-8843-895ef626d7b7",
   "metadata": {},
   "outputs": [],
   "source": []
  },
  {
   "cell_type": "code",
   "execution_count": null,
   "id": "c0a922d4-a2e7-461a-af2d-2f84fd871c4b",
   "metadata": {},
   "outputs": [],
   "source": []
  },
  {
   "cell_type": "code",
   "execution_count": null,
   "id": "c898af91-a2f3-4f8d-b4f2-00227450672c",
   "metadata": {},
   "outputs": [],
   "source": []
  },
  {
   "cell_type": "code",
   "execution_count": null,
   "id": "dddbdfc4-e2bc-4e1b-8ce8-6fe771d16178",
   "metadata": {},
   "outputs": [],
   "source": []
  },
  {
   "cell_type": "code",
   "execution_count": null,
   "id": "21793296-65ba-4beb-bf5f-a38e997fceaf",
   "metadata": {},
   "outputs": [],
   "source": []
  },
  {
   "cell_type": "markdown",
   "id": "089ea013-9c77-4323-9f58-0703473cdea7",
   "metadata": {},
   "source": [
    "# Read the longitudinal predictions and plot them"
   ]
  },
  {
   "cell_type": "code",
   "execution_count": 12,
   "id": "cfc9379a-1756-4acd-93c7-a0166e481fde",
   "metadata": {},
   "outputs": [],
   "source": [
    "import os\n",
    "import sys\n",
    "sys.path.insert(0, '/home/jovyan/braindecode/')"
   ]
  },
  {
   "cell_type": "code",
   "execution_count": 13,
   "id": "5847fa6c-d565-4043-a7f6-496e15c45e3f",
   "metadata": {},
   "outputs": [],
   "source": [
    "import pandas as pd"
   ]
  },
  {
   "cell_type": "code",
   "execution_count": 14,
   "id": "3ea4547b-eec5-46f8-a7c2-8b554a341148",
   "metadata": {},
   "outputs": [],
   "source": [
    "from decode_tueg import (\n",
    "    deconfound, plot_age_gap_hist, plot_heatmaps,\n",
    "    plot_age_gap_hist_and_permutation_test, iter_exp_dir,\n",
    ")"
   ]
  },
  {
   "cell_type": "code",
   "execution_count": 15,
   "id": "2314eb4c-a57c-4f46-bc99-81cfdcd758ac",
   "metadata": {},
   "outputs": [],
   "source": [
    "exp_dir = '/home/jovyan/experiments/'\n",
    "exp_date = '2023-02-09T09:34:21.685021'\n",
    "checkpoint = 'train_end'"
   ]
  },
  {
   "cell_type": "code",
   "execution_count": 17,
   "id": "8b998e2f-192f-4035-9b2b-829e22d78950",
   "metadata": {},
   "outputs": [],
   "source": [
    "bin_width = 2\n",
    "n_repetitions = 1000  # actually 100000!\n",
    "#detrend = 'quadratic'"
   ]
  },
  {
   "cell_type": "raw",
   "id": "7a30ed87-f65c-4542-bb3d-aca248b3ba1f",
   "metadata": {},
   "source": [
    "# got this error?\n",
    "RuntimeError: unable to mmap 512 bytes from file <filename not specified>: Cannot allocate memory (12)"
   ]
  },
  {
   "cell_type": "code",
   "execution_count": 18,
   "id": "ccabcdc9-8866-4629-bdda-6eb99d3dbe2e",
   "metadata": {},
   "outputs": [],
   "source": [
    "from decode_tueg import deconfound"
   ]
  },
  {
   "cell_type": "code",
   "execution_count": null,
   "id": "5ad2ba40-3110-42ba-9589-892a585ddb3c",
   "metadata": {
    "scrolled": true,
    "tags": []
   },
   "outputs": [],
   "source": [
    "cols = ['y_true', 'y_pred', 'subject', 'pathological']\n",
    "for ds_name in ['transition', 'non_pathological']:#, 'pathological']:\n",
    "    all_preds, configs = [], []\n",
    "    for i, exp_path in enumerate(iter_exp_dir(exp_dir, exp_date)):\n",
    "        preds_path = os.path.join(exp_dir, exp_path, 'preds', f'{checkpoint}_longitudinal_{ds_name}_preds.csv')\n",
    "        preds = pd.read_csv(preds_path, index_col=0)[cols]\n",
    "        all_preds.append(preds)\n",
    "    all_preds = pd.concat(all_preds)\n",
    "    all_preds = all_preds.reset_index().groupby('index').mean().reset_index(drop=True)\n",
    "\n",
    "    plot_heatmaps(all_preds, bin_width)\n",
    "    # possible to deconfound here?\n",
    "    #all_preds = deconfound(all_preds, detrend)\n",
    "    if ds_name == 'transition':\n",
    "        plot_age_gap_hist_and_permutation_test(all_preds, bin_width, n_repetitions)\n",
    "    else:\n",
    "        plot_age_gap_hist(all_preds, bin_width)"
   ]
  },
  {
   "cell_type": "code",
   "execution_count": null,
   "id": "a7c0899e-b678-4525-8644-be27687d801b",
   "metadata": {},
   "outputs": [],
   "source": []
  },
  {
   "cell_type": "code",
   "execution_count": null,
   "id": "a2d7849b-c56c-47c1-9adf-f27b9bb8c38a",
   "metadata": {},
   "outputs": [],
   "source": []
  },
  {
   "cell_type": "code",
   "execution_count": null,
   "id": "c06602df-74f5-441a-8daa-bd147bfc6825",
   "metadata": {},
   "outputs": [],
   "source": []
  },
  {
   "cell_type": "code",
   "execution_count": null,
   "id": "07973a56-cc24-4105-ae0b-b720876946d5",
   "metadata": {},
   "outputs": [],
   "source": []
  },
  {
   "cell_type": "raw",
   "id": "412d2b1b-9baf-452d-8f2f-d5b0a3ac7b3e",
   "metadata": {},
   "source": [
    "TODO: do dataset, reject ages, do dataset again...\n",
    "TODO: seems date age massively wrong for longitudinal transition dataset\n",
    "TODO: would cause all recs to be rejected"
   ]
  },
  {
   "cell_type": "code",
   "execution_count": 15,
   "id": "5ec1b90b-1e2d-49a7-9bdc-46d0bd223443",
   "metadata": {},
   "outputs": [],
   "source": [
    "from decode_tueg import reject_derivating_ages"
   ]
  },
  {
   "cell_type": "code",
   "execution_count": 16,
   "id": "192d2775-3f72-43e0-a856-72c15ad17390",
   "metadata": {},
   "outputs": [],
   "source": [
    "for ds_i, ds_ in enumerate(ds.datasets):\n",
    "    break"
   ]
  },
  {
   "cell_type": "code",
   "execution_count": 18,
   "id": "3d0763ac-79b0-48f0-bd4d-bc5059b3bd95",
   "metadata": {},
   "outputs": [],
   "source": [
    "_ = [ds_.set_description(\n",
    "    {'path': ds_.description['path'].replace(\n",
    "        '/data/datasets/TUH/EEG/tuh_eeg', '/home/jovyan/mne_data/TUH/tuh_eeg/')},\n",
    "    overwrite=True,\n",
    ") for ds_i, ds_ in enumerate(ds.datasets)]"
   ]
  },
  {
   "cell_type": "raw",
   "id": "79072a0f-edb3-4014-8f46-9522bb19a7ea",
   "metadata": {},
   "source": [
    "reject_derivating_ages(ds)"
   ]
  },
  {
   "cell_type": "raw",
   "id": "7ecca702-146b-47a8-a447-744b93da6852",
   "metadata": {},
   "source": [
    "from decode_tueg import extract_longitudinal_dataset"
   ]
  },
  {
   "cell_type": "code",
   "execution_count": null,
   "id": "9938d25e-db64-4917-9df0-61ef47e649f4",
   "metadata": {},
   "outputs": [],
   "source": []
  },
  {
   "cell_type": "code",
   "execution_count": null,
   "id": "97661921-b627-4d3c-9885-59445d607a02",
   "metadata": {},
   "outputs": [],
   "source": []
  },
  {
   "cell_type": "code",
   "execution_count": null,
   "id": "3e22d43e-f433-4929-981c-c03b6c0d13c6",
   "metadata": {},
   "outputs": [],
   "source": []
  }
 ],
 "metadata": {
  "kernelspec": {
   "display_name": "Python [conda env:job-env]",
   "language": "python",
   "name": "conda-env-job-env-py"
  },
  "language_info": {
   "codemirror_mode": {
    "name": "ipython",
    "version": 3
   },
   "file_extension": ".py",
   "mimetype": "text/x-python",
   "name": "python",
   "nbconvert_exporter": "python",
   "pygments_lexer": "ipython3",
   "version": "3.9.16"
  }
 },
 "nbformat": 4,
 "nbformat_minor": 5
}
