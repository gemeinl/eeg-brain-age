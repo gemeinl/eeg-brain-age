{
 "cells": [
  {
   "cell_type": "markdown",
   "id": "8cde932e-3994-4df3-ba54-2ed6e5d0c5ee",
   "metadata": {},
   "source": [
    "# Preprocess and window longitudinal datasets and save afterwards"
   ]
  },
  {
   "cell_type": "code",
   "execution_count": 1,
   "id": "d70ef0da-1edc-4bb6-9306-b4cd7ed12759",
   "metadata": {},
   "outputs": [],
   "source": [
    "%load_ext autoreload\n",
    "%autoreload 2"
   ]
  },
  {
   "cell_type": "code",
   "execution_count": 2,
   "id": "91594c8a-ef08-4b5f-80ce-5de746114c84",
   "metadata": {},
   "outputs": [],
   "source": [
    "import sys\n",
    "sys.path.insert(0, '/home/jovyan/braindecode/')"
   ]
  },
  {
   "cell_type": "code",
   "execution_count": 3,
   "id": "73df0d03-d4e1-4cc7-9827-e6ae9bc6f12b",
   "metadata": {},
   "outputs": [],
   "source": [
    "import os"
   ]
  },
  {
   "cell_type": "code",
   "execution_count": 4,
   "id": "5027c1c3-4826-423a-8a10-b99641257caa",
   "metadata": {},
   "outputs": [],
   "source": [
    "import pickle"
   ]
  },
  {
   "cell_type": "code",
   "execution_count": 5,
   "id": "b2efc720-092a-4b11-af6a-2c20f3af652c",
   "metadata": {},
   "outputs": [
    {
     "name": "stdout",
     "output_type": "stream",
     "text": [
      "Mon Feb  6 13:25:26 2023       \n",
      "+-----------------------------------------------------------------------------+\n",
      "| NVIDIA-SMI 515.48.07    Driver Version: 515.48.07    CUDA Version: 11.7     |\n",
      "|-------------------------------+----------------------+----------------------+\n",
      "| GPU  Name        Persistence-M| Bus-Id        Disp.A | Volatile Uncorr. ECC |\n",
      "| Fan  Temp  Perf  Pwr:Usage/Cap|         Memory-Usage | GPU-Util  Compute M. |\n",
      "|                               |                      |               MIG M. |\n",
      "|===============================+======================+======================|\n",
      "|   0  NVIDIA GeForce ...  On   | 00000000:85:00.0 Off |                  N/A |\n",
      "| 22%   51C    P8    17W / 250W |      4MiB / 12288MiB |      0%      Default |\n",
      "|                               |                      |                  N/A |\n",
      "+-------------------------------+----------------------+----------------------+\n",
      "                                                                               \n",
      "+-----------------------------------------------------------------------------+\n",
      "| Processes:                                                                  |\n",
      "|  GPU   GI   CI        PID   Type   Process name                  GPU Memory |\n",
      "|        ID   ID                                                   Usage      |\n",
      "|=============================================================================|\n",
      "|  No running processes found                                                 |\n",
      "+-----------------------------------------------------------------------------+\n",
      "\n"
     ]
    }
   ],
   "source": [
    "from decode_tueg import (\n",
    "    get_longitudinal_ds, preprocess, get_preprocessors,\n",
    "    _create_windows, _create_final_scores, load_exp,\n",
    "    get_n_preds_per_input, DataScaler, TargetScaler,\n",
    "    Augmenter,\n",
    ")"
   ]
  },
  {
   "cell_type": "code",
   "execution_count": 6,
   "id": "b5132c6c-5a1a-446a-aa08-bf35acc64e76",
   "metadata": {},
   "outputs": [],
   "source": [
    "exp_date = '2023-02-03T22:27:26.056071'"
   ]
  },
  {
   "cell_type": "code",
   "execution_count": 7,
   "id": "e2a6723d-b9e5-4a5f-9019-1b815e65e110",
   "metadata": {},
   "outputs": [],
   "source": [
    "exp_dir = '/home/jovyan/experiments/'"
   ]
  },
  {
   "cell_type": "code",
   "execution_count": 8,
   "id": "7bd8c459-7ab6-4c55-bfdb-0f7f82967f1d",
   "metadata": {},
   "outputs": [],
   "source": [
    "mapping = None  # where to get this from?\n",
    "pred_path = '/home/jovyan/'\n",
    "checkpoint = 'train_end'"
   ]
  },
  {
   "cell_type": "code",
   "execution_count": 9,
   "id": "6e167c9c-a30a-429f-a15d-cc136b6ff969",
   "metadata": {},
   "outputs": [],
   "source": [
    "seed = str(20230203)\n",
    "run = str(0)"
   ]
  },
  {
   "cell_type": "code",
   "execution_count": 10,
   "id": "036a54fd-3b81-4508-b821-ee4bb6c3ed50",
   "metadata": {},
   "outputs": [],
   "source": [
    "estimator, data_scaler, target_scaler, config = load_exp(\n",
    "    exp_dir, os.path.join(exp_date, seed, run), checkpoint)"
   ]
  },
  {
   "cell_type": "code",
   "execution_count": 11,
   "id": "140a6ef0-38ba-41ea-9265-a926fefef570",
   "metadata": {},
   "outputs": [],
   "source": [
    "min_age = int(config.min_age)\n",
    "max_age = int(config.max_age)\n",
    "tmin = -1#int(config.tmin)\n",
    "tmax = -1#int(config.tmax)\n",
    "n_jobs = int(config.n_jobs)\n",
    "window_size_samples = int(config.window_size_samples)\n",
    "preload = int(config.preload)\n",
    "target_name = config.target_name\n",
    "out_dir = config.out_dir"
   ]
  },
  {
   "cell_type": "raw",
   "id": "d65fbe27-bbc0-416b-8909-02f7eb0e31ae",
   "metadata": {},
   "source": [
    "TODO: reject recs with large age derivation\n",
    "# -> nope, would cause all recs to be rejected. apparently date_age is massively off\n",
    "# maybe due to \"date in path is not recording date but date of recording export\""
   ]
  },
  {
   "cell_type": "code",
   "execution_count": null,
   "id": "6ced6464-34b8-4120-8ec9-33992fa6272b",
   "metadata": {},
   "outputs": [],
   "source": [
    "for ds_name in ['pathological', 'non_pathological', 'transition']:\n",
    "    print('getting')\n",
    "    ds = get_longitudinal_ds(ds_name, (min_age, max_age))\n",
    "    print('preprocessing')\n",
    "    ds = preprocess(\n",
    "        ds, \n",
    "        preprocessors=get_preprocessors(tmin, tmax), \n",
    "        n_jobs=n_jobs,\n",
    "    )\n",
    "    n_preds_per_input = get_n_preds_per_input(\n",
    "        estimator.module, ds[0][0].shape[0], window_size_samples)\n",
    "    print('windowing')\n",
    "    ds = _create_windows(\n",
    "        ds,\n",
    "        window_size_samples,\n",
    "        n_jobs, \n",
    "        preload,\n",
    "        n_preds_per_input,\n",
    "        mapping,\n",
    "    )\n",
    "    with open(f'/home/jovyan/longitudinal/{ds_name}_pre_win.pkl', 'wb') as f:\n",
    "        pickle.dump(ds, f)"
   ]
  },
  {
   "cell_type": "code",
   "execution_count": null,
   "id": "bdf307f2-d74f-4753-88dd-e85ff414e561",
   "metadata": {},
   "outputs": [],
   "source": []
  },
  {
   "cell_type": "code",
   "execution_count": null,
   "id": "8ca5a2c7-d057-41b4-95e1-1fb34c909eb0",
   "metadata": {},
   "outputs": [],
   "source": []
  },
  {
   "cell_type": "code",
   "execution_count": null,
   "id": "15823d36-34e2-42be-9743-8edcf22191ec",
   "metadata": {},
   "outputs": [],
   "source": []
  },
  {
   "cell_type": "code",
   "execution_count": null,
   "id": "cd9e1fad-08dc-4daf-98fd-6fcfdda99f51",
   "metadata": {},
   "outputs": [],
   "source": []
  },
  {
   "cell_type": "markdown",
   "id": "e35b5fde-4d90-42ef-8136-3c67e1ee9691",
   "metadata": {},
   "source": [
    "# Predict the longitudinal datasets"
   ]
  },
  {
   "cell_type": "code",
   "execution_count": 1,
   "id": "69e50be0-e7d4-47a0-86e5-abe210c42e1c",
   "metadata": {},
   "outputs": [],
   "source": [
    "import os\n",
    "import sys\n",
    "sys.path.insert(0, '/home/jovyan/braindecode/')\n",
    "import pickle"
   ]
  },
  {
   "cell_type": "code",
   "execution_count": 2,
   "id": "74cee50a-c95c-49c5-86c6-41536cdfa62b",
   "metadata": {},
   "outputs": [],
   "source": [
    "import numpy as np\n",
    "import pandas as pd"
   ]
  },
  {
   "cell_type": "code",
   "execution_count": 3,
   "id": "fe0cc02b-37e4-4267-8a46-04acda17a45d",
   "metadata": {},
   "outputs": [
    {
     "name": "stdout",
     "output_type": "stream",
     "text": [
      "Wed Feb  8 11:27:38 2023       \n",
      "+-----------------------------------------------------------------------------+\n",
      "| NVIDIA-SMI 515.48.07    Driver Version: 515.48.07    CUDA Version: 11.7     |\n",
      "|-------------------------------+----------------------+----------------------+\n",
      "| GPU  Name        Persistence-M| Bus-Id        Disp.A | Volatile Uncorr. ECC |\n",
      "| Fan  Temp  Perf  Pwr:Usage/Cap|         Memory-Usage | GPU-Util  Compute M. |\n",
      "|                               |                      |               MIG M. |\n",
      "|===============================+======================+======================|\n",
      "|   0  NVIDIA GeForce ...  On   | 00000000:89:00.0 Off |                  N/A |\n",
      "| 27%   30C    P8     8W / 250W |   2936MiB / 11264MiB |      0%      Default |\n",
      "|                               |                      |                  N/A |\n",
      "+-------------------------------+----------------------+----------------------+\n",
      "                                                                               \n",
      "+-----------------------------------------------------------------------------+\n",
      "| Processes:                                                                  |\n",
      "|  GPU   GI   CI        PID   Type   Process name                  GPU Memory |\n",
      "|        ID   ID                                                   Usage      |\n",
      "|=============================================================================|\n",
      "+-----------------------------------------------------------------------------+\n",
      "\n"
     ]
    }
   ],
   "source": [
    "from decode_tueg import (\n",
    "    deconfound, load_exp, _create_final_scores, plot_age_gap_hist, plot_heatmaps,\n",
    "    save_csv, plot_age_gap_hist_and_permutation_test, DataScaler, TargetScaler,\n",
    "    Augmenter, iter_exp_dir,\n",
    ")"
   ]
  },
  {
   "cell_type": "raw",
   "id": "d06dabaf-b5d5-43c0-a5f6-87751040aa99",
   "metadata": {},
   "source": [
    "32GB RAM enough for transition, not for pathological"
   ]
  },
  {
   "cell_type": "code",
   "execution_count": 4,
   "id": "e4c6686d-7c62-417d-9892-757fd0208234",
   "metadata": {},
   "outputs": [],
   "source": [
    "exp_dir = '/home/jovyan/experiments/'\n",
    "exp_date = '2023-02-07T06:28:03.373666'\n",
    "checkpoint = 'train_end'"
   ]
  },
  {
   "cell_type": "code",
   "execution_count": 5,
   "id": "48965128-a0b7-40d6-b3aa-b267b514c862",
   "metadata": {},
   "outputs": [],
   "source": [
    "n_recordings = 100"
   ]
  },
  {
   "cell_type": "raw",
   "id": "1d4c5b15-b5c7-4526-8acb-a800ce3df021",
   "metadata": {},
   "source": [
    "TODO: possible to deconfound here?"
   ]
  },
  {
   "cell_type": "raw",
   "id": "443c2e64-946a-43f1-a876-267a6e286554",
   "metadata": {},
   "source": [
    "TODO: append to main script?"
   ]
  },
  {
   "cell_type": "code",
   "execution_count": 6,
   "id": "6bd957c3-7c4a-485a-a2e9-5f879f3e7b8b",
   "metadata": {},
   "outputs": [
    {
     "name": "stdout",
     "output_type": "stream",
     "text": [
      "loading exp 2023-02-07T06:28:03.373666/20230206/0\n",
      "getting transition\n",
      "predicting\n",
      "2023-02-08 11:27:47 INFO     on transition reached\n",
      "2023-02-08 11:28:10 INFO     14.61 mae\n",
      "2023-02-08 11:28:10 INFO     17.15 mdae\n",
      "2023-02-08 11:28:10 INFO     0.21 r2\n",
      "2023-02-08 11:28:10 INFO     0.37 mape\n",
      "2023-02-08 11:28:10 INFO     0.27 mdape\n",
      "saving /home/jovyan/experiments/2023-02-07T06:28:03.373666/20230206/0/preds\n",
      "loading exp 2023-02-07T06:28:03.373666/20230206/1\n",
      "getting transition\n",
      "predicting\n",
      "2023-02-08 11:28:14 INFO     on transition reached\n",
      "2023-02-08 11:28:36 INFO     14.28 mae\n",
      "2023-02-08 11:28:36 INFO     15.75 mdae\n",
      "2023-02-08 11:28:36 INFO     0.24 r2\n",
      "2023-02-08 11:28:36 INFO     0.34 mape\n",
      "2023-02-08 11:28:36 INFO     0.30 mdape\n",
      "saving /home/jovyan/experiments/2023-02-07T06:28:03.373666/20230206/1/preds\n",
      "loading exp 2023-02-07T06:28:03.373666/20230206/2\n",
      "getting transition\n",
      "predicting\n",
      "2023-02-08 11:28:41 INFO     on transition reached\n",
      "2023-02-08 11:29:03 INFO     13.43 mae\n",
      "2023-02-08 11:29:03 INFO     13.91 mdae\n",
      "2023-02-08 11:29:03 INFO     0.34 r2\n",
      "2023-02-08 11:29:03 INFO     0.33 mape\n",
      "2023-02-08 11:29:03 INFO     0.28 mdape\n",
      "saving /home/jovyan/experiments/2023-02-07T06:28:03.373666/20230206/2/preds\n",
      "loading exp 2023-02-07T06:28:03.373666/20230206/3\n",
      "getting transition\n",
      "predicting\n",
      "2023-02-08 11:29:08 INFO     on transition reached\n",
      "2023-02-08 11:29:29 INFO     13.73 mae\n",
      "2023-02-08 11:29:29 INFO     13.09 mdae\n",
      "2023-02-08 11:29:29 INFO     0.26 r2\n",
      "2023-02-08 11:29:29 INFO     0.31 mape\n",
      "2023-02-08 11:29:29 INFO     0.28 mdape\n",
      "saving /home/jovyan/experiments/2023-02-07T06:28:03.373666/20230206/3/preds\n",
      "loading exp 2023-02-07T06:28:03.373666/20230206/4\n",
      "getting transition\n",
      "predicting\n",
      "2023-02-08 11:29:34 INFO     on transition reached\n",
      "2023-02-08 11:29:57 INFO     15.55 mae\n",
      "2023-02-08 11:29:57 INFO     15.44 mdae\n",
      "2023-02-08 11:29:57 INFO     0.14 r2\n",
      "2023-02-08 11:29:57 INFO     0.35 mape\n",
      "2023-02-08 11:29:57 INFO     0.35 mdape\n",
      "saving /home/jovyan/experiments/2023-02-07T06:28:03.373666/20230206/4/preds\n",
      "loading exp 2023-02-07T06:28:03.373666/20230206/0\n",
      "getting non_pathological\n",
      "predicting\n",
      "2023-02-08 11:30:02 INFO     on non_pathological reached\n",
      "2023-02-08 11:30:22 INFO     19.48 mae\n",
      "2023-02-08 11:30:22 INFO     14.83 mdae\n",
      "2023-02-08 11:30:22 INFO     -0.28 r2\n",
      "2023-02-08 11:30:22 INFO     4294454.25 mape\n",
      "2023-02-08 11:30:22 INFO     0.28 mdape\n",
      "saving /home/jovyan/experiments/2023-02-07T06:28:03.373666/20230206/0/preds\n",
      "loading exp 2023-02-07T06:28:03.373666/20230206/1\n",
      "getting non_pathological\n",
      "predicting\n",
      "2023-02-08 11:30:27 INFO     on non_pathological reached\n",
      "2023-02-08 11:30:47 INFO     19.24 mae\n",
      "2023-02-08 11:30:47 INFO     16.64 mdae\n",
      "2023-02-08 11:30:47 INFO     -0.11 r2\n",
      "2023-02-08 11:30:47 INFO     13020931.99 mape\n",
      "2023-02-08 11:30:47 INFO     0.34 mdape\n",
      "saving /home/jovyan/experiments/2023-02-07T06:28:03.373666/20230206/1/preds\n",
      "loading exp 2023-02-07T06:28:03.373666/20230206/2\n",
      "getting non_pathological\n",
      "predicting\n",
      "2023-02-08 11:30:53 INFO     on non_pathological reached\n",
      "2023-02-08 11:31:12 INFO     19.55 mae\n",
      "2023-02-08 11:31:12 INFO     17.16 mdae\n",
      "2023-02-08 11:31:12 INFO     -0.19 r2\n",
      "2023-02-08 11:31:12 INFO     5064363.49 mape\n",
      "2023-02-08 11:31:12 INFO     0.32 mdape\n",
      "saving /home/jovyan/experiments/2023-02-07T06:28:03.373666/20230206/2/preds\n",
      "loading exp 2023-02-07T06:28:03.373666/20230206/3\n",
      "getting non_pathological\n",
      "predicting\n",
      "2023-02-08 11:31:18 INFO     on non_pathological reached\n",
      "2023-02-08 11:31:37 INFO     20.01 mae\n",
      "2023-02-08 11:31:37 INFO     17.15 mdae\n",
      "2023-02-08 11:31:37 INFO     -0.41 r2\n",
      "2023-02-08 11:31:37 INFO     7051025.85 mape\n",
      "2023-02-08 11:31:37 INFO     0.32 mdape\n",
      "saving /home/jovyan/experiments/2023-02-07T06:28:03.373666/20230206/3/preds\n",
      "loading exp 2023-02-07T06:28:03.373666/20230206/4\n",
      "getting non_pathological\n",
      "predicting\n",
      "2023-02-08 11:31:43 INFO     on non_pathological reached\n",
      "2023-02-08 11:32:03 INFO     21.43 mae\n",
      "2023-02-08 11:32:03 INFO     16.78 mdae\n",
      "2023-02-08 11:32:03 INFO     -0.50 r2\n",
      "2023-02-08 11:32:03 INFO     4399717.92 mape\n",
      "2023-02-08 11:32:03 INFO     0.37 mdape\n",
      "saving /home/jovyan/experiments/2023-02-07T06:28:03.373666/20230206/4/preds\n",
      "loading exp 2023-02-07T06:28:03.373666/20230206/0\n",
      "getting pathological\n",
      "predicting\n",
      "2023-02-08 11:32:27 INFO     on pathological reached\n",
      "2023-02-08 11:32:53 INFO     19.71 mae\n",
      "2023-02-08 11:32:53 INFO     15.38 mdae\n",
      "2023-02-08 11:32:53 INFO     0.05 r2\n",
      "2023-02-08 11:32:53 INFO     5174508.56 mape\n",
      "2023-02-08 11:32:53 INFO     0.35 mdape\n",
      "saving /home/jovyan/experiments/2023-02-07T06:28:03.373666/20230206/0/preds\n",
      "loading exp 2023-02-07T06:28:03.373666/20230206/1\n",
      "getting pathological\n",
      "predicting\n",
      "2023-02-08 11:33:18 INFO     on pathological reached\n",
      "2023-02-08 11:33:45 INFO     23.13 mae\n",
      "2023-02-08 11:33:45 INFO     18.87 mdae\n",
      "2023-02-08 11:33:45 INFO     -0.21 r2\n",
      "2023-02-08 11:33:45 INFO     20692743.48 mape\n",
      "2023-02-08 11:33:45 INFO     0.41 mdape\n",
      "saving /home/jovyan/experiments/2023-02-07T06:28:03.373666/20230206/1/preds\n",
      "loading exp 2023-02-07T06:28:03.373666/20230206/2\n",
      "getting pathological\n",
      "predicting\n",
      "2023-02-08 11:34:09 INFO     on pathological reached\n",
      "2023-02-08 11:34:35 INFO     25.13 mae\n",
      "2023-02-08 11:34:35 INFO     24.67 mdae\n",
      "2023-02-08 11:34:35 INFO     -0.42 r2\n",
      "2023-02-08 11:34:35 INFO     5283338.92 mape\n",
      "2023-02-08 11:34:35 INFO     0.39 mdape\n",
      "saving /home/jovyan/experiments/2023-02-07T06:28:03.373666/20230206/2/preds\n",
      "loading exp 2023-02-07T06:28:03.373666/20230206/3\n",
      "getting pathological\n",
      "predicting\n",
      "2023-02-08 11:34:59 INFO     on pathological reached\n",
      "2023-02-08 11:35:25 INFO     24.26 mae\n",
      "2023-02-08 11:35:25 INFO     24.59 mdae\n",
      "2023-02-08 11:35:25 INFO     -0.42 r2\n",
      "2023-02-08 11:35:25 INFO     6904569.60 mape\n",
      "2023-02-08 11:35:25 INFO     0.36 mdape\n",
      "saving /home/jovyan/experiments/2023-02-07T06:28:03.373666/20230206/3/preds\n",
      "loading exp 2023-02-07T06:28:03.373666/20230206/4\n",
      "getting pathological\n",
      "predicting\n",
      "2023-02-08 11:35:48 INFO     on pathological reached\n",
      "2023-02-08 11:36:14 INFO     24.37 mae\n",
      "2023-02-08 11:36:14 INFO     22.81 mdae\n",
      "2023-02-08 11:36:14 INFO     -0.40 r2\n",
      "2023-02-08 11:36:14 INFO     5639949.86 mape\n",
      "2023-02-08 11:36:14 INFO     0.42 mdape\n",
      "saving /home/jovyan/experiments/2023-02-07T06:28:03.373666/20230206/4/preds\n"
     ]
    }
   ],
   "source": [
    "# read all experiment models (seeds and cv / eval runs) to predict longitudinal datasets\n",
    "for ds_name in ['transition', 'non_pathological', 'pathological']: \n",
    "#    seeds = sorted(os.listdir(os.path.join(exp_dir, exp_date)))\n",
    "#    for seed in seeds:\n",
    "#        runs = sorted(os.listdir(os.path.join(exp_dir, exp_date, seed)))\n",
    "#        for run_i, run in enumerate(runs):\n",
    "#            exp_path = os.path.join(exp_date, seed, run)\n",
    "    for exp_path in iter_exp_dir(exp_dir, exp_date):\n",
    "        print(f'loading exp {exp_path}')\n",
    "        estimator, data_scaler, target_scaler, config = load_exp(\n",
    "            exp_dir, exp_path, checkpoint)\n",
    "        print(f'getting {ds_name}')\n",
    "        with open(f'/home/jovyan/longitudinal/{ds_name}_pre_win.pkl', 'rb') as f:\n",
    "            ds = pickle.load(f)\n",
    "        if n_recordings not in [-1, None]:\n",
    "            ds = ds.split(list(range(n_recordings)))['0']\n",
    "        print('predicting')\n",
    "        ds_preds, ds_score = _create_final_scores(\n",
    "            estimator,\n",
    "            ds,\n",
    "            ds_name,\n",
    "            config.target_name,\n",
    "            target_scaler,\n",
    "            data_scaler,\n",
    "            int(config.n_jobs),\n",
    "            subject_wise=True,\n",
    "        )\n",
    "        save_path = os.path.join(exp_dir, exp_path, 'preds')\n",
    "        print(f'saving {save_path}')\n",
    "        # write preds to file\n",
    "        save_csv(\n",
    "            ds_preds,\n",
    "            save_path,\n",
    "            f'{checkpoint}_longitudinal_{ds_name}_preds.csv',\n",
    "        )\n",
    "        # write scores to file\n",
    "        scores = pd.read_csv(\n",
    "            os.path.join(os.path.join(exp_dir, exp_path), f'{checkpoint}_scores.csv'), \n",
    "            index_col=0,\n",
    "        )\n",
    "        for k, v in ds_score.items():\n",
    "            scores[k] = v\n",
    "        save_csv(\n",
    "            scores,\n",
    "            os.path.join(exp_dir, exp_path),\n",
    "            f'{checkpoint}_scores.csv',\n",
    "        )"
   ]
  },
  {
   "cell_type": "code",
   "execution_count": 7,
   "id": "1cc7c7a7-3e2c-4e21-ac2b-20855120400a",
   "metadata": {},
   "outputs": [
    {
     "name": "stdout",
     "output_type": "stream",
     "text": [
      "hi\n"
     ]
    }
   ],
   "source": [
    "print(\"hi\")"
   ]
  },
  {
   "cell_type": "code",
   "execution_count": null,
   "id": "c0a922d4-a2e7-461a-af2d-2f84fd871c4b",
   "metadata": {},
   "outputs": [],
   "source": []
  },
  {
   "cell_type": "code",
   "execution_count": null,
   "id": "c898af91-a2f3-4f8d-b4f2-00227450672c",
   "metadata": {},
   "outputs": [],
   "source": []
  },
  {
   "cell_type": "code",
   "execution_count": null,
   "id": "dddbdfc4-e2bc-4e1b-8ce8-6fe771d16178",
   "metadata": {},
   "outputs": [],
   "source": []
  },
  {
   "cell_type": "code",
   "execution_count": null,
   "id": "21793296-65ba-4beb-bf5f-a38e997fceaf",
   "metadata": {},
   "outputs": [],
   "source": []
  },
  {
   "cell_type": "markdown",
   "id": "089ea013-9c77-4323-9f58-0703473cdea7",
   "metadata": {},
   "source": [
    "# Read the longitudinal predictions and plot them"
   ]
  },
  {
   "cell_type": "code",
   "execution_count": 1,
   "id": "cfc9379a-1756-4acd-93c7-a0166e481fde",
   "metadata": {},
   "outputs": [],
   "source": [
    "import os\n",
    "import sys\n",
    "sys.path.insert(0, '/home/jovyan/braindecode/')"
   ]
  },
  {
   "cell_type": "code",
   "execution_count": 2,
   "id": "5847fa6c-d565-4043-a7f6-496e15c45e3f",
   "metadata": {},
   "outputs": [],
   "source": [
    "import pandas as pd"
   ]
  },
  {
   "cell_type": "code",
   "execution_count": 3,
   "id": "3ea4547b-eec5-46f8-a7c2-8b554a341148",
   "metadata": {},
   "outputs": [
    {
     "name": "stdout",
     "output_type": "stream",
     "text": [
      "Wed Feb  8 11:16:52 2023       \n",
      "+-----------------------------------------------------------------------------+\n",
      "| NVIDIA-SMI 515.48.07    Driver Version: 515.48.07    CUDA Version: 11.7     |\n",
      "|-------------------------------+----------------------+----------------------+\n",
      "| GPU  Name        Persistence-M| Bus-Id        Disp.A | Volatile Uncorr. ECC |\n",
      "| Fan  Temp  Perf  Pwr:Usage/Cap|         Memory-Usage | GPU-Util  Compute M. |\n",
      "|                               |                      |               MIG M. |\n",
      "|===============================+======================+======================|\n",
      "|   0  NVIDIA GeForce ...  On   | 00000000:89:00.0 Off |                  N/A |\n",
      "| 46%   54C    P2    78W / 250W |   2936MiB / 11264MiB |     40%      Default |\n",
      "|                               |                      |                  N/A |\n",
      "+-------------------------------+----------------------+----------------------+\n",
      "                                                                               \n",
      "+-----------------------------------------------------------------------------+\n",
      "| Processes:                                                                  |\n",
      "|  GPU   GI   CI        PID   Type   Process name                  GPU Memory |\n",
      "|        ID   ID                                                   Usage      |\n",
      "|=============================================================================|\n",
      "+-----------------------------------------------------------------------------+\n",
      "\n"
     ]
    }
   ],
   "source": [
    "from decode_tueg import (\n",
    "    deconfound, plot_age_gap_hist, plot_heatmaps,\n",
    "    plot_age_gap_hist_and_permutation_test, iter_exp_dir,\n",
    ")"
   ]
  },
  {
   "cell_type": "code",
   "execution_count": 6,
   "id": "2314eb4c-a57c-4f46-bc99-81cfdcd758ac",
   "metadata": {},
   "outputs": [],
   "source": [
    "exp_dir = '/home/jovyan/experiments/'\n",
    "exp_date = '2023-02-07T06:28:03.373666'\n",
    "checkpoint = 'train_end'"
   ]
  },
  {
   "cell_type": "code",
   "execution_count": 7,
   "id": "5a434715-a7dc-43cc-bec3-57b96149ca11",
   "metadata": {},
   "outputs": [],
   "source": [
    "for exp_path in iter_exp_dir(exp_dir, exp_date):\n",
    "    break"
   ]
  },
  {
   "cell_type": "code",
   "execution_count": 18,
   "id": "976522e7-4858-441d-84fc-ad923a728b50",
   "metadata": {},
   "outputs": [],
   "source": [
    "for ds_name in ['transition', 'non_pathological', 'pathological']:\n",
    "    break"
   ]
  },
  {
   "cell_type": "code",
   "execution_count": 19,
   "id": "c5577c65-efa0-435d-8074-54b8635ee3ba",
   "metadata": {},
   "outputs": [],
   "source": [
    "preds_path = os.path.join(exp_dir, exp_path, 'preds', f'{checkpoint}_{ds_name}_preds.csv')"
   ]
  },
  {
   "cell_type": "code",
   "execution_count": 17,
   "id": "e71f12cd-0eee-477f-b87f-435db8fe32fc",
   "metadata": {},
   "outputs": [],
   "source": [
    "preds = pd.read_csv(preds_path, index_col=0)"
   ]
  },
  {
   "cell_type": "code",
   "execution_count": null,
   "id": "5ec054ac-ca0d-4fec-9a97-c39cf1e7a752",
   "metadata": {},
   "outputs": [],
   "source": [
    "if int(config.final_eval) == 0:\n",
    "    # in cv append all predictions\n",
    "    preds = pd.concat(all_ds_preds, ignore_index=True)\n",
    "else:\n",
    "    # in fe average all predictions\n",
    "    # TODO: make sure not averaing wrong stuff\n",
    "    raise NotImplementedError\n",
    "    all_targets = [df.y_true for df_i, df in all_ds_preds.items()]\n",
    "    # average preds and write back\n",
    "    all_preds = [df.y_pred for df_i, df in all_ds_preds.items()]\n",
    "    preds = all_ds_preds[0]\n",
    "    preds['y_pred'] = np.mean(all_preds, axis=0)"
   ]
  },
  {
   "cell_type": "raw",
   "id": "c39356aa-8160-4c57-a42e-ec45ca74e2e6",
   "metadata": {},
   "source": [
    "# got this error?\n",
    "RuntimeError: unable to mmap 512 bytes from file <filename not specified>: Cannot allocate memory (12)"
   ]
  },
  {
   "cell_type": "code",
   "execution_count": 9,
   "id": "4f9ac69b-37cb-47f5-affc-b83e5c2f7ad3",
   "metadata": {},
   "outputs": [],
   "source": [
    "bin_width = 2\n",
    "n_repetitions = 10000  # actually 100000!\n",
    "max_age = 100\n",
    "detrend = 'quadratic'"
   ]
  },
  {
   "cell_type": "raw",
   "id": "20d0d9e4-18df-4b87-9601-804633b7d412",
   "metadata": {},
   "source": [
    "TODO: check where subject-wise averaing takes place"
   ]
  },
  {
   "cell_type": "code",
   "execution_count": 10,
   "id": "e6901911-31cd-4122-9871-aa2156a6bdb2",
   "metadata": {},
   "outputs": [
    {
     "data": {
      "text/plain": [
       "<AxesSubplot: xlabel=' ', ylabel='Count'>"
      ]
     },
     "execution_count": 10,
     "metadata": {},
     "output_type": "execute_result"
    },
    {
     "data": {
      "image/png": "[encoded data removed]",
      "text/plain": [
       "<Figure size 1296x1296 with 8 Axes>"
      ]
     },
     "metadata": {
      "needs_background": "light"
     },
     "output_type": "display_data"
    }
   ],
   "source": [
    "plot_heatmaps(preds, bin_width, max_age, hist_max_count=220)"
   ]
  },
  {
   "cell_type": "raw",
   "id": "62238751-779d-416c-9d4b-37cfb994a542",
   "metadata": {},
   "source": [
    "plot_heatmaps(deconfound(preds, detrend), bin_width, max_age, ylim=120)"
   ]
  },
  {
   "cell_type": "raw",
   "id": "90e832f7-a063-47dd-a2a9-74e03b13aa2e",
   "metadata": {},
   "source": [
    "plot_age_gap_hist_and_permutation_test(preds, bin_width, n_repetitions)"
   ]
  },
  {
   "cell_type": "code",
   "execution_count": 11,
   "id": "3a8bf71f-cdbb-4407-960c-43058aef2644",
   "metadata": {},
   "outputs": [],
   "source": [
    "# TODO: observed not diff of means. why?"
   ]
  },
  {
   "cell_type": "code",
   "execution_count": 12,
   "id": "1212010f-ce8b-49fd-b0b2-32d033c68276",
   "metadata": {},
   "outputs": [
    {
     "name": "stdout",
     "output_type": "stream",
     "text": [
      "observed age gap diff 0.3420536999190569\n"
     ]
    },
    {
     "data": {
      "text/plain": [
       "<AxesSubplot: xlabel='Decoded Age – Chronological Age [years]', ylabel='Count'>"
      ]
     },
     "execution_count": 12,
     "metadata": {},
     "output_type": "execute_result"
    },
    {
     "data": {
      "image/png": "[encoded data removed]",
      "text/plain": [
       "<Figure size 1296x288 with 2 Axes>"
      ]
     },
     "metadata": {
      "needs_background": "light"
     },
     "output_type": "display_data"
    }
   ],
   "source": [
    "plot_age_gap_hist_and_permutation_test(deconfound(preds, detrend), bin_width, n_repetitions)"
   ]
  },
  {
   "cell_type": "code",
   "execution_count": null,
   "id": "d37de731-8bd5-4a7e-b0f9-2f0ad90d48f6",
   "metadata": {},
   "outputs": [],
   "source": []
  },
  {
   "cell_type": "code",
   "execution_count": null,
   "id": "a7c0899e-b678-4525-8644-be27687d801b",
   "metadata": {},
   "outputs": [],
   "source": []
  },
  {
   "cell_type": "code",
   "execution_count": null,
   "id": "a2d7849b-c56c-47c1-9adf-f27b9bb8c38a",
   "metadata": {},
   "outputs": [],
   "source": []
  },
  {
   "cell_type": "code",
   "execution_count": null,
   "id": "c06602df-74f5-441a-8daa-bd147bfc6825",
   "metadata": {},
   "outputs": [],
   "source": []
  },
  {
   "cell_type": "code",
   "execution_count": null,
   "id": "07973a56-cc24-4105-ae0b-b720876946d5",
   "metadata": {},
   "outputs": [],
   "source": []
  },
  {
   "cell_type": "raw",
   "id": "412d2b1b-9baf-452d-8f2f-d5b0a3ac7b3e",
   "metadata": {},
   "source": [
    "TODO: do dataset, reject ages, do dataset again...\n",
    "TODO: seems date age massively wrong for longitudinal transition dataset\n",
    "TODO: would cause all recs to be rejected"
   ]
  },
  {
   "cell_type": "code",
   "execution_count": 15,
   "id": "5ec1b90b-1e2d-49a7-9bdc-46d0bd223443",
   "metadata": {},
   "outputs": [],
   "source": [
    "from decode_tueg import reject_derivating_ages"
   ]
  },
  {
   "cell_type": "code",
   "execution_count": 16,
   "id": "192d2775-3f72-43e0-a856-72c15ad17390",
   "metadata": {},
   "outputs": [],
   "source": [
    "for ds_i, ds_ in enumerate(ds.datasets):\n",
    "    break"
   ]
  },
  {
   "cell_type": "code",
   "execution_count": 18,
   "id": "3d0763ac-79b0-48f0-bd4d-bc5059b3bd95",
   "metadata": {},
   "outputs": [],
   "source": [
    "_ = [ds_.set_description(\n",
    "    {'path': ds_.description['path'].replace(\n",
    "        '/data/datasets/TUH/EEG/tuh_eeg', '/home/jovyan/mne_data/TUH/tuh_eeg/')},\n",
    "    overwrite=True,\n",
    ") for ds_i, ds_ in enumerate(ds.datasets)]"
   ]
  },
  {
   "cell_type": "raw",
   "id": "79072a0f-edb3-4014-8f46-9522bb19a7ea",
   "metadata": {},
   "source": [
    "reject_derivating_ages(ds)"
   ]
  },
  {
   "cell_type": "raw",
   "id": "7ecca702-146b-47a8-a447-744b93da6852",
   "metadata": {},
   "source": [
    "from decode_tueg import extract_longitudinal_dataset"
   ]
  },
  {
   "cell_type": "code",
   "execution_count": null,
   "id": "9938d25e-db64-4917-9df0-61ef47e649f4",
   "metadata": {},
   "outputs": [],
   "source": []
  },
  {
   "cell_type": "code",
   "execution_count": null,
   "id": "97661921-b627-4d3c-9885-59445d607a02",
   "metadata": {},
   "outputs": [],
   "source": []
  },
  {
   "cell_type": "code",
   "execution_count": null,
   "id": "3e22d43e-f433-4929-981c-c03b6c0d13c6",
   "metadata": {},
   "outputs": [],
   "source": []
  }
 ],
 "metadata": {
  "kernelspec": {
   "display_name": "Python [conda env:job-env]",
   "language": "python",
   "name": "conda-env-job-env-py"
  },
  "language_info": {
   "codemirror_mode": {
    "name": "ipython",
    "version": 3
   },
   "file_extension": ".py",
   "mimetype": "text/x-python",
   "name": "python",
   "nbconvert_exporter": "python",
   "pygments_lexer": "ipython3",
   "version": "3.9.16"
  }
 },
 "nbformat": 4,
 "nbformat_minor": 5
}
