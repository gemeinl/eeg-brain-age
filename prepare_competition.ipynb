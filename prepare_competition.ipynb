{
 "cells": [
  {
   "cell_type": "raw",
   "id": "2101e439-5af1-4c00-99c2-57bd166b3c1e",
   "metadata": {},
   "source": [
    "resample to 100 hz"
   ]
  },
  {
   "cell_type": "code",
   "execution_count": 1,
   "id": "1bf7de6f-26a2-4df9-8e1d-5b2d5036288c",
   "metadata": {},
   "outputs": [],
   "source": [
    "import os\n",
    "import glob\n",
    "\n",
    "import mne\n",
    "import numpy as np\n",
    "import pandas as pd\n",
    "from joblib import Parallel, delayed\n",
    "import matplotlib.pyplot as plt\n",
    "import seaborn as sns\n",
    "sns.set(color_codes=True)"
   ]
  },
  {
   "cell_type": "code",
   "execution_count": 2,
   "id": "c3b07764-8e9b-414b-8334-6a37aee261ce",
   "metadata": {},
   "outputs": [],
   "source": [
    "sfreq = 100\n",
    "n_jobs = 30"
   ]
  },
  {
   "cell_type": "code",
   "execution_count": 10,
   "id": "36153bf6-ae95-49b8-8a1a-e5a364cb27ed",
   "metadata": {},
   "outputs": [],
   "source": [
    "files = glob.glob('/home/jovyan/competition/data/validation_final/*100_hz_raw.fif.gz')"
   ]
  },
  {
   "cell_type": "code",
   "execution_count": 11,
   "id": "82f5b5f0-e5eb-4087-9816-6f6dd40ba533",
   "metadata": {},
   "outputs": [
    {
     "data": {
      "text/plain": [
       "800"
      ]
     },
     "execution_count": 11,
     "metadata": {},
     "output_type": "execute_result"
    }
   ],
   "source": [
    "len(files)"
   ]
  },
  {
   "cell_type": "code",
   "execution_count": 7,
   "id": "ca624abe-916e-4e85-a2a8-234ee3800134",
   "metadata": {},
   "outputs": [],
   "source": [
    "def do(file, sfreq):\n",
    "    raw = mne.io.read_raw_fif(file, verbose='error', preload=True)\n",
    "    raw.drop_channels(ch_names='Cz')\n",
    "    # raw = raw.apply_function(lambda x: np.clip(x, -800/1e6, 800/1e6)) # clip to -800/+800 microvolt\n",
    "    # raw.set_eeg_reference('average')\n",
    "    raw.resample(sfreq=sfreq)\n",
    "    file = file.replace('_raw.fif.gz', f'_{sfreq}_hz_raw.fif.gz')\n",
    "    raw.save(file)\n",
    "\n",
    "    means = raw.get_data(units='uV').mean(axis=1)\n",
    "    stds = raw.get_data(units='uV').std(axis=1)\n",
    "    chs = raw.ch_names\n",
    "    df = pd.DataFrame({'mean': means, 'std': stds}, index=chs)\n",
    "    ext = files[0][files[0].find('.'):]\n",
    "    df.to_csv(file.replace(ext, '_stats.csv'))"
   ]
  },
  {
   "cell_type": "code",
   "execution_count": 8,
   "id": "84f4ebd2-c86a-4cc2-8500-682fbe514048",
   "metadata": {
    "scrolled": true,
    "tags": []
   },
   "outputs": [],
   "source": [
    "_ = Parallel(n_jobs=n_jobs)(delayed(do)(file, sfreq) for file in files)"
   ]
  },
  {
   "cell_type": "code",
   "execution_count": 9,
   "id": "3be6c6f1-2680-46c8-9b5a-084685a4cc6f",
   "metadata": {},
   "outputs": [
    {
     "name": "stdout",
     "output_type": "stream",
     "text": [
      "hi\n"
     ]
    }
   ],
   "source": [
    "print(\"hi\")"
   ]
  },
  {
   "cell_type": "code",
   "execution_count": null,
   "id": "540b4cba-0514-487f-9ddd-82f5d55966a5",
   "metadata": {},
   "outputs": [],
   "source": []
  },
  {
   "cell_type": "code",
   "execution_count": null,
   "id": "05026a4f-4a62-468d-813e-7a2b935ff3c7",
   "metadata": {},
   "outputs": [],
   "source": []
  },
  {
   "cell_type": "code",
   "execution_count": null,
   "id": "c6819894-6998-4624-8642-ce34804abf5b",
   "metadata": {},
   "outputs": [],
   "source": []
  },
  {
   "cell_type": "code",
   "execution_count": null,
   "id": "e85384cc-0a67-45f0-994f-c69cf7bd3b01",
   "metadata": {},
   "outputs": [],
   "source": []
  },
  {
   "cell_type": "raw",
   "id": "efd390cf-ad8e-4efb-b335-720f62745caf",
   "metadata": {},
   "source": [
    "convert to braindecode dataset and dump as pickle for faster loading"
   ]
  },
  {
   "cell_type": "code",
   "execution_count": 3,
   "id": "582338bb-3b24-4edf-9258-ad5afc7d5220",
   "metadata": {},
   "outputs": [],
   "source": [
    "import sys\n",
    "sys.path.insert(0, '/home/jovyan/braindecode/')"
   ]
  },
  {
   "cell_type": "code",
   "execution_count": 4,
   "id": "ba42d713-839d-4129-be80-de4685067627",
   "metadata": {},
   "outputs": [],
   "source": [
    "# download data https://filesender.renater.fr/?s=download&token=e1de0ec4-09bc-4194-b85b-59830cb04af3\n",
    "# download test data from https://codalab.lisn.upsaclay.fr/competitions/8336\n",
    "\n",
    "# Path to training data\n",
    "train_path = \"/home/jovyan/competition/data/training/\"\n",
    "# Path to testing data (public test set)\n",
    "test_path = \"/home/jovyan/competition/data/testing/\"\n",
    "train_subj = 1200  # use 10 instead of 1200 training subjects, for demonstration purpose\n",
    "test_subj = 400  # use 10 instead of 400 testing subjects, for demonstration purpose\n",
    "\n",
    "train_raws, test_raws = {}, {}\n",
    "for condition in [\"EC\", \"EO\"]:\n",
    "    train_raws[condition] = []\n",
    "    test_raws[condition] = []\n",
    "    train_subjs = list(range(1, train_subj + 1))\n",
    "    for s in train_subjs:\n",
    "        fname = f\"subj{s:04}_{condition}_{sfreq}_hz_raw.fif.gz\"\n",
    "        raw = mne.io.read_raw(train_path + fname, preload=False, verbose='error')\n",
    "        train_raws[condition].append(raw)\n",
    "    test_subjs = list(range(1201, 1201 + test_subj))\n",
    "    for s in test_subjs:\n",
    "        fname = f\"subj{s:04}_{condition}_{sfreq}_hz_raw.fif.gz\"\n",
    "        raw = mne.io.read_raw(test_path + fname, preload=False, verbose='error')\n",
    "        test_raws[condition].append(raw)"
   ]
  },
  {
   "cell_type": "code",
   "execution_count": 5,
   "id": "df87d684-eb58-4b5e-841b-348bdccfb43e",
   "metadata": {},
   "outputs": [],
   "source": [
    "from braindecode.datasets import BaseConcatDataset, BaseDataset"
   ]
  },
  {
   "cell_type": "code",
   "execution_count": 6,
   "id": "7485f400-0df9-4e96-bdc5-872c6e8181e2",
   "metadata": {},
   "outputs": [],
   "source": [
    "target_name = 'age'"
   ]
  },
  {
   "cell_type": "code",
   "execution_count": 59,
   "id": "6b2cc33d-7fc4-4e1d-8774-688e4ab9de7b",
   "metadata": {},
   "outputs": [
    {
     "name": "stderr",
     "output_type": "stream",
     "text": [
      "/home/jovyan/braindecode/braindecode/datasets/base.py:131: UserWarning: 'age' not in description. '__getitem__'will fail unless an appropriate target is added to description.\n",
      "  warnings.warn(f\"'{name}' not in description. '__getitem__'\"\n"
     ]
    }
   ],
   "source": [
    "train_ec = BaseConcatDataset([\n",
    "    BaseDataset(raw, target_name=target_name) for raw in train_raws['EC']\n",
    "])\n",
    "train_eo = BaseConcatDataset([\n",
    "    BaseDataset(raw, target_name=target_name) for raw in train_raws['EO']\n",
    "])"
   ]
  },
  {
   "cell_type": "code",
   "execution_count": 60,
   "id": "91d70e86-60ca-4f07-bb99-19ba2136a256",
   "metadata": {},
   "outputs": [],
   "source": [
    "meta = pd.read_csv(train_path + \"train_subjects.csv\", index_col=0)"
   ]
  },
  {
   "cell_type": "code",
   "execution_count": 61,
   "id": "f877e8c7-405e-4a5c-93ec-e724229d0e3e",
   "metadata": {},
   "outputs": [],
   "source": [
    "train_ec.set_description(meta)\n",
    "train_ec.set_description({'condition': ['EC'] * len(train_ec.datasets)})\n",
    "train_ec.set_description({'path': [ds.raw.filenames[0] for ds in train_ec.datasets]})"
   ]
  },
  {
   "cell_type": "code",
   "execution_count": 62,
   "id": "4b351c19-8850-48bf-aeeb-64ef6e07dc7f",
   "metadata": {},
   "outputs": [],
   "source": [
    "train_eo.set_description(meta)\n",
    "train_eo.set_description({'condition': ['EO'] * len(train_eo.datasets)})\n",
    "train_eo.set_description({'path': [ds.raw.filenames[0] for ds in train_eo.datasets]})"
   ]
  },
  {
   "cell_type": "code",
   "execution_count": 63,
   "id": "31e5647e-708a-48ac-958e-1aaccefcbf81",
   "metadata": {},
   "outputs": [],
   "source": [
    "train = BaseConcatDataset([train_ec, train_eo])"
   ]
  },
  {
   "cell_type": "code",
   "execution_count": 64,
   "id": "03b7f6b4-6843-4c56-8fe1-6168639746b8",
   "metadata": {},
   "outputs": [
    {
     "data": {
      "text/html": [
       "<div>\n",
       "<style scoped>\n",
       "    .dataframe tbody tr th:only-of-type {\n",
       "        vertical-align: middle;\n",
       "    }\n",
       "\n",
       "    .dataframe tbody tr th {\n",
       "        vertical-align: top;\n",
       "    }\n",
       "\n",
       "    .dataframe thead th {\n",
       "        text-align: right;\n",
       "    }\n",
       "</style>\n",
       "<table border=\"1\" class=\"dataframe\">\n",
       "  <thead>\n",
       "    <tr style=\"text-align: right;\">\n",
       "      <th></th>\n",
       "      <th>id</th>\n",
       "      <th>age</th>\n",
       "      <th>condition</th>\n",
       "      <th>path</th>\n",
       "    </tr>\n",
       "  </thead>\n",
       "  <tbody>\n",
       "    <tr>\n",
       "      <th>0</th>\n",
       "      <td>1.0</td>\n",
       "      <td>8.581679</td>\n",
       "      <td>EC</td>\n",
       "      <td>/home/jovyan/competition/data/training/subj000...</td>\n",
       "    </tr>\n",
       "    <tr>\n",
       "      <th>1</th>\n",
       "      <td>2.0</td>\n",
       "      <td>17.324321</td>\n",
       "      <td>EC</td>\n",
       "      <td>/home/jovyan/competition/data/training/subj000...</td>\n",
       "    </tr>\n",
       "    <tr>\n",
       "      <th>2</th>\n",
       "      <td>3.0</td>\n",
       "      <td>11.059890</td>\n",
       "      <td>EC</td>\n",
       "      <td>/home/jovyan/competition/data/training/subj000...</td>\n",
       "    </tr>\n",
       "    <tr>\n",
       "      <th>3</th>\n",
       "      <td>4.0</td>\n",
       "      <td>6.027720</td>\n",
       "      <td>EC</td>\n",
       "      <td>/home/jovyan/competition/data/training/subj000...</td>\n",
       "    </tr>\n",
       "    <tr>\n",
       "      <th>4</th>\n",
       "      <td>5.0</td>\n",
       "      <td>11.306297</td>\n",
       "      <td>EC</td>\n",
       "      <td>/home/jovyan/competition/data/training/subj000...</td>\n",
       "    </tr>\n",
       "    <tr>\n",
       "      <th>...</th>\n",
       "      <td>...</td>\n",
       "      <td>...</td>\n",
       "      <td>...</td>\n",
       "      <td>...</td>\n",
       "    </tr>\n",
       "    <tr>\n",
       "      <th>2395</th>\n",
       "      <td>1196.0</td>\n",
       "      <td>7.979237</td>\n",
       "      <td>EO</td>\n",
       "      <td>/home/jovyan/competition/data/training/subj119...</td>\n",
       "    </tr>\n",
       "    <tr>\n",
       "      <th>2396</th>\n",
       "      <td>1197.0</td>\n",
       "      <td>9.107232</td>\n",
       "      <td>EO</td>\n",
       "      <td>/home/jovyan/competition/data/training/subj119...</td>\n",
       "    </tr>\n",
       "    <tr>\n",
       "      <th>2397</th>\n",
       "      <td>1198.0</td>\n",
       "      <td>14.886835</td>\n",
       "      <td>EO</td>\n",
       "      <td>/home/jovyan/competition/data/training/subj119...</td>\n",
       "    </tr>\n",
       "    <tr>\n",
       "      <th>2398</th>\n",
       "      <td>1199.0</td>\n",
       "      <td>9.102213</td>\n",
       "      <td>EO</td>\n",
       "      <td>/home/jovyan/competition/data/training/subj119...</td>\n",
       "    </tr>\n",
       "    <tr>\n",
       "      <th>2399</th>\n",
       "      <td>1200.0</td>\n",
       "      <td>6.003080</td>\n",
       "      <td>EO</td>\n",
       "      <td>/home/jovyan/competition/data/training/subj120...</td>\n",
       "    </tr>\n",
       "  </tbody>\n",
       "</table>\n",
       "<p>2400 rows × 4 columns</p>\n",
       "</div>"
      ],
      "text/plain": [
       "          id        age condition  \\\n",
       "0        1.0   8.581679        EC   \n",
       "1        2.0  17.324321        EC   \n",
       "2        3.0  11.059890        EC   \n",
       "3        4.0   6.027720        EC   \n",
       "4        5.0  11.306297        EC   \n",
       "...      ...        ...       ...   \n",
       "2395  1196.0   7.979237        EO   \n",
       "2396  1197.0   9.107232        EO   \n",
       "2397  1198.0  14.886835        EO   \n",
       "2398  1199.0   9.102213        EO   \n",
       "2399  1200.0   6.003080        EO   \n",
       "\n",
       "                                                   path  \n",
       "0     /home/jovyan/competition/data/training/subj000...  \n",
       "1     /home/jovyan/competition/data/training/subj000...  \n",
       "2     /home/jovyan/competition/data/training/subj000...  \n",
       "3     /home/jovyan/competition/data/training/subj000...  \n",
       "4     /home/jovyan/competition/data/training/subj000...  \n",
       "...                                                 ...  \n",
       "2395  /home/jovyan/competition/data/training/subj119...  \n",
       "2396  /home/jovyan/competition/data/training/subj119...  \n",
       "2397  /home/jovyan/competition/data/training/subj119...  \n",
       "2398  /home/jovyan/competition/data/training/subj119...  \n",
       "2399  /home/jovyan/competition/data/training/subj120...  \n",
       "\n",
       "[2400 rows x 4 columns]"
      ]
     },
     "execution_count": 64,
     "metadata": {},
     "output_type": "execute_result"
    }
   ],
   "source": [
    "train.description"
   ]
  },
  {
   "cell_type": "code",
   "execution_count": 65,
   "id": "85b7e72e-3a2d-4cb2-929e-be58e8dce696",
   "metadata": {},
   "outputs": [],
   "source": [
    "import pickle"
   ]
  },
  {
   "cell_type": "code",
   "execution_count": 66,
   "id": "9c16bba9-ea82-4665-95a8-267ac7d8df93",
   "metadata": {},
   "outputs": [],
   "source": [
    "with open('/home/jovyan/competition/data/training/train_100_hz.pkl', 'rb') as f:\n",
    "    train100 = pickle.load(f)"
   ]
  },
  {
   "cell_type": "code",
   "execution_count": 67,
   "id": "a6be8eae-f0ef-447a-b160-dd184d3f54d6",
   "metadata": {},
   "outputs": [
    {
     "data": {
      "text/html": [
       "<div>\n",
       "<style scoped>\n",
       "    .dataframe tbody tr th:only-of-type {\n",
       "        vertical-align: middle;\n",
       "    }\n",
       "\n",
       "    .dataframe tbody tr th {\n",
       "        vertical-align: top;\n",
       "    }\n",
       "\n",
       "    .dataframe thead th {\n",
       "        text-align: right;\n",
       "    }\n",
       "</style>\n",
       "<table border=\"1\" class=\"dataframe\">\n",
       "  <thead>\n",
       "    <tr style=\"text-align: right;\">\n",
       "      <th></th>\n",
       "      <th>id</th>\n",
       "      <th>age</th>\n",
       "      <th>condition</th>\n",
       "      <th>subject</th>\n",
       "      <th>path</th>\n",
       "    </tr>\n",
       "  </thead>\n",
       "  <tbody>\n",
       "    <tr>\n",
       "      <th>0</th>\n",
       "      <td>1.0</td>\n",
       "      <td>8.581679</td>\n",
       "      <td>EC</td>\n",
       "      <td>1</td>\n",
       "      <td>/home/jovyan/competition/data/training/subj000...</td>\n",
       "    </tr>\n",
       "    <tr>\n",
       "      <th>1</th>\n",
       "      <td>2.0</td>\n",
       "      <td>17.324321</td>\n",
       "      <td>EC</td>\n",
       "      <td>2</td>\n",
       "      <td>/home/jovyan/competition/data/training/subj000...</td>\n",
       "    </tr>\n",
       "    <tr>\n",
       "      <th>2</th>\n",
       "      <td>3.0</td>\n",
       "      <td>11.059890</td>\n",
       "      <td>EC</td>\n",
       "      <td>3</td>\n",
       "      <td>/home/jovyan/competition/data/training/subj000...</td>\n",
       "    </tr>\n",
       "    <tr>\n",
       "      <th>3</th>\n",
       "      <td>4.0</td>\n",
       "      <td>6.027720</td>\n",
       "      <td>EC</td>\n",
       "      <td>4</td>\n",
       "      <td>/home/jovyan/competition/data/training/subj000...</td>\n",
       "    </tr>\n",
       "    <tr>\n",
       "      <th>4</th>\n",
       "      <td>5.0</td>\n",
       "      <td>11.306297</td>\n",
       "      <td>EC</td>\n",
       "      <td>5</td>\n",
       "      <td>/home/jovyan/competition/data/training/subj000...</td>\n",
       "    </tr>\n",
       "    <tr>\n",
       "      <th>...</th>\n",
       "      <td>...</td>\n",
       "      <td>...</td>\n",
       "      <td>...</td>\n",
       "      <td>...</td>\n",
       "      <td>...</td>\n",
       "    </tr>\n",
       "    <tr>\n",
       "      <th>2395</th>\n",
       "      <td>1196.0</td>\n",
       "      <td>7.979237</td>\n",
       "      <td>EO</td>\n",
       "      <td>1196</td>\n",
       "      <td>/home/jovyan/competition/data/training/subj119...</td>\n",
       "    </tr>\n",
       "    <tr>\n",
       "      <th>2396</th>\n",
       "      <td>1197.0</td>\n",
       "      <td>9.107232</td>\n",
       "      <td>EO</td>\n",
       "      <td>1197</td>\n",
       "      <td>/home/jovyan/competition/data/training/subj119...</td>\n",
       "    </tr>\n",
       "    <tr>\n",
       "      <th>2397</th>\n",
       "      <td>1198.0</td>\n",
       "      <td>14.886835</td>\n",
       "      <td>EO</td>\n",
       "      <td>1198</td>\n",
       "      <td>/home/jovyan/competition/data/training/subj119...</td>\n",
       "    </tr>\n",
       "    <tr>\n",
       "      <th>2398</th>\n",
       "      <td>1199.0</td>\n",
       "      <td>9.102213</td>\n",
       "      <td>EO</td>\n",
       "      <td>1199</td>\n",
       "      <td>/home/jovyan/competition/data/training/subj119...</td>\n",
       "    </tr>\n",
       "    <tr>\n",
       "      <th>2399</th>\n",
       "      <td>1200.0</td>\n",
       "      <td>6.003080</td>\n",
       "      <td>EO</td>\n",
       "      <td>1200</td>\n",
       "      <td>/home/jovyan/competition/data/training/subj120...</td>\n",
       "    </tr>\n",
       "  </tbody>\n",
       "</table>\n",
       "<p>2400 rows × 5 columns</p>\n",
       "</div>"
      ],
      "text/plain": [
       "          id        age condition  subject  \\\n",
       "0        1.0   8.581679        EC        1   \n",
       "1        2.0  17.324321        EC        2   \n",
       "2        3.0  11.059890        EC        3   \n",
       "3        4.0   6.027720        EC        4   \n",
       "4        5.0  11.306297        EC        5   \n",
       "...      ...        ...       ...      ...   \n",
       "2395  1196.0   7.979237        EO     1196   \n",
       "2396  1197.0   9.107232        EO     1197   \n",
       "2397  1198.0  14.886835        EO     1198   \n",
       "2398  1199.0   9.102213        EO     1199   \n",
       "2399  1200.0   6.003080        EO     1200   \n",
       "\n",
       "                                                   path  \n",
       "0     /home/jovyan/competition/data/training/subj000...  \n",
       "1     /home/jovyan/competition/data/training/subj000...  \n",
       "2     /home/jovyan/competition/data/training/subj000...  \n",
       "3     /home/jovyan/competition/data/training/subj000...  \n",
       "4     /home/jovyan/competition/data/training/subj000...  \n",
       "...                                                 ...  \n",
       "2395  /home/jovyan/competition/data/training/subj119...  \n",
       "2396  /home/jovyan/competition/data/training/subj119...  \n",
       "2397  /home/jovyan/competition/data/training/subj119...  \n",
       "2398  /home/jovyan/competition/data/training/subj119...  \n",
       "2399  /home/jovyan/competition/data/training/subj120...  \n",
       "\n",
       "[2400 rows x 5 columns]"
      ]
     },
     "execution_count": 67,
     "metadata": {},
     "output_type": "execute_result"
    }
   ],
   "source": [
    "train100.description"
   ]
  },
  {
   "cell_type": "code",
   "execution_count": 69,
   "id": "5d5bec65-30bb-43ea-9279-a9aa68d9530e",
   "metadata": {},
   "outputs": [],
   "source": [
    "pd.testing.assert_frame_equal(train.description, train100.description[['id', 'age', 'condition', 'path']])"
   ]
  },
  {
   "cell_type": "code",
   "execution_count": null,
   "id": "2ad5e65d-ed11-4547-958a-bbd19c95e22e",
   "metadata": {},
   "outputs": [],
   "source": []
  },
  {
   "cell_type": "code",
   "execution_count": null,
   "id": "d2896f92-7ad8-4aa5-9100-ec33b675c1d4",
   "metadata": {},
   "outputs": [],
   "source": []
  },
  {
   "cell_type": "code",
   "execution_count": null,
   "id": "212679ff-c06a-4eff-a07d-a67658cda34f",
   "metadata": {},
   "outputs": [],
   "source": []
  },
  {
   "cell_type": "code",
   "execution_count": 51,
   "id": "bc4971a0-86a0-45da-9abb-79de6a472ff9",
   "metadata": {},
   "outputs": [],
   "source": [
    "test_ec = BaseConcatDataset([\n",
    "    BaseDataset(raw) for raw in test_raws['EC']\n",
    "])\n",
    "test_eo = BaseConcatDataset([\n",
    "    BaseDataset(raw) for raw in test_raws['EO']\n",
    "])"
   ]
  },
  {
   "cell_type": "code",
   "execution_count": 52,
   "id": "d7f7c5a4-6e70-4cc4-91dc-9e47c54352aa",
   "metadata": {},
   "outputs": [],
   "source": [
    "test_ec.set_description(test_subjs)\n",
    "test_ec.set_description({'condition': ['EC'] * len(test_ec.datasets)})\n",
    "test_ec.set_description({'path': [ds.raw.filenames[0] for ds in test_ec.datasets]})\n",
    "test_eo.set_description(test_subjs)\n",
    "test_eo.set_description({'condition': ['EO'] * len(test_ec.datasets)})\n",
    "test_eo.set_description({'path': [ds.raw.filenames[0] for ds in test_eo.datasets]})"
   ]
  },
  {
   "cell_type": "code",
   "execution_count": 53,
   "id": "f418426a-9c69-4849-9bed-17a7bd4df8bf",
   "metadata": {},
   "outputs": [],
   "source": [
    "test = BaseConcatDataset([test_ec, test_eo])"
   ]
  },
  {
   "cell_type": "code",
   "execution_count": 54,
   "id": "4ad26d0b-5b5d-4f10-be1a-541e1cac466d",
   "metadata": {},
   "outputs": [
    {
     "data": {
      "text/html": [
       "<div>\n",
       "<style scoped>\n",
       "    .dataframe tbody tr th:only-of-type {\n",
       "        vertical-align: middle;\n",
       "    }\n",
       "\n",
       "    .dataframe tbody tr th {\n",
       "        vertical-align: top;\n",
       "    }\n",
       "\n",
       "    .dataframe thead th {\n",
       "        text-align: right;\n",
       "    }\n",
       "</style>\n",
       "<table border=\"1\" class=\"dataframe\">\n",
       "  <thead>\n",
       "    <tr style=\"text-align: right;\">\n",
       "      <th></th>\n",
       "      <th>0</th>\n",
       "      <th>condition</th>\n",
       "      <th>path</th>\n",
       "    </tr>\n",
       "  </thead>\n",
       "  <tbody>\n",
       "    <tr>\n",
       "      <th>0</th>\n",
       "      <td>1201</td>\n",
       "      <td>EC</td>\n",
       "      <td>/home/jovyan/competition/data/testing/subj1201...</td>\n",
       "    </tr>\n",
       "    <tr>\n",
       "      <th>1</th>\n",
       "      <td>1202</td>\n",
       "      <td>EC</td>\n",
       "      <td>/home/jovyan/competition/data/testing/subj1202...</td>\n",
       "    </tr>\n",
       "    <tr>\n",
       "      <th>2</th>\n",
       "      <td>1203</td>\n",
       "      <td>EC</td>\n",
       "      <td>/home/jovyan/competition/data/testing/subj1203...</td>\n",
       "    </tr>\n",
       "    <tr>\n",
       "      <th>3</th>\n",
       "      <td>1204</td>\n",
       "      <td>EC</td>\n",
       "      <td>/home/jovyan/competition/data/testing/subj1204...</td>\n",
       "    </tr>\n",
       "    <tr>\n",
       "      <th>4</th>\n",
       "      <td>1205</td>\n",
       "      <td>EC</td>\n",
       "      <td>/home/jovyan/competition/data/testing/subj1205...</td>\n",
       "    </tr>\n",
       "    <tr>\n",
       "      <th>...</th>\n",
       "      <td>...</td>\n",
       "      <td>...</td>\n",
       "      <td>...</td>\n",
       "    </tr>\n",
       "    <tr>\n",
       "      <th>795</th>\n",
       "      <td>1596</td>\n",
       "      <td>EO</td>\n",
       "      <td>/home/jovyan/competition/data/testing/subj1596...</td>\n",
       "    </tr>\n",
       "    <tr>\n",
       "      <th>796</th>\n",
       "      <td>1597</td>\n",
       "      <td>EO</td>\n",
       "      <td>/home/jovyan/competition/data/testing/subj1597...</td>\n",
       "    </tr>\n",
       "    <tr>\n",
       "      <th>797</th>\n",
       "      <td>1598</td>\n",
       "      <td>EO</td>\n",
       "      <td>/home/jovyan/competition/data/testing/subj1598...</td>\n",
       "    </tr>\n",
       "    <tr>\n",
       "      <th>798</th>\n",
       "      <td>1599</td>\n",
       "      <td>EO</td>\n",
       "      <td>/home/jovyan/competition/data/testing/subj1599...</td>\n",
       "    </tr>\n",
       "    <tr>\n",
       "      <th>799</th>\n",
       "      <td>1600</td>\n",
       "      <td>EO</td>\n",
       "      <td>/home/jovyan/competition/data/testing/subj1600...</td>\n",
       "    </tr>\n",
       "  </tbody>\n",
       "</table>\n",
       "<p>800 rows × 3 columns</p>\n",
       "</div>"
      ],
      "text/plain": [
       "        0 condition                                               path\n",
       "0    1201        EC  /home/jovyan/competition/data/testing/subj1201...\n",
       "1    1202        EC  /home/jovyan/competition/data/testing/subj1202...\n",
       "2    1203        EC  /home/jovyan/competition/data/testing/subj1203...\n",
       "3    1204        EC  /home/jovyan/competition/data/testing/subj1204...\n",
       "4    1205        EC  /home/jovyan/competition/data/testing/subj1205...\n",
       "..    ...       ...                                                ...\n",
       "795  1596        EO  /home/jovyan/competition/data/testing/subj1596...\n",
       "796  1597        EO  /home/jovyan/competition/data/testing/subj1597...\n",
       "797  1598        EO  /home/jovyan/competition/data/testing/subj1598...\n",
       "798  1599        EO  /home/jovyan/competition/data/testing/subj1599...\n",
       "799  1600        EO  /home/jovyan/competition/data/testing/subj1600...\n",
       "\n",
       "[800 rows x 3 columns]"
      ]
     },
     "execution_count": 54,
     "metadata": {},
     "output_type": "execute_result"
    }
   ],
   "source": [
    "test.description"
   ]
  },
  {
   "cell_type": "code",
   "execution_count": null,
   "id": "953a78ee-9bd4-4029-873a-b8fa1134dd1b",
   "metadata": {},
   "outputs": [],
   "source": []
  },
  {
   "cell_type": "code",
   "execution_count": null,
   "id": "2e08a938-4705-4957-a54a-eb313fb80e5c",
   "metadata": {},
   "outputs": [],
   "source": []
  },
  {
   "cell_type": "code",
   "execution_count": null,
   "id": "feb8c542-c202-444e-86e3-15fe7ae91cb0",
   "metadata": {},
   "outputs": [],
   "source": []
  },
  {
   "cell_type": "code",
   "execution_count": 26,
   "id": "5741469f-9f43-4d5b-8cb7-7920aa035bd2",
   "metadata": {},
   "outputs": [],
   "source": [
    "import pickle"
   ]
  },
  {
   "cell_type": "code",
   "execution_count": 27,
   "id": "66251956-ede2-4062-a58b-34f5f19de555",
   "metadata": {},
   "outputs": [],
   "source": [
    "with open(train_path + f'train_{sfreq}_hz.pkl', 'wb') as f:\n",
    "    pickle.dump(train, f)"
   ]
  },
  {
   "cell_type": "code",
   "execution_count": 29,
   "id": "01c501cb-f59a-4a30-9019-4c783af49080",
   "metadata": {},
   "outputs": [],
   "source": [
    "with open(test_path + f'test_{sfreq}_hz.pkl', 'wb') as f:\n",
    "    pickle.dump(test, f)"
   ]
  },
  {
   "cell_type": "code",
   "execution_count": null,
   "id": "9e00bbe4-7af7-4750-901c-f18bc58d6030",
   "metadata": {},
   "outputs": [],
   "source": []
  },
  {
   "cell_type": "code",
   "execution_count": null,
   "id": "699f0494-d463-4e9e-9e60-5f31e616db2b",
   "metadata": {},
   "outputs": [],
   "source": []
  },
  {
   "cell_type": "code",
   "execution_count": null,
   "id": "e2408543-0444-4c0b-8904-b811241ade5d",
   "metadata": {},
   "outputs": [],
   "source": []
  },
  {
   "cell_type": "code",
   "execution_count": 30,
   "id": "eb3e9029-0dd6-443a-ab27-6621b0458906",
   "metadata": {},
   "outputs": [],
   "source": [
    "import matplotlib.pyplot as plt\n",
    "import seaborn as sns\n",
    "sns.set(color_codes=True)"
   ]
  },
  {
   "cell_type": "code",
   "execution_count": 32,
   "id": "3fa16b15-98b5-4e10-8a26-6d1cc83d5d27",
   "metadata": {},
   "outputs": [
    {
     "data": {
      "text/plain": [
       "Text(0.5, 1.0, 'Train ages')"
      ]
     },
     "execution_count": 32,
     "metadata": {},
     "output_type": "execute_result"
    },
    {
     "data": {
      "image/png": "[encoded data removed]",
      "text/plain": [
       "<Figure size 500x500 with 2 Axes>"
      ]
     },
     "metadata": {},
     "output_type": "display_data"
    }
   ],
   "source": [
    "fig, ax_arr = plt.subplots(1, 2, figsize=(5,5), sharex=True, sharey=True)\n",
    "bins = bins=range(5, 23)\n",
    "ax = ax_arr[0]\n",
    "ax = sns.histplot(data=train.description, y='age', bins=bins, ax=ax)\n",
    "ax.set_yticks(bins);\n",
    "ax.set_yticklabels(bins);\n",
    "ax.set_title('Train ages')\n",
    "\n",
    "# ax = ax_arr[1]\n",
    "# ax = sns.histplot(data=test.description, y='age', bins=bins, ax=ax)\n",
    "# ax.set_title('Valid ages')"
   ]
  },
  {
   "cell_type": "code",
   "execution_count": null,
   "id": "398fa66e-8bad-4749-9cdd-491053fb9d01",
   "metadata": {},
   "outputs": [],
   "source": []
  }
 ],
 "metadata": {
  "kernelspec": {
   "display_name": "Python 3 (ipykernel)",
   "language": "python",
   "name": "python3"
  },
  "language_info": {
   "codemirror_mode": {
    "name": "ipython",
    "version": 3
   },
   "file_extension": ".py",
   "mimetype": "text/x-python",
   "name": "python",
   "nbconvert_exporter": "python",
   "pygments_lexer": "ipython3",
   "version": "3.10.6"
  }
 },
 "nbformat": 4,
 "nbformat_minor": 5
}
