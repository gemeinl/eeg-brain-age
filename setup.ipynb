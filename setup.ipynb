{
 "cells": [
  {
   "cell_type": "code",
   "execution_count": 1,
   "id": "0a013e73-afff-43da-a661-e668776e43d3",
   "metadata": {},
   "outputs": [],
   "source": [
    "run_in_notebook = False"
   ]
  },
  {
   "cell_type": "raw",
   "id": "4d49cfaa-18ae-4db6-acc0-b45ef6f3e2dd",
   "metadata": {
    "tags": []
   },
   "source": [
    "# prerequisites to create a pipeline\n",
    "if not run_in_notebook:\n",
    "    !mamba create -n job-env -y -q python=3.8\n",
    "    # order of commands matters\n",
    "    !mamba install -n job-env -y -q pytorch cudatoolkit=11.3 -c pytorch \n",
    "    #!mamba install -n job-env -y -q cudatoolkit=11.3 -c nvidia \n",
    "    !mamba install -n job-env -y -q kfp joblib pandas scikit-learn skorch h5py seaborn matplotlib skorch  -c conda-forge \n",
    "    # github for latest changes\n",
    "    #!bash -c '. /opt/conda/etc/profile.d/conda.sh; conda activate job-env; python -m pip install -q -r requirements.txt'\n",
    "    # mne and braindecode\n",
    "    !bash -c '. /opt/conda/etc/profile.d/conda.sh; conda activate job-env; python -m pip install -q mne braindecode kfp==1.8.2'\n",
    "    #!mamba env export -n job-env -f environment.yml"
   ]
  },
  {
   "cell_type": "code",
   "execution_count": 2,
   "id": "a9a3f22a-eccb-44c3-876a-a168c49075b3",
   "metadata": {
    "scrolled": true,
    "tags": []
   },
   "outputs": [
    {
     "name": "stdout",
     "output_type": "stream",
     "text": [
      "Collecting scikit-learn\n",
      "  Using cached scikit_learn-1.1.2-cp39-cp39-manylinux_2_17_x86_64.manylinux2014_x86_64.whl (30.8 MB)\n",
      "Collecting pandas\n",
      "  Using cached pandas-1.4.4-cp39-cp39-manylinux_2_17_x86_64.manylinux2014_x86_64.whl (11.7 MB)\n",
      "Collecting kfp\n",
      "  Using cached kfp-1.8.13-py3-none-any.whl\n",
      "Collecting line_profiler\n",
      "  Using cached line_profiler-3.5.1-cp39-cp39-manylinux_2_17_x86_64.manylinux2014_x86_64.whl (70 kB)\n",
      "Collecting memory_profiler\n",
      "  Using cached memory_profiler-0.60.0-py3-none-any.whl\n",
      "Collecting ipywidgets\n",
      "  Using cached ipywidgets-8.0.2-py3-none-any.whl (134 kB)\n",
      "Collecting joblib>=1.0.0\n",
      "  Using cached joblib-1.1.0-py2.py3-none-any.whl (306 kB)\n",
      "Collecting threadpoolctl>=2.0.0\n",
      "  Using cached threadpoolctl-3.1.0-py3-none-any.whl (14 kB)\n",
      "Collecting numpy>=1.17.3\n",
      "  Using cached numpy-1.23.2-cp39-cp39-manylinux_2_17_x86_64.manylinux2014_x86_64.whl (17.1 MB)\n",
      "Collecting scipy>=1.3.2\n",
      "  Using cached scipy-1.9.1-cp39-cp39-manylinux_2_17_x86_64.manylinux2014_x86_64.whl (43.9 MB)\n",
      "Requirement already satisfied: pytz>=2020.1 in /opt/conda/lib/python3.9/site-packages (from pandas) (2021.1)\n",
      "Requirement already satisfied: python-dateutil>=2.8.1 in /opt/conda/lib/python3.9/site-packages (from pandas) (2.8.2)\n",
      "Collecting cloudpickle<3,>=2.0.0\n",
      "  Downloading cloudpickle-2.2.0-py3-none-any.whl (25 kB)\n",
      "Collecting protobuf<4,>=3.13.0\n",
      "  Using cached protobuf-3.20.1-cp39-cp39-manylinux_2_5_x86_64.manylinux1_x86_64.whl (1.0 MB)\n",
      "Collecting strip-hints<1,>=0.1.8\n",
      "  Using cached strip_hints-0.1.10-py2.py3-none-any.whl\n",
      "Collecting typer<1.0,>=0.3.2\n",
      "  Using cached typer-0.6.1-py3-none-any.whl (38 kB)\n",
      "Collecting PyYAML<6,>=5.3\n",
      "  Using cached PyYAML-5.4.1-cp39-cp39-manylinux1_x86_64.whl (630 kB)\n",
      "Collecting google-api-python-client<2,>=1.7.8\n",
      "  Using cached google_api_python_client-1.12.11-py2.py3-none-any.whl (62 kB)\n",
      "Collecting absl-py<2,>=0.9\n",
      "  Using cached absl_py-1.2.0-py3-none-any.whl (123 kB)\n",
      "Collecting click<9,>=7.1.2\n",
      "  Using cached click-8.1.3-py3-none-any.whl (96 kB)\n",
      "Collecting google-api-core!=2.0.*,!=2.1.*,!=2.2.*,!=2.3.0,<3.0.0dev,>=1.31.5\n",
      "  Using cached google_api_core-2.10.0-py3-none-any.whl (115 kB)\n",
      "Collecting pydantic<2,>=1.8.2\n",
      "  Using cached pydantic-1.10.2-cp39-cp39-manylinux_2_17_x86_64.manylinux2014_x86_64.whl (13.2 MB)\n",
      "Collecting kfp-server-api<2.0.0,>=1.1.2\n",
      "  Using cached kfp_server_api-1.8.5-py3-none-any.whl\n",
      "Collecting kubernetes<19,>=8.0.0\n",
      "  Using cached kubernetes-18.20.0-py2.py3-none-any.whl (1.6 MB)\n",
      "Collecting google-cloud-storage<2,>=1.20.0\n",
      "  Using cached google_cloud_storage-1.44.0-py2.py3-none-any.whl (106 kB)\n",
      "Collecting fire<1,>=0.3.1\n",
      "  Using cached fire-0.4.0-py2.py3-none-any.whl\n",
      "Requirement already satisfied: jsonschema<4,>=3.0.1 in /opt/conda/lib/python3.9/site-packages (from kfp) (3.2.0)\n",
      "Collecting docstring-parser<1,>=0.7.3\n",
      "  Using cached docstring_parser-0.15-py3-none-any.whl (36 kB)\n",
      "Collecting tabulate<1,>=0.8.6\n",
      "  Using cached tabulate-0.8.10-py3-none-any.whl (29 kB)\n",
      "Collecting Deprecated<2,>=1.2.7\n",
      "  Using cached Deprecated-1.2.13-py2.py3-none-any.whl (9.6 kB)\n",
      "Collecting uritemplate<4,>=3.0.1\n",
      "  Using cached uritemplate-3.0.1-py2.py3-none-any.whl (15 kB)\n",
      "Collecting google-auth<2,>=1.6.1\n",
      "  Using cached google_auth-1.35.0-py2.py3-none-any.whl (152 kB)\n",
      "Collecting requests-toolbelt<1,>=0.8.0\n",
      "  Using cached requests_toolbelt-0.9.1-py2.py3-none-any.whl (54 kB)\n",
      "Collecting kfp-pipeline-spec<0.2.0,>=0.1.14\n",
      "  Using cached kfp_pipeline_spec-0.1.16-py3-none-any.whl (19 kB)\n",
      "Collecting psutil\n",
      "  Using cached psutil-5.9.2-cp39-cp39-manylinux_2_12_x86_64.manylinux2010_x86_64.manylinux_2_17_x86_64.manylinux2014_x86_64.whl (281 kB)\n",
      "Collecting widgetsnbextension~=4.0\n",
      "  Using cached widgetsnbextension-4.0.3-py3-none-any.whl (2.0 MB)\n",
      "Requirement already satisfied: ipython>=6.1.0 in /opt/conda/lib/python3.9/site-packages (from ipywidgets) (7.27.0)\n",
      "Collecting jupyterlab-widgets~=3.0\n",
      "  Using cached jupyterlab_widgets-3.0.3-py3-none-any.whl (384 kB)\n",
      "Requirement already satisfied: traitlets>=4.3.1 in /opt/conda/lib/python3.9/site-packages (from ipywidgets) (5.1.0)\n",
      "Requirement already satisfied: ipykernel>=4.5.1 in /opt/conda/lib/python3.9/site-packages (from ipywidgets) (6.4.1)\n",
      "Collecting wrapt<2,>=1.10\n",
      "  Using cached wrapt-1.14.1-cp39-cp39-manylinux_2_5_x86_64.manylinux1_x86_64.manylinux_2_17_x86_64.manylinux2014_x86_64.whl (77 kB)\n",
      "Collecting termcolor\n",
      "  Using cached termcolor-1.1.0-py3-none-any.whl\n",
      "Requirement already satisfied: six in /opt/conda/lib/python3.9/site-packages (from fire<1,>=0.3.1->kfp) (1.16.0)\n",
      "Requirement already satisfied: requests<3.0.0dev,>=2.18.0 in /opt/conda/lib/python3.9/site-packages (from google-api-core!=2.0.*,!=2.1.*,!=2.2.*,!=2.3.0,<3.0.0dev,>=1.31.5->kfp) (2.26.0)\n",
      "Collecting googleapis-common-protos<2.0dev,>=1.56.2\n",
      "  Using cached googleapis_common_protos-1.56.4-py2.py3-none-any.whl (211 kB)\n",
      "Collecting google-auth-httplib2>=0.0.3\n",
      "  Using cached google_auth_httplib2-0.1.0-py2.py3-none-any.whl (9.3 kB)\n",
      "Collecting httplib2<1dev,>=0.15.0\n",
      "  Using cached httplib2-0.20.4-py3-none-any.whl (96 kB)\n",
      "Collecting cachetools<5.0,>=2.0.0\n",
      "  Using cached cachetools-4.2.4-py3-none-any.whl (10 kB)\n",
      "Collecting pyasn1-modules>=0.2.1\n",
      "  Using cached pyasn1_modules-0.2.8-py2.py3-none-any.whl (155 kB)\n",
      "Collecting rsa<5,>=3.1.4\n",
      "  Using cached rsa-4.9-py3-none-any.whl (34 kB)\n",
      "Requirement already satisfied: setuptools>=40.3.0 in /opt/conda/lib/python3.9/site-packages (from google-auth<2,>=1.6.1->kfp) (58.0.4)\n",
      "Collecting google-cloud-core<3.0dev,>=1.6.0\n",
      "  Using cached google_cloud_core-2.3.2-py2.py3-none-any.whl (29 kB)\n",
      "Collecting google-resumable-media<3.0dev,>=1.3.0\n",
      "  Using cached google_resumable_media-2.3.3-py2.py3-none-any.whl (76 kB)\n",
      "Collecting google-crc32c<2.0dev,>=1.0\n",
      "  Using cached google_crc32c-1.5.0-cp39-cp39-manylinux_2_17_x86_64.manylinux2014_x86_64.whl (32 kB)\n",
      "Requirement already satisfied: pyparsing!=3.0.0,!=3.0.1,!=3.0.2,!=3.0.3,<4,>=2.4.2 in /opt/conda/lib/python3.9/site-packages (from httplib2<1dev,>=0.15.0->google-api-python-client<2,>=1.7.8->kfp) (2.4.7)\n",
      "Requirement already satisfied: debugpy<2.0,>=1.0.0 in /opt/conda/lib/python3.9/site-packages (from ipykernel>=4.5.1->ipywidgets) (1.4.3)\n",
      "Requirement already satisfied: tornado<7.0,>=4.2 in /opt/conda/lib/python3.9/site-packages (from ipykernel>=4.5.1->ipywidgets) (6.1)\n",
      "Requirement already satisfied: matplotlib-inline<0.2.0,>=0.1.0 in /opt/conda/lib/python3.9/site-packages (from ipykernel>=4.5.1->ipywidgets) (0.1.3)\n",
      "Requirement already satisfied: jupyter-client<8.0 in /opt/conda/lib/python3.9/site-packages (from ipykernel>=4.5.1->ipywidgets) (7.0.3)\n",
      "Requirement already satisfied: ipython-genutils in /opt/conda/lib/python3.9/site-packages (from ipykernel>=4.5.1->ipywidgets) (0.2.0)\n",
      "Requirement already satisfied: prompt-toolkit!=3.0.0,!=3.0.1,<3.1.0,>=2.0.0 in /opt/conda/lib/python3.9/site-packages (from ipython>=6.1.0->ipywidgets) (3.0.20)\n",
      "Requirement already satisfied: pygments in /opt/conda/lib/python3.9/site-packages (from ipython>=6.1.0->ipywidgets) (2.10.0)\n",
      "Requirement already satisfied: backcall in /opt/conda/lib/python3.9/site-packages (from ipython>=6.1.0->ipywidgets) (0.2.0)\n",
      "Requirement already satisfied: pexpect>4.3 in /opt/conda/lib/python3.9/site-packages (from ipython>=6.1.0->ipywidgets) (4.8.0)\n",
      "Requirement already satisfied: pickleshare in /opt/conda/lib/python3.9/site-packages (from ipython>=6.1.0->ipywidgets) (0.7.5)\n",
      "Requirement already satisfied: jedi>=0.16 in /opt/conda/lib/python3.9/site-packages (from ipython>=6.1.0->ipywidgets) (0.18.0)\n",
      "Requirement already satisfied: decorator in /opt/conda/lib/python3.9/site-packages (from ipython>=6.1.0->ipywidgets) (5.1.0)\n",
      "Requirement already satisfied: parso<0.9.0,>=0.8.0 in /opt/conda/lib/python3.9/site-packages (from jedi>=0.16->ipython>=6.1.0->ipywidgets) (0.8.2)\n",
      "Requirement already satisfied: attrs>=17.4.0 in /opt/conda/lib/python3.9/site-packages (from jsonschema<4,>=3.0.1->kfp) (21.2.0)\n",
      "Requirement already satisfied: pyrsistent>=0.14.0 in /opt/conda/lib/python3.9/site-packages (from jsonschema<4,>=3.0.1->kfp) (0.18.0)\n",
      "Requirement already satisfied: pyzmq>=13 in /opt/conda/lib/python3.9/site-packages (from jupyter-client<8.0->ipykernel>=4.5.1->ipywidgets) (22.3.0)\n",
      "Requirement already satisfied: jupyter-core>=4.6.0 in /opt/conda/lib/python3.9/site-packages (from jupyter-client<8.0->ipykernel>=4.5.1->ipywidgets) (4.8.1)\n",
      "Requirement already satisfied: entrypoints in /opt/conda/lib/python3.9/site-packages (from jupyter-client<8.0->ipykernel>=4.5.1->ipywidgets) (0.3)\n",
      "Requirement already satisfied: nest-asyncio>=1.5 in /opt/conda/lib/python3.9/site-packages (from jupyter-client<8.0->ipykernel>=4.5.1->ipywidgets) (1.5.1)\n",
      "Requirement already satisfied: urllib3>=1.15 in /opt/conda/lib/python3.9/site-packages (from kfp-server-api<2.0.0,>=1.1.2->kfp) (1.26.6)\n",
      "Requirement already satisfied: certifi in /opt/conda/lib/python3.9/site-packages (from kfp-server-api<2.0.0,>=1.1.2->kfp) (2021.5.30)\n",
      "Collecting requests-oauthlib\n",
      "  Using cached requests_oauthlib-1.3.1-py2.py3-none-any.whl (23 kB)\n",
      "Requirement already satisfied: websocket-client!=0.40.0,!=0.41.*,!=0.42.*,>=0.32.0 in /opt/conda/lib/python3.9/site-packages (from kubernetes<19,>=8.0.0->kfp) (1.2.1)\n",
      "Requirement already satisfied: ptyprocess>=0.5 in /opt/conda/lib/python3.9/site-packages (from pexpect>4.3->ipython>=6.1.0->ipywidgets) (0.7.0)\n",
      "Requirement already satisfied: wcwidth in /opt/conda/lib/python3.9/site-packages (from prompt-toolkit!=3.0.0,!=3.0.1,<3.1.0,>=2.0.0->ipython>=6.1.0->ipywidgets) (0.2.5)\n",
      "Collecting pyasn1<0.5.0,>=0.4.6\n",
      "  Using cached pyasn1-0.4.8-py2.py3-none-any.whl (77 kB)\n",
      "Collecting typing-extensions>=4.1.0\n",
      "  Using cached typing_extensions-4.3.0-py3-none-any.whl (25 kB)\n",
      "Requirement already satisfied: charset-normalizer~=2.0.0 in /opt/conda/lib/python3.9/site-packages (from requests<3.0.0dev,>=2.18.0->google-api-core!=2.0.*,!=2.1.*,!=2.2.*,!=2.3.0,<3.0.0dev,>=1.31.5->kfp) (2.0.0)\n",
      "Requirement already satisfied: idna<4,>=2.5 in /opt/conda/lib/python3.9/site-packages (from requests<3.0.0dev,>=2.18.0->google-api-core!=2.0.*,!=2.1.*,!=2.2.*,!=2.3.0,<3.0.0dev,>=1.31.5->kfp) (3.1)\n",
      "Requirement already satisfied: wheel in /opt/conda/lib/python3.9/site-packages (from strip-hints<1,>=0.1.8->kfp) (0.37.0)\n",
      "Collecting oauthlib>=3.0.0\n",
      "  Using cached oauthlib-3.2.0-py3-none-any.whl (151 kB)\n",
      "Installing collected packages: pyasn1, rsa, pyasn1-modules, protobuf, cachetools, googleapis-common-protos, google-auth, oauthlib, httplib2, google-crc32c, google-api-core, wrapt, uritemplate, typing-extensions, termcolor, requests-oauthlib, PyYAML, numpy, google-resumable-media, google-cloud-core, google-auth-httplib2, click, widgetsnbextension, typer, threadpoolctl, tabulate, strip-hints, scipy, requests-toolbelt, pydantic, psutil, kubernetes, kfp-server-api, kfp-pipeline-spec, jupyterlab-widgets, joblib, google-cloud-storage, google-api-python-client, fire, docstring-parser, Deprecated, cloudpickle, absl-py, scikit-learn, pandas, memory-profiler, line-profiler, kfp, ipywidgets\n",
      "Successfully installed Deprecated-1.2.13 PyYAML-5.4.1 absl-py-1.2.0 cachetools-4.2.4 click-8.1.3 cloudpickle-2.2.0 docstring-parser-0.15 fire-0.4.0 google-api-core-2.10.0 google-api-python-client-1.12.11 google-auth-1.35.0 google-auth-httplib2-0.1.0 google-cloud-core-2.3.2 google-cloud-storage-1.44.0 google-crc32c-1.5.0 google-resumable-media-2.3.3 googleapis-common-protos-1.56.4 httplib2-0.20.4 ipywidgets-8.0.2 joblib-1.1.0 jupyterlab-widgets-3.0.3 kfp-1.8.13 kfp-pipeline-spec-0.1.16 kfp-server-api-1.8.5 kubernetes-18.20.0 line-profiler-3.5.1 memory-profiler-0.60.0 numpy-1.23.2 oauthlib-3.2.0 pandas-1.4.4 protobuf-3.20.1 psutil-5.9.2 pyasn1-0.4.8 pyasn1-modules-0.2.8 pydantic-1.10.2 requests-oauthlib-1.3.1 requests-toolbelt-0.9.1 rsa-4.9 scikit-learn-1.1.2 scipy-1.9.1 strip-hints-0.1.10 tabulate-0.8.10 termcolor-1.1.0 threadpoolctl-3.1.0 typer-0.6.1 typing-extensions-4.3.0 uritemplate-3.0.1 widgetsnbextension-4.0.3 wrapt-1.14.1\n",
      "Note: you may need to restart the kernel to use updated packages.\n"
     ]
    }
   ],
   "source": [
    "pip install scikit-learn pandas kfp line_profiler memory_profiler ipywidgets"
   ]
  },
  {
   "cell_type": "code",
   "execution_count": 3,
   "id": "5c465399-fa23-4f9f-bbc7-d7c4f3bae749",
   "metadata": {
    "scrolled": true,
    "tags": []
   },
   "outputs": [
    {
     "name": "stdout",
     "output_type": "stream",
     "text": [
      "Looking in indexes: https://pypi.org/simple, https://download.pytorch.org/whl/cu113\n",
      "Collecting torch\n",
      "  Using cached https://download.pytorch.org/whl/cu113/torch-1.12.1%2Bcu113-cp39-cp39-linux_x86_64.whl (1837.7 MB)\n",
      "Requirement already satisfied: typing-extensions in /opt/conda/lib/python3.9/site-packages (from torch) (4.3.0)\n",
      "Installing collected packages: torch\n",
      "Successfully installed torch-1.12.1+cu113\n",
      "Note: you may need to restart the kernel to use updated packages.\n"
     ]
    }
   ],
   "source": [
    "pip install --upgrade torch --extra-index-url https://download.pytorch.org/whl/cu113"
   ]
  },
  {
   "cell_type": "code",
   "execution_count": 4,
   "id": "11c0b76a-94a3-4161-891d-3297bdf1f000",
   "metadata": {
    "scrolled": true,
    "tags": []
   },
   "outputs": [
    {
     "name": "stdout",
     "output_type": "stream",
     "text": [
      "Collecting matplotlib\n",
      "  Using cached matplotlib-3.5.3-cp39-cp39-manylinux_2_5_x86_64.manylinux1_x86_64.whl (11.2 MB)\n",
      "Collecting skorch\n",
      "  Using cached skorch-0.11.0-py3-none-any.whl (155 kB)\n",
      "Collecting h5py\n",
      "  Using cached h5py-3.7.0-cp39-cp39-manylinux_2_12_x86_64.manylinux2010_x86_64.whl (4.5 MB)\n",
      "Collecting seaborn\n",
      "  Using cached seaborn-0.12.0-py3-none-any.whl (285 kB)\n",
      "Requirement already satisfied: packaging>=20.0 in /opt/conda/lib/python3.9/site-packages (from matplotlib) (21.0)\n",
      "Requirement already satisfied: python-dateutil>=2.7 in /opt/conda/lib/python3.9/site-packages (from matplotlib) (2.8.2)\n",
      "Collecting fonttools>=4.22.0\n",
      "  Using cached fonttools-4.37.1-py3-none-any.whl (957 kB)\n",
      "Collecting kiwisolver>=1.0.1\n",
      "  Using cached kiwisolver-1.4.4-cp39-cp39-manylinux_2_12_x86_64.manylinux2010_x86_64.whl (1.6 MB)\n",
      "Collecting cycler>=0.10\n",
      "  Using cached cycler-0.11.0-py3-none-any.whl (6.4 kB)\n",
      "Requirement already satisfied: pyparsing>=2.2.1 in /opt/conda/lib/python3.9/site-packages (from matplotlib) (2.4.7)\n",
      "Requirement already satisfied: numpy>=1.17 in /opt/conda/lib/python3.9/site-packages (from matplotlib) (1.23.2)\n",
      "Collecting pillow>=6.2.0\n",
      "  Using cached Pillow-9.2.0-cp39-cp39-manylinux_2_28_x86_64.whl (3.2 MB)\n",
      "Requirement already satisfied: scikit-learn>=0.19.1 in /opt/conda/lib/python3.9/site-packages (from skorch) (1.1.2)\n",
      "Requirement already satisfied: tabulate>=0.7.7 in /opt/conda/lib/python3.9/site-packages (from skorch) (0.8.10)\n",
      "Requirement already satisfied: tqdm>=4.14.0 in /opt/conda/lib/python3.9/site-packages (from skorch) (4.62.2)\n",
      "Requirement already satisfied: scipy>=1.1.0 in /opt/conda/lib/python3.9/site-packages (from skorch) (1.9.1)\n",
      "Requirement already satisfied: pandas>=0.25 in /opt/conda/lib/python3.9/site-packages (from seaborn) (1.4.4)\n",
      "Requirement already satisfied: pytz>=2020.1 in /opt/conda/lib/python3.9/site-packages (from pandas>=0.25->seaborn) (2021.1)\n",
      "Requirement already satisfied: six>=1.5 in /opt/conda/lib/python3.9/site-packages (from python-dateutil>=2.7->matplotlib) (1.16.0)\n",
      "Requirement already satisfied: threadpoolctl>=2.0.0 in /opt/conda/lib/python3.9/site-packages (from scikit-learn>=0.19.1->skorch) (3.1.0)\n",
      "Requirement already satisfied: joblib>=1.0.0 in /opt/conda/lib/python3.9/site-packages (from scikit-learn>=0.19.1->skorch) (1.1.0)\n",
      "Installing collected packages: pillow, kiwisolver, fonttools, cycler, matplotlib, skorch, seaborn, h5py\n",
      "Successfully installed cycler-0.11.0 fonttools-4.37.1 h5py-3.7.0 kiwisolver-1.4.4 matplotlib-3.5.3 pillow-9.2.0 seaborn-0.12.0 skorch-0.11.0\n",
      "Note: you may need to restart the kernel to use updated packages.\n"
     ]
    }
   ],
   "source": [
    "pip install --upgrade matplotlib skorch h5py seaborn"
   ]
  },
  {
   "cell_type": "code",
   "execution_count": 5,
   "id": "47dabe1c-e24f-4710-92ab-5215aede1a18",
   "metadata": {},
   "outputs": [],
   "source": [
    "import torch"
   ]
  },
  {
   "cell_type": "code",
   "execution_count": 6,
   "id": "f3b59ec7-22d1-4c10-af90-e754ddeb9292",
   "metadata": {},
   "outputs": [
    {
     "data": {
      "text/plain": [
       "('1.12.1+cu113', '11.3')"
      ]
     },
     "execution_count": 6,
     "metadata": {},
     "output_type": "execute_result"
    }
   ],
   "source": [
    "torch.__version__, torch.version.cuda"
   ]
  },
  {
   "cell_type": "code",
   "execution_count": 7,
   "id": "affdc896-0ff2-4465-b69e-7c1d43658eee",
   "metadata": {},
   "outputs": [
    {
     "data": {
      "text/plain": [
       "True"
      ]
     },
     "execution_count": 7,
     "metadata": {},
     "output_type": "execute_result"
    }
   ],
   "source": [
    "torch.cuda.is_available()"
   ]
  },
  {
   "cell_type": "code",
   "execution_count": null,
   "id": "bb33db4d-83bb-4aaf-a6d1-f32a9c74d11b",
   "metadata": {},
   "outputs": [],
   "source": []
  }
 ],
 "metadata": {
  "kernelspec": {
   "display_name": "Python 3 (ipykernel)",
   "language": "python",
   "name": "python3"
  },
  "language_info": {
   "codemirror_mode": {
    "name": "ipython",
    "version": 3
   },
   "file_extension": ".py",
   "mimetype": "text/x-python",
   "name": "python",
   "nbconvert_exporter": "python",
   "pygments_lexer": "ipython3",
   "version": "3.9.7"
  }
 },
 "nbformat": 4,
 "nbformat_minor": 5
}
