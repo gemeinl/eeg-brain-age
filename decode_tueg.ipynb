{
 "cells": [
  {
   "cell_type": "raw",
   "id": "27cf8552-0aaa-49a0-b74f-698a60e4470c",
   "metadata": {},
   "source": [
    "%load_ext autoreload\n",
    "%autoreload 2"
   ]
  },
  {
   "cell_type": "code",
   "execution_count": 1,
   "id": "383ae4b5-3201-48be-9545-9aaee8f578cf",
   "metadata": {},
   "outputs": [],
   "source": [
    "run_in_notebook = True"
   ]
  },
  {
   "cell_type": "raw",
   "id": "f16b4d59-4eff-4a57-961c-4db4ec1da4e7",
   "metadata": {},
   "source": [
    "TODO:\n",
    "pathology benchmark script -> reproduce paper results"
   ]
  },
  {
   "cell_type": "code",
   "execution_count": 2,
   "id": "2ff51629-61d6-4436-b241-7fc330e1dd95",
   "metadata": {
    "scrolled": true,
    "tags": []
   },
   "outputs": [],
   "source": [
    "import sys\n",
    "sys.path.insert(0, '/home/jovyan/braindecode/')\n",
    "sys.path.insert(0, '/home/jovyan/mne-python/')\n",
    "\n",
    "from decode_tueg import decode_tueg"
   ]
  },
  {
   "cell_type": "code",
   "execution_count": 3,
   "id": "57b2cfbb-9d06-4487-b26d-605374b415af",
   "metadata": {},
   "outputs": [],
   "source": [
    "import time\n",
    "import logging\n",
    "\n",
    "from sklearn.model_selection import ParameterGrid, ParameterSampler\n",
    "import pandas as pd"
   ]
  },
  {
   "cell_type": "code",
   "execution_count": 4,
   "id": "b1e1eea2-2a94-417a-b782-99ebf64f7690",
   "metadata": {},
   "outputs": [],
   "source": [
    "import os\n",
    "import glob\n",
    "import datetime\n",
    "from typing import List\n",
    "from functools import reduce\n",
    "\n",
    "import json\n",
    "from kfp import Client\n",
    "from kfp.compiler import Compiler\n",
    "from kfp.components import (\n",
    "    create_component_from_func, load_component_from_text, OutputPath)\n",
    "from kfp.dsl import (\n",
    "    PipelineParam, PipelineVolume, pipeline as dsl_pipeline, RUN_ID_PLACEHOLDER)\n",
    "from kubernetes.client.models.v1_toleration import V1Toleration\n",
    "from kubernetes.client import V1EmptyDirVolumeSource, V1Volume\n",
    "client = Client()"
   ]
  },
  {
   "cell_type": "code",
   "execution_count": 5,
   "id": "77138501-82c7-4fe1-b951-df9fdb862f88",
   "metadata": {},
   "outputs": [
    {
     "data": {
      "text/plain": [
       "'11.3'"
      ]
     },
     "execution_count": 5,
     "metadata": {},
     "output_type": "execute_result"
    }
   ],
   "source": [
    "import torch\n",
    "torch.version.cuda"
   ]
  },
  {
   "cell_type": "raw",
   "id": "d0c5c820-3364-46f4-9fbc-81ed4d03b1b7",
   "metadata": {
    "jupyter": {
     "source_hidden": true
    },
    "tags": []
   },
   "source": [
    "convert(\"\"\"\n",
    "n_jobs=4\n",
    "data_path='/home/jovyan/mne_data/TUH_PRE/tuh_eeg_abnormal/v2.0.0/edf/train/'\n",
    "subset='normal'\n",
    "n_recordings=None\n",
    "tmin=1*60\n",
    "tmax=3*60\n",
    "scale_data=True\n",
    "scale_targets=True\n",
    "window_size_samples=6000\n",
    "seed=20220429\n",
    "model_name='shallow'\n",
    "n_epochs=35\n",
    "n_restarts=0\n",
    "batch_size=64\n",
    "valid_set_fraction=.2\n",
    "shuffle_data_before_split=False\n",
    "out_dir='/home/jovyan/'\n",
    "preload=True\n",
    "final_eval=False\n",
    "\"\"\"\n",
    ")\n",
    "\n",
    "convert(\"\"\"\n",
    "n_jobs:int=4\n",
    "data_path:str='/home/jovyan/mne_data/TUH_PRE/tuh_eeg_abnormal/v2.0.0/edf/train/'\n",
    "subset:str='normal'\n",
    "n_recordings:int=None\n",
    "tmin:int=1*60\n",
    "tmax:int=3*60\n",
    "scale_data:bool=True\n",
    "scale_targets:bool=True\n",
    "window_size_samples:int=6000\n",
    "seed:int=20220429\n",
    "model_name:str='shallow'\n",
    "n_epochs:int=35\n",
    "n_restarts:int=0\n",
    "batch_size:int=64\n",
    "valid_set_fraction:float=.2\n",
    "shuffle_data_before_split:bool=False\n",
    "out_dir:str='/home/jovyan/'\n",
    "preload:bool=True\n",
    "final_eval:bool=False\n",
    "\"\"\"\n",
    ")"
   ]
  },
  {
   "cell_type": "code",
   "execution_count": 6,
   "id": "3a47a36a-cb33-4eed-a21c-a969fb803971",
   "metadata": {},
   "outputs": [],
   "source": [
    "pipe_suffix = 'decode_age'"
   ]
  },
  {
   "cell_type": "code",
   "execution_count": 7,
   "id": "0cf04809-cda1-4a2a-9319-151f45890011",
   "metadata": {},
   "outputs": [],
   "source": [
    "job_definition = \"\"\"\n",
    "name: TUAB age decoding\n",
    "inputs:\n",
    "- name: augment\n",
    "  type: String\n",
    "- name: batch_size\n",
    "  type: Integer\n",
    "- name: data_path\n",
    "  type: String\n",
    "- name: debug\n",
    "  type: Integer\n",
    "- name: fast_mode\n",
    "  type: Integer\n",
    "- name: final_eval\n",
    "  type: Integer\n",
    "- name: intuitive_training_scores\n",
    "  type: Integer\n",
    "- name: loss\n",
    "  type: String\n",
    "- name: model_name\n",
    "  type: String\n",
    "- name: n_epochs\n",
    "  type: Integer\n",
    "- name: n_jobs\n",
    "  type: Integer\n",
    "- name: n_restarts\n",
    "  type: Integer\n",
    "- name: n_train_recordings\n",
    "  type: Integer\n",
    "- name: out_dir\n",
    "  type: String\n",
    "- name: preload\n",
    "  type: Integer\n",
    "- name: seed\n",
    "  type: Integer\n",
    "- name: shuffle_data_before_split\n",
    "  type: Integer\n",
    "- name: split_kind\n",
    "  type: String\n",
    "- name: squash_outs\n",
    "  type: Integer\n",
    "- name: standardize_data\n",
    "  type: Integer\n",
    "- name: standardize_targets\n",
    "  type: Integer\n",
    "- name: subset\n",
    "  type: String\n",
    "- name: target_name\n",
    "  type: String\n",
    "- name: tmax\n",
    "  type: Integer\n",
    "- name: tmin\n",
    "  type: Integer\n",
    "- name: valid_set_i\n",
    "  type: Integer\n",
    "- name: window_size_samples\n",
    "  type: Integer\n",
    "- name: run_name\n",
    "  type: String\n",
    "  \n",
    "  \n",
    "implementation:\n",
    "    container:\n",
    "        # This is using a development version of the job executor, which might \n",
    "        # unexpectedly change,\n",
    "        # You probably want to got to https://cr.nail.science and pick the latest\n",
    "        # stable tag, e.g. v1.0.0, to use in your experiments.\n",
    "        image: cr.nail.science/ml-containers/python-job:git-6d43792\n",
    "        command: ['/init', 'python', 'tueg_age_decoding/decode_tueg.py']\n",
    "        args: [\n",
    "            '--augment', {inputValue: augment},\n",
    "            '--batch-size', {inputValue: batch_size},\n",
    "            '--data-path', {inputValue: data_path},\n",
    "            '--debug', {inputValue: debug},\n",
    "            '--fast-mode', {inputValue: fast_mode},\n",
    "            '--final-eval', {inputValue: final_eval},\n",
    "            '--intuitive-training-scores', {inputValue: intuitive_training_scores},\n",
    "            '--loss', {inputValue: loss},\n",
    "            '--model-name', {inputValue: model_name},\n",
    "            '--n-epochs', {inputValue: n_epochs},\n",
    "            '--n-jobs', {inputValue: n_jobs},\n",
    "            '--n-restarts', {inputValue: n_restarts},\n",
    "            '--n-train-recordings', {inputValue: n_train_recordings},\n",
    "            '--out-dir', {inputValue: out_dir},\n",
    "            '--preload', {inputValue: preload},\n",
    "            '--seed', {inputValue: seed},\n",
    "            '--shuffle-data-before-split', {inputValue: shuffle_data_before_split},\n",
    "            '--split-kind', {inputValue: split_kind},\n",
    "            '--squash-outs', {inputValue: squash_outs},\n",
    "            '--standardize-data', {inputValue: standardize_data},\n",
    "            '--standardize-targets', {inputValue: standardize_targets},\n",
    "            '--subset', {inputValue: subset},\n",
    "            '--target-name', {inputValue: target_name},\n",
    "            '--tmax', {inputValue: tmax},\n",
    "            '--tmin', {inputValue: tmin},\n",
    "            '--valid-set-i', {inputValue: valid_set_i},\n",
    "            '--window-size-samples', {inputValue: window_size_samples},\n",
    "            '--run-name', {inputValue: run_name},\n",
    "        ]\n",
    "\"\"\""
   ]
  },
  {
   "cell_type": "code",
   "execution_count": 8,
   "id": "f4c08075-255d-421a-b7f6-df6ace35da7a",
   "metadata": {},
   "outputs": [
    {
     "data": {
      "text/plain": [
       "'kf-gemein-lukas-decode_age'"
      ]
     },
     "execution_count": 8,
     "metadata": {},
     "output_type": "execute_result"
    }
   ],
   "source": [
    "f\"{client.get_user_namespace()}-{pipe_suffix}\""
   ]
  },
  {
   "cell_type": "code",
   "execution_count": 9,
   "id": "12aedb3e-4d19-480d-aa50-f93945fdebe3",
   "metadata": {},
   "outputs": [],
   "source": [
    "@dsl_pipeline(name=f\"{client.get_user_namespace()}-{pipe_suffix}\")\n",
    "def demo_pipeline(\n",
    "    augment:str,\n",
    "    batch_size:int,\n",
    "    data_path:str,\n",
    "    debug:int,\n",
    "    fast_mode:int,\n",
    "    final_eval:int,\n",
    "    intuitive_training_scores:int,\n",
    "    loss:str,\n",
    "    model_name:str,\n",
    "    n_epochs:int,\n",
    "    n_jobs:int,\n",
    "    n_restarts:int,\n",
    "    n_train_recordings:int,\n",
    "    out_dir:str,\n",
    "    preload:int,\n",
    "    seed:int,\n",
    "    shuffle_data_before_split:int,\n",
    "    split_kind:str,\n",
    "    squash_outs:int,\n",
    "    standardize_data:int,\n",
    "    standardize_targets:int,\n",
    "    subset:str,\n",
    "    target_name:str,\n",
    "    tmax:int,\n",
    "    tmin:int,\n",
    "    valid_set_i:int,\n",
    "    window_size_samples:int,\n",
    "    run_id:str=RUN_ID_PLACEHOLDER,\n",
    "):\n",
    "    workspace = PipelineVolume(pvc=f'workspace-tueg')\n",
    "    mne_data = PipelineVolume(pvc='mne-data')\n",
    "    shared_volume = PipelineVolume(volume=V1Volume(\n",
    "        name=\"shm\",\n",
    "        empty_dir=V1EmptyDirVolumeSource(medium='Memory')))\n",
    "    \n",
    "    run_name = f\"decode_age\"\n",
    "    # on disk, preprocessed TUHAbnormal is 17GB\n",
    "    mem_lim = '20Gi'\n",
    "    mem_req = '20Gi'\n",
    "\n",
    "    (load_component_from_text(job_definition)(\n",
    "        augment=augment,\n",
    "        batch_size=batch_size,\n",
    "        data_path=data_path,\n",
    "        debug=debug,\n",
    "        fast_mode=fast_mode,\n",
    "        final_eval=final_eval,\n",
    "        intuitive_training_scores=intuitive_training_scores,\n",
    "        loss=loss,\n",
    "        model_name=model_name,\n",
    "        n_epochs=n_epochs,\n",
    "        n_jobs=n_jobs,\n",
    "        n_restarts=n_restarts,\n",
    "        n_train_recordings=n_train_recordings,\n",
    "        out_dir=out_dir,\n",
    "        preload=preload,\n",
    "        seed=seed,\n",
    "        shuffle_data_before_split=shuffle_data_before_split,\n",
    "        split_kind=split_kind,\n",
    "        squash_outs=squash_outs,\n",
    "        standardize_data=standardize_data,\n",
    "        standardize_targets=standardize_targets,\n",
    "        subset=subset,\n",
    "        target_name=target_name,\n",
    "        tmax=tmax,\n",
    "        tmin=tmin,\n",
    "        valid_set_i=valid_set_i,\n",
    "        window_size_samples=window_size_samples,\n",
    "        run_name=run_name,\n",
    "    )\n",
    "    .add_pvolumes({\n",
    "        '/work': workspace,\n",
    "        '/home/jovyan/mne_data': mne_data,\n",
    "        '/dev/shm': shared_volume,\n",
    "    })\n",
    "    # If you do not add this, your job will download all the packages on every run. \n",
    "    # Which will be veery slow and congest our network ...\n",
    "    .add_pod_label('shared-package-cache', 'true')\n",
    "    # Request the required resources\n",
    "    .set_cpu_limit('6')\n",
    "    .set_cpu_request('6')\n",
    "    .set_memory_limit(mem_lim)\n",
    "    .set_memory_request(mem_req)\n",
    "    # This is needed so your job can be scheduled on GPU nodes \n",
    "    .add_toleration(\n",
    "        V1Toleration(key='nvidia.com/gpu', operator='Exists', effect='NoSchedule'))\n",
    "    .set_gpu_limit('1')\n",
    "    )"
   ]
  },
  {
   "cell_type": "code",
   "execution_count": 10,
   "id": "a72a8cb9-9e17-4983-82e3-6c53e6c9d31b",
   "metadata": {},
   "outputs": [],
   "source": [
    "yml_file = '/home/jovyan/workflow.yaml'\n",
    "pipeline_name = f\"{client.get_user_namespace()}-{pipe_suffix}\""
   ]
  },
  {
   "cell_type": "code",
   "execution_count": 11,
   "id": "a8a0c5bb-3ffe-4650-b035-b8f254e68da3",
   "metadata": {},
   "outputs": [
    {
     "data": {
      "text/plain": [
       "'kf-gemein-lukas-decode_age'"
      ]
     },
     "execution_count": 11,
     "metadata": {},
     "output_type": "execute_result"
    }
   ],
   "source": [
    "pipeline_name"
   ]
  },
  {
   "cell_type": "code",
   "execution_count": 12,
   "id": "a066dbfe-c30c-40ac-8b82-f6eb72124ebc",
   "metadata": {},
   "outputs": [],
   "source": [
    "Compiler().compile(demo_pipeline, yml_file)"
   ]
  },
  {
   "cell_type": "code",
   "execution_count": 13,
   "id": "4b8c5b3f-3fe3-4e21-b453-014423fcccb9",
   "metadata": {},
   "outputs": [
    {
     "data": {
      "text/html": [
       "<a href=/pipeline/#/pipelines/details/af06ede9-525f-4ac0-800c-c5dd3e943538>Pipeline details</a>."
      ],
      "text/plain": [
       "<IPython.core.display.HTML object>"
      ]
     },
     "metadata": {},
     "output_type": "display_data"
    }
   ],
   "source": [
    "pipeline_id = client.get_pipeline_id(pipeline_name)\n",
    "if pipeline_id is not None:\n",
    "    pipeline = client.get_pipeline(pipeline_id)\n",
    "    pipline = client.upload_pipeline_version(\n",
    "        yml_file, pipeline_id=pipeline_id, \n",
    "        pipeline_version_name=datetime.datetime.now().isoformat())\n",
    "else:\n",
    "    pipeline = client.upload_pipeline(yml_file, pipeline_name=pipeline_name)"
   ]
  },
  {
   "cell_type": "code",
   "execution_count": 14,
   "id": "249833df-66a3-4309-a461-dc8a64f93af5",
   "metadata": {},
   "outputs": [
    {
     "data": {
      "text/plain": [
       "'kf-gemein-lukas-decode_age'"
      ]
     },
     "execution_count": 14,
     "metadata": {},
     "output_type": "execute_result"
    }
   ],
   "source": [
    "pipeline_name"
   ]
  },
  {
   "cell_type": "code",
   "execution_count": null,
   "id": "846969c9-b9fa-47a4-8d1b-abdcbc4c2162",
   "metadata": {},
   "outputs": [],
   "source": [
    "try:\n",
    "    experiment = client.get_experiment(experiment_name=pipe_suffix)\n",
    "except ValueError:\n",
    "    experiment = client.create_experiment(pipe_suffix)"
   ]
  },
  {
   "cell_type": "code",
   "execution_count": 6,
   "id": "235f5122-3ea4-42a9-97aa-eee64cf19dc7",
   "metadata": {},
   "outputs": [],
   "source": [
    "if run_in_notebook:\n",
    "    out_dir = '/home/jovyan/outdated_runs/'  #full_runs/'\n",
    "else:\n",
    "    out_dir = '/work/new_full_runs/'"
   ]
  },
  {
   "cell_type": "code",
   "execution_count": 7,
   "id": "cd1cae18-5651-478e-a9c1-68cf0e5d3a7f",
   "metadata": {},
   "outputs": [],
   "source": [
    "param_grid = ParameterGrid({\n",
    "    'model_name': ['tcn'],  # 'shallow', 'deep', 'tcn'\n",
    "    'subset': ['normal'],  # 'normal', 'abnormal', 'mixed'\n",
    "    'target_name': ['age'],  # age, gender, pathological, age_clf\n",
    "\n",
    "    'valid_set_i': [0],  # 0, 1, 2, 3, 4\n",
    "    'n_epochs': [3],  # 35, 105, 210\n",
    "    'n_restarts': [0],  # 0, 2, 5\n",
    "    'augment': ['random'],  # dropout, flipfb, fliplr, noise, mask, reverse, shuffle, sign, random, identity\n",
    "    'fast_mode': [1],\n",
    "    'loss': ['mse'],  # mse, mae, log_cosh, huber, nll\n",
    "\n",
    "    'n_train_recordings': [100],  # -1: None\n",
    "    'tmax': [2*60],  # 4*60done, 6*60done, 11*60done, -1,  # -1: None\n",
    "    'data_path': ['/home/jovyan/mne_data/TUH_PRE/tuh_eeg_abnormal/v2.0.0/edf/'],\n",
    "    'split_kind': ['age_distribution'],  # chronological, random, age_distribution\n",
    "    'squash_outs': [1],  # force output to be in [0, 1] through sigmoid\n",
    "\n",
    "    'final_eval': [0],\n",
    "    'debug': [1],\n",
    "    'seed': [20220429],\n",
    "    'intuitive_training_scores': [1],  # 1: add slow callbacks that track age decodnig loss intuitively as mae\n",
    "    'out_dir': [out_dir],\n",
    "    'n_jobs': [6],  # faster than 1, 3, and 4 on tmax=2*60, n_recordings=-1, subset=normal, n_epochs=5, preload=0\n",
    "    'preload': [0],\n",
    "\n",
    "    'batch_size': [64],  # 64. does CroppedTrialEpochStoring increase GPU memory consumption? 256 works fine in notebook but fails as pipeline. 128 works with shallow fails with deep\n",
    "    'tmin': [1*60],\n",
    "    'standardize_data': [1],\n",
    "    'standardize_targets': [1],\n",
    "    'window_size_samples': [6000],\n",
    "    'shuffle_data_before_split': [0],\n",
    "})"
   ]
  },
  {
   "cell_type": "raw",
   "id": "1cee4409-1693-417a-802a-80aeadc53d9e",
   "metadata": {},
   "source": [
    "apparently, reading entire tuh abnormal and preprocessing (cropping 60,960) takes >10 mins"
   ]
  },
  {
   "cell_type": "raw",
   "id": "a5f3d36b-6dc8-45a0-8a0a-984b5a13ecd3",
   "metadata": {},
   "source": [
    "full dataset with tmax=16*60 crashes on 16GB RAM and on 25GB"
   ]
  },
  {
   "cell_type": "raw",
   "id": "48a17c30-d5a4-494b-a95b-05b131af1e2c",
   "metadata": {
    "jupyter": {
     "source_hidden": true
    },
    "tags": []
   },
   "source": [
    "param_grid = ParameterGrid({\n",
    "    'subset':['mixed'],  # 'normal', 'abnormal', 'mixed'\n",
    "    'model_name':['shallow'],  # 'shallow', 'deep', 'tcn'\n",
    "    'tmax':[16*60],  # 4*60done, 6*60done, 11*60done, -1,  # -1: None\n",
    "    'target_name': ['pathological'],  # age, gender, pathological\n",
    "\n",
    "    'n_epochs':[35],  # 35, 105, 210\n",
    "    'n_restarts':[0],  # 0, 2, 5\n",
    "    'n_train_recordings':[-1],  # -1: None\n",
    "\n",
    "    'preload':[0],\n",
    "    'split_kind':['chronological'],  # chronological, random, age_distribution\n",
    "    'drop_prob':[-1],  # shallow: .5, deep: .5, tcn: 0.0195875974361336, -1: None for defaults\n",
    "    'intuitive_training_scores':[1],  # 1: add potentially slow callbacks that track loss intuitively as mae\n",
    "    'out_dir':['/home/jovyan/tuab_reproduction/'],\n",
    "    'n_jobs':[2],  # faster than 1, 3, and 4 on tmax=2*60, n_recordings=-1, subset=normal, n_epochs=5, preload=0\n",
    "\n",
    "    'batch_size':[64],  # 64. does CroppedTrialEpochStoring increase GPU memory consumption? 256 works fine in notebook but fails as pipeline. 128 works with shallow fails with deep\n",
    "    'data_path':['/home/jovyan/mne_data/TUH_PRE/tuh_eeg_abnormal/v2.0.0/edf/train/'],\n",
    "    'tmin':[1*60],\n",
    "    'standardize_data':[1],\n",
    "    'standardize_targets':[1],\n",
    "    'window_size_samples':[6000],\n",
    "    'seed':[20220429],\n",
    "    'valid_set_fraction':[.2],\n",
    "    'shuffle_data_before_split':[0],\n",
    "    'final_eval':[1],\n",
    "})"
   ]
  },
  {
   "cell_type": "code",
   "execution_count": 8,
   "id": "ceeff2d7-1dad-42b2-add9-24986c191f7b",
   "metadata": {},
   "outputs": [
    {
     "data": {
      "text/plain": [
       "1"
      ]
     },
     "execution_count": 8,
     "metadata": {},
     "output_type": "execute_result"
    }
   ],
   "source": [
    "len(param_grid)"
   ]
  },
  {
   "cell_type": "code",
   "execution_count": 9,
   "id": "78d6c415-04df-46ab-b45c-8ee58a260855",
   "metadata": {},
   "outputs": [
    {
     "name": "stdout",
     "output_type": "stream",
     "text": [
      "2022-09-01 14:10:48 INFO     \n",
      "augment                                                                 random\n",
      "batch_size                                                                  64\n",
      "data_path                    /home/jovyan/mne_data/TUH_PRE/tuh_eeg_abnormal...\n",
      "debug                                                                        1\n",
      "fast_mode                                                                    1\n",
      "final_eval                                                                   0\n",
      "intuitive_training_scores                                                    1\n",
      "loss                                                                       mse\n",
      "model_name                                                                 tcn\n",
      "n_epochs                                                                     3\n",
      "n_jobs                                                                       6\n",
      "n_restarts                                                                   0\n",
      "n_train_recordings                                                         100\n",
      "out_dir                                            /home/jovyan/outdated_runs/\n",
      "preload                                                                      0\n",
      "seed                                                                  20220429\n",
      "shuffle_data_before_split                                                    0\n",
      "split_kind                                                    age_distribution\n",
      "squash_outs                                                                  1\n",
      "standardize_data                                                             1\n",
      "standardize_targets                                                          1\n",
      "subset                                                                  normal\n",
      "target_name                                                                age\n",
      "tmax                                                                       120\n",
      "tmin                                                                        60\n",
      "valid_set_i                                                                  0\n",
      "window_size_samples                                                       6000\n",
      "Name: config, dtype: object\n",
      "2022-09-01 14:10:48 DEBUG    cuda: True\n",
      "2022-09-01 14:10:48 DEBUG    cropped: True\n",
      "2022-09-01 14:10:48 DEBUG    indexing files\n",
      "2022-09-01 14:11:09 INFO     validation run, removing eval from dataset with 2993 recordings\n",
      "2022-09-01 14:11:09 DEBUG    into train (0.9) and eval (0.1).\n",
      "2022-09-01 14:11:09 DEBUG    splitting dataset with 2693 recordings\n",
      "2022-09-01 14:11:09 DEBUG    into train (.8) and valid (.2).\n",
      "2022-09-01 14:11:09 DEBUG    from train (2154) and valid (539) selecting normal\n",
      "2022-09-01 14:11:09 DEBUG    selected train (1098) and valid (271)\n",
      "2022-09-01 14:11:09 DEBUG    selected 100 train recordings\n",
      "2022-09-01 14:11:09 DEBUG    some raw durations [3023.0, 1187.0, 1147.0]\n",
      "2022-09-01 14:11:09 DEBUG    preprocessing\n",
      "2022-09-01 14:11:09 DEBUG    adding cropper 60 – 120\n",
      "2022-09-01 14:11:12 DEBUG    some preprocessed durations [60.0, 60.0, 60.0]\n",
      "2022-09-01 14:11:12 DEBUG    train datasets 100\n",
      "2022-09-01 14:11:12 DEBUG    valid datasets 271\n",
      "2022-09-01 14:11:12 DEBUG    creating model\n",
      "2022-09-01 14:11:12 INFO     Sequential(\n",
      "  (tcn): TCN(\n",
      "    (ensuredims): Ensure4d()\n",
      "    (temporal_blocks): Sequential(\n",
      "      (temporal_block_0): TemporalBlock(\n",
      "        (conv1): Conv1d(21, 53, kernel_size=(9,), stride=(1,), padding=(8,))\n",
      "        (chomp1): Chomp1d(chomp_size=8)\n",
      "        (relu1): ReLU()\n",
      "        (dropout1): Dropout1d(p=0.0195875974361336, inplace=False)\n",
      "        (conv2): Conv1d(53, 53, kernel_size=(9,), stride=(1,), padding=(8,))\n",
      "        (chomp2): Chomp1d(chomp_size=8)\n",
      "        (relu2): ReLU()\n",
      "        (dropout2): Dropout1d(p=0.0195875974361336, inplace=False)\n",
      "        (downsample): Conv1d(21, 53, kernel_size=(1,), stride=(1,))\n",
      "        (relu): ReLU()\n",
      "      )\n",
      "      (temporal_block_1): TemporalBlock(\n",
      "        (conv1): Conv1d(53, 53, kernel_size=(9,), stride=(1,), padding=(16,), dilation=(2,))\n",
      "        (chomp1): Chomp1d(chomp_size=16)\n",
      "        (relu1): ReLU()\n",
      "        (dropout1): Dropout1d(p=0.0195875974361336, inplace=False)\n",
      "        (conv2): Conv1d(53, 53, kernel_size=(9,), stride=(1,), padding=(16,), dilation=(2,))\n",
      "        (chomp2): Chomp1d(chomp_size=16)\n",
      "        (relu2): ReLU()\n",
      "        (dropout2): Dropout1d(p=0.0195875974361336, inplace=False)\n",
      "        (relu): ReLU()\n",
      "      )\n",
      "      (temporal_block_2): TemporalBlock(\n",
      "        (conv1): Conv1d(53, 53, kernel_size=(9,), stride=(1,), padding=(32,), dilation=(4,))\n",
      "        (chomp1): Chomp1d(chomp_size=32)\n",
      "        (relu1): ReLU()\n",
      "        (dropout1): Dropout1d(p=0.0195875974361336, inplace=False)\n",
      "        (conv2): Conv1d(53, 53, kernel_size=(9,), stride=(1,), padding=(32,), dilation=(4,))\n",
      "        (chomp2): Chomp1d(chomp_size=32)\n",
      "        (relu2): ReLU()\n",
      "        (dropout2): Dropout1d(p=0.0195875974361336, inplace=False)\n",
      "        (relu): ReLU()\n",
      "      )\n",
      "      (temporal_block_3): TemporalBlock(\n",
      "        (conv1): Conv1d(53, 53, kernel_size=(9,), stride=(1,), padding=(64,), dilation=(8,))\n",
      "        (chomp1): Chomp1d(chomp_size=64)\n",
      "        (relu1): ReLU()\n",
      "        (dropout1): Dropout1d(p=0.0195875974361336, inplace=False)\n",
      "        (conv2): Conv1d(53, 53, kernel_size=(9,), stride=(1,), padding=(64,), dilation=(8,))\n",
      "        (chomp2): Chomp1d(chomp_size=64)\n",
      "        (relu2): ReLU()\n",
      "        (dropout2): Dropout1d(p=0.0195875974361336, inplace=False)\n",
      "        (relu): ReLU()\n",
      "      )\n",
      "      (temporal_block_4): TemporalBlock(\n",
      "        (conv1): Conv1d(53, 53, kernel_size=(9,), stride=(1,), padding=(128,), dilation=(16,))\n",
      "        (chomp1): Chomp1d(chomp_size=128)\n",
      "        (relu1): ReLU()\n",
      "        (dropout1): Dropout1d(p=0.0195875974361336, inplace=False)\n",
      "        (conv2): Conv1d(53, 53, kernel_size=(9,), stride=(1,), padding=(128,), dilation=(16,))\n",
      "        (chomp2): Chomp1d(chomp_size=128)\n",
      "        (relu2): ReLU()\n",
      "        (dropout2): Dropout1d(p=0.0195875974361336, inplace=False)\n",
      "        (relu): ReLU()\n",
      "      )\n",
      "    )\n",
      "    (fc): Linear(in_features=53, out_features=1, bias=True)\n",
      "    (squeeze): Expression(expression=squeeze_final_output) \n",
      "  )\n",
      "  (sigmoid): Sigmoid()\n",
      ")\n",
      "2022-09-01 14:11:12 DEBUG    model produces 5504 preds for every input of size 6000\n",
      "2022-09-01 14:11:12 DEBUG    windowing\n",
      "2022-09-01 14:11:19 DEBUG    train windows 100\n",
      "2022-09-01 14:11:19 DEBUG    valid windows 271\n",
      "2022-09-01 14:11:20 DEBUG    prior to data scaling -3.098529850831255e-05\n",
      "2022-09-01 14:11:20 DEBUG    post data scaling -0.8178015351295471\n",
      "2022-09-01 14:11:20 DEBUG    mean/min train age: 17.00\n",
      "2022-09-01 14:11:20 DEBUG    std/max train age: 90.00\n",
      "2022-09-01 14:11:20 DEBUG    prior to minmax target scaling 30\n",
      "2022-09-01 14:11:20 DEBUG    post minmax target scaling 0.1780821917808219\n",
      "2022-09-01 14:11:20 DEBUG    sending to gpu\n",
      "2022-09-01 14:11:21 DEBUG    Adding augmentation transform 'random'\n",
      "2022-09-01 14:11:21 DEBUG    With 100 examples and batch size of 64\n",
      "2022-09-01 14:11:21 DEBUG    expecting 2 batches/calls per epoch\n",
      "2022-09-01 14:11:21 DEBUG    Batch-wise choices are [ChannelsDropout(), ChannelsSymmetryFB(), ChannelsSymmetry(), SmoothTimeMask(), GaussianNoise(), TimeReverse(), ChannelsShuffle(), SignFlip(), IdentityTransform()]\n",
      "2022-09-01 14:11:21 INFO     TUAB, 100–271 normal, 60s–120s, age, tcn, 3–0, mse, random, valid\n",
      "2022-09-01 14:11:21 INFO     starting training\n",
      "2022-09-01 14:11:28 INFO       epoch    train_loss    valid_loss    cp      lr     dur\n",
      "2022-09-01 14:11:28 INFO     -------  ------------  ------------  ----  ------  ------\n",
      "2022-09-01 14:11:28 INFO           1        \u001b[36m0.0701\u001b[0m        \u001b[32m0.0489\u001b[0m     +  0.0005  5.9382\n",
      "2022-09-01 14:11:32 INFO           2        \u001b[36m0.0583\u001b[0m        \u001b[32m0.0462\u001b[0m     +  0.0004  3.8081\n",
      "2022-09-01 14:11:36 INFO           3        0.0611        \u001b[32m0.0462\u001b[0m     +  0.0001  3.5470\n",
      "2022-09-01 14:11:37 INFO     finished training\n",
      "2022-09-01 14:11:39 INFO     on train reached 13.87 mae\n",
      "2022-09-01 14:11:41 INFO     on valid reached 13.10 mae\n",
      "2022-09-01 14:11:41 INFO     made final predictions\n",
      "2022-09-01 14:11:42 INFO     done.\n"
     ]
    },
    {
     "data": {
      "image/png": "[encoded data removed]",
      "text/plain": [
       "<Figure size 1080x216 with 1 Axes>"
      ]
     },
     "metadata": {
      "needs_background": "light"
     },
     "output_type": "display_data"
    }
   ],
   "source": [
    "if run_in_notebook:\n",
    "    for params_i, params in enumerate(param_grid):\n",
    "        # logging makes the second iteration crash....\n",
    "        decode_tueg(**params, config=pd.Series(params, name='config'))\n",
    "else:\n",
    "    #now = datetime.datetime.now().isoformat()\n",
    "    now = datetime.datetime.now().strftime('%Y-%m-%dT%H:%M')\n",
    "    runs = []\n",
    "    for params in param_grid:\n",
    "        run = client.run_pipeline(    \n",
    "            experiment_id=experiment.id, \n",
    "            pipeline_id=pipeline.id, \n",
    "            job_name=f\"{pipe_suffix}-{now}-{params['seed']}-{params['valid_set_i']}\",\n",
    "            params=params,\n",
    "        )\n",
    "        runs.append(run)\n",
    "        time.sleep(1)"
   ]
  },
  {
   "cell_type": "code",
   "execution_count": 10,
   "id": "6d358a56-47f6-4801-977f-4e583dcb2931",
   "metadata": {},
   "outputs": [
    {
     "name": "stdout",
     "output_type": "stream",
     "text": [
      "hi\n"
     ]
    }
   ],
   "source": [
    "print(\"hi\")"
   ]
  },
  {
   "cell_type": "code",
   "execution_count": null,
   "id": "2c84d1a4-5359-4896-8fdd-8854238390ac",
   "metadata": {},
   "outputs": [],
   "source": []
  },
  {
   "cell_type": "code",
   "execution_count": null,
   "id": "eb9663d8-0b99-4ce7-86d6-9d70a82aead9",
   "metadata": {},
   "outputs": [],
   "source": []
  },
  {
   "cell_type": "code",
   "execution_count": null,
   "id": "f77924aa-3ffe-4262-acb2-35382bb0f744",
   "metadata": {},
   "outputs": [],
   "source": []
  },
  {
   "cell_type": "code",
   "execution_count": null,
   "id": "d35d1185-0e18-4dee-a6e4-76ca967188cc",
   "metadata": {},
   "outputs": [],
   "source": []
  },
  {
   "cell_type": "raw",
   "id": "97b2b41a-9791-46b0-989a-a8b6fc9891bb",
   "metadata": {},
   "source": [
    "import numpy as np\n",
    "d= {'y_true': np.array([30., 39., 65., 54., 29., 55., 22., 53., 70., 39., 48., 30., 37.,\n",
    "       47., 67., 59., 62., 37., 28., 82., 90., 22., 67., 24., 34., 28.,\n",
    "       38., 62., 46., 42., 88., 72., 48., 44., 60., 47., 80., 23., 39.,\n",
    "       50., 46., 21., 49., 22., 40., 52., 83., 63., 56., 33., 35., 39.,\n",
    "       40., 33., 19., 17., 43., 37., 20., 63., 54., 47., 48., 65., 35.,\n",
    "       47., 51., 46., 31., 56., 44., 23., 43., 51., 33., 25., 18., 64.,\n",
    "       33., 47., 80., 48., 45., 69., 19., 65., 22., 40., 84., 25., 73.,\n",
    "       64., 45., 44., 46., 45., 49., 60., 50., 83.], dtype=np.float32), 'y_pred': np.array([22, 22, 22, 22, 22, 22, 22, 22, 22, 22, 20, 22, 22, 22, 22, 22, 22,\n",
    "       22, 22, 22, 22, 22, 22, 22, 22, 22, 22, 22, 22, 22, 22, 22, 22, 22,\n",
    "       22, 22, 22, 22, 22, 22, 22, 22, 22, 22, 22, 22, 22, 22, 22, 22, 22,\n",
    "       22, 22, 22, 22, 22, 22, 22, 22, 22, 22, 22, 22, 22, 22, 22, 22, 22,\n",
    "       22, 22, 22, 22, 22, 22, 22, 22, 22, 22, 22, 22, 22, 22, 22, 22, 22,\n",
    "       22, 22, 22, 22, 22, 22, 20, 22, 22, 22, 22, 22, 22, 22, 22])}\n",
    "pd.DataFrame(d)"
   ]
  },
  {
   "cell_type": "code",
   "execution_count": null,
   "id": "a40e69b5-2432-4101-a6b0-52a32b71f32a",
   "metadata": {},
   "outputs": [],
   "source": []
  },
  {
   "cell_type": "code",
   "execution_count": null,
   "id": "8582786d-9883-4890-9d74-e00ae37685eb",
   "metadata": {},
   "outputs": [],
   "source": []
  },
  {
   "cell_type": "code",
   "execution_count": null,
   "id": "b94b9e90-cdd3-44a9-a8e4-2882c3243736",
   "metadata": {},
   "outputs": [],
   "source": []
  },
  {
   "cell_type": "code",
   "execution_count": null,
   "id": "3ec0b67a-82d2-4274-ab89-d15b76d6d767",
   "metadata": {},
   "outputs": [],
   "source": []
  },
  {
   "cell_type": "code",
   "execution_count": 21,
   "id": "9e25ca97-be02-4854-a756-67336cfb53fd",
   "metadata": {},
   "outputs": [],
   "source": [
    "import json"
   ]
  },
  {
   "cell_type": "code",
   "execution_count": 22,
   "id": "6553820d-c5f9-41e0-80ca-8dc7c6cd02fe",
   "metadata": {},
   "outputs": [
    {
     "data": {
      "text/plain": [
       "'{\"augment\": \"random\", \"batch_size\": 64, \"data_path\": \"/home/jovyan/mne_data/TUH_PRE/tuh_eeg_abnormal/v2.0.0/edf/\", \"debug\": 1, \"fast_mode\": 1, \"final_eval\": 0, \"intuitive_training_scores\": 1, \"loss\": \"huber\", \"model_name\": \"tcn\", \"n_epochs\": 35, \"n_jobs\": 6, \"n_restarts\": 0, \"n_train_recordings\": -1, \"out_dir\": \"/work/new_full_runs/\", \"preload\": 0, \"seed\": 20220429, \"shuffle_data_before_split\": 0, \"split_kind\": \"age_distribution\", \"squash_outs\": 1, \"standardize_data\": 1, \"standardize_targets\": 1, \"subset\": \"normal\", \"target_name\": \"age\", \"tmax\": -1, \"tmin\": 60, \"valid_set_i\": 0, \"window_size_samples\": 6000}'"
      ]
     },
     "execution_count": 22,
     "metadata": {},
     "output_type": "execute_result"
    }
   ],
   "source": [
    "json.dumps(params)"
   ]
  },
  {
   "cell_type": "code",
   "execution_count": 23,
   "id": "a1140847-850e-4557-9965-72afe90f821c",
   "metadata": {},
   "outputs": [
    {
     "data": {
      "text/plain": [
       "{'augment': 'random',\n",
       " 'batch_size': 64,\n",
       " 'data_path': '/home/jovyan/mne_data/TUH_PRE/tuh_eeg_abnormal/v2.0.0/edf/',\n",
       " 'debug': 1,\n",
       " 'fast_mode': 1,\n",
       " 'final_eval': 0,\n",
       " 'intuitive_training_scores': 1,\n",
       " 'loss': 'huber',\n",
       " 'model_name': 'tcn',\n",
       " 'n_epochs': 35,\n",
       " 'n_jobs': 6,\n",
       " 'n_restarts': 0,\n",
       " 'n_train_recordings': -1,\n",
       " 'out_dir': '/work/new_full_runs/',\n",
       " 'preload': 0,\n",
       " 'seed': 20220429,\n",
       " 'shuffle_data_before_split': 0,\n",
       " 'split_kind': 'age_distribution',\n",
       " 'squash_outs': 1,\n",
       " 'standardize_data': 1,\n",
       " 'standardize_targets': 1,\n",
       " 'subset': 'normal',\n",
       " 'target_name': 'age',\n",
       " 'tmax': -1,\n",
       " 'tmin': 60,\n",
       " 'valid_set_i': 0,\n",
       " 'window_size_samples': 6000}"
      ]
     },
     "execution_count": 23,
     "metadata": {},
     "output_type": "execute_result"
    }
   ],
   "source": [
    "json.loads(json.dumps(params))"
   ]
  },
  {
   "cell_type": "code",
   "execution_count": null,
   "id": "04d1ba0a-86d3-4a1d-90d3-69c193e7ca08",
   "metadata": {},
   "outputs": [],
   "source": []
  }
 ],
 "metadata": {
  "kernelspec": {
   "display_name": "Python 3 (ipykernel)",
   "language": "python",
   "name": "python3"
  },
  "language_info": {
   "codemirror_mode": {
    "name": "ipython",
    "version": 3
   },
   "file_extension": ".py",
   "mimetype": "text/x-python",
   "name": "python",
   "nbconvert_exporter": "python",
   "pygments_lexer": "ipython3",
   "version": "3.9.7"
  }
 },
 "nbformat": 4,
 "nbformat_minor": 5
}
