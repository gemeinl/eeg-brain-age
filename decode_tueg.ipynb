{
 "cells": [
  {
   "cell_type": "raw",
   "id": "27cf8552-0aaa-49a0-b74f-698a60e4470c",
   "metadata": {},
   "source": [
    "%load_ext autoreload\n",
    "%autoreload 2"
   ]
  },
  {
   "cell_type": "code",
   "execution_count": 1,
   "id": "383ae4b5-3201-48be-9545-9aaee8f578cf",
   "metadata": {},
   "outputs": [],
   "source": [
    "run_in_notebook = True"
   ]
  },
  {
   "cell_type": "raw",
   "id": "f16b4d59-4eff-4a57-961c-4db4ec1da4e7",
   "metadata": {},
   "source": [
    "TODO:\n",
    "pathology benchmark script -> reproduce paper results"
   ]
  },
  {
   "cell_type": "code",
   "execution_count": 2,
   "id": "2ff51629-61d6-4436-b241-7fc330e1dd95",
   "metadata": {
    "scrolled": true,
    "tags": []
   },
   "outputs": [],
   "source": [
    "import sys\n",
    "sys.path.insert(0, '/home/jovyan/braindecode/')\n",
    "sys.path.insert(0, '/home/jovyan/mne-python/')\n",
    "\n",
    "from decode_tueg import decode_tueg"
   ]
  },
  {
   "cell_type": "code",
   "execution_count": 3,
   "id": "57b2cfbb-9d06-4487-b26d-605374b415af",
   "metadata": {},
   "outputs": [],
   "source": [
    "import time\n",
    "import logging\n",
    "\n",
    "from sklearn.model_selection import ParameterGrid, ParameterSampler\n",
    "import pandas as pd"
   ]
  },
  {
   "cell_type": "code",
   "execution_count": 4,
   "id": "b1e1eea2-2a94-417a-b782-99ebf64f7690",
   "metadata": {},
   "outputs": [],
   "source": [
    "import os\n",
    "import glob\n",
    "import datetime\n",
    "from typing import List\n",
    "from functools import reduce\n",
    "\n",
    "import json\n",
    "from kfp import Client\n",
    "from kfp.compiler import Compiler\n",
    "from kfp.components import (\n",
    "    create_component_from_func, load_component_from_text, OutputPath)\n",
    "from kfp.dsl import (\n",
    "    PipelineParam, PipelineVolume, pipeline as dsl_pipeline, RUN_ID_PLACEHOLDER)\n",
    "from kubernetes.client.models.v1_toleration import V1Toleration\n",
    "from kubernetes.client import V1EmptyDirVolumeSource, V1Volume\n",
    "client = Client()"
   ]
  },
  {
   "cell_type": "code",
   "execution_count": 5,
   "id": "77138501-82c7-4fe1-b951-df9fdb862f88",
   "metadata": {},
   "outputs": [
    {
     "data": {
      "text/plain": [
       "'11.7'"
      ]
     },
     "execution_count": 5,
     "metadata": {},
     "output_type": "execute_result"
    }
   ],
   "source": [
    "import torch\n",
    "torch.version.cuda"
   ]
  },
  {
   "cell_type": "raw",
   "id": "d0c5c820-3364-46f4-9fbc-81ed4d03b1b7",
   "metadata": {
    "jupyter": {
     "source_hidden": true
    },
    "tags": []
   },
   "source": [
    "convert(\"\"\"\n",
    "n_jobs=4\n",
    "data_path='/home/jovyan/mne_data/TUH_PRE/tuh_eeg_abnormal/v2.0.0/edf/train/'\n",
    "subset='normal'\n",
    "n_recordings=None\n",
    "tmin=1*60\n",
    "tmax=3*60\n",
    "scale_data=True\n",
    "scale_targets=True\n",
    "window_size_samples=6000\n",
    "seed=20220429\n",
    "model_name='shallow'\n",
    "n_epochs=35\n",
    "n_restarts=0\n",
    "batch_size=64\n",
    "valid_set_fraction=.2\n",
    "shuffle_data_before_split=False\n",
    "out_dir='/home/jovyan/'\n",
    "preload=True\n",
    "final_eval=False\n",
    "\"\"\"\n",
    ")\n",
    "\n",
    "convert(\"\"\"\n",
    "n_jobs:int=4\n",
    "data_path:str='/home/jovyan/mne_data/TUH_PRE/tuh_eeg_abnormal/v2.0.0/edf/train/'\n",
    "subset:str='normal'\n",
    "n_recordings:int=None\n",
    "tmin:int=1*60\n",
    "tmax:int=3*60\n",
    "scale_data:bool=True\n",
    "scale_targets:bool=True\n",
    "window_size_samples:int=6000\n",
    "seed:int=20220429\n",
    "model_name:str='shallow'\n",
    "n_epochs:int=35\n",
    "n_restarts:int=0\n",
    "batch_size:int=64\n",
    "valid_set_fraction:float=.2\n",
    "shuffle_data_before_split:bool=False\n",
    "out_dir:str='/home/jovyan/'\n",
    "preload:bool=True\n",
    "final_eval:bool=False\n",
    "\"\"\"\n",
    ")"
   ]
  },
  {
   "cell_type": "code",
   "execution_count": 6,
   "id": "3a47a36a-cb33-4eed-a21c-a969fb803971",
   "metadata": {},
   "outputs": [],
   "source": [
    "pipe_suffix = 'decode_age'"
   ]
  },
  {
   "cell_type": "raw",
   "id": "df5e4e5a-9b0c-47b6-aaa4-0a0a580fa709",
   "metadata": {},
   "source": [
    "image used so far, experienced mambalock errors, switching to newer image after talking to mohammad\n",
    "image: cr.nail.science/ml-containers/python-job:git-6d43792"
   ]
  },
  {
   "cell_type": "code",
   "execution_count": 7,
   "id": "0cf04809-cda1-4a2a-9319-151f45890011",
   "metadata": {},
   "outputs": [],
   "source": [
    "job_definition = \"\"\"\n",
    "name: TUAB age decoding\n",
    "inputs:\n",
    "- name: augment\n",
    "  type: String\n",
    "- name: batch_size\n",
    "  type: Integer\n",
    "- name: condition\n",
    "  type: String\n",
    "- name: data_path\n",
    "  type: String\n",
    "- name: date\n",
    "  type: String\n",
    "- name: debug\n",
    "  type: Integer\n",
    "- name: fast_mode\n",
    "  type: Integer\n",
    "- name: final_eval\n",
    "  type: Integer\n",
    "- name: intuitive_training_scores\n",
    "  type: Integer\n",
    "- name: loss\n",
    "  type: String\n",
    "- name: max_age\n",
    "  type: Integer\n",
    "- name: min_age\n",
    "  type: Integer\n",
    "- name: model_name\n",
    "  type: String\n",
    "- name: n_epochs\n",
    "  type: Integer\n",
    "- name: n_jobs\n",
    "  type: Integer\n",
    "- name: n_restarts\n",
    "  type: Integer\n",
    "- name: n_train_recordings\n",
    "  type: Integer\n",
    "- name: out_dir\n",
    "  type: String\n",
    "- name: preload\n",
    "  type: Integer\n",
    "- name: seed\n",
    "  type: Integer\n",
    "- name: shuffle_data_before_split\n",
    "  type: Integer\n",
    "- name: squash_outs\n",
    "  type: Integer\n",
    "- name: standardize_data\n",
    "  type: Integer\n",
    "- name: standardize_targets\n",
    "  type: Integer\n",
    "- name: subset\n",
    "  type: String\n",
    "- name: target_name\n",
    "  type: String\n",
    "- name: tmax\n",
    "  type: Integer\n",
    "- name: tmin\n",
    "  type: Integer\n",
    "- name: valid_set_i\n",
    "  type: Integer\n",
    "- name: window_size_samples\n",
    "  type: Integer\n",
    "- name: run_name\n",
    "  type: String\n",
    "  \n",
    "  \n",
    "implementation:\n",
    "    container:\n",
    "        # This is using a development version of the job executor, which might \n",
    "        # unexpectedly change,\n",
    "        # You probably want to got to https://cr.nail.science and pick the latest\n",
    "        # stable tag, e.g. v1.0.0, to use in your experiments.\n",
    "        image: cr.nail.science/ml-containers/python-job:git-a8213cd\n",
    "        command: ['/init', 'python', 'tueg_age_decoding/decode_tueg.py']\n",
    "        args: [\n",
    "            '--augment', {inputValue: augment},\n",
    "            '--batch-size', {inputValue: batch_size},\n",
    "            '--condition', {inputValue: condition},\n",
    "            '--data-path', {inputValue: data_path},\n",
    "            '--date', {inputValue: date},\n",
    "            '--debug', {inputValue: debug},\n",
    "            '--fast-mode', {inputValue: fast_mode},\n",
    "            '--final-eval', {inputValue: final_eval},\n",
    "            '--intuitive-training-scores', {inputValue: intuitive_training_scores},\n",
    "            '--loss', {inputValue: loss},\n",
    "            '--max-age', {inputValue: max_age},\n",
    "            '--min-age', {inputValue: min_age},\n",
    "            '--model-name', {inputValue: model_name},\n",
    "            '--n-epochs', {inputValue: n_epochs},\n",
    "            '--n-jobs', {inputValue: n_jobs},\n",
    "            '--n-restarts', {inputValue: n_restarts},\n",
    "            '--n-train-recordings', {inputValue: n_train_recordings},\n",
    "            '--out-dir', {inputValue: out_dir},\n",
    "            '--preload', {inputValue: preload},\n",
    "            '--seed', {inputValue: seed},\n",
    "            '--shuffle-data-before-split', {inputValue: shuffle_data_before_split},\n",
    "            '--squash-outs', {inputValue: squash_outs},\n",
    "            '--standardize-data', {inputValue: standardize_data},\n",
    "            '--standardize-targets', {inputValue: standardize_targets},\n",
    "            '--subset', {inputValue: subset},\n",
    "            '--target-name', {inputValue: target_name},\n",
    "            '--tmax', {inputValue: tmax},\n",
    "            '--tmin', {inputValue: tmin},\n",
    "            '--valid-set-i', {inputValue: valid_set_i},\n",
    "            '--window-size-samples', {inputValue: window_size_samples},\n",
    "            '--run-name', {inputValue: run_name},\n",
    "        ]\n",
    "\"\"\""
   ]
  },
  {
   "cell_type": "code",
   "execution_count": 8,
   "id": "f4c08075-255d-421a-b7f6-df6ace35da7a",
   "metadata": {},
   "outputs": [
    {
     "data": {
      "text/plain": [
       "'kf-gemein-lukas-decode_age'"
      ]
     },
     "execution_count": 8,
     "metadata": {},
     "output_type": "execute_result"
    }
   ],
   "source": [
    "f\"{client.get_user_namespace()}-{pipe_suffix}\""
   ]
  },
  {
   "cell_type": "code",
   "execution_count": 9,
   "id": "12aedb3e-4d19-480d-aa50-f93945fdebe3",
   "metadata": {},
   "outputs": [],
   "source": [
    "@dsl_pipeline(name=f\"{client.get_user_namespace()}-{pipe_suffix}\")\n",
    "def demo_pipeline(\n",
    "    augment:str,\n",
    "    batch_size:int,\n",
    "    condition:str,\n",
    "    data_path:str,\n",
    "    date:str,\n",
    "    debug:int,\n",
    "    fast_mode:int,\n",
    "    final_eval:int,\n",
    "    intuitive_training_scores:int,\n",
    "    loss:str,\n",
    "    max_age:int,\n",
    "    min_age:int,\n",
    "    model_name:str,\n",
    "    n_epochs:int,\n",
    "    n_jobs:int,\n",
    "    n_restarts:int,\n",
    "    n_train_recordings:int,\n",
    "    out_dir:str,\n",
    "    preload:int,\n",
    "    seed:int,\n",
    "    shuffle_data_before_split:int,\n",
    "    squash_outs:int,\n",
    "    standardize_data:int,\n",
    "    standardize_targets:int,\n",
    "    subset:str,\n",
    "    target_name:str,\n",
    "    tmax:int,\n",
    "    tmin:int,\n",
    "    valid_set_i:int,\n",
    "    window_size_samples:int,\n",
    "    run_id:str=RUN_ID_PLACEHOLDER,\n",
    "):\n",
    "    workspace = PipelineVolume(pvc=f'workspace-tueg')\n",
    "    mne_data = PipelineVolume(pvc='mne-data')\n",
    "    shared_volume = PipelineVolume(volume=V1Volume(\n",
    "        name=\"shm\",\n",
    "        empty_dir=V1EmptyDirVolumeSource(medium='Memory')))\n",
    "    \n",
    "    run_name = f\"decode_age\"\n",
    "    # on disk, preprocessed TUHAbnormal is 17GB\n",
    "    mem_lim = '20Gi'\n",
    "    mem_req = '20Gi'\n",
    "\n",
    "    (load_component_from_text(job_definition)(\n",
    "        augment=augment,\n",
    "        batch_size=batch_size,\n",
    "        condition=condition,\n",
    "        data_path=data_path,\n",
    "        date=date,\n",
    "        debug=debug,\n",
    "        fast_mode=fast_mode,\n",
    "        final_eval=final_eval,\n",
    "        intuitive_training_scores=intuitive_training_scores,\n",
    "        loss=loss,\n",
    "        max_age=max_age,\n",
    "        min_age=min_age,\n",
    "        model_name=model_name,\n",
    "        n_epochs=n_epochs,\n",
    "        n_jobs=n_jobs,\n",
    "        n_restarts=n_restarts,\n",
    "        n_train_recordings=n_train_recordings,\n",
    "        out_dir=out_dir,\n",
    "        preload=preload,\n",
    "        seed=seed,\n",
    "        shuffle_data_before_split=shuffle_data_before_split,\n",
    "        squash_outs=squash_outs,\n",
    "        standardize_data=standardize_data,\n",
    "        standardize_targets=standardize_targets,\n",
    "        subset=subset,\n",
    "        target_name=target_name,\n",
    "        tmax=tmax,\n",
    "        tmin=tmin,\n",
    "        valid_set_i=valid_set_i,\n",
    "        window_size_samples=window_size_samples,\n",
    "        run_name=run_name,\n",
    "    )\n",
    "    .add_pvolumes({\n",
    "        '/work': workspace,\n",
    "        '/home/jovyan/mne_data': mne_data,\n",
    "        '/dev/shm': shared_volume,\n",
    "    })\n",
    "    # If you do not add this, your job will download all the packages on every run. \n",
    "    # Which will be veery slow and congest our network ...\n",
    "    .add_pod_label('shared-package-cache', 'true')\n",
    "    # Request the required resources\n",
    "    .set_cpu_limit('4')\n",
    "    .set_cpu_request('4')\n",
    "    .set_memory_limit(mem_lim)\n",
    "    .set_memory_request(mem_req)\n",
    "    # This is needed so your job can be scheduled on GPU nodes \n",
    "    .add_toleration(\n",
    "        V1Toleration(key='nvidia.com/gpu', operator='Exists', effect='NoSchedule'))\n",
    "    .set_gpu_limit('1')\n",
    "    )"
   ]
  },
  {
   "cell_type": "code",
   "execution_count": 10,
   "id": "a72a8cb9-9e17-4983-82e3-6c53e6c9d31b",
   "metadata": {},
   "outputs": [],
   "source": [
    "yml_file = '/home/jovyan/workflow.yaml'\n",
    "pipeline_name = f\"{client.get_user_namespace()}-{pipe_suffix}\""
   ]
  },
  {
   "cell_type": "code",
   "execution_count": 11,
   "id": "a8a0c5bb-3ffe-4650-b035-b8f254e68da3",
   "metadata": {},
   "outputs": [
    {
     "data": {
      "text/plain": [
       "'kf-gemein-lukas-decode_age'"
      ]
     },
     "execution_count": 11,
     "metadata": {},
     "output_type": "execute_result"
    }
   ],
   "source": [
    "pipeline_name"
   ]
  },
  {
   "cell_type": "code",
   "execution_count": 12,
   "id": "a066dbfe-c30c-40ac-8b82-f6eb72124ebc",
   "metadata": {},
   "outputs": [],
   "source": [
    "Compiler().compile(demo_pipeline, yml_file)"
   ]
  },
  {
   "cell_type": "code",
   "execution_count": 13,
   "id": "4b8c5b3f-3fe3-4e21-b453-014423fcccb9",
   "metadata": {},
   "outputs": [
    {
     "data": {
      "text/html": [
       "<a href=/pipeline/#/pipelines/details/3895736f-6bc2-4f82-9658-17c58d5f042b>Pipeline details</a>."
      ],
      "text/plain": [
       "<IPython.core.display.HTML object>"
      ]
     },
     "metadata": {},
     "output_type": "display_data"
    }
   ],
   "source": [
    "pipeline_id = client.get_pipeline_id(pipeline_name)\n",
    "if pipeline_id is not None:\n",
    "    pipeline = client.get_pipeline(pipeline_id)\n",
    "    pipline = client.upload_pipeline_version(\n",
    "        yml_file, pipeline_id=pipeline_id, \n",
    "        pipeline_version_name=datetime.datetime.now().isoformat())\n",
    "else:\n",
    "    pipeline = client.upload_pipeline(yml_file, pipeline_name=pipeline_name)"
   ]
  },
  {
   "cell_type": "code",
   "execution_count": 14,
   "id": "249833df-66a3-4309-a461-dc8a64f93af5",
   "metadata": {},
   "outputs": [
    {
     "data": {
      "text/plain": [
       "'kf-gemein-lukas-decode_age'"
      ]
     },
     "execution_count": 14,
     "metadata": {},
     "output_type": "execute_result"
    }
   ],
   "source": [
    "pipeline_name"
   ]
  },
  {
   "cell_type": "code",
   "execution_count": 15,
   "id": "846969c9-b9fa-47a4-8d1b-abdcbc4c2162",
   "metadata": {},
   "outputs": [],
   "source": [
    "try:\n",
    "    experiment = client.get_experiment(experiment_name=pipe_suffix)\n",
    "except ValueError:\n",
    "    experiment = client.create_experiment(pipe_suffix)"
   ]
  },
  {
   "cell_type": "code",
   "execution_count": 6,
   "id": "235f5122-3ea4-42a9-97aa-eee64cf19dc7",
   "metadata": {},
   "outputs": [],
   "source": [
    "base_dir = '/home/jovyan/' if run_in_notebook else '/work/'"
   ]
  },
  {
   "cell_type": "code",
   "execution_count": 7,
   "id": "0ff01ca2-9dc8-4728-a310-608a038f93e2",
   "metadata": {},
   "outputs": [],
   "source": [
    "exp_date = datetime.datetime.now().isoformat()"
   ]
  },
  {
   "cell_type": "raw",
   "id": "7125711b-f81c-4594-8393-3650bed7147e",
   "metadata": {},
   "source": [
    "exp_date = '2022-10-12T11:25:00.490417'"
   ]
  },
  {
   "cell_type": "raw",
   "id": "b775ca0a-8e86-4131-8bce-a9c374cef38f",
   "metadata": {},
   "source": [
    "parameters are a bit weird and suboptimal. turning stuff off is usually integer -1. flags are also integer 0/1, not bools..."
   ]
  },
  {
   "cell_type": "code",
   "execution_count": 8,
   "id": "cd1cae18-5651-478e-a9c1-68cf0e5d3a7f",
   "metadata": {},
   "outputs": [],
   "source": [
    "param_grid = ParameterGrid({\n",
    "    'model_name': ['deep'],  # 'shallow', 'deep', 'tcn'\n",
    "    'subset': ['normal'],  # 'normal', 'abnormal', 'mixed'\n",
    "    'target_name': ['age'],  # age, gender, pathological, age_clf\n",
    "\n",
    "    'valid_set_i': [0],  # 0, 1, 2, 3, 4\n",
    "    'n_epochs': [105],  # 35, 105, 210\n",
    "    'n_restarts': [2],  # 0, 2, 5\n",
    "    'augment': ['0'],  # dropout, flipfb, fliplr, noise, mask, reverse, shuffle, sign, random, identity, '0'\n",
    "    'fast_mode': [1],\n",
    "    'loss': ['mae'],  # mse, mae, log_cosh, huber, nll\n",
    "\n",
    "    'condition': ['EC'],  # 'EC', 'EO', TODO: implement using both, prevent subject leakage in both sets\n",
    "    'n_train_recordings': [-1],  # -1: None\n",
    "    'tmax': [-1],  # 4*60done, 6*60done, 11*60done, -1,  00# -1: None\n",
    "    'min_age': [-1],\n",
    "    'max_age': [-1],\n",
    "    # 'data_path': ['/home/jovyan/mne_data/TUH_PRE/tuh_eeg_abnormal/v2.0.0/edf/'],\n",
    "    'data_path': ['/home/jovyan/competition/data/training/'],  # TODO: replace\n",
    "    'squash_outs': [1],  # force output to be in [0, 1] through sigmoid\n",
    "\n",
    "    'final_eval': [0],\n",
    "    'debug': [1],\n",
    "    'seed': [20221116],  # default 20220429\n",
    "    'date': [exp_date],  # sometimes, need to restart some of the cv runs, due to cluster failure. do not reset exp date then\n",
    "    'intuitive_training_scores': [1],  # 1: add slow callbacks that track age decodnig loss intuitively as mae\n",
    "    'out_dir': [os.path.join(base_dir, 'competition/results/')],\n",
    "    'n_jobs': [4],  # faster than 1, 3, and 4 on tmax=2*60, n_recordings=-1, subset=normal, n_epochs=5, preload=0\n",
    "    'preload': [1],\n",
    "\n",
    "    'batch_size': [64],  # 64. does CroppedTrialEpochStoring increase GPU memory consumption? 256 works fine in notebook but fails as pipeline. 128 works with shallow fails with deep\n",
    "    'tmin': [-1],\n",
    "    'standardize_data': [0],  # needs to be implemented. sclaing to microvolts is done anyways\n",
    "    'standardize_targets': [1],\n",
    "    'window_size_samples': [1500],\n",
    "    'shuffle_data_before_split': [0],\n",
    "})"
   ]
  },
  {
   "cell_type": "raw",
   "id": "657bf01d-0a11-408f-8880-6cbdc2365964",
   "metadata": {
    "jupyter": {
     "source_hidden": true
    },
    "tags": []
   },
   "source": [
    "param_grid = ParameterGrid({\n",
    "    'model_name': ['shallow'],  # 'shallow', 'deep', 'tcn'\n",
    "    'subset': ['normal'],  # 'normal', 'abnormal', 'mixed'\n",
    "    'target_name': ['age'],  # age, gender, pathological, age_clf\n",
    "\n",
    "    'valid_set_i': [0],  # 0, 1, 2, 3, 4\n",
    "    'n_epochs': [35],  # 35, 105, 210\n",
    "    'n_restarts': [0],  # 0, 2, 5\n",
    "    'augment': ['dropout'],  # dropout, flipfb, fliplr, noise, mask, reverse, shuffle, sign, random, identity, 0\n",
    "    'fast_mode': [1],\n",
    "    'loss': ['mae'],  # mse, mae, log_cosh, huber, nll\n",
    "\n",
    "    'n_train_recordings': [-1],  # -1: None\n",
    "    'tmax': [-1],  # 4*60done, 6*60done, 11*60done, -1,  # -1: None\n",
    "    'min_age': [-1],\n",
    "    'max_age': [-1],\n",
    "    # 'data_path': ['/home/jovyan/mne_data/TUH_PRE/tuh_eeg_abnormal/v2.0.0/edf/'],\n",
    "    'data_path': ['/home/jovyan/competition/data/training/train.pkl'],\n",
    "    'squash_outs': [1],  # force output to be in [0, 1] through sigmoid\n",
    "\n",
    "    'final_eval': [1],\n",
    "    'debug': [1],\n",
    "    'seed': [20221018],  # default 20220429\n",
    "    'date': [exp_date],  # sometimes, need to restart some of the cv runs, due to cluster failure. do not reset exp date then\n",
    "    'intuitive_training_scores': [1],  # 1: add slow callbacks that track age decodnig loss intuitively as mae\n",
    "    'out_dir': [os.path.join(base_dir, 'experiments')],\n",
    "    'n_jobs': [4],  # faster than 1, 3, and 4 on tmax=2*60, n_recordings=-1, subset=normal, n_epochs=5, preload=0\n",
    "    'preload': [0],\n",
    "\n",
    "    'batch_size': [64],  # 64. does CroppedTrialEpochStoring increase GPU memory consumption? 256 works fine in notebook but fails as pipeline. 128 works with shallow fails with deep\n",
    "    'tmin': [1*60],\n",
    "    'standardize_data': [1],\n",
    "    'standardize_targets': [1],\n",
    "    'window_size_samples': [6000],\n",
    "    'shuffle_data_before_split': [0],\n",
    "})"
   ]
  },
  {
   "cell_type": "raw",
   "id": "1cee4409-1693-417a-802a-80aeadc53d9e",
   "metadata": {},
   "source": [
    "apparently, reading entire tuh abnormal and preprocessing (cropping 60,960) takes >10 mins"
   ]
  },
  {
   "cell_type": "raw",
   "id": "a5f3d36b-6dc8-45a0-8a0a-984b5a13ecd3",
   "metadata": {},
   "source": [
    "full dataset with tmax=16*60 crashes on 16GB RAM and on 25GB"
   ]
  },
  {
   "cell_type": "raw",
   "id": "48a17c30-d5a4-494b-a95b-05b131af1e2c",
   "metadata": {
    "jupyter": {
     "source_hidden": true
    },
    "tags": []
   },
   "source": [
    "param_grid = ParameterGrid({\n",
    "    'subset':['mixed'],  # 'normal', 'abnormal', 'mixed'\n",
    "    'model_name':['shallow'],  # 'shallow', 'deep', 'tcn'\n",
    "    'tmax':[16*60],  # 4*60done, 6*60done, 11*60done, -1,  # -1: None\n",
    "    'target_name': ['pathological'],  # age, gender, pathological\n",
    "\n",
    "    'n_epochs':[35],  # 35, 105, 210\n",
    "    'n_restarts':[0],  # 0, 2, 5\n",
    "    'n_train_recordings':[-1],  # -1: None\n",
    "\n",
    "    'preload':[0],\n",
    "    'split_kind':['chronological'],  # chronological, random, age_distribution\n",
    "    'drop_prob':[-1],  # shallow: .5, deep: .5, tcn: 0.0195875974361336, -1: None for defaults\n",
    "    'intuitive_training_scores':[1],  # 1: add potentially slow callbacks that track loss intuitively as mae\n",
    "    'out_dir':['/home/jovyan/tuab_reproduction/'],\n",
    "    'n_jobs':[2],  # faster than 1, 3, and 4 on tmax=2*60, n_recordings=-1, subset=normal, n_epochs=5, preload=0\n",
    "\n",
    "    'batch_size':[64],  # 64. does CroppedTrialEpochStoring increase GPU memory consumption? 256 works fine in notebook but fails as pipeline. 128 works with shallow fails with deep\n",
    "    'data_path':['/home/jovyan/mne_data/TUH_PRE/tuh_eeg_abnormal/v2.0.0/edf/train/'],\n",
    "    'tmin':[1*60],\n",
    "    'standardize_data':[1],\n",
    "    'standardize_targets':[1],\n",
    "    'window_size_samples':[6000],\n",
    "    'seed':[20220429],\n",
    "    'valid_set_fraction':[.2],\n",
    "    'shuffle_data_before_split':[0],\n",
    "    'final_eval':[1],\n",
    "})"
   ]
  },
  {
   "cell_type": "code",
   "execution_count": 9,
   "id": "945035e2-e70e-494c-9601-d6fac9a63742",
   "metadata": {},
   "outputs": [
    {
     "data": {
      "text/plain": [
       "1"
      ]
     },
     "execution_count": 9,
     "metadata": {},
     "output_type": "execute_result"
    }
   ],
   "source": [
    "len(param_grid)"
   ]
  },
  {
   "cell_type": "code",
   "execution_count": null,
   "id": "19acbb2e-c3fd-47a3-8834-a16a2fbf16bc",
   "metadata": {
    "tags": []
   },
   "outputs": [
    {
     "name": "stdout",
     "output_type": "stream",
     "text": [
      "2022-11-17 15:29:38 INFO     \n",
      "augment                                                            0\n",
      "batch_size                                                        64\n",
      "data_path                    /home/jovyan/competition/data/training/\n",
      "date                                      2022-11-17T15:29:36.958813\n",
      "debug                                                              1\n",
      "fast_mode                                                          1\n",
      "final_eval                                                         0\n",
      "intuitive_training_scores                                          1\n",
      "loss                                                             mae\n",
      "max_age                                                           -1\n",
      "min_age                                                           -1\n",
      "model_name                                                      deep\n",
      "n_epochs                                                         105\n",
      "n_jobs                                                             4\n",
      "n_restarts                                                         2\n",
      "n_train_recordings                                                -1\n",
      "out_dir                            /home/jovyan/competition/results/\n",
      "preload                                                            1\n",
      "seed                                                        20221116\n",
      "shuffle_data_before_split                                          0\n",
      "squash_outs                                                        1\n",
      "standardize_data                                                   0\n",
      "standardize_targets                                                1\n",
      "subset                                                        normal\n",
      "target_name                                                      age\n",
      "tmax                                                              -1\n",
      "tmin                                                              -1\n",
      "valid_set_i                                                        0\n",
      "window_size_samples                                             1500\n",
      "Name: config, dtype: object\n",
      "2022-11-17 15:29:38 DEBUG    cuda: True\n",
      "2022-11-17 15:29:38 DEBUG    cropped: True\n",
      "2022-11-17 15:29:41 DEBUG    splitting dataset with 1200 recordings\n",
      "2022-11-17 15:29:41 DEBUG    splitting dataset with 1200 recordings\n",
      "2022-11-17 15:29:41 DEBUG    into train (.8) and valid (.2).\n",
      "2022-11-17 15:29:42 DEBUG    creating model\n",
      "2022-11-17 15:29:42 INFO     Sequential(\n",
      "  (deep): Sequential(\n",
      "    (ensuredims): Ensure4d()\n",
      "    (dimshuffle): Expression(expression=transpose_time_to_spat) \n",
      "    (conv_time): Conv2d(1, 25, kernel_size=(10, 1), stride=(1, 1))\n",
      "    (conv_spat): Conv2d(25, 25, kernel_size=(1, 129), stride=(1, 1), bias=False)\n",
      "    (bnorm): BatchNorm2d(25, eps=1e-05, momentum=0.1, affine=True, track_running_stats=True)\n",
      "    (conv_nonlin): Expression(expression=elu) \n",
      "    (pool): MaxPool2d(kernel_size=(3, 1), stride=(1, 1), padding=0, dilation=(3, 1), ceil_mode=False)\n",
      "    (pool_nonlin): Expression(expression=identity) \n",
      "    (drop_2): Dropout(p=0.5, inplace=False)\n",
      "    (conv_2): Conv2d(25, 50, kernel_size=(10, 1), stride=(1, 1), dilation=(3, 1), bias=False)\n",
      "    (bnorm_2): BatchNorm2d(50, eps=1e-05, momentum=0.1, affine=True, track_running_stats=True)\n",
      "    (nonlin_2): Expression(expression=elu) \n",
      "    (pool_2): MaxPool2d(kernel_size=(3, 1), stride=(1, 1), padding=0, dilation=(9, 1), ceil_mode=False)\n",
      "    (pool_nonlin_2): Expression(expression=identity) \n",
      "    (drop_3): Dropout(p=0.5, inplace=False)\n",
      "    (conv_3): Conv2d(50, 100, kernel_size=(10, 1), stride=(1, 1), dilation=(9, 1), bias=False)\n",
      "    (bnorm_3): BatchNorm2d(100, eps=1e-05, momentum=0.1, affine=True, track_running_stats=True)\n",
      "    (nonlin_3): Expression(expression=elu) \n",
      "    (pool_3): MaxPool2d(kernel_size=(3, 1), stride=(1, 1), padding=0, dilation=(27, 1), ceil_mode=False)\n",
      "    (pool_nonlin_3): Expression(expression=identity) \n",
      "    (drop_4): Dropout(p=0.5, inplace=False)\n",
      "    (conv_4): Conv2d(100, 200, kernel_size=(10, 1), stride=(1, 1), dilation=(27, 1), bias=False)\n",
      "    (bnorm_4): BatchNorm2d(200, eps=1e-05, momentum=0.1, affine=True, track_running_stats=True)\n",
      "    (nonlin_4): Expression(expression=elu) \n",
      "    (pool_4): MaxPool2d(kernel_size=(3, 1), stride=(1, 1), padding=0, dilation=(81, 1), ceil_mode=False)\n",
      "    (pool_nonlin_4): Expression(expression=identity) \n",
      "    (conv_classifier): Conv2d(200, 1, kernel_size=(1, 1), stride=(1, 1), dilation=(81, 1))\n",
      "    (squeeze): Expression(expression=squeeze_final_output) \n",
      "  )\n",
      "  (sigmoid): Sigmoid()\n",
      ")\n",
      "2022-11-17 15:29:42 DEBUG    model produces 900 preds for every input of size 1500\n",
      "2022-11-17 15:29:42 DEBUG    windowing\n",
      "2022-11-17 15:30:22 DEBUG    train windows 5760\n",
      "2022-11-17 15:30:22 DEBUG    valid windows 1440\n",
      "2022-11-17 15:30:22 DEBUG    prior to data scaling -0.018204648047685623\n",
      "2022-11-17 15:30:22 DEBUG    post data scaling -18204.6484375\n",
      "2022-11-17 15:30:23 DEBUG    mean/min train age: 5.04\n",
      "2022-11-17 15:30:23 DEBUG    std/max train age: 21.90\n",
      "2022-11-17 15:30:23 DEBUG    prior to minmax target scaling 17.324321\n",
      "2022-11-17 15:30:23 DEBUG    post minmax target scaling 0.7286261795250959\n",
      "2022-11-17 15:30:23 DEBUG    sending to gpu\n",
      "2022-11-17 15:30:24 INFO     TUAB, 960–240 normal, -1s–-1s, age, deep, 105–2, mae, 0, valid\n",
      "2022-11-17 15:30:24 INFO     starting training\n",
      "2022-11-17 15:30:40 INFO       epoch    train_loss    valid_loss    cp      lr     dur\n",
      "2022-11-17 15:30:40 INFO     -------  ------------  ------------  ----  ------  ------\n",
      "2022-11-17 15:30:40 INFO           1        \u001b[36m0.1773\u001b[0m        \u001b[32m0.1845\u001b[0m     +  0.0100  9.0340\n",
      "2022-11-17 15:30:54 INFO           2        \u001b[36m0.1524\u001b[0m        \u001b[32m0.1665\u001b[0m     +  0.0100  7.1960\n",
      "2022-11-17 15:31:07 INFO           3        \u001b[36m0.1461\u001b[0m        \u001b[32m0.1637\u001b[0m     +  0.0099  7.0407\n",
      "2022-11-17 15:31:14 INFO           4        \u001b[36m0.1434\u001b[0m        0.1692        0.0098  7.0870\n",
      "2022-11-17 15:31:22 INFO           5        \u001b[36m0.1395\u001b[0m        0.1738        0.0097  7.0574\n",
      "2022-11-17 15:31:29 INFO           6        \u001b[36m0.1383\u001b[0m        0.1700        0.0095  7.0776\n",
      "2022-11-17 15:31:36 INFO           7        \u001b[36m0.1361\u001b[0m        0.1708        0.0093  7.1064\n",
      "2022-11-17 15:31:43 INFO           8        \u001b[36m0.1313\u001b[0m        0.1677        0.0090  7.1540\n",
      "2022-11-17 15:31:50 INFO           9        \u001b[36m0.1287\u001b[0m        0.1663        0.0088  7.1240\n",
      "2022-11-17 15:32:04 INFO          10        \u001b[36m0.1264\u001b[0m        \u001b[32m0.1569\u001b[0m     +  0.0085  7.1012\n",
      "2022-11-17 15:32:12 INFO          11        0.1276        0.1767        0.0081  7.4113\n",
      "2022-11-17 15:32:19 INFO          12        \u001b[36m0.1236\u001b[0m        0.1635        0.0078  7.1136\n",
      "2022-11-17 15:32:26 INFO          13        \u001b[36m0.1194\u001b[0m        0.1697        0.0074  7.1597\n",
      "2022-11-17 15:32:33 INFO          14        \u001b[36m0.1148\u001b[0m        0.1741        0.0070  7.1247\n",
      "2022-11-17 15:32:40 INFO          15        \u001b[36m0.1129\u001b[0m        0.1651        0.0065  7.2140\n",
      "2022-11-17 15:32:48 INFO          16        \u001b[36m0.1121\u001b[0m        0.1689        0.0061  7.2211\n",
      "2022-11-17 15:32:55 INFO          17        \u001b[36m0.1111\u001b[0m        0.1728        0.0057  7.1613\n",
      "2022-11-17 15:33:02 INFO          18        \u001b[36m0.1093\u001b[0m        0.1716        0.0052  7.1060\n",
      "2022-11-17 15:33:09 INFO          19        \u001b[36m0.1069\u001b[0m        0.1714        0.0048  7.1148\n",
      "2022-11-17 15:33:16 INFO          20        \u001b[36m0.1016\u001b[0m        0.1748        0.0043  7.1612\n",
      "2022-11-17 15:33:24 INFO          21        \u001b[36m0.1007\u001b[0m        0.1705        0.0039  7.4041\n",
      "2022-11-17 15:33:31 INFO          22        \u001b[36m0.0997\u001b[0m        0.1747        0.0035  7.3050\n",
      "2022-11-17 15:33:39 INFO          23        \u001b[36m0.0991\u001b[0m        0.1818        0.0030  7.8219\n",
      "2022-11-17 15:33:47 INFO          24        \u001b[36m0.0949\u001b[0m        0.1770        0.0026  7.7339\n",
      "2022-11-17 15:33:54 INFO          25        \u001b[36m0.0937\u001b[0m        0.1728        0.0022  7.3336\n",
      "2022-11-17 15:34:01 INFO          26        \u001b[36m0.0929\u001b[0m        0.1756        0.0019  7.2080\n",
      "2022-11-17 15:34:08 INFO          27        \u001b[36m0.0918\u001b[0m        0.1800        0.0015  7.2919\n",
      "2022-11-17 15:34:16 INFO          28        \u001b[36m0.0898\u001b[0m        0.1776        0.0012  7.1793\n",
      "2022-11-17 15:34:23 INFO          29        \u001b[36m0.0889\u001b[0m        0.1807        0.0010  7.1069\n",
      "2022-11-17 15:34:30 INFO          30        0.0889        0.1738        0.0007  7.2661\n",
      "2022-11-17 15:34:37 INFO          31        \u001b[36m0.0866\u001b[0m        0.1749        0.0005  7.1181\n",
      "2022-11-17 15:34:44 INFO          32        \u001b[36m0.0862\u001b[0m        0.1767        0.0003  7.4069\n",
      "2022-11-17 15:34:52 INFO          33        0.0864        0.1784        0.0002  7.1757\n",
      "2022-11-17 15:34:59 INFO          34        \u001b[36m0.0858\u001b[0m        0.1783        0.0001  7.2951\n",
      "2022-11-17 15:35:13 INFO          35        \u001b[36m0.0857\u001b[0m        0.1773        0.0000  7.3271\n",
      "2022-11-17 15:35:20 INFO          36        0.1005        0.1778        0.0100  7.0469\n",
      "2022-11-17 15:35:28 INFO          37        0.1005        0.1777        0.0100  7.1571\n",
      "2022-11-17 15:35:35 INFO          38        0.1011        0.1782        0.0099  7.2013\n",
      "2022-11-17 15:35:42 INFO          39        0.0998        0.1833        0.0098  7.1262\n"
     ]
    }
   ],
   "source": [
    "if run_in_notebook:\n",
    "    for params_i, params in enumerate(param_grid):\n",
    "        # logging makes the second iteration crash....\n",
    "        decode_tueg(**params, config=pd.Series(params, name='config'))\n",
    "else:\n",
    "#     time.sleep(3)\n",
    "    runs = []\n",
    "    for params in param_grid:\n",
    "        job_name = f\"{pipe_suffix}-{params['date']}-{params['seed']}-{params['valid_set_i']}\"\n",
    "        run = client.run_pipeline(    \n",
    "            experiment_id=experiment.id, \n",
    "            pipeline_id=pipeline.id, \n",
    "            job_name=job_name,\n",
    "            params=params,\n",
    "        )\n",
    "        runs.append(run)\n",
    "#         time.sleep(1)"
   ]
  },
  {
   "cell_type": "code",
   "execution_count": null,
   "id": "6d358a56-47f6-4801-977f-4e583dcb2931",
   "metadata": {},
   "outputs": [],
   "source": [
    "print(\"hi\")"
   ]
  },
  {
   "cell_type": "code",
   "execution_count": null,
   "id": "16b031e4-827f-4850-86fd-fb269760a830",
   "metadata": {},
   "outputs": [],
   "source": []
  },
  {
   "cell_type": "code",
   "execution_count": null,
   "id": "abfec631-5d40-40e6-9e25-fc152457e875",
   "metadata": {},
   "outputs": [],
   "source": []
  },
  {
   "cell_type": "code",
   "execution_count": null,
   "id": "889c1c09-2078-4f62-8717-8224046b9586",
   "metadata": {},
   "outputs": [],
   "source": []
  }
 ],
 "metadata": {
  "kernelspec": {
   "display_name": "Python 3 (ipykernel)",
   "language": "python",
   "name": "python3"
  },
  "language_info": {
   "codemirror_mode": {
    "name": "ipython",
    "version": 3
   },
   "file_extension": ".py",
   "mimetype": "text/x-python",
   "name": "python",
   "nbconvert_exporter": "python",
   "pygments_lexer": "ipython3",
   "version": "3.10.6"
  }
 },
 "nbformat": 4,
 "nbformat_minor": 5
}
