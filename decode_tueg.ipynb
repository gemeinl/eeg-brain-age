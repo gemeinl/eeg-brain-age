{
 "cells": [
  {
   "cell_type": "code",
   "execution_count": 1,
   "id": "383ae4b5-3201-48be-9545-9aaee8f578cf",
   "metadata": {},
   "outputs": [],
   "source": [
    "run_in_notebook = True"
   ]
  },
  {
   "cell_type": "raw",
   "id": "d0a5e9af-0090-44a2-9c3c-d143bcea9bf9",
   "metadata": {
    "tags": []
   },
   "source": [
    "if not run_in_notebook:\n",
    "    !mamba create -n job-env -y -q python=3.8\n",
    "    # order of commands matters\n",
    "    !mamba install -n job-env -y -q pytorch cudatoolkit=11.3 -c pytorch \n",
    "    #!mamba install -n job-env -y -q cudatoolkit=11.3 -c nvidia \n",
    "    !mamba install -n job-env -y -q kfp joblib pandas scikit-learn skorch h5py seaborn matplotlib skorch  -c conda-forge \n",
    "    # github for latest changes\n",
    "    #!bash -c '. /opt/conda/etc/profile.d/conda.sh; conda activate job-env; python -m pip install -q -r requirements.txt'\n",
    "    # mne and braindecode\n",
    "    !bash -c '. /opt/conda/etc/profile.d/conda.sh; conda activate job-env; python -m pip install -q mne braindecode kfp==1.8.2'\n",
    "    #!mamba env export -n job-env -f environment.yml"
   ]
  },
  {
   "cell_type": "raw",
   "id": "f16b4d59-4eff-4a57-961c-4db4ec1da4e7",
   "metadata": {},
   "source": [
    "TODO:\n",
    "pathology benchmark script -> reproduce paper results"
   ]
  },
  {
   "cell_type": "code",
   "execution_count": 2,
   "id": "2ff51629-61d6-4436-b241-7fc330e1dd95",
   "metadata": {
    "scrolled": true,
    "tags": []
   },
   "outputs": [
    {
     "name": "stdout",
     "output_type": "stream",
     "text": [
      "Requirement already satisfied: scikit-learn in /opt/conda/lib/python3.9/site-packages (1.1.2)\n",
      "Requirement already satisfied: pandas in /opt/conda/lib/python3.9/site-packages (1.4.3)\n",
      "Requirement already satisfied: kfp in /opt/conda/lib/python3.9/site-packages (1.8.13)\n",
      "Requirement already satisfied: line_profiler in /opt/conda/lib/python3.9/site-packages (3.5.1)\n",
      "Requirement already satisfied: memory_profiler in /opt/conda/lib/python3.9/site-packages (0.60.0)\n",
      "Requirement already satisfied: ipywidgets in /opt/conda/lib/python3.9/site-packages (8.0.1)\n",
      "Requirement already satisfied: scipy>=1.3.2 in /opt/conda/lib/python3.9/site-packages (from scikit-learn) (1.9.0)\n",
      "Requirement already satisfied: joblib>=1.0.0 in /opt/conda/lib/python3.9/site-packages (from scikit-learn) (1.1.0)\n",
      "Requirement already satisfied: threadpoolctl>=2.0.0 in /opt/conda/lib/python3.9/site-packages (from scikit-learn) (3.1.0)\n",
      "Requirement already satisfied: numpy>=1.17.3 in /opt/conda/lib/python3.9/site-packages (from scikit-learn) (1.23.2)\n",
      "Requirement already satisfied: pytz>=2020.1 in /opt/conda/lib/python3.9/site-packages (from pandas) (2021.1)\n",
      "Requirement already satisfied: python-dateutil>=2.8.1 in /opt/conda/lib/python3.9/site-packages (from pandas) (2.8.2)\n",
      "Requirement already satisfied: kfp-pipeline-spec<0.2.0,>=0.1.14 in /opt/conda/lib/python3.9/site-packages (from kfp) (0.1.16)\n",
      "Requirement already satisfied: kubernetes<19,>=8.0.0 in /opt/conda/lib/python3.9/site-packages (from kfp) (18.20.0)\n",
      "Requirement already satisfied: pydantic<2,>=1.8.2 in /opt/conda/lib/python3.9/site-packages (from kfp) (1.9.2)\n",
      "Requirement already satisfied: fire<1,>=0.3.1 in /opt/conda/lib/python3.9/site-packages (from kfp) (0.4.0)\n",
      "Requirement already satisfied: absl-py<2,>=0.9 in /opt/conda/lib/python3.9/site-packages (from kfp) (1.2.0)\n",
      "Requirement already satisfied: Deprecated<2,>=1.2.7 in /opt/conda/lib/python3.9/site-packages (from kfp) (1.2.13)\n",
      "Requirement already satisfied: kfp-server-api<2.0.0,>=1.1.2 in /opt/conda/lib/python3.9/site-packages (from kfp) (1.8.4)\n",
      "Requirement already satisfied: PyYAML<6,>=5.3 in /opt/conda/lib/python3.9/site-packages (from kfp) (5.4.1)\n",
      "Requirement already satisfied: google-api-python-client<2,>=1.7.8 in /opt/conda/lib/python3.9/site-packages (from kfp) (1.12.11)\n",
      "Requirement already satisfied: click<9,>=7.1.2 in /opt/conda/lib/python3.9/site-packages (from kfp) (8.1.3)\n",
      "Requirement already satisfied: protobuf<4,>=3.13.0 in /opt/conda/lib/python3.9/site-packages (from kfp) (3.20.1)\n",
      "Requirement already satisfied: jsonschema<4,>=3.0.1 in /opt/conda/lib/python3.9/site-packages (from kfp) (3.2.0)\n",
      "Requirement already satisfied: tabulate<1,>=0.8.6 in /opt/conda/lib/python3.9/site-packages (from kfp) (0.8.10)\n",
      "Requirement already satisfied: docstring-parser<1,>=0.7.3 in /opt/conda/lib/python3.9/site-packages (from kfp) (0.14.1)\n",
      "Requirement already satisfied: typer<1.0,>=0.3.2 in /opt/conda/lib/python3.9/site-packages (from kfp) (0.6.1)\n",
      "Requirement already satisfied: google-auth<2,>=1.6.1 in /opt/conda/lib/python3.9/site-packages (from kfp) (1.35.0)\n",
      "Requirement already satisfied: cloudpickle<3,>=2.0.0 in /opt/conda/lib/python3.9/site-packages (from kfp) (2.1.0)\n",
      "Requirement already satisfied: strip-hints<1,>=0.1.8 in /opt/conda/lib/python3.9/site-packages (from kfp) (0.1.10)\n",
      "Requirement already satisfied: google-api-core!=2.0.*,!=2.1.*,!=2.2.*,!=2.3.0,<3.0.0dev,>=1.31.5 in /opt/conda/lib/python3.9/site-packages (from kfp) (2.8.2)\n",
      "Requirement already satisfied: google-cloud-storage<2,>=1.20.0 in /opt/conda/lib/python3.9/site-packages (from kfp) (1.44.0)\n",
      "Requirement already satisfied: requests-toolbelt<1,>=0.8.0 in /opt/conda/lib/python3.9/site-packages (from kfp) (0.9.1)\n",
      "Requirement already satisfied: uritemplate<4,>=3.0.1 in /opt/conda/lib/python3.9/site-packages (from kfp) (3.0.1)\n",
      "Requirement already satisfied: psutil in /opt/conda/lib/python3.9/site-packages (from memory_profiler) (5.9.1)\n",
      "Requirement already satisfied: ipython>=6.1.0 in /opt/conda/lib/python3.9/site-packages (from ipywidgets) (7.27.0)\n",
      "Requirement already satisfied: jupyterlab-widgets~=3.0 in /opt/conda/lib/python3.9/site-packages (from ipywidgets) (3.0.2)\n",
      "Requirement already satisfied: ipykernel>=4.5.1 in /opt/conda/lib/python3.9/site-packages (from ipywidgets) (6.4.1)\n",
      "Requirement already satisfied: widgetsnbextension~=4.0 in /opt/conda/lib/python3.9/site-packages (from ipywidgets) (4.0.2)\n",
      "Requirement already satisfied: traitlets>=4.3.1 in /opt/conda/lib/python3.9/site-packages (from ipywidgets) (5.1.0)\n",
      "Requirement already satisfied: wrapt<2,>=1.10 in /opt/conda/lib/python3.9/site-packages (from Deprecated<2,>=1.2.7->kfp) (1.14.1)\n",
      "Requirement already satisfied: six in /opt/conda/lib/python3.9/site-packages (from fire<1,>=0.3.1->kfp) (1.16.0)\n",
      "Requirement already satisfied: termcolor in /opt/conda/lib/python3.9/site-packages (from fire<1,>=0.3.1->kfp) (1.1.0)\n",
      "Requirement already satisfied: requests<3.0.0dev,>=2.18.0 in /opt/conda/lib/python3.9/site-packages (from google-api-core!=2.0.*,!=2.1.*,!=2.2.*,!=2.3.0,<3.0.0dev,>=1.31.5->kfp) (2.26.0)\n",
      "Requirement already satisfied: googleapis-common-protos<2.0dev,>=1.56.2 in /opt/conda/lib/python3.9/site-packages (from google-api-core!=2.0.*,!=2.1.*,!=2.2.*,!=2.3.0,<3.0.0dev,>=1.31.5->kfp) (1.56.4)\n",
      "Requirement already satisfied: google-auth-httplib2>=0.0.3 in /opt/conda/lib/python3.9/site-packages (from google-api-python-client<2,>=1.7.8->kfp) (0.1.0)\n",
      "Requirement already satisfied: httplib2<1dev,>=0.15.0 in /opt/conda/lib/python3.9/site-packages (from google-api-python-client<2,>=1.7.8->kfp) (0.20.4)\n",
      "Requirement already satisfied: rsa<5,>=3.1.4 in /opt/conda/lib/python3.9/site-packages (from google-auth<2,>=1.6.1->kfp) (4.9)\n",
      "Requirement already satisfied: pyasn1-modules>=0.2.1 in /opt/conda/lib/python3.9/site-packages (from google-auth<2,>=1.6.1->kfp) (0.2.8)\n",
      "Requirement already satisfied: cachetools<5.0,>=2.0.0 in /opt/conda/lib/python3.9/site-packages (from google-auth<2,>=1.6.1->kfp) (4.2.4)\n",
      "Requirement already satisfied: setuptools>=40.3.0 in /opt/conda/lib/python3.9/site-packages (from google-auth<2,>=1.6.1->kfp) (58.0.4)\n",
      "Requirement already satisfied: google-cloud-core<3.0dev,>=1.6.0 in /opt/conda/lib/python3.9/site-packages (from google-cloud-storage<2,>=1.20.0->kfp) (2.3.2)\n",
      "Requirement already satisfied: google-resumable-media<3.0dev,>=1.3.0 in /opt/conda/lib/python3.9/site-packages (from google-cloud-storage<2,>=1.20.0->kfp) (2.3.3)\n",
      "Requirement already satisfied: google-crc32c<2.0dev,>=1.0 in /opt/conda/lib/python3.9/site-packages (from google-resumable-media<3.0dev,>=1.3.0->google-cloud-storage<2,>=1.20.0->kfp) (1.3.0)\n",
      "Requirement already satisfied: pyparsing!=3.0.0,!=3.0.1,!=3.0.2,!=3.0.3,<4,>=2.4.2 in /opt/conda/lib/python3.9/site-packages (from httplib2<1dev,>=0.15.0->google-api-python-client<2,>=1.7.8->kfp) (2.4.7)\n",
      "Requirement already satisfied: jupyter-client<8.0 in /opt/conda/lib/python3.9/site-packages (from ipykernel>=4.5.1->ipywidgets) (7.0.3)\n",
      "Requirement already satisfied: debugpy<2.0,>=1.0.0 in /opt/conda/lib/python3.9/site-packages (from ipykernel>=4.5.1->ipywidgets) (1.4.3)\n",
      "Requirement already satisfied: ipython-genutils in /opt/conda/lib/python3.9/site-packages (from ipykernel>=4.5.1->ipywidgets) (0.2.0)\n",
      "Requirement already satisfied: tornado<7.0,>=4.2 in /opt/conda/lib/python3.9/site-packages (from ipykernel>=4.5.1->ipywidgets) (6.1)\n",
      "Requirement already satisfied: matplotlib-inline<0.2.0,>=0.1.0 in /opt/conda/lib/python3.9/site-packages (from ipykernel>=4.5.1->ipywidgets) (0.1.3)\n",
      "Requirement already satisfied: pygments in /opt/conda/lib/python3.9/site-packages (from ipython>=6.1.0->ipywidgets) (2.10.0)\n",
      "Requirement already satisfied: backcall in /opt/conda/lib/python3.9/site-packages (from ipython>=6.1.0->ipywidgets) (0.2.0)\n",
      "Requirement already satisfied: pickleshare in /opt/conda/lib/python3.9/site-packages (from ipython>=6.1.0->ipywidgets) (0.7.5)\n",
      "Requirement already satisfied: pexpect>4.3 in /opt/conda/lib/python3.9/site-packages (from ipython>=6.1.0->ipywidgets) (4.8.0)\n",
      "Requirement already satisfied: prompt-toolkit!=3.0.0,!=3.0.1,<3.1.0,>=2.0.0 in /opt/conda/lib/python3.9/site-packages (from ipython>=6.1.0->ipywidgets) (3.0.20)\n",
      "Requirement already satisfied: jedi>=0.16 in /opt/conda/lib/python3.9/site-packages (from ipython>=6.1.0->ipywidgets) (0.18.0)\n",
      "Requirement already satisfied: decorator in /opt/conda/lib/python3.9/site-packages (from ipython>=6.1.0->ipywidgets) (5.1.0)\n",
      "Requirement already satisfied: parso<0.9.0,>=0.8.0 in /opt/conda/lib/python3.9/site-packages (from jedi>=0.16->ipython>=6.1.0->ipywidgets) (0.8.2)\n",
      "Requirement already satisfied: attrs>=17.4.0 in /opt/conda/lib/python3.9/site-packages (from jsonschema<4,>=3.0.1->kfp) (21.2.0)\n",
      "Requirement already satisfied: pyrsistent>=0.14.0 in /opt/conda/lib/python3.9/site-packages (from jsonschema<4,>=3.0.1->kfp) (0.18.0)\n",
      "Requirement already satisfied: nest-asyncio>=1.5 in /opt/conda/lib/python3.9/site-packages (from jupyter-client<8.0->ipykernel>=4.5.1->ipywidgets) (1.5.1)\n",
      "Requirement already satisfied: pyzmq>=13 in /opt/conda/lib/python3.9/site-packages (from jupyter-client<8.0->ipykernel>=4.5.1->ipywidgets) (22.3.0)\n",
      "Requirement already satisfied: entrypoints in /opt/conda/lib/python3.9/site-packages (from jupyter-client<8.0->ipykernel>=4.5.1->ipywidgets) (0.3)\n",
      "Requirement already satisfied: jupyter-core>=4.6.0 in /opt/conda/lib/python3.9/site-packages (from jupyter-client<8.0->ipykernel>=4.5.1->ipywidgets) (4.8.1)\n",
      "Requirement already satisfied: urllib3>=1.15 in /opt/conda/lib/python3.9/site-packages (from kfp-server-api<2.0.0,>=1.1.2->kfp) (1.26.6)\n",
      "Requirement already satisfied: certifi in /opt/conda/lib/python3.9/site-packages (from kfp-server-api<2.0.0,>=1.1.2->kfp) (2021.5.30)\n",
      "Requirement already satisfied: requests-oauthlib in /opt/conda/lib/python3.9/site-packages (from kubernetes<19,>=8.0.0->kfp) (1.3.1)\n",
      "Requirement already satisfied: websocket-client!=0.40.0,!=0.41.*,!=0.42.*,>=0.32.0 in /opt/conda/lib/python3.9/site-packages (from kubernetes<19,>=8.0.0->kfp) (1.2.1)\n",
      "Requirement already satisfied: ptyprocess>=0.5 in /opt/conda/lib/python3.9/site-packages (from pexpect>4.3->ipython>=6.1.0->ipywidgets) (0.7.0)\n",
      "Requirement already satisfied: wcwidth in /opt/conda/lib/python3.9/site-packages (from prompt-toolkit!=3.0.0,!=3.0.1,<3.1.0,>=2.0.0->ipython>=6.1.0->ipywidgets) (0.2.5)\n",
      "Requirement already satisfied: pyasn1<0.5.0,>=0.4.6 in /opt/conda/lib/python3.9/site-packages (from pyasn1-modules>=0.2.1->google-auth<2,>=1.6.1->kfp) (0.4.8)\n",
      "Requirement already satisfied: typing-extensions>=3.7.4.3 in /opt/conda/lib/python3.9/site-packages (from pydantic<2,>=1.8.2->kfp) (4.3.0)\n",
      "Requirement already satisfied: idna<4,>=2.5 in /opt/conda/lib/python3.9/site-packages (from requests<3.0.0dev,>=2.18.0->google-api-core!=2.0.*,!=2.1.*,!=2.2.*,!=2.3.0,<3.0.0dev,>=1.31.5->kfp) (3.1)\n",
      "Requirement already satisfied: charset-normalizer~=2.0.0 in /opt/conda/lib/python3.9/site-packages (from requests<3.0.0dev,>=2.18.0->google-api-core!=2.0.*,!=2.1.*,!=2.2.*,!=2.3.0,<3.0.0dev,>=1.31.5->kfp) (2.0.0)\n",
      "Requirement already satisfied: wheel in /opt/conda/lib/python3.9/site-packages (from strip-hints<1,>=0.1.8->kfp) (0.37.0)\n",
      "Requirement already satisfied: oauthlib>=3.0.0 in /opt/conda/lib/python3.9/site-packages (from requests-oauthlib->kubernetes<19,>=8.0.0->kfp) (3.2.0)\n",
      "Looking in indexes: https://pypi.org/simple, https://download.pytorch.org/whl/cu113\n",
      "Requirement already satisfied: torch in /opt/conda/lib/python3.9/site-packages (1.12.1+cu113)\n",
      "Requirement already satisfied: typing-extensions in /opt/conda/lib/python3.9/site-packages (from torch) (4.3.0)\n",
      "Requirement already satisfied: matplotlib in /opt/conda/lib/python3.9/site-packages (3.5.3)\n",
      "Requirement already satisfied: skorch in /opt/conda/lib/python3.9/site-packages (0.11.0)\n",
      "Requirement already satisfied: h5py in /opt/conda/lib/python3.9/site-packages (3.7.0)\n",
      "Requirement already satisfied: seaborn in /opt/conda/lib/python3.9/site-packages (0.11.2)\n",
      "Requirement already satisfied: fonttools>=4.22.0 in /opt/conda/lib/python3.9/site-packages (from matplotlib) (4.36.0)\n",
      "Requirement already satisfied: cycler>=0.10 in /opt/conda/lib/python3.9/site-packages (from matplotlib) (0.11.0)\n",
      "Requirement already satisfied: kiwisolver>=1.0.1 in /opt/conda/lib/python3.9/site-packages (from matplotlib) (1.4.4)\n",
      "Requirement already satisfied: pyparsing>=2.2.1 in /opt/conda/lib/python3.9/site-packages (from matplotlib) (2.4.7)\n",
      "Requirement already satisfied: packaging>=20.0 in /opt/conda/lib/python3.9/site-packages (from matplotlib) (21.0)\n",
      "Requirement already satisfied: numpy>=1.17 in /opt/conda/lib/python3.9/site-packages (from matplotlib) (1.23.2)\n",
      "Requirement already satisfied: python-dateutil>=2.7 in /opt/conda/lib/python3.9/site-packages (from matplotlib) (2.8.2)\n",
      "Requirement already satisfied: pillow>=6.2.0 in /opt/conda/lib/python3.9/site-packages (from matplotlib) (9.2.0)\n",
      "Requirement already satisfied: scipy>=1.1.0 in /opt/conda/lib/python3.9/site-packages (from skorch) (1.9.0)\n",
      "Requirement already satisfied: scikit-learn>=0.19.1 in /opt/conda/lib/python3.9/site-packages (from skorch) (1.1.2)\n",
      "Requirement already satisfied: tabulate>=0.7.7 in /opt/conda/lib/python3.9/site-packages (from skorch) (0.8.10)\n",
      "Requirement already satisfied: tqdm>=4.14.0 in /opt/conda/lib/python3.9/site-packages (from skorch) (4.62.2)\n",
      "Requirement already satisfied: pandas>=0.23 in /opt/conda/lib/python3.9/site-packages (from seaborn) (1.4.3)\n",
      "Requirement already satisfied: pytz>=2020.1 in /opt/conda/lib/python3.9/site-packages (from pandas>=0.23->seaborn) (2021.1)\n",
      "Requirement already satisfied: six>=1.5 in /opt/conda/lib/python3.9/site-packages (from python-dateutil>=2.7->matplotlib) (1.16.0)\n",
      "Requirement already satisfied: threadpoolctl>=2.0.0 in /opt/conda/lib/python3.9/site-packages (from scikit-learn>=0.19.1->skorch) (3.1.0)\n",
      "Requirement already satisfied: joblib>=1.0.0 in /opt/conda/lib/python3.9/site-packages (from scikit-learn>=0.19.1->skorch) (1.1.0)\n"
     ]
    }
   ],
   "source": [
    "!pip install scikit-learn pandas kfp line_profiler memory_profiler ipywidgets\n",
    "!pip install --upgrade torch --extra-index-url https://download.pytorch.org/whl/cu113\n",
    "!pip install --upgrade matplotlib skorch h5py seaborn\n",
    "\n",
    "import sys\n",
    "sys.path.insert(0, '/home/jovyan/braindecode/')\n",
    "sys.path.insert(0, '/home/jovyan/mne-python/')\n",
    "\n",
    "from decode_tueg import decode_tueg"
   ]
  },
  {
   "cell_type": "code",
   "execution_count": 3,
   "id": "57b2cfbb-9d06-4487-b26d-605374b415af",
   "metadata": {},
   "outputs": [],
   "source": [
    "import time\n",
    "import logging\n",
    "\n",
    "from sklearn.model_selection import ParameterGrid, ParameterSampler\n",
    "import pandas as pd"
   ]
  },
  {
   "cell_type": "code",
   "execution_count": 4,
   "id": "b1e1eea2-2a94-417a-b782-99ebf64f7690",
   "metadata": {},
   "outputs": [],
   "source": [
    "import os\n",
    "import glob\n",
    "import datetime\n",
    "from typing import List\n",
    "from functools import reduce\n",
    "\n",
    "import json\n",
    "from kfp import Client\n",
    "from kfp.compiler import Compiler\n",
    "from kfp.components import (\n",
    "    create_component_from_func, load_component_from_text, OutputPath)\n",
    "from kfp.dsl import (\n",
    "    PipelineParam, PipelineVolume, pipeline as dsl_pipeline, RUN_ID_PLACEHOLDER)\n",
    "from kubernetes.client.models.v1_toleration import V1Toleration\n",
    "from kubernetes.client import V1EmptyDirVolumeSource, V1Volume\n",
    "client = Client()"
   ]
  },
  {
   "cell_type": "code",
   "execution_count": 5,
   "id": "77138501-82c7-4fe1-b951-df9fdb862f88",
   "metadata": {},
   "outputs": [
    {
     "data": {
      "text/plain": [
       "'11.3'"
      ]
     },
     "execution_count": 5,
     "metadata": {},
     "output_type": "execute_result"
    }
   ],
   "source": [
    "import torch\n",
    "torch.version.cuda"
   ]
  },
  {
   "cell_type": "raw",
   "id": "d0c5c820-3364-46f4-9fbc-81ed4d03b1b7",
   "metadata": {
    "jupyter": {
     "source_hidden": true
    },
    "tags": []
   },
   "source": [
    "convert(\"\"\"\n",
    "n_jobs=4\n",
    "data_path='/home/jovyan/mne_data/TUH_PRE/tuh_eeg_abnormal/v2.0.0/edf/train/'\n",
    "subset='normal'\n",
    "n_recordings=None\n",
    "tmin=1*60\n",
    "tmax=3*60\n",
    "scale_data=True\n",
    "scale_targets=True\n",
    "window_size_samples=6000\n",
    "seed=20220429\n",
    "model_name='shallow'\n",
    "n_epochs=35\n",
    "n_restarts=0\n",
    "batch_size=64\n",
    "valid_set_fraction=.2\n",
    "shuffle_data_before_split=False\n",
    "out_dir='/home/jovyan/'\n",
    "preload=True\n",
    "final_eval=False\n",
    "\"\"\"\n",
    ")\n",
    "\n",
    "convert(\"\"\"\n",
    "n_jobs:int=4\n",
    "data_path:str='/home/jovyan/mne_data/TUH_PRE/tuh_eeg_abnormal/v2.0.0/edf/train/'\n",
    "subset:str='normal'\n",
    "n_recordings:int=None\n",
    "tmin:int=1*60\n",
    "tmax:int=3*60\n",
    "scale_data:bool=True\n",
    "scale_targets:bool=True\n",
    "window_size_samples:int=6000\n",
    "seed:int=20220429\n",
    "model_name:str='shallow'\n",
    "n_epochs:int=35\n",
    "n_restarts:int=0\n",
    "batch_size:int=64\n",
    "valid_set_fraction:float=.2\n",
    "shuffle_data_before_split:bool=False\n",
    "out_dir:str='/home/jovyan/'\n",
    "preload:bool=True\n",
    "final_eval:bool=False\n",
    "\"\"\"\n",
    ")"
   ]
  },
  {
   "cell_type": "code",
   "execution_count": 6,
   "id": "3a47a36a-cb33-4eed-a21c-a969fb803971",
   "metadata": {},
   "outputs": [],
   "source": [
    "pipe_suffix = 'decode_age'"
   ]
  },
  {
   "cell_type": "code",
   "execution_count": 7,
   "id": "0cf04809-cda1-4a2a-9319-151f45890011",
   "metadata": {},
   "outputs": [],
   "source": [
    "job_definition = \"\"\"\n",
    "name: TUAB age decoding\n",
    "inputs:\n",
    "- name: augment\n",
    "  type: String\n",
    "- name: batch_size\n",
    "  type: Integer\n",
    "- name: data_path\n",
    "  type: String\n",
    "- name: debug\n",
    "  type: Integer\n",
    "- name: fast_mode\n",
    "  type: Integer\n",
    "- name: final_eval\n",
    "  type: Integer\n",
    "- name: intuitive_training_scores\n",
    "  type: Integer\n",
    "- name: loss\n",
    "  type: String\n",
    "- name: model_name\n",
    "  type: String\n",
    "- name: n_epochs\n",
    "  type: Integer\n",
    "- name: n_jobs\n",
    "  type: Integer\n",
    "- name: n_restarts\n",
    "  type: Integer\n",
    "- name: n_train_recordings\n",
    "  type: Integer\n",
    "- name: out_dir\n",
    "  type: String\n",
    "- name: preload\n",
    "  type: Integer\n",
    "- name: seed\n",
    "  type: Integer\n",
    "- name: shuffle_data_before_split\n",
    "  type: Integer\n",
    "- name: split_kind\n",
    "  type: String\n",
    "- name: squash_outs\n",
    "  type: Integer\n",
    "- name: standardize_data\n",
    "  type: Integer\n",
    "- name: standardize_targets\n",
    "  type: Integer\n",
    "- name: subset\n",
    "  type: String\n",
    "- name: target_name\n",
    "  type: String\n",
    "- name: tmax\n",
    "  type: Integer\n",
    "- name: tmin\n",
    "  type: Integer\n",
    "- name: valid_set_i\n",
    "  type: Integer\n",
    "- name: window_size_samples\n",
    "  type: Integer\n",
    "- name: run_name\n",
    "  type: String\n",
    "  \n",
    "  \n",
    "implementation:\n",
    "    container:\n",
    "        # This is using a development version of the job executor, which might \n",
    "        # unexpectedly change,\n",
    "        # You probably want to got to https://cr.nail.science and pick the latest\n",
    "        # stable tag, e.g. v1.0.0, to use in your experiments.\n",
    "        image: cr.nail.science/ml-containers/python-job:git-6d43792\n",
    "        command: ['/init', 'python', 'decode_tueg.py']\n",
    "        args: [\n",
    "            '--augment', {inputValue: augment},\n",
    "            '--batch-size', {inputValue: batch_size},\n",
    "            '--data-path', {inputValue: data_path},\n",
    "            '--debug', {inputValue: debug},\n",
    "            '--fast-mode', {inputValue: fast_mode},\n",
    "            '--final-eval', {inputValue: final_eval},\n",
    "            '--intuitive-training-scores', {inputValue: intuitive_training_scores},\n",
    "            '--loss', {inputValue: loss},\n",
    "            '--model-name', {inputValue: model_name},\n",
    "            '--n-epochs', {inputValue: n_epochs},\n",
    "            '--n-jobs', {inputValue: n_jobs},\n",
    "            '--n-restarts', {inputValue: n_restarts},\n",
    "            '--n-train-recordings', {inputValue: n_train_recordings},\n",
    "            '--out-dir', {inputValue: out_dir},\n",
    "            '--preload', {inputValue: preload},\n",
    "            '--seed', {inputValue: seed},\n",
    "            '--shuffle-data-before-split', {inputValue: shuffle_data_before_split},\n",
    "            '--split-kind', {inputValue: split_kind},\n",
    "            '--squash-outs', {inputValue: squash_outs},\n",
    "            '--standardize-data', {inputValue: standardize_data},\n",
    "            '--standardize-targets', {inputValue: standardize_targets},\n",
    "            '--subset', {inputValue: subset},\n",
    "            '--target-name', {inputValue: target_name},\n",
    "            '--tmax', {inputValue: tmax},\n",
    "            '--tmin', {inputValue: tmin},\n",
    "            '--valid-set-i', {inputValue: valid_set_i},\n",
    "            '--window-size-samples', {inputValue: window_size_samples},\n",
    "            '--run-name', {inputValue: run_name},\n",
    "        ]\n",
    "\"\"\""
   ]
  },
  {
   "cell_type": "code",
   "execution_count": 8,
   "id": "f4c08075-255d-421a-b7f6-df6ace35da7a",
   "metadata": {},
   "outputs": [
    {
     "data": {
      "text/plain": [
       "'kf-gemein-lukas-decode_age'"
      ]
     },
     "execution_count": 8,
     "metadata": {},
     "output_type": "execute_result"
    }
   ],
   "source": [
    "f\"{client.get_user_namespace()}-{pipe_suffix}\""
   ]
  },
  {
   "cell_type": "code",
   "execution_count": 9,
   "id": "12aedb3e-4d19-480d-aa50-f93945fdebe3",
   "metadata": {},
   "outputs": [],
   "source": [
    "@dsl_pipeline(name=f\"{client.get_user_namespace()}-{pipe_suffix}\")\n",
    "def demo_pipeline(\n",
    "    augment:str,\n",
    "    batch_size:int,\n",
    "    data_path:str,\n",
    "    debug:int,\n",
    "    fast_mode:int,\n",
    "    final_eval:int,\n",
    "    intuitive_training_scores:int,\n",
    "    loss:str,\n",
    "    model_name:str,\n",
    "    n_epochs:int,\n",
    "    n_jobs:int,\n",
    "    n_restarts:int,\n",
    "    n_train_recordings:int,\n",
    "    out_dir:str,\n",
    "    preload:int,\n",
    "    seed:int,\n",
    "    shuffle_data_before_split:int,\n",
    "    split_kind:str,\n",
    "    squash_outs:int,\n",
    "    standardize_data:int,\n",
    "    standardize_targets:int,\n",
    "    subset:str,\n",
    "    target_name:str,\n",
    "    tmax:int,\n",
    "    tmin:int,\n",
    "    valid_set_i:int,\n",
    "    window_size_samples:int,\n",
    "    run_id:str=RUN_ID_PLACEHOLDER,\n",
    "):\n",
    "    workspace = PipelineVolume(pvc=f'workspace-tueg')\n",
    "    mne_data = PipelineVolume(pvc='mne-data')\n",
    "    shared_volume = PipelineVolume(volume=V1Volume(\n",
    "        name=\"shm\",\n",
    "        empty_dir=V1EmptyDirVolumeSource(medium='Memory')))\n",
    "    \n",
    "    run_name = f\"decode_age\"\n",
    "    # on disk, preprocessed TUHAbnormal is 17GB\n",
    "    mem_lim = '20Gi'\n",
    "    mem_req = '20Gi'\n",
    "\n",
    "    (load_component_from_text(job_definition)(\n",
    "        augment=augment,\n",
    "        batch_size=batch_size,\n",
    "        data_path=data_path,\n",
    "        debug=debug,\n",
    "        fast_mode=fast_mode,\n",
    "        final_eval=final_eval,\n",
    "        intuitive_training_scores=intuitive_training_scores,\n",
    "        loss=loss,\n",
    "        model_name=model_name,\n",
    "        n_epochs=n_epochs,\n",
    "        n_jobs=n_jobs,\n",
    "        n_restarts=n_restarts,\n",
    "        n_train_recordings=n_train_recordings,\n",
    "        out_dir=out_dir,\n",
    "        preload=preload,\n",
    "        seed=seed,\n",
    "        shuffle_data_before_split=shuffle_data_before_split,\n",
    "        split_kind=split_kind,\n",
    "        squash_outs=squash_outs,\n",
    "        standardize_data=standardize_data,\n",
    "        standardize_targets=standardize_targets,\n",
    "        subset=subset,\n",
    "        target_name=target_name,\n",
    "        tmax=tmax,\n",
    "        tmin=tmin,\n",
    "        valid_set_i=valid_set_i,\n",
    "        window_size_samples=window_size_samples,\n",
    "        run_name=run_name,\n",
    "    )\n",
    "    .add_pvolumes({\n",
    "        '/work': workspace,\n",
    "        '/home/jovyan/mne_data': mne_data,\n",
    "        '/dev/shm': shared_volume,\n",
    "    })\n",
    "    # If you do not add this, your job will download all the packages on every run. \n",
    "    # Which will be veery slow and congest our network ...\n",
    "    .add_pod_label('shared-package-cache', 'true')\n",
    "    # Request the required resources\n",
    "    .set_cpu_limit('6')\n",
    "    .set_cpu_request('6')\n",
    "    .set_memory_limit(mem_lim)\n",
    "    .set_memory_request(mem_req)\n",
    "    # This is needed so your job can be scheduled on GPU nodes \n",
    "    .add_toleration(\n",
    "        V1Toleration(key='nvidia.com/gpu', operator='Exists', effect='NoSchedule'))\n",
    "    .set_gpu_limit('1')\n",
    "    )"
   ]
  },
  {
   "cell_type": "code",
   "execution_count": 10,
   "id": "a72a8cb9-9e17-4983-82e3-6c53e6c9d31b",
   "metadata": {},
   "outputs": [],
   "source": [
    "yml_file = '/home/jovyan/workflow.yaml'\n",
    "pipeline_name = f\"{client.get_user_namespace()}-{pipe_suffix}\""
   ]
  },
  {
   "cell_type": "code",
   "execution_count": 11,
   "id": "a8a0c5bb-3ffe-4650-b035-b8f254e68da3",
   "metadata": {},
   "outputs": [
    {
     "data": {
      "text/plain": [
       "'kf-gemein-lukas-decode_age'"
      ]
     },
     "execution_count": 11,
     "metadata": {},
     "output_type": "execute_result"
    }
   ],
   "source": [
    "pipeline_name"
   ]
  },
  {
   "cell_type": "code",
   "execution_count": 12,
   "id": "a066dbfe-c30c-40ac-8b82-f6eb72124ebc",
   "metadata": {},
   "outputs": [],
   "source": [
    "Compiler().compile(demo_pipeline, yml_file)"
   ]
  },
  {
   "cell_type": "code",
   "execution_count": 13,
   "id": "4b8c5b3f-3fe3-4e21-b453-014423fcccb9",
   "metadata": {},
   "outputs": [
    {
     "data": {
      "text/html": [
       "<a href=/pipeline/#/pipelines/details/90ecac62-85d8-42af-a7a9-a88dfc2ddf58>Pipeline details</a>."
      ],
      "text/plain": [
       "<IPython.core.display.HTML object>"
      ]
     },
     "metadata": {},
     "output_type": "display_data"
    }
   ],
   "source": [
    "pipeline_id = client.get_pipeline_id(pipeline_name)\n",
    "if pipeline_id is not None:\n",
    "    pipeline = client.get_pipeline(pipeline_id)\n",
    "    pipline = client.upload_pipeline_version(\n",
    "        yml_file, pipeline_id=pipeline_id, \n",
    "        pipeline_version_name=datetime.datetime.now().isoformat())\n",
    "else:\n",
    "    pipeline = client.upload_pipeline(yml_file, pipeline_name=pipeline_name)"
   ]
  },
  {
   "cell_type": "code",
   "execution_count": 14,
   "id": "249833df-66a3-4309-a461-dc8a64f93af5",
   "metadata": {},
   "outputs": [
    {
     "data": {
      "text/plain": [
       "'kf-gemein-lukas-decode_age'"
      ]
     },
     "execution_count": 14,
     "metadata": {},
     "output_type": "execute_result"
    }
   ],
   "source": [
    "pipeline_name"
   ]
  },
  {
   "cell_type": "code",
   "execution_count": 15,
   "id": "846969c9-b9fa-47a4-8d1b-abdcbc4c2162",
   "metadata": {},
   "outputs": [],
   "source": [
    "try:\n",
    "    experiment = client.get_experiment(experiment_name=pipe_suffix)\n",
    "except ValueError:\n",
    "    experiment = client.create_experiment(pipe_suffix)"
   ]
  },
  {
   "cell_type": "code",
   "execution_count": 7,
   "id": "235f5122-3ea4-42a9-97aa-eee64cf19dc7",
   "metadata": {},
   "outputs": [],
   "source": [
    "if run_in_notebook:\n",
    "    out_dir = '/home/jovyan/outdated_runs/'  #full_runs/'\n",
    "else:\n",
    "    out_dir = '/work/new_full_runs/'"
   ]
  },
  {
   "cell_type": "code",
   "execution_count": 8,
   "id": "cd1cae18-5651-478e-a9c1-68cf0e5d3a7f",
   "metadata": {},
   "outputs": [],
   "source": [
    "param_grid = ParameterGrid({\n",
    "    'model_name': ['tcn'],  # 'shallow', 'deep', 'tcn'\n",
    "    'subset': ['normal'],  # 'normal', 'abnormal', 'mixed'\n",
    "    'target_name': ['age'],  # age, gender, pathological, age_clf\n",
    "\n",
    "    'valid_set_i': [0],  # 0, 1, 2, 3, 4\n",
    "    'n_epochs': [3],  # 35, 105, 210\n",
    "    'n_restarts': [0],  # 0, 2, 5\n",
    "    'augment': ['random'],  # dropout, flipfb, fliplr, noise, mask, reverse, shuffle, sign, random, identity\n",
    "    'fast_mode': [0],\n",
    "    'loss': ['huber'],  # mse, mae, log_cosh, huber\n",
    "\n",
    "    'n_train_recordings': [-1],  # -1: None\n",
    "    'tmax': [3*60],  # 4*60done, 6*60done, 11*60done, -1,  # -1: None\n",
    "    'data_path': ['/home/jovyan/mne_data/TUH_PRE/tuh_eeg_abnormal/v2.0.0/edf/'],\n",
    "    'split_kind': ['age_distribution'],  # chronological, random, age_distribution\n",
    "    'squash_outs': [1],  # force output to be in [0, 1] through sigmoid\n",
    "\n",
    "    'final_eval': [0],\n",
    "    'debug': [1],\n",
    "    'seed': [20220429],\n",
    "    'intuitive_training_scores': [1],  # 1: add slow callbacks that track age decodnig loss intuitively as mae\n",
    "    'out_dir': [out_dir],\n",
    "    'n_jobs': [6],  # faster than 1, 3, and 4 on tmax=2*60, n_recordings=-1, subset=normal, n_epochs=5, preload=0\n",
    "    'preload': [0],\n",
    "\n",
    "    'batch_size': [64],  # 64. does CroppedTrialEpochStoring increase GPU memory consumption? 256 works fine in notebook but fails as pipeline. 128 works with shallow fails with deep\n",
    "    'tmin': [1*60],\n",
    "    'standardize_data': [1],\n",
    "    'standardize_targets': [1],\n",
    "    'window_size_samples': [6000],\n",
    "    'shuffle_data_before_split': [0],\n",
    "})"
   ]
  },
  {
   "cell_type": "raw",
   "id": "29129c67-55e1-4292-8fe4-5404c9b72f18",
   "metadata": {},
   "source": [
    "# stuff that was started and crashed over the Gimpelhaus weekend\n",
    "param_grid = ParameterGrid({\n",
    "    'model_name': ['tcn'],  # 'shallow', 'deep', 'tcn'\n",
    "    'subset': ['normal', 'abnormal', 'mixed'],  # 'normal', 'abnormal', 'mixed'\n",
    "    'target_name': ['age'],  # age, gender, pathological\n",
    "\n",
    "    'valid_set_i': [0, 1, 2, 3, 4],  # 0, 1, 2, 3, 4\n",
    "    'n_epochs': [35],  # 35, 105, 210\n",
    "    'n_restarts': [0],  # 0, 2, 5\n",
    "    'augment': ['random'],  # dropout, flipfb, fliplr, noise, mask, reverse, shuffle, sign, random, identity\n",
    "    'fast_mode': [1],\n",
    "    'loss': ['huber', 'mae', 'mse'],  # mse, mae, log_cosh, huber\n",
    "\n",
    "    'n_train_recordings': [-1],  # -1: None\n",
    "    'tmax': [-1],  # 4*60done, 6*60done, 11*60done, -1,  # -1: None\n",
    "    'data_path': ['/home/jovyan/mne_data/TUH_PRE/tuh_eeg_abnormal/v2.0.0/edf/'],\n",
    "    'split_kind': ['age_distribution'],  # chronological, random, age_distribution\n",
    "    'squash_outs': [1],  # force output to be in [0, 1] through sigmoid\n",
    "\n",
    "    'final_eval': [0],\n",
    "    'debug': [1],\n",
    "    'seed': [20220429],\n",
    "    'intuitive_training_scores': [1],  # 1: add slow callbacks that track age decodnig loss intuitively as mae\n",
    "    'out_dir': [out_dir],\n",
    "    'n_jobs': [8],  # faster than 1, 3, and 4 on tmax=2*60, n_recordings=-1, subset=normal, n_epochs=5, preload=0\n",
    "    'preload': [0],\n",
    "\n",
    "    'batch_size': [64],  # 64. does CroppedTrialEpochStoring increase GPU memory consumption? 256 works fine in notebook but fails as pipeline. 128 works with shallow fails with deep\n",
    "    'tmin': [1*60],\n",
    "    'standardize_data': [1],\n",
    "    'standardize_targets': [1],\n",
    "    'window_size_samples': [6000],\n",
    "    'shuffle_data_before_split': [0],\n",
    "})"
   ]
  },
  {
   "cell_type": "raw",
   "id": "1cee4409-1693-417a-802a-80aeadc53d9e",
   "metadata": {},
   "source": [
    "apparently, reading entire tuh abnormal and preprocessing (cropping 60,960) takes >10 mins"
   ]
  },
  {
   "cell_type": "raw",
   "id": "a5f3d36b-6dc8-45a0-8a0a-984b5a13ecd3",
   "metadata": {},
   "source": [
    "full dataset with tmax=16*60 crashes on 16GB RAM and on 25GB"
   ]
  },
  {
   "cell_type": "raw",
   "id": "48a17c30-d5a4-494b-a95b-05b131af1e2c",
   "metadata": {
    "jupyter": {
     "source_hidden": true
    },
    "tags": []
   },
   "source": [
    "param_grid = ParameterGrid({\n",
    "    'subset':['mixed'],  # 'normal', 'abnormal', 'mixed'\n",
    "    'model_name':['shallow'],  # 'shallow', 'deep', 'tcn'\n",
    "    'tmax':[16*60],  # 4*60done, 6*60done, 11*60done, -1,  # -1: None\n",
    "    'target_name': ['pathological'],  # age, gender, pathological\n",
    "\n",
    "    'n_epochs':[35],  # 35, 105, 210\n",
    "    'n_restarts':[0],  # 0, 2, 5\n",
    "    'n_train_recordings':[-1],  # -1: None\n",
    "\n",
    "    'preload':[0],\n",
    "    'split_kind':['chronological'],  # chronological, random, age_distribution\n",
    "    'drop_prob':[-1],  # shallow: .5, deep: .5, tcn: 0.0195875974361336, -1: None for defaults\n",
    "    'intuitive_training_scores':[1],  # 1: add potentially slow callbacks that track loss intuitively as mae\n",
    "    'out_dir':['/home/jovyan/tuab_reproduction/'],\n",
    "    'n_jobs':[2],  # faster than 1, 3, and 4 on tmax=2*60, n_recordings=-1, subset=normal, n_epochs=5, preload=0\n",
    "\n",
    "    'batch_size':[64],  # 64. does CroppedTrialEpochStoring increase GPU memory consumption? 256 works fine in notebook but fails as pipeline. 128 works with shallow fails with deep\n",
    "    'data_path':['/home/jovyan/mne_data/TUH_PRE/tuh_eeg_abnormal/v2.0.0/edf/train/'],\n",
    "    'tmin':[1*60],\n",
    "    'standardize_data':[1],\n",
    "    'standardize_targets':[1],\n",
    "    'window_size_samples':[6000],\n",
    "    'seed':[20220429],\n",
    "    'valid_set_fraction':[.2],\n",
    "    'shuffle_data_before_split':[0],\n",
    "    'final_eval':[1],\n",
    "})"
   ]
  },
  {
   "cell_type": "code",
   "execution_count": 9,
   "id": "ceeff2d7-1dad-42b2-add9-24986c191f7b",
   "metadata": {},
   "outputs": [
    {
     "data": {
      "text/plain": [
       "1"
      ]
     },
     "execution_count": 9,
     "metadata": {},
     "output_type": "execute_result"
    }
   ],
   "source": [
    "len(param_grid)"
   ]
  },
  {
   "cell_type": "code",
   "execution_count": 10,
   "id": "78d6c415-04df-46ab-b45c-8ee58a260855",
   "metadata": {},
   "outputs": [
    {
     "name": "stdout",
     "output_type": "stream",
     "text": [
      "2022-08-22 11:49:39 WARNING  'loss' without effect with this target (age)\n",
      "2022-08-22 11:49:39 INFO     \n",
      "augment                                                                 random\n",
      "batch_size                                                                  64\n",
      "data_path                    /home/jovyan/mne_data/TUH_PRE/tuh_eeg_abnormal...\n",
      "debug                                                                        1\n",
      "fast_mode                                                                    0\n",
      "final_eval                                                                   0\n",
      "intuitive_training_scores                                                    1\n",
      "loss                                                                     huber\n",
      "model_name                                                                 tcn\n",
      "n_epochs                                                                     3\n",
      "n_jobs                                                                       6\n",
      "n_restarts                                                                   0\n",
      "n_train_recordings                                                          -1\n",
      "out_dir                                            /home/jovyan/outdated_runs/\n",
      "preload                                                                      0\n",
      "seed                                                                  20220429\n",
      "shuffle_data_before_split                                                    0\n",
      "split_kind                                                    age_distribution\n",
      "squash_outs                                                                  1\n",
      "standardize_data                                                             1\n",
      "standardize_targets                                                          1\n",
      "subset                                                                  normal\n",
      "target_name                                                                age\n",
      "tmax                                                                       180\n",
      "tmin                                                                        60\n",
      "valid_set_i                                                                  0\n",
      "window_size_samples                                                       6000\n",
      "Name: config, dtype: object\n",
      "2022-08-22 11:49:39 DEBUG    cuda: True\n",
      "2022-08-22 11:49:39 DEBUG    cropped: True\n",
      "2022-08-22 11:49:39 DEBUG    indexing files\n",
      "2022-08-22 11:50:00 INFO     validation run, removing eval from dataset with 2993 recordings\n",
      "2022-08-22 11:50:00 DEBUG    into train (0.9) and eval (0.1).\n",
      "2022-08-22 11:50:00 DEBUG    splitting dataset with 2693 recordings\n",
      "2022-08-22 11:50:00 DEBUG    into train (.8) and valid (.2).\n",
      "2022-08-22 11:50:00 DEBUG    from train (2154) and valid (539) selecting normal\n",
      "2022-08-22 11:50:00 DEBUG    selected train (1098) and valid (271)\n",
      "2022-08-22 11:50:00 DEBUG    some raw durations [3023.0, 1187.0, 1147.0]\n",
      "2022-08-22 11:50:00 DEBUG    preprocessing\n",
      "2022-08-22 11:50:00 DEBUG    adding cropper 60 – 180\n",
      "2022-08-22 11:50:07 DEBUG    adding cropper 60 – 180\n",
      "2022-08-22 11:50:09 DEBUG    some preprocessed durations [120.0, 120.0, 120.0]\n",
      "2022-08-22 11:50:09 DEBUG    train datasets 1098\n",
      "2022-08-22 11:50:09 DEBUG    valid datasets 271\n",
      "2022-08-22 11:50:09 DEBUG    creating model\n",
      "2022-08-22 11:50:09 INFO     Sequential(\n",
      "  (tcn): TCN(\n",
      "    (ensuredims): Ensure4d()\n",
      "    (temporal_blocks): Sequential(\n",
      "      (temporal_block_0): TemporalBlock(\n",
      "        (conv1): Conv1d(21, 53, kernel_size=(9,), stride=(1,), padding=(8,))\n",
      "        (chomp1): Chomp1d(chomp_size=8)\n",
      "        (relu1): ReLU()\n",
      "        (dropout1): Dropout1d(p=0.0195875974361336, inplace=False)\n",
      "        (conv2): Conv1d(53, 53, kernel_size=(9,), stride=(1,), padding=(8,))\n",
      "        (chomp2): Chomp1d(chomp_size=8)\n",
      "        (relu2): ReLU()\n",
      "        (dropout2): Dropout1d(p=0.0195875974361336, inplace=False)\n",
      "        (downsample): Conv1d(21, 53, kernel_size=(1,), stride=(1,))\n",
      "        (relu): ReLU()\n",
      "      )\n",
      "      (temporal_block_1): TemporalBlock(\n",
      "        (conv1): Conv1d(53, 53, kernel_size=(9,), stride=(1,), padding=(16,), dilation=(2,))\n",
      "        (chomp1): Chomp1d(chomp_size=16)\n",
      "        (relu1): ReLU()\n",
      "        (dropout1): Dropout1d(p=0.0195875974361336, inplace=False)\n",
      "        (conv2): Conv1d(53, 53, kernel_size=(9,), stride=(1,), padding=(16,), dilation=(2,))\n",
      "        (chomp2): Chomp1d(chomp_size=16)\n",
      "        (relu2): ReLU()\n",
      "        (dropout2): Dropout1d(p=0.0195875974361336, inplace=False)\n",
      "        (relu): ReLU()\n",
      "      )\n",
      "      (temporal_block_2): TemporalBlock(\n",
      "        (conv1): Conv1d(53, 53, kernel_size=(9,), stride=(1,), padding=(32,), dilation=(4,))\n",
      "        (chomp1): Chomp1d(chomp_size=32)\n",
      "        (relu1): ReLU()\n",
      "        (dropout1): Dropout1d(p=0.0195875974361336, inplace=False)\n",
      "        (conv2): Conv1d(53, 53, kernel_size=(9,), stride=(1,), padding=(32,), dilation=(4,))\n",
      "        (chomp2): Chomp1d(chomp_size=32)\n",
      "        (relu2): ReLU()\n",
      "        (dropout2): Dropout1d(p=0.0195875974361336, inplace=False)\n",
      "        (relu): ReLU()\n",
      "      )\n",
      "      (temporal_block_3): TemporalBlock(\n",
      "        (conv1): Conv1d(53, 53, kernel_size=(9,), stride=(1,), padding=(64,), dilation=(8,))\n",
      "        (chomp1): Chomp1d(chomp_size=64)\n",
      "        (relu1): ReLU()\n",
      "        (dropout1): Dropout1d(p=0.0195875974361336, inplace=False)\n",
      "        (conv2): Conv1d(53, 53, kernel_size=(9,), stride=(1,), padding=(64,), dilation=(8,))\n",
      "        (chomp2): Chomp1d(chomp_size=64)\n",
      "        (relu2): ReLU()\n",
      "        (dropout2): Dropout1d(p=0.0195875974361336, inplace=False)\n",
      "        (relu): ReLU()\n",
      "      )\n",
      "      (temporal_block_4): TemporalBlock(\n",
      "        (conv1): Conv1d(53, 53, kernel_size=(9,), stride=(1,), padding=(128,), dilation=(16,))\n",
      "        (chomp1): Chomp1d(chomp_size=128)\n",
      "        (relu1): ReLU()\n",
      "        (dropout1): Dropout1d(p=0.0195875974361336, inplace=False)\n",
      "        (conv2): Conv1d(53, 53, kernel_size=(9,), stride=(1,), padding=(128,), dilation=(16,))\n",
      "        (chomp2): Chomp1d(chomp_size=128)\n",
      "        (relu2): ReLU()\n",
      "        (dropout2): Dropout1d(p=0.0195875974361336, inplace=False)\n",
      "        (relu): ReLU()\n",
      "      )\n",
      "    )\n",
      "    (fc): Linear(in_features=53, out_features=1, bias=True)\n",
      "    (squeeze): Expression(expression=squeeze_final_output) \n",
      "  )\n",
      "  (sigmoid): Sigmoid()\n",
      ")\n",
      "2022-08-22 11:50:09 DEBUG    model tcn produces 5504 preds for every input of size 6000\n",
      "2022-08-22 11:50:09 DEBUG    windowing\n",
      "2022-08-22 11:50:25 DEBUG    train windows 15372\n",
      "2022-08-22 11:50:25 DEBUG    valid windows 3794\n",
      "2022-08-22 11:50:29 DEBUG    prior to data scaling -3.098529850831255e-05\n",
      "2022-08-22 11:50:29 DEBUG    post data scaling -0.7982501983642578\n",
      "2022-08-22 11:50:32 DEBUG    mean/min train age: 0.00\n",
      "2022-08-22 11:50:32 DEBUG    std/max train age: 95.00\n",
      "2022-08-22 11:50:32 DEBUG    prior to minmax target scaling 30\n",
      "2022-08-22 11:50:32 DEBUG    post minmax target scaling 0.3157894736842105\n",
      "2022-08-22 11:50:32 DEBUG    sending to gpu\n",
      "2022-08-22 11:50:33 DEBUG    Adding augmentation transform 'random'\n",
      "2022-08-22 11:50:33 DEBUG    With 15372 examples and batch size of 64\n",
      "2022-08-22 11:50:33 DEBUG    expecting 241 batches/calls per epoch\n",
      "2022-08-22 11:50:33 DEBUG    Batch-wise choices are [ChannelsDropout(), ChannelsSymmetryFB(), ChannelsSymmetry(), SmoothTimeMask(), GaussianNoise(), TimeReverse(), ChannelsShuffle(), SignFlip(), IdentityTransform()]\n",
      "2022-08-22 11:50:33 INFO     TUAB, 1098–271 normal, 60s–180s, age, tcn, 3–0, huber, random, valid\n",
      "2022-08-22 11:50:33 INFO     starting training\n",
      "2022-08-22 11:51:58 INFO       epoch    train_age_mae    train_loss    valid_age_mae    valid_loss    cp      lr      dur\n",
      "2022-08-22 11:51:58 INFO     -------  ---------------  ------------  ---------------  ------------  ----  ------  -------\n",
      "2022-08-22 11:51:58 INFO           1          \u001b[36m12.7145\u001b[0m        \u001b[32m0.0146\u001b[0m          \u001b[35m12.9409\u001b[0m        \u001b[31m0.0135\u001b[0m     +  0.0005  48.3349\n",
      "2022-08-22 11:53:20 INFO           2          \u001b[36m12.0665\u001b[0m        \u001b[32m0.0137\u001b[0m          \u001b[35m12.3283\u001b[0m        \u001b[31m0.0130\u001b[0m     +  0.0004  46.4536\n",
      "2022-08-22 11:54:42 INFO           3          \u001b[36m11.3947\u001b[0m        \u001b[32m0.0127\u001b[0m          12.4182        \u001b[31m0.0124\u001b[0m        0.0001  46.9926\n",
      "2022-08-22 11:54:43 INFO     finished training\n",
      "2022-08-22 11:54:48 INFO     made final predictions\n",
      "2022-08-22 11:54:48 DEBUG    generating outputs\n",
      "2022-08-22 11:54:48 DEBUG    learning dummy score 13.225031758514307\n",
      "2022-08-22 11:55:05 DEBUG    age gap proxy dummy score 100.0\n",
      "2022-08-22 11:55:41 DEBUG    chronological vs predicted dummy 44.34\n",
      "2022-08-22 11:56:17 DEBUG    some predictions [[0.47080487]\n",
      " [0.52318674]\n",
      " [0.4419074 ]]\n",
      "2022-08-22 11:56:19 INFO     generated outputs\n"
     ]
    },
    {
     "data": {
      "image/png": "[encoded data removed]",
      "text/plain": [
       "<Figure size 1080x216 with 1 Axes>"
      ]
     },
     "metadata": {
      "needs_background": "light"
     },
     "output_type": "display_data"
    },
    {
     "data": {
      "image/png": "[encoded data removed]",
      "text/plain": [
       "<Figure size 1080x288 with 4 Axes>"
      ]
     },
     "metadata": {
      "needs_background": "light"
     },
     "output_type": "display_data"
    },
    {
     "data": {
      "image/png": "[encoded data removed]",
      "text/plain": [
       "<Figure size 864x864 with 4 Axes>"
      ]
     },
     "metadata": {
      "needs_background": "light"
     },
     "output_type": "display_data"
    }
   ],
   "source": [
    "if run_in_notebook:\n",
    "    for params_i, params in enumerate(param_grid):\n",
    "        # logging makes the second iteration crash....\n",
    "        decode_tueg(**params, config=pd.Series(params, name='config'))\n",
    "else:\n",
    "    runs = []\n",
    "    for params in param_grid:\n",
    "        run = client.run_pipeline(    \n",
    "            experiment_id=experiment.id, \n",
    "            pipeline_id=pipeline.id, \n",
    "            job_name=f\"{pipe_suffix}-{datetime.datetime.now().isoformat()}\",\n",
    "            params=params,\n",
    "        )\n",
    "        runs.append(run)\n",
    "        time.sleep(1)"
   ]
  },
  {
   "cell_type": "code",
   "execution_count": 11,
   "id": "6d358a56-47f6-4801-977f-4e583dcb2931",
   "metadata": {},
   "outputs": [
    {
     "name": "stdout",
     "output_type": "stream",
     "text": [
      "hi\n"
     ]
    }
   ],
   "source": [
    "print(\"hi\")"
   ]
  },
  {
   "cell_type": "code",
   "execution_count": null,
   "id": "a6862936-2436-4ef9-b7ed-853c6066b0de",
   "metadata": {},
   "outputs": [],
   "source": []
  },
  {
   "cell_type": "code",
   "execution_count": null,
   "id": "68bfe6db-0657-4765-b7c8-90042d48d9b9",
   "metadata": {},
   "outputs": [],
   "source": []
  },
  {
   "cell_type": "code",
   "execution_count": null,
   "id": "6a5f3cbe-1fe1-46e6-97a1-78e3ac0c6ff5",
   "metadata": {},
   "outputs": [],
   "source": []
  },
  {
   "cell_type": "code",
   "execution_count": null,
   "id": "89ce2504-3a19-40d6-8475-3bad23869311",
   "metadata": {},
   "outputs": [],
   "source": []
  },
  {
   "cell_type": "code",
   "execution_count": null,
   "id": "f34a0ee4-9460-4561-9994-8d39778b5dca",
   "metadata": {},
   "outputs": [],
   "source": []
  },
  {
   "cell_type": "code",
   "execution_count": 21,
   "id": "9e25ca97-be02-4854-a756-67336cfb53fd",
   "metadata": {},
   "outputs": [],
   "source": [
    "import json"
   ]
  },
  {
   "cell_type": "code",
   "execution_count": 22,
   "id": "6553820d-c5f9-41e0-80ca-8dc7c6cd02fe",
   "metadata": {},
   "outputs": [
    {
     "data": {
      "text/plain": [
       "'{\"augment\": \"random\", \"batch_size\": 64, \"data_path\": \"/home/jovyan/mne_data/TUH_PRE/tuh_eeg_abnormal/v2.0.0/edf/\", \"debug\": 1, \"fast_mode\": 1, \"final_eval\": 0, \"intuitive_training_scores\": 1, \"loss\": \"huber\", \"model_name\": \"tcn\", \"n_epochs\": 35, \"n_jobs\": 6, \"n_restarts\": 0, \"n_train_recordings\": -1, \"out_dir\": \"/work/new_full_runs/\", \"preload\": 0, \"seed\": 20220429, \"shuffle_data_before_split\": 0, \"split_kind\": \"age_distribution\", \"squash_outs\": 1, \"standardize_data\": 1, \"standardize_targets\": 1, \"subset\": \"normal\", \"target_name\": \"age\", \"tmax\": -1, \"tmin\": 60, \"valid_set_i\": 0, \"window_size_samples\": 6000}'"
      ]
     },
     "execution_count": 22,
     "metadata": {},
     "output_type": "execute_result"
    }
   ],
   "source": [
    "json.dumps(params)"
   ]
  },
  {
   "cell_type": "code",
   "execution_count": 23,
   "id": "a1140847-850e-4557-9965-72afe90f821c",
   "metadata": {},
   "outputs": [
    {
     "data": {
      "text/plain": [
       "{'augment': 'random',\n",
       " 'batch_size': 64,\n",
       " 'data_path': '/home/jovyan/mne_data/TUH_PRE/tuh_eeg_abnormal/v2.0.0/edf/',\n",
       " 'debug': 1,\n",
       " 'fast_mode': 1,\n",
       " 'final_eval': 0,\n",
       " 'intuitive_training_scores': 1,\n",
       " 'loss': 'huber',\n",
       " 'model_name': 'tcn',\n",
       " 'n_epochs': 35,\n",
       " 'n_jobs': 6,\n",
       " 'n_restarts': 0,\n",
       " 'n_train_recordings': -1,\n",
       " 'out_dir': '/work/new_full_runs/',\n",
       " 'preload': 0,\n",
       " 'seed': 20220429,\n",
       " 'shuffle_data_before_split': 0,\n",
       " 'split_kind': 'age_distribution',\n",
       " 'squash_outs': 1,\n",
       " 'standardize_data': 1,\n",
       " 'standardize_targets': 1,\n",
       " 'subset': 'normal',\n",
       " 'target_name': 'age',\n",
       " 'tmax': -1,\n",
       " 'tmin': 60,\n",
       " 'valid_set_i': 0,\n",
       " 'window_size_samples': 6000}"
      ]
     },
     "execution_count": 23,
     "metadata": {},
     "output_type": "execute_result"
    }
   ],
   "source": [
    "json.loads(json.dumps(params))"
   ]
  },
  {
   "cell_type": "code",
   "execution_count": null,
   "id": "04d1ba0a-86d3-4a1d-90d3-69c193e7ca08",
   "metadata": {},
   "outputs": [],
   "source": []
  }
 ],
 "metadata": {
  "kernelspec": {
   "display_name": "Python 3 (ipykernel)",
   "language": "python",
   "name": "python3"
  },
  "language_info": {
   "codemirror_mode": {
    "name": "ipython",
    "version": 3
   },
   "file_extension": ".py",
   "mimetype": "text/x-python",
   "name": "python",
   "nbconvert_exporter": "python",
   "pygments_lexer": "ipython3",
   "version": "3.9.7"
  }
 },
 "nbformat": 4,
 "nbformat_minor": 5
}
