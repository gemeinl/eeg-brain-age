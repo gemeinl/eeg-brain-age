{
 "cells": [
  {
   "cell_type": "raw",
   "id": "de84ff0a-988d-4710-a29f-3f16ffcb7f99",
   "metadata": {},
   "source": [
    "%load first_cell.py"
   ]
  },
  {
   "cell_type": "code",
   "execution_count": 1,
   "id": "f6345f18-9aab-4eed-9661-3f0090853b88",
   "metadata": {},
   "outputs": [],
   "source": [
    "from kfp import Client\n",
    "client = Client()"
   ]
  },
  {
   "cell_type": "code",
   "execution_count": 2,
   "id": "546d0278-b3a5-4074-a1de-f9657ec1ad13",
   "metadata": {},
   "outputs": [],
   "source": [
    "%load_ext autoreload\n",
    "%autoreload 2"
   ]
  },
  {
   "cell_type": "code",
   "execution_count": 3,
   "id": "383ae4b5-3201-48be-9545-9aaee8f578cf",
   "metadata": {},
   "outputs": [],
   "source": [
    "run_in_notebook = False"
   ]
  },
  {
   "cell_type": "code",
   "execution_count": 4,
   "id": "2ff51629-61d6-4436-b241-7fc330e1dd95",
   "metadata": {
    "tags": []
   },
   "outputs": [
    {
     "name": "stdout",
     "output_type": "stream",
     "text": [
      "Tue May  9 09:15:48 2023       \n",
      "+-----------------------------------------------------------------------------+\n",
      "| NVIDIA-SMI 525.60.13    Driver Version: 525.60.13    CUDA Version: 12.0     |\n",
      "|-------------------------------+----------------------+----------------------+\n",
      "| GPU  Name        Persistence-M| Bus-Id        Disp.A | Volatile Uncorr. ECC |\n",
      "| Fan  Temp  Perf  Pwr:Usage/Cap|         Memory-Usage | GPU-Util  Compute M. |\n",
      "|                               |                      |               MIG M. |\n",
      "|===============================+======================+======================|\n",
      "|   0  NVIDIA GeForce ...  On   | 00000000:B2:00.0 Off |                  N/A |\n",
      "| 27%   25C    P8    21W / 250W |   2079MiB / 11264MiB |      0%      Default |\n",
      "|                               |                      |                  N/A |\n",
      "+-------------------------------+----------------------+----------------------+\n",
      "                                                                               \n",
      "+-----------------------------------------------------------------------------+\n",
      "| Processes:                                                                  |\n",
      "|  GPU   GI   CI        PID   Type   Process name                  GPU Memory |\n",
      "|        ID   ID                                                   Usage      |\n",
      "|=============================================================================|\n",
      "+-----------------------------------------------------------------------------+\n",
      "\n"
     ]
    }
   ],
   "source": [
    "import sys\n",
    "sys.path.insert(0, '/home/jovyan/braindecode/')\n",
    "#sys.path.insert(0, '/home/jovyan/mne-python/')\n",
    "\n",
    "from decode_tueg import decode_tueg"
   ]
  },
  {
   "cell_type": "code",
   "execution_count": 5,
   "id": "57b2cfbb-9d06-4487-b26d-605374b415af",
   "metadata": {},
   "outputs": [],
   "source": [
    "import time\n",
    "\n",
    "from sklearn.model_selection import ParameterGrid, ParameterSampler\n",
    "import pandas as pd"
   ]
  },
  {
   "cell_type": "code",
   "execution_count": 6,
   "id": "b1e1eea2-2a94-417a-b782-99ebf64f7690",
   "metadata": {},
   "outputs": [],
   "source": [
    "import os\n",
    "import glob\n",
    "import datetime\n",
    "from typing import List\n",
    "from functools import reduce\n",
    "\n",
    "import json\n",
    "from kfp import Client\n",
    "from kfp.compiler import Compiler\n",
    "from kfp.components import (\n",
    "    create_component_from_func, load_component_from_text, OutputPath)\n",
    "from kfp.dsl import (\n",
    "    PipelineParam, PipelineVolume, pipeline as dsl_pipeline, RUN_ID_PLACEHOLDER)\n",
    "from kubernetes.client.models.v1_toleration import V1Toleration\n",
    "from kubernetes.client import V1EmptyDirVolumeSource, V1Volume"
   ]
  },
  {
   "cell_type": "code",
   "execution_count": 7,
   "id": "77138501-82c7-4fe1-b951-df9fdb862f88",
   "metadata": {},
   "outputs": [
    {
     "data": {
      "text/plain": [
       "'11.6'"
      ]
     },
     "execution_count": 7,
     "metadata": {},
     "output_type": "execute_result"
    }
   ],
   "source": [
    "import torch\n",
    "torch.version.cuda"
   ]
  },
  {
   "cell_type": "code",
   "execution_count": 8,
   "id": "abd1f0d7-f7cd-42ac-a55f-e1ce76df12fc",
   "metadata": {},
   "outputs": [],
   "source": [
    "assert torch.cuda.is_available()"
   ]
  },
  {
   "cell_type": "raw",
   "id": "d0c5c820-3364-46f4-9fbc-81ed4d03b1b7",
   "metadata": {
    "jupyter": {
     "source_hidden": true
    },
    "tags": []
   },
   "source": [
    "convert(\"\"\"\n",
    "n_jobs=4\n",
    "data_path='/home/jovyan/mne_data/TUH_PRE/tuh_eeg_abnormal/v2.0.0/edf/train/'\n",
    "subset='normal'\n",
    "n_recordings=None\n",
    "tmin=1*60\n",
    "tmax=3*60\n",
    "scale_data=True\n",
    "scale_targets=True\n",
    "window_size_samples=6000\n",
    "seed=20220429\n",
    "model_name='shallow'\n",
    "n_epochs=35\n",
    "n_restarts=0\n",
    "batch_size=64\n",
    "valid_set_fraction=.2\n",
    "shuffle_data_before_split=False\n",
    "out_dir='/home/jovyan/'\n",
    "preload=True\n",
    "final_eval=False\n",
    "\"\"\"\n",
    ")\n",
    "\n",
    "convert(\"\"\"\n",
    "n_jobs:int=4\n",
    "data_path:str='/home/jovyan/mne_data/TUH_PRE/tuh_eeg_abnormal/v2.0.0/edf/train/'\n",
    "subset:str='normal'\n",
    "n_recordings:int=None\n",
    "tmin:int=1*60\n",
    "tmax:int=3*60\n",
    "scale_data:bool=True\n",
    "scale_targets:bool=True\n",
    "window_size_samples:int=6000\n",
    "seed:int=20220429\n",
    "model_name:str='shallow'\n",
    "n_epochs:int=35\n",
    "n_restarts:int=0\n",
    "batch_size:int=64\n",
    "valid_set_fraction:float=.2\n",
    "shuffle_data_before_split:bool=False\n",
    "out_dir:str='/home/jovyan/'\n",
    "preload:bool=True\n",
    "final_eval:bool=False\n",
    "\"\"\"\n",
    ")"
   ]
  },
  {
   "cell_type": "code",
   "execution_count": 9,
   "id": "3a47a36a-cb33-4eed-a21c-a969fb803971",
   "metadata": {},
   "outputs": [],
   "source": [
    "pipe_suffix = 'decode_age'"
   ]
  },
  {
   "cell_type": "raw",
   "id": "df5e4e5a-9b0c-47b6-aaa4-0a0a580fa709",
   "metadata": {},
   "source": [
    "image used so far, experienced mambalock errors, switching to newer image after talking to mohammad\n",
    "image: cr.nail.science/ml-containers/python-job:git-6d43792"
   ]
  },
  {
   "cell_type": "raw",
   "id": "d33fc62b-95bb-49a9-b9f9-e8c068dd3283",
   "metadata": {},
   "source": [
    "git-a8213cd"
   ]
  },
  {
   "cell_type": "code",
   "execution_count": 10,
   "id": "0cf04809-cda1-4a2a-9319-151f45890011",
   "metadata": {},
   "outputs": [],
   "source": [
    "job_definition = \"\"\"\n",
    "name: TUAB age decoding\n",
    "inputs:\n",
    "- name: augment\n",
    "  type: String\n",
    "- name: batch_size\n",
    "  type: Integer\n",
    "- name: data_path\n",
    "  type: String\n",
    "- name: date\n",
    "  type: String\n",
    "- name: debug\n",
    "  type: Integer\n",
    "- name: fast_mode\n",
    "  type: Integer\n",
    "- name: final_eval\n",
    "  type: Integer\n",
    "- name: hfreq\n",
    "  type: Integer\n",
    "- name: intuitive_training_scores\n",
    "  type: Integer\n",
    "- name: lfreq\n",
    "  type: Integer\n",
    "- name: loss\n",
    "  type: String\n",
    "- name: max_age\n",
    "  type: Integer\n",
    "- name: min_age\n",
    "  type: Integer\n",
    "- name: model_name\n",
    "  type: String\n",
    "- name: n_epochs\n",
    "  type: Integer\n",
    "- name: n_jobs\n",
    "  type: Integer\n",
    "- name: n_restarts\n",
    "  type: Integer\n",
    "- name: n_train_recordings\n",
    "  type: Integer\n",
    "- name: out_dir\n",
    "  type: String\n",
    "- name: preload\n",
    "  type: Integer\n",
    "- name: seed\n",
    "  type: Integer\n",
    "- name: shuffle_data_before_split\n",
    "  type: Integer\n",
    "- name: squash_outs\n",
    "  type: Integer\n",
    "- name: standardize_data\n",
    "  type: Integer\n",
    "- name: standardize_targets\n",
    "  type: Integer\n",
    "- name: subsample\n",
    "  type: String\n",
    "- name: subset\n",
    "  type: String\n",
    "- name: target_name\n",
    "  type: String\n",
    "- name: tmax\n",
    "  type: Integer\n",
    "- name: tmin\n",
    "  type: Integer\n",
    "- name: valid_set_i\n",
    "  type: Integer\n",
    "- name: window_size_samples\n",
    "  type: Integer\n",
    "- name: run_name\n",
    "  type: String\n",
    "  \n",
    "  \n",
    "implementation:\n",
    "    container:\n",
    "        # This is using a development version of the job executor, which might \n",
    "        # unexpectedly change,\n",
    "        # You probably want to got to https://cr.nail.science and pick the latest\n",
    "        # stable tag, e.g. v1.0.0, to use in your experiments.\n",
    "        image: cr.nail.science/ml-containers/python-job:git-7f92f40\n",
    "        command: ['/init', 'python', 'tueg_age_decoding/decode_tueg.py']\n",
    "        args: [\n",
    "            '--augment', {inputValue: augment},\n",
    "            '--batch-size', {inputValue: batch_size},\n",
    "            '--data-path', {inputValue: data_path},\n",
    "            '--date', {inputValue: date},\n",
    "            '--debug', {inputValue: debug},\n",
    "            '--fast-mode', {inputValue: fast_mode},\n",
    "            '--final-eval', {inputValue: final_eval},\n",
    "            '--hfreq', {inputValue: hfreq},\n",
    "            '--intuitive-training-scores', {inputValue: intuitive_training_scores},\n",
    "            '--loss', {inputValue: loss},\n",
    "            '--lfreq', {inputValue: lfreq},\n",
    "            '--max-age', {inputValue: max_age},\n",
    "            '--min-age', {inputValue: min_age},\n",
    "            '--model-name', {inputValue: model_name},\n",
    "            '--n-epochs', {inputValue: n_epochs},\n",
    "            '--n-jobs', {inputValue: n_jobs},\n",
    "            '--n-restarts', {inputValue: n_restarts},\n",
    "            '--n-train-recordings', {inputValue: n_train_recordings},\n",
    "            '--out-dir', {inputValue: out_dir},\n",
    "            '--preload', {inputValue: preload},\n",
    "            '--seed', {inputValue: seed},\n",
    "            '--shuffle-data-before-split', {inputValue: shuffle_data_before_split},\n",
    "            '--squash-outs', {inputValue: squash_outs},\n",
    "            '--standardize-data', {inputValue: standardize_data},\n",
    "            '--standardize-targets', {inputValue: standardize_targets},\n",
    "            '--subsample', {inputValue: subsample},\n",
    "            '--subset', {inputValue: subset},\n",
    "            '--target-name', {inputValue: target_name},\n",
    "            '--tmax', {inputValue: tmax},\n",
    "            '--tmin', {inputValue: tmin},\n",
    "            '--valid-set-i', {inputValue: valid_set_i},\n",
    "            '--window-size-samples', {inputValue: window_size_samples},\n",
    "            '--run-name', {inputValue: run_name},\n",
    "        ]\n",
    "\"\"\""
   ]
  },
  {
   "cell_type": "code",
   "execution_count": 11,
   "id": "5f366ff6-6265-45cb-9723-e15eff3e8123",
   "metadata": {},
   "outputs": [],
   "source": [
    "client = Client()"
   ]
  },
  {
   "cell_type": "code",
   "execution_count": 12,
   "id": "f4c08075-255d-421a-b7f6-df6ace35da7a",
   "metadata": {},
   "outputs": [
    {
     "data": {
      "text/plain": [
       "'kf-gemein-lukas-decode_age'"
      ]
     },
     "execution_count": 12,
     "metadata": {},
     "output_type": "execute_result"
    }
   ],
   "source": [
    "f\"{client.get_user_namespace()}-{pipe_suffix}\""
   ]
  },
  {
   "cell_type": "code",
   "execution_count": 13,
   "id": "12aedb3e-4d19-480d-aa50-f93945fdebe3",
   "metadata": {},
   "outputs": [],
   "source": [
    "@dsl_pipeline(name=f\"{client.get_user_namespace()}-{pipe_suffix}\")\n",
    "def demo_pipeline(\n",
    "    augment:str,\n",
    "    batch_size:int,\n",
    "    data_path:str,\n",
    "    date:str,\n",
    "    debug:int,\n",
    "    fast_mode:int,\n",
    "    final_eval:int,\n",
    "    hfreq:int,\n",
    "    intuitive_training_scores:int,\n",
    "    lfreq:int,\n",
    "    loss:str,\n",
    "    max_age:int,\n",
    "    min_age:int,\n",
    "    model_name:str,\n",
    "    n_epochs:int,\n",
    "    n_jobs:int,\n",
    "    n_restarts:int,\n",
    "    n_train_recordings:int,\n",
    "    out_dir:str,\n",
    "    preload:int,\n",
    "    seed:int,\n",
    "    shuffle_data_before_split:int,\n",
    "    squash_outs:int,\n",
    "    standardize_data:int,\n",
    "    standardize_targets:int,\n",
    "    subsample:str,\n",
    "    subset:str,\n",
    "    target_name:str,\n",
    "    tmax:int,\n",
    "    tmin:int,\n",
    "    valid_set_i:int,\n",
    "    window_size_samples:int,\n",
    "    run_id:str=RUN_ID_PLACEHOLDER,\n",
    "):\n",
    "    workspace = PipelineVolume(pvc=f'workspace-tueg')\n",
    "    mne_data = PipelineVolume(pvc='mne-data')\n",
    "    shared_volume = PipelineVolume(volume=V1Volume(\n",
    "        name=\"shm\",\n",
    "        empty_dir=V1EmptyDirVolumeSource(medium='Memory')))\n",
    "    \n",
    "    run_name = f\"decode_age\"\n",
    "    # on disk, preprocessed TUHAbnormal is 17GB\n",
    "    # 16Gi enough for normal recs age regression cv and eval\n",
    "    # not enough for gradients\n",
    "    mem_lim = '38Gi'  \n",
    "    mem_req = '38Gi'\n",
    "\n",
    "    (load_component_from_text(job_definition)(\n",
    "        augment=augment,\n",
    "        batch_size=batch_size,\n",
    "        data_path=data_path,\n",
    "        date=date,\n",
    "        debug=debug,\n",
    "        fast_mode=fast_mode,\n",
    "        final_eval=final_eval,\n",
    "        hfreq=hfreq,\n",
    "        intuitive_training_scores=intuitive_training_scores,\n",
    "        lfreq=lfreq,\n",
    "        loss=loss,\n",
    "        max_age=max_age,\n",
    "        min_age=min_age,\n",
    "        model_name=model_name,\n",
    "        n_epochs=n_epochs,\n",
    "        n_jobs=n_jobs,\n",
    "        n_restarts=n_restarts,\n",
    "        n_train_recordings=n_train_recordings,\n",
    "        out_dir=out_dir,\n",
    "        preload=preload,\n",
    "        seed=seed,\n",
    "        shuffle_data_before_split=shuffle_data_before_split,\n",
    "        squash_outs=squash_outs,\n",
    "        standardize_data=standardize_data,\n",
    "        standardize_targets=standardize_targets,\n",
    "        subsample=subsample,\n",
    "        subset=subset,\n",
    "        target_name=target_name,\n",
    "        tmax=tmax,\n",
    "        tmin=tmin,\n",
    "        valid_set_i=valid_set_i,\n",
    "        window_size_samples=window_size_samples,\n",
    "        run_name=run_name,\n",
    "    )\n",
    "    .add_pvolumes({\n",
    "        '/work': workspace,\n",
    "        '/home/jovyan/mne_data': mne_data,\n",
    "        '/dev/shm': shared_volume,\n",
    "    })\n",
    "    # If you do not add this, your job will download all the packages on every run. \n",
    "    # Which will be veery slow and congest our network ...\n",
    "    .add_pod_label('shared-package-cache', 'true')\n",
    "    # Request the required resources\n",
    "    .set_cpu_limit('4')\n",
    "    .set_cpu_request('4')\n",
    "    .set_memory_limit(mem_lim)\n",
    "    .set_memory_request(mem_req)\n",
    "    # This is needed so your job can be scheduled on GPU nodes \n",
    "    .add_toleration(\n",
    "        V1Toleration(key='nvidia.com/gpu', operator='Exists', effect='NoSchedule'))\n",
    "    .set_gpu_limit('1')\n",
    "    )"
   ]
  },
  {
   "cell_type": "code",
   "execution_count": 14,
   "id": "a72a8cb9-9e17-4983-82e3-6c53e6c9d31b",
   "metadata": {},
   "outputs": [],
   "source": [
    "yml_file = '/home/jovyan/workflow.yaml'\n",
    "pipeline_name = f\"{client.get_user_namespace()}-{pipe_suffix}\""
   ]
  },
  {
   "cell_type": "code",
   "execution_count": 15,
   "id": "a8a0c5bb-3ffe-4650-b035-b8f254e68da3",
   "metadata": {},
   "outputs": [
    {
     "data": {
      "text/plain": [
       "'kf-gemein-lukas-decode_age'"
      ]
     },
     "execution_count": 15,
     "metadata": {},
     "output_type": "execute_result"
    }
   ],
   "source": [
    "pipeline_name"
   ]
  },
  {
   "cell_type": "code",
   "execution_count": 16,
   "id": "a066dbfe-c30c-40ac-8b82-f6eb72124ebc",
   "metadata": {},
   "outputs": [],
   "source": [
    "Compiler().compile(demo_pipeline, yml_file)"
   ]
  },
  {
   "cell_type": "code",
   "execution_count": 17,
   "id": "4b8c5b3f-3fe3-4e21-b453-014423fcccb9",
   "metadata": {},
   "outputs": [
    {
     "data": {
      "text/html": [
       "<a href=/pipeline/#/pipelines/details/20a8c3eb-b031-4153-9e59-f5a81127c269>Pipeline details</a>."
      ],
      "text/plain": [
       "<IPython.core.display.HTML object>"
      ]
     },
     "metadata": {},
     "output_type": "display_data"
    }
   ],
   "source": [
    "pipeline_id = client.get_pipeline_id(pipeline_name)\n",
    "if pipeline_id is not None:\n",
    "    pipeline = client.get_pipeline(pipeline_id)\n",
    "    pipline = client.upload_pipeline_version(\n",
    "        yml_file, pipeline_id=pipeline_id, \n",
    "        pipeline_version_name=datetime.datetime.now().isoformat())\n",
    "else:\n",
    "    pipeline = client.upload_pipeline(yml_file, pipeline_name=pipeline_name)"
   ]
  },
  {
   "cell_type": "code",
   "execution_count": 18,
   "id": "249833df-66a3-4309-a461-dc8a64f93af5",
   "metadata": {},
   "outputs": [
    {
     "data": {
      "text/plain": [
       "'kf-gemein-lukas-decode_age'"
      ]
     },
     "execution_count": 18,
     "metadata": {},
     "output_type": "execute_result"
    }
   ],
   "source": [
    "pipeline_name"
   ]
  },
  {
   "cell_type": "code",
   "execution_count": 19,
   "id": "846969c9-b9fa-47a4-8d1b-abdcbc4c2162",
   "metadata": {
    "tags": []
   },
   "outputs": [],
   "source": [
    "try:\n",
    "    experiment = client.get_experiment(experiment_name=pipe_suffix)\n",
    "except ValueError:\n",
    "    experiment = client.create_experiment(pipe_suffix)"
   ]
  },
  {
   "cell_type": "code",
   "execution_count": 20,
   "id": "235f5122-3ea4-42a9-97aa-eee64cf19dc7",
   "metadata": {},
   "outputs": [],
   "source": [
    "base_dir = '/home/jovyan/' if run_in_notebook else '/work/'"
   ]
  },
  {
   "cell_type": "code",
   "execution_count": 21,
   "id": "0ff01ca2-9dc8-4728-a310-608a038f93e2",
   "metadata": {},
   "outputs": [],
   "source": [
    "exp_date = datetime.datetime.now().isoformat()"
   ]
  },
  {
   "cell_type": "raw",
   "id": "1f5836cf-7daa-4928-abb1-99d49d01e865",
   "metadata": {},
   "source": [
    "exp_date = '2023-02-10T23:14:51.938016'"
   ]
  },
  {
   "cell_type": "code",
   "execution_count": 22,
   "id": "3fca91b5-efc7-4d47-9792-32daafc58e45",
   "metadata": {},
   "outputs": [
    {
     "data": {
      "text/plain": [
       "'2023-05-09T09:15:59.256046'"
      ]
     },
     "execution_count": 22,
     "metadata": {},
     "output_type": "execute_result"
    }
   ],
   "source": [
    "exp_date"
   ]
  },
  {
   "cell_type": "code",
   "execution_count": 23,
   "id": "e0a74ee8-a4b7-4ef6-847b-bc2371bc264f",
   "metadata": {},
   "outputs": [],
   "source": [
    "# exp date not suitable for output dir, when trying multiple things but cv"
   ]
  },
  {
   "cell_type": "raw",
   "id": "b775ca0a-8e86-4131-8bce-a9c374cef38f",
   "metadata": {},
   "source": [
    "parameters are a bit weird and suboptimal. turning stuff off is usually integer -1. flags are also integer 0/1, not bools..."
   ]
  },
  {
   "cell_type": "code",
   "execution_count": null,
   "id": "cd1cae18-5651-478e-a9c1-68cf0e5d3a7f",
   "metadata": {},
   "outputs": [],
   "source": [
    "param_grid = ParameterGrid({\n",
    "    'model_name': ['tcn'],  # 'shallow', 'deep', 'tcn'\n",
    "    'subset': ['normal'],  # 'normal', 'abnormal', 'mixed'\n",
    "    'target_name': ['age'],  # age, gender, pathological, age_clf\n",
    "\n",
    "    'final_eval': [0],\n",
    "    'valid_set_i': [0],  # 0, 1, 2, 3, 4\n",
    "    'n_epochs': [35],  # 35, 105, 210\n",
    "    'n_restarts': [0],  # 0, 2, 5\n",
    "    'augment': ['dropout'],  # dropout, flipfb, fliplr, noise, mask, reverse, shuffle, sign, random, identity, '0'\n",
    "    'fast_mode': [1],\n",
    "    'loss': ['mae'],  # mse, mae, log_cosh, huber, nll, mape\n",
    "    'subsample' : ['0'],  # '0', match, uniform\n",
    "\n",
    "    'n_train_recordings': [-1],  # -1: None\n",
    "    'tmax': [-1],  # 4*60done, 6*60done, 11*60done, -1,  00# -1: None\n",
    "    'min_age': [-1],\n",
    "    'max_age': [-1],\n",
    "    'lfreq': [-1],\n",
    "    'hfreq': [-1],\n",
    "    'data_path': ['/home/jovyan/mne_data/TUH_PRE/tuh_eeg_abnormal/v2.0.0/edf/'],\n",
    "    'squash_outs': [1],  # force output to be in [0, 1] through sigmoid\n",
    "\n",
    "    'debug': [1],\n",
    "    'seed': [20230214],#, 20230215, 20230216, 20230217, 20230218],  # last 20221116, default 20220429  # 20230229: \"optimized\" train eval split on tuh abnormal\n",
    "    'date': [exp_date],  # sometimes, need to restart some of the cv runs, due to cluster failure. do not reset exp date then\n",
    "    'intuitive_training_scores': [1],  # 1: add slow callbacks that track age decodnig loss intuitively as mae\n",
    "    'out_dir': [os.path.join(base_dir, 'experiments')],\n",
    "    'n_jobs': [4],  # faster than 1, 3, and 4 on tmax=2*60, n_recordings=-1, subset=normal, n_epochs=5, preload=0\n",
    "    'preload': [0],\n",
    "\n",
    "    'batch_size': [64],  # 64. does CroppedTrialEpochStoring increase GPU memory consumption? 256 works fine in notebook but fails as pipeline. 128 works with shallow fails with deep\n",
    "    'tmin': [60],\n",
    "    'standardize_data': [1],  # TODO: needs to be implemented. sclaing to microvolts is done anyways\n",
    "    'standardize_targets': [1],\n",
    "    'window_size_samples': [6000],\n",
    "    'shuffle_data_before_split': [1],\n",
    "})"
   ]
  },
  {
   "cell_type": "raw",
   "id": "657bf01d-0a11-408f-8880-6cbdc2365964",
   "metadata": {
    "jupyter": {
     "source_hidden": true
    },
    "tags": []
   },
   "source": [
    "param_grid = ParameterGrid({\n",
    "    'model_name': ['shallow'],  # 'shallow', 'deep', 'tcn'\n",
    "    'subset': ['normal'],  # 'normal', 'abnormal', 'mixed'\n",
    "    'target_name': ['age'],  # age, gender, pathological, age_clf\n",
    "\n",
    "    'valid_set_i': [0],  # 0, 1, 2, 3, 4\n",
    "    'n_epochs': [35],  # 35, 105, 210\n",
    "    'n_restarts': [0],  # 0, 2, 5\n",
    "    'augment': ['dropout'],  # dropout, flipfb, fliplr, noise, mask, reverse, shuffle, sign, random, identity, 0\n",
    "    'fast_mode': [1],\n",
    "    'loss': ['mae'],  # mse, mae, log_cosh, huber, nll\n",
    "\n",
    "    'n_train_recordings': [-1],  # -1: None\n",
    "    'tmax': [-1],  # 4*60done, 6*60done, 11*60done, -1,  # -1: None\n",
    "    'min_age': [-1],\n",
    "    'max_age': [-1],\n",
    "    # 'data_path': ['/home/jovyan/mne_data/TUH_PRE/tuh_eeg_abnormal/v2.0.0/edf/'],\n",
    "    'data_path': ['/home/jovyan/competition/data/training/train.pkl'],\n",
    "    'squash_outs': [1],  # force output to be in [0, 1] through sigmoid\n",
    "\n",
    "    'final_eval': [1],\n",
    "    'debug': [1],\n",
    "    'seed': [20221018],  # default 20220429\n",
    "    'date': [exp_date],  # sometimes, need to restart some of the cv runs, due to cluster failure. do not reset exp date then\n",
    "    'intuitive_training_scores': [1],  # 1: add slow callbacks that track age decodnig loss intuitively as mae\n",
    "    'out_dir': [os.path.join(base_dir, 'experiments')],\n",
    "    'n_jobs': [4],  # faster than 1, 3, and 4 on tmax=2*60, n_recordings=-1, subset=normal, n_epochs=5, preload=0\n",
    "    'preload': [0],\n",
    "\n",
    "    'batch_size': [64],  # 64. does CroppedTrialEpochStoring increase GPU memory consumption? 256 works fine in notebook but fails as pipeline. 128 works with shallow fails with deep\n",
    "    'tmin': [1*60],\n",
    "    'standardize_data': [1],\n",
    "    'standardize_targets': [1],\n",
    "    'window_size_samples': [6000],\n",
    "    'shuffle_data_before_split': [0],\n",
    "})"
   ]
  },
  {
   "cell_type": "raw",
   "id": "1cee4409-1693-417a-802a-80aeadc53d9e",
   "metadata": {},
   "source": [
    "apparently, reading entire tuh abnormal and preprocessing (cropping 60,960) takes >10 mins"
   ]
  },
  {
   "cell_type": "raw",
   "id": "a5f3d36b-6dc8-45a0-8a0a-984b5a13ecd3",
   "metadata": {},
   "source": [
    "full dataset with tmax=16*60 crashes on 16GB RAM and on 25GB"
   ]
  },
  {
   "cell_type": "raw",
   "id": "48a17c30-d5a4-494b-a95b-05b131af1e2c",
   "metadata": {
    "jupyter": {
     "source_hidden": true
    },
    "tags": []
   },
   "source": [
    "param_grid = ParameterGrid({\n",
    "    'subset':['mixed'],  # 'normal', 'abnormal', 'mixed'\n",
    "    'model_name':['shallow'],  # 'shallow', 'deep', 'tcn'\n",
    "    'tmax':[16*60],  # 4*60done, 6*60done, 11*60done, -1,  # -1: None\n",
    "    'target_name': ['pathological'],  # age, gender, pathological\n",
    "\n",
    "    'n_epochs':[35],  # 35, 105, 210\n",
    "    'n_restarts':[0],  # 0, 2, 5\n",
    "    'n_train_recordings':[-1],  # -1: None\n",
    "\n",
    "    'preload':[0],\n",
    "    'split_kind':['chronological'],  # chronological, random, age_distribution\n",
    "    'drop_prob':[-1],  # shallow: .5, deep: .5, tcn: 0.0195875974361336, -1: None for defaults\n",
    "    'intuitive_training_scores':[1],  # 1: add potentially slow callbacks that track loss intuitively as mae\n",
    "    'out_dir':['/home/jovyan/tuab_reproduction/'],\n",
    "    'n_jobs':[2],  # faster than 1, 3, and 4 on tmax=2*60, n_recordings=-1, subset=normal, n_epochs=5, preload=0\n",
    "\n",
    "    'batch_size':[64],  # 64. does CroppedTrialEpochStoring increase GPU memory consumption? 256 works fine in notebook but fails as pipeline. 128 works with shallow fails with deep\n",
    "    'data_path':['/home/jovyan/mne_data/TUH_PRE/tuh_eeg_abnormal/v2.0.0/edf/train/'],\n",
    "    'tmin':[1*60],\n",
    "    'standardize_data':[1],\n",
    "    'standardize_targets':[1],\n",
    "    'window_size_samples':[6000],\n",
    "    'seed':[20220429],\n",
    "    'valid_set_fraction':[.2],\n",
    "    'shuffle_data_before_split':[0],\n",
    "    'final_eval':[1],\n",
    "})"
   ]
  },
  {
   "cell_type": "code",
   "execution_count": null,
   "id": "d7efd659-4f8a-4cbf-aeb7-d34abeda9a3c",
   "metadata": {},
   "outputs": [
    {
     "data": {
      "text/plain": [
       "5"
      ]
     },
     "execution_count": 25,
     "metadata": {},
     "output_type": "execute_result"
    }
   ],
   "source": [
    "len(param_grid)"
   ]
  },
  {
   "cell_type": "raw",
   "id": "21653a87-80f8-479a-962e-5c212635730d",
   "metadata": {},
   "source": [
    "median absolute deviation"
   ]
  },
  {
   "cell_type": "code",
   "execution_count": null,
   "id": "19acbb2e-c3fd-47a3-8834-a16a2fbf16bc",
   "metadata": {
    "scrolled": true,
    "tags": []
   },
   "outputs": [
    {
     "data": {
      "text/html": [
       "<a href=\"/pipeline/#/runs/details/499cd936-1371-4b3d-82d4-e330bf373422\" target=\"_blank\" >Run details</a>."
      ],
      "text/plain": [
       "<IPython.core.display.HTML object>"
      ]
     },
     "metadata": {},
     "output_type": "display_data"
    },
    {
     "data": {
      "text/html": [
       "<a href=\"/pipeline/#/runs/details/6b8d1b4d-b27d-420e-872a-4ad3723e8c72\" target=\"_blank\" >Run details</a>."
      ],
      "text/plain": [
       "<IPython.core.display.HTML object>"
      ]
     },
     "metadata": {},
     "output_type": "display_data"
    },
    {
     "data": {
      "text/html": [
       "<a href=\"/pipeline/#/runs/details/4d142979-0eb8-461e-835c-f89bf80870e9\" target=\"_blank\" >Run details</a>."
      ],
      "text/plain": [
       "<IPython.core.display.HTML object>"
      ]
     },
     "metadata": {},
     "output_type": "display_data"
    },
    {
     "data": {
      "text/html": [
       "<a href=\"/pipeline/#/runs/details/63841f49-85d0-48b5-8e98-23c2b68c0161\" target=\"_blank\" >Run details</a>."
      ],
      "text/plain": [
       "<IPython.core.display.HTML object>"
      ]
     },
     "metadata": {},
     "output_type": "display_data"
    },
    {
     "data": {
      "text/html": [
       "<a href=\"/pipeline/#/runs/details/d40b06b6-f8cf-4ec0-986e-c15dc5772cae\" target=\"_blank\" >Run details</a>."
      ],
      "text/plain": [
       "<IPython.core.display.HTML object>"
      ]
     },
     "metadata": {},
     "output_type": "display_data"
    }
   ],
   "source": [
    "if run_in_notebook:\n",
    "    for params_i, params in enumerate(param_grid):\n",
    "        # logging makes the second iteration crash....\n",
    "        decode_tueg(**params, config=pd.Series(params, name='config'))\n",
    "else:\n",
    "    runs = []\n",
    "    for params in param_grid:\n",
    "        job_name = f\"{pipe_suffix}-{params['date']}-{params['seed']}-{params['valid_set_i']}\"\n",
    "        run = client.run_pipeline(    \n",
    "            experiment_id=experiment.id, \n",
    "            pipeline_id=pipeline.id, \n",
    "            job_name=job_name,\n",
    "            params=params,\n",
    "        )\n",
    "        runs.append(run)\n",
    "        time.sleep(1)"
   ]
  },
  {
   "cell_type": "code",
   "execution_count": null,
   "id": "6d358a56-47f6-4801-977f-4e583dcb2931",
   "metadata": {},
   "outputs": [
    {
     "name": "stdout",
     "output_type": "stream",
     "text": [
      "hi\n"
     ]
    }
   ],
   "source": [
    "print(\"hi\")"
   ]
  },
  {
   "cell_type": "code",
   "execution_count": null,
   "id": "32f79a7e-5d9c-4b42-89a7-b27010b5f96b",
   "metadata": {},
   "outputs": [],
   "source": []
  },
  {
   "cell_type": "code",
   "execution_count": null,
   "id": "5be3e525-d74e-474f-a851-cbdcc6fcb9c1",
   "metadata": {},
   "outputs": [],
   "source": []
  }
 ],
 "metadata": {
  "kernelspec": {
   "display_name": "Python [conda env:job-env]",
   "language": "python",
   "name": "conda-env-job-env-py"
  },
  "language_info": {
   "codemirror_mode": {
    "name": "ipython",
    "version": 3
   },
   "file_extension": ".py",
   "mimetype": "text/x-python",
   "name": "python",
   "nbconvert_exporter": "python",
   "pygments_lexer": "ipython3",
   "version": "3.9.16"
  }
 },
 "nbformat": 4,
 "nbformat_minor": 5
}
