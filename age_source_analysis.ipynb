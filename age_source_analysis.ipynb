{
 "cells": [
  {
   "cell_type": "code",
   "execution_count": 1,
   "id": "5381f2f1-e65d-40b5-803d-4610c4e97fc9",
   "metadata": {},
   "outputs": [
    {
     "name": "stderr",
     "output_type": "stream",
     "text": [
      "<ipython-input-1-9da090ffb2f1>:12: MatplotlibDeprecationWarning: The seaborn styles shipped by Matplotlib are deprecated since 3.6, as they no longer correspond to the styles shipped by seaborn. However, they will remain available as 'seaborn-v0_8-<style>'. Alternatively, directly use the seaborn API instead.\n",
      "  plt.style.use('seaborn')\n"
     ]
    }
   ],
   "source": [
    "import os\n",
    "import sys\n",
    "sys.path.insert(0, '/home/jovyan/braindecode/')\n",
    "sys.path.insert(0, '/home/jovyan/mne-python/')\n",
    "import re\n",
    "\n",
    "import numpy as np\n",
    "import pandas as pd\n",
    "import seaborn as sns\n",
    "sns.set_color_codes('deep')\n",
    "import matplotlib.pyplot as plt\n",
    "plt.style.use('seaborn')\n",
    "\n",
    "from braindecode.datasets import TUHAbnormal"
   ]
  },
  {
   "cell_type": "code",
   "execution_count": 2,
   "id": "17305246-0b27-40fd-ae87-6c6fa076ed98",
   "metadata": {},
   "outputs": [],
   "source": [
    "data_path = '/home/jovyan/mne_data/TUH/tuh_eeg_abnormal/v2.0.0/edf/'\n",
    "n_jobs = 4"
   ]
  },
  {
   "cell_type": "code",
   "execution_count": 3,
   "id": "918500bc-b2e7-4eb0-991c-eacc83dd46a4",
   "metadata": {},
   "outputs": [],
   "source": [
    "tuabn_train = TUHAbnormal(\n",
    "    path=data_path,\n",
    "    preload=False,\n",
    "    add_physician_reports=True,\n",
    "    n_jobs=n_jobs,\n",
    "    target_name='age',\n",
    ")"
   ]
  },
  {
   "cell_type": "code",
   "execution_count": 4,
   "id": "b6e336bc-55e7-4ea1-83b9-e5b493544e0f",
   "metadata": {},
   "outputs": [
    {
     "data": {
      "text/plain": [
       "False    1521\n",
       "True     1472\n",
       "Name: pathological, dtype: int64"
      ]
     },
     "execution_count": 4,
     "metadata": {},
     "output_type": "execute_result"
    }
   ],
   "source": [
    "tuabn_train.description.pathological.value_counts()"
   ]
  },
  {
   "cell_type": "code",
   "execution_count": 5,
   "id": "253f5ef8-9349-4d46-ac0a-b3654c61cadc",
   "metadata": {},
   "outputs": [
    {
     "data": {
      "text/plain": [
       "b'0       00004196 F 01-JAN-1956 00004196 Age:53                                          '"
      ]
     },
     "execution_count": 5,
     "metadata": {},
     "output_type": "execute_result"
    }
   ],
   "source": [
    "TUHAbnormal._read_edf_header(tuabn_train.description[tuabn_train.description.subject == 4196].loc[0, 'path'])"
   ]
  },
  {
   "cell_type": "code",
   "execution_count": 6,
   "id": "721271fc-4db4-48c9-8204-74bc058b109d",
   "metadata": {},
   "outputs": [],
   "source": [
    "for d in tuabn_train.datasets:\n",
    "    d.description['report'] = TUHAbnormal._read_physician_report(\n",
    "        d.description.path.replace('TUH_PRE', 'TUH').replace('.edf', '.txt'),\n",
    "    )"
   ]
  },
  {
   "cell_type": "raw",
   "id": "64f28f4b-0b1f-435a-b896-4f701d5e9c6b",
   "metadata": {},
   "source": [
    "tuabn_train.description[tuabn_train.des"
   ]
  },
  {
   "cell_type": "code",
   "execution_count": 9,
   "id": "420f761f-24c2-44f5-845e-b8ea2fb6cd56",
   "metadata": {},
   "outputs": [],
   "source": [
    "from decode_tueg import add_ages_from_additional_sources"
   ]
  },
  {
   "cell_type": "code",
   "execution_count": 11,
   "id": "29744e0c-4008-465d-bcad-6c1c95b6aae9",
   "metadata": {},
   "outputs": [],
   "source": [
    "tuabn_train = add_ages_from_additional_sources(tuabn_train)"
   ]
  },
  {
   "cell_type": "code",
   "execution_count": 13,
   "id": "e0af13ef-b8aa-4c0a-b733-8fff3a7a4d70",
   "metadata": {},
   "outputs": [
    {
     "data": {
      "text/html": [
       "<div>\n",
       "<style scoped>\n",
       "    .dataframe tbody tr th:only-of-type {\n",
       "        vertical-align: middle;\n",
       "    }\n",
       "\n",
       "    .dataframe tbody tr th {\n",
       "        vertical-align: top;\n",
       "    }\n",
       "\n",
       "    .dataframe thead th {\n",
       "        text-align: right;\n",
       "    }\n",
       "</style>\n",
       "<table border=\"1\" class=\"dataframe\">\n",
       "  <thead>\n",
       "    <tr style=\"text-align: right;\">\n",
       "      <th></th>\n",
       "      <th>path</th>\n",
       "      <th>version</th>\n",
       "      <th>year</th>\n",
       "      <th>month</th>\n",
       "      <th>day</th>\n",
       "      <th>subject</th>\n",
       "      <th>session</th>\n",
       "      <th>segment</th>\n",
       "      <th>train</th>\n",
       "      <th>pathological</th>\n",
       "      <th>report</th>\n",
       "      <th>age</th>\n",
       "      <th>gender</th>\n",
       "      <th>date_age</th>\n",
       "      <th>report_age</th>\n",
       "    </tr>\n",
       "  </thead>\n",
       "  <tbody>\n",
       "    <tr>\n",
       "      <th>0</th>\n",
       "      <td>/home/jovyan/mne_data/TUH/tuh_eeg_abnormal/v2....</td>\n",
       "      <td>v2.0.0</td>\n",
       "      <td>2009</td>\n",
       "      <td>9</td>\n",
       "      <td>3</td>\n",
       "      <td>4196</td>\n",
       "      <td>3</td>\n",
       "      <td>0</td>\n",
       "      <td>False</td>\n",
       "      <td>False</td>\n",
       "      <td>CLINICAL HISTORY:  Seizures.\\nMEDICATIONS: Dil...</td>\n",
       "      <td>53</td>\n",
       "      <td>F</td>\n",
       "      <td>NaN</td>\n",
       "      <td>NaN</td>\n",
       "    </tr>\n",
       "    <tr>\n",
       "      <th>1</th>\n",
       "      <td>/home/jovyan/mne_data/TUH/tuh_eeg_abnormal/v2....</td>\n",
       "      <td>v2.0.0</td>\n",
       "      <td>2009</td>\n",
       "      <td>9</td>\n",
       "      <td>3</td>\n",
       "      <td>5864</td>\n",
       "      <td>1</td>\n",
       "      <td>0</td>\n",
       "      <td>False</td>\n",
       "      <td>False</td>\n",
       "      <td>CLINICAL HISTORY: Schizophrenia, memory loss.\\...</td>\n",
       "      <td>30</td>\n",
       "      <td>M</td>\n",
       "      <td>NaN</td>\n",
       "      <td>NaN</td>\n",
       "    </tr>\n",
       "    <tr>\n",
       "      <th>2</th>\n",
       "      <td>/home/jovyan/mne_data/TUH/tuh_eeg_abnormal/v2....</td>\n",
       "      <td>v2.0.0</td>\n",
       "      <td>2009</td>\n",
       "      <td>9</td>\n",
       "      <td>4</td>\n",
       "      <td>929</td>\n",
       "      <td>3</td>\n",
       "      <td>2</td>\n",
       "      <td>True</td>\n",
       "      <td>False</td>\n",
       "      <td>CLINICAL HISTORY:  Epilepsy, currently seizure...</td>\n",
       "      <td>39</td>\n",
       "      <td>F</td>\n",
       "      <td>NaN</td>\n",
       "      <td>38.0</td>\n",
       "    </tr>\n",
       "    <tr>\n",
       "      <th>3</th>\n",
       "      <td>/home/jovyan/mne_data/TUH/tuh_eeg_abnormal/v2....</td>\n",
       "      <td>v2.0.0</td>\n",
       "      <td>2009</td>\n",
       "      <td>9</td>\n",
       "      <td>4</td>\n",
       "      <td>5851</td>\n",
       "      <td>1</td>\n",
       "      <td>1</td>\n",
       "      <td>False</td>\n",
       "      <td>False</td>\n",
       "      <td>CLINICAL HISTORY:  Sixty-five-year-old woman w...</td>\n",
       "      <td>65</td>\n",
       "      <td>F</td>\n",
       "      <td>NaN</td>\n",
       "      <td>NaN</td>\n",
       "    </tr>\n",
       "    <tr>\n",
       "      <th>4</th>\n",
       "      <td>/home/jovyan/mne_data/TUH/tuh_eeg_abnormal/v2....</td>\n",
       "      <td>v2.0.0</td>\n",
       "      <td>2009</td>\n",
       "      <td>9</td>\n",
       "      <td>9</td>\n",
       "      <td>5909</td>\n",
       "      <td>2</td>\n",
       "      <td>0</td>\n",
       "      <td>True</td>\n",
       "      <td>False</td>\n",
       "      <td>CLINICAL HISTORY: 32 year old male with episod...</td>\n",
       "      <td>32</td>\n",
       "      <td>M</td>\n",
       "      <td>NaN</td>\n",
       "      <td>32.0</td>\n",
       "    </tr>\n",
       "    <tr>\n",
       "      <th>...</th>\n",
       "      <td>...</td>\n",
       "      <td>...</td>\n",
       "      <td>...</td>\n",
       "      <td>...</td>\n",
       "      <td>...</td>\n",
       "      <td>...</td>\n",
       "      <td>...</td>\n",
       "      <td>...</td>\n",
       "      <td>...</td>\n",
       "      <td>...</td>\n",
       "      <td>...</td>\n",
       "      <td>...</td>\n",
       "      <td>...</td>\n",
       "      <td>...</td>\n",
       "      <td>...</td>\n",
       "    </tr>\n",
       "    <tr>\n",
       "      <th>2988</th>\n",
       "      <td>/home/jovyan/mne_data/TUH/tuh_eeg_abnormal/v2....</td>\n",
       "      <td>v2.0.0</td>\n",
       "      <td>2013</td>\n",
       "      <td>10</td>\n",
       "      <td>7</td>\n",
       "      <td>6881</td>\n",
       "      <td>2</td>\n",
       "      <td>1</td>\n",
       "      <td>True</td>\n",
       "      <td>True</td>\n",
       "      <td>CLINICAL HISTORY: 50-year-old woman with a his...</td>\n",
       "      <td>51</td>\n",
       "      <td>F</td>\n",
       "      <td>NaN</td>\n",
       "      <td>50.0</td>\n",
       "    </tr>\n",
       "    <tr>\n",
       "      <th>2989</th>\n",
       "      <td>/home/jovyan/mne_data/TUH/tuh_eeg_abnormal/v2....</td>\n",
       "      <td>v2.0.0</td>\n",
       "      <td>2013</td>\n",
       "      <td>10</td>\n",
       "      <td>7</td>\n",
       "      <td>7757</td>\n",
       "      <td>3</td>\n",
       "      <td>1</td>\n",
       "      <td>True</td>\n",
       "      <td>False</td>\n",
       "      <td>CLINICAL HISTORY:  A 38-year-old woman, with u...</td>\n",
       "      <td>40</td>\n",
       "      <td>F</td>\n",
       "      <td>NaN</td>\n",
       "      <td>38.0</td>\n",
       "    </tr>\n",
       "    <tr>\n",
       "      <th>2990</th>\n",
       "      <td>/home/jovyan/mne_data/TUH/tuh_eeg_abnormal/v2....</td>\n",
       "      <td>v2.0.0</td>\n",
       "      <td>2013</td>\n",
       "      <td>10</td>\n",
       "      <td>7</td>\n",
       "      <td>9289</td>\n",
       "      <td>4</td>\n",
       "      <td>1</td>\n",
       "      <td>True</td>\n",
       "      <td>True</td>\n",
       "      <td>CLINICAL HISTORY: A 22-year-old with refractor...</td>\n",
       "      <td>22</td>\n",
       "      <td>M</td>\n",
       "      <td>NaN</td>\n",
       "      <td>22.0</td>\n",
       "    </tr>\n",
       "    <tr>\n",
       "      <th>2991</th>\n",
       "      <td>/home/jovyan/mne_data/TUH/tuh_eeg_abnormal/v2....</td>\n",
       "      <td>v2.0.0</td>\n",
       "      <td>2013</td>\n",
       "      <td>10</td>\n",
       "      <td>10</td>\n",
       "      <td>3240</td>\n",
       "      <td>2</td>\n",
       "      <td>1</td>\n",
       "      <td>True</td>\n",
       "      <td>False</td>\n",
       "      <td>CLINICAL HISTORY:  A 55-year-old woman with re...</td>\n",
       "      <td>55</td>\n",
       "      <td>F</td>\n",
       "      <td>NaN</td>\n",
       "      <td>55.0</td>\n",
       "    </tr>\n",
       "    <tr>\n",
       "      <th>2992</th>\n",
       "      <td>/home/jovyan/mne_data/TUH/tuh_eeg_abnormal/v2....</td>\n",
       "      <td>v2.0.0</td>\n",
       "      <td>2013</td>\n",
       "      <td>11</td>\n",
       "      <td>22</td>\n",
       "      <td>10839</td>\n",
       "      <td>1</td>\n",
       "      <td>0</td>\n",
       "      <td>True</td>\n",
       "      <td>False</td>\n",
       "      <td>CLINICAL HISTORY:  A 21-year-old female with m...</td>\n",
       "      <td>21</td>\n",
       "      <td>F</td>\n",
       "      <td>NaN</td>\n",
       "      <td>21.0</td>\n",
       "    </tr>\n",
       "  </tbody>\n",
       "</table>\n",
       "<p>2993 rows × 15 columns</p>\n",
       "</div>"
      ],
      "text/plain": [
       "                                                   path version  year  month  \\\n",
       "0     /home/jovyan/mne_data/TUH/tuh_eeg_abnormal/v2....  v2.0.0  2009      9   \n",
       "1     /home/jovyan/mne_data/TUH/tuh_eeg_abnormal/v2....  v2.0.0  2009      9   \n",
       "2     /home/jovyan/mne_data/TUH/tuh_eeg_abnormal/v2....  v2.0.0  2009      9   \n",
       "3     /home/jovyan/mne_data/TUH/tuh_eeg_abnormal/v2....  v2.0.0  2009      9   \n",
       "4     /home/jovyan/mne_data/TUH/tuh_eeg_abnormal/v2....  v2.0.0  2009      9   \n",
       "...                                                 ...     ...   ...    ...   \n",
       "2988  /home/jovyan/mne_data/TUH/tuh_eeg_abnormal/v2....  v2.0.0  2013     10   \n",
       "2989  /home/jovyan/mne_data/TUH/tuh_eeg_abnormal/v2....  v2.0.0  2013     10   \n",
       "2990  /home/jovyan/mne_data/TUH/tuh_eeg_abnormal/v2....  v2.0.0  2013     10   \n",
       "2991  /home/jovyan/mne_data/TUH/tuh_eeg_abnormal/v2....  v2.0.0  2013     10   \n",
       "2992  /home/jovyan/mne_data/TUH/tuh_eeg_abnormal/v2....  v2.0.0  2013     11   \n",
       "\n",
       "      day  subject  session  segment  train  pathological  \\\n",
       "0       3     4196        3        0  False         False   \n",
       "1       3     5864        1        0  False         False   \n",
       "2       4      929        3        2   True         False   \n",
       "3       4     5851        1        1  False         False   \n",
       "4       9     5909        2        0   True         False   \n",
       "...   ...      ...      ...      ...    ...           ...   \n",
       "2988    7     6881        2        1   True          True   \n",
       "2989    7     7757        3        1   True         False   \n",
       "2990    7     9289        4        1   True          True   \n",
       "2991   10     3240        2        1   True         False   \n",
       "2992   22    10839        1        0   True         False   \n",
       "\n",
       "                                                 report  age gender  date_age  \\\n",
       "0     CLINICAL HISTORY:  Seizures.\\nMEDICATIONS: Dil...   53      F       NaN   \n",
       "1     CLINICAL HISTORY: Schizophrenia, memory loss.\\...   30      M       NaN   \n",
       "2     CLINICAL HISTORY:  Epilepsy, currently seizure...   39      F       NaN   \n",
       "3     CLINICAL HISTORY:  Sixty-five-year-old woman w...   65      F       NaN   \n",
       "4     CLINICAL HISTORY: 32 year old male with episod...   32      M       NaN   \n",
       "...                                                 ...  ...    ...       ...   \n",
       "2988  CLINICAL HISTORY: 50-year-old woman with a his...   51      F       NaN   \n",
       "2989  CLINICAL HISTORY:  A 38-year-old woman, with u...   40      F       NaN   \n",
       "2990  CLINICAL HISTORY: A 22-year-old with refractor...   22      M       NaN   \n",
       "2991  CLINICAL HISTORY:  A 55-year-old woman with re...   55      F       NaN   \n",
       "2992  CLINICAL HISTORY:  A 21-year-old female with m...   21      F       NaN   \n",
       "\n",
       "      report_age  \n",
       "0            NaN  \n",
       "1            NaN  \n",
       "2           38.0  \n",
       "3            NaN  \n",
       "4           32.0  \n",
       "...          ...  \n",
       "2988        50.0  \n",
       "2989        38.0  \n",
       "2990        22.0  \n",
       "2991        55.0  \n",
       "2992        21.0  \n",
       "\n",
       "[2993 rows x 15 columns]"
      ]
     },
     "execution_count": 13,
     "metadata": {},
     "output_type": "execute_result"
    }
   ],
   "source": [
    "tuabn_train.description"
   ]
  },
  {
   "cell_type": "code",
   "execution_count": 12,
   "id": "605d54b7-03c6-446e-a14a-79914a1768b2",
   "metadata": {},
   "outputs": [
    {
     "ename": "AssertionError",
     "evalue": "datasets should not be an empty iterable",
     "output_type": "error",
     "traceback": [
      "\u001b[0;31m---------------------------------------------------------------------------\u001b[0m",
      "\u001b[0;31mAssertionError\u001b[0m                            Traceback (most recent call last)",
      "\u001b[0;32m/tmp/ipykernel_61831/2268737728.py\u001b[0m in \u001b[0;36m<module>\u001b[0;34m\u001b[0m\n\u001b[1;32m      3\u001b[0m \u001b[0mc3\u001b[0m \u001b[0;34m=\u001b[0m \u001b[0;34m(\u001b[0m\u001b[0mtuabn_train\u001b[0m\u001b[0;34m.\u001b[0m\u001b[0mdescription\u001b[0m\u001b[0;34m.\u001b[0m\u001b[0mdate_age\u001b[0m \u001b[0;34m-\u001b[0m \u001b[0mtuabn_train\u001b[0m\u001b[0;34m.\u001b[0m\u001b[0mdescription\u001b[0m\u001b[0;34m.\u001b[0m\u001b[0mreport_age\u001b[0m\u001b[0;34m)\u001b[0m\u001b[0;34m.\u001b[0m\u001b[0mabs\u001b[0m\u001b[0;34m(\u001b[0m\u001b[0;34m)\u001b[0m \u001b[0;34m<\u001b[0m \u001b[0;36m2\u001b[0m\u001b[0;34m\u001b[0m\u001b[0;34m\u001b[0m\u001b[0m\n\u001b[1;32m      4\u001b[0m \u001b[0mids\u001b[0m \u001b[0;34m=\u001b[0m \u001b[0mtuabn_train\u001b[0m\u001b[0;34m.\u001b[0m\u001b[0mdescription\u001b[0m\u001b[0;34m[\u001b[0m\u001b[0mc1\u001b[0m \u001b[0;34m&\u001b[0m \u001b[0mc2\u001b[0m \u001b[0;34m&\u001b[0m \u001b[0mc3\u001b[0m\u001b[0;34m]\u001b[0m\u001b[0;34m.\u001b[0m\u001b[0mindex\u001b[0m\u001b[0;34m.\u001b[0m\u001b[0mto_list\u001b[0m\u001b[0;34m(\u001b[0m\u001b[0;34m)\u001b[0m\u001b[0;34m\u001b[0m\u001b[0;34m\u001b[0m\u001b[0m\n\u001b[0;32m----> 5\u001b[0;31m \u001b[0mtuabn_train_clean\u001b[0m \u001b[0;34m=\u001b[0m \u001b[0mtuabn_train\u001b[0m\u001b[0;34m.\u001b[0m\u001b[0msplit\u001b[0m\u001b[0;34m(\u001b[0m\u001b[0;34m[\u001b[0m\u001b[0mids\u001b[0m\u001b[0;34m]\u001b[0m\u001b[0;34m)\u001b[0m\u001b[0;34m[\u001b[0m\u001b[0;34m'0'\u001b[0m\u001b[0;34m]\u001b[0m\u001b[0;34m\u001b[0m\u001b[0;34m\u001b[0m\u001b[0m\n\u001b[0m",
      "\u001b[0;32m~/braindecode/braindecode/datasets/base.py\u001b[0m in \u001b[0;36msplit\u001b[0;34m(self, by, property, split_ids)\u001b[0m\n\u001b[1;32m    345\u001b[0m             \u001b[0msplit_ids\u001b[0m \u001b[0;34m=\u001b[0m \u001b[0;34m{\u001b[0m\u001b[0msplit_i\u001b[0m\u001b[0;34m:\u001b[0m \u001b[0msplit\u001b[0m \u001b[0;32mfor\u001b[0m \u001b[0msplit_i\u001b[0m\u001b[0;34m,\u001b[0m \u001b[0msplit\u001b[0m \u001b[0;32min\u001b[0m \u001b[0menumerate\u001b[0m\u001b[0;34m(\u001b[0m\u001b[0mby\u001b[0m\u001b[0;34m)\u001b[0m\u001b[0;34m}\u001b[0m\u001b[0;34m\u001b[0m\u001b[0;34m\u001b[0m\u001b[0m\n\u001b[1;32m    346\u001b[0m \u001b[0;34m\u001b[0m\u001b[0m\n\u001b[0;32m--> 347\u001b[0;31m         return {str(split_name): BaseConcatDataset(\n\u001b[0m\u001b[1;32m    348\u001b[0m             [self.datasets[ds_ind] for ds_ind in ds_inds], target_transform=self.target_transform)\n\u001b[1;32m    349\u001b[0m             for split_name, ds_inds in split_ids.items()}\n",
      "\u001b[0;32m~/braindecode/braindecode/datasets/base.py\u001b[0m in \u001b[0;36m<dictcomp>\u001b[0;34m(.0)\u001b[0m\n\u001b[1;32m    345\u001b[0m             \u001b[0msplit_ids\u001b[0m \u001b[0;34m=\u001b[0m \u001b[0;34m{\u001b[0m\u001b[0msplit_i\u001b[0m\u001b[0;34m:\u001b[0m \u001b[0msplit\u001b[0m \u001b[0;32mfor\u001b[0m \u001b[0msplit_i\u001b[0m\u001b[0;34m,\u001b[0m \u001b[0msplit\u001b[0m \u001b[0;32min\u001b[0m \u001b[0menumerate\u001b[0m\u001b[0;34m(\u001b[0m\u001b[0mby\u001b[0m\u001b[0;34m)\u001b[0m\u001b[0;34m}\u001b[0m\u001b[0;34m\u001b[0m\u001b[0;34m\u001b[0m\u001b[0m\n\u001b[1;32m    346\u001b[0m \u001b[0;34m\u001b[0m\u001b[0m\n\u001b[0;32m--> 347\u001b[0;31m         return {str(split_name): BaseConcatDataset(\n\u001b[0m\u001b[1;32m    348\u001b[0m             [self.datasets[ds_ind] for ds_ind in ds_inds], target_transform=self.target_transform)\n\u001b[1;32m    349\u001b[0m             for split_name, ds_inds in split_ids.items()}\n",
      "\u001b[0;32m~/braindecode/braindecode/datasets/base.py\u001b[0m in \u001b[0;36m__init__\u001b[0;34m(self, list_of_ds, target_transform)\u001b[0m\n\u001b[1;32m    261\u001b[0m         \u001b[0;32mif\u001b[0m \u001b[0mlist_of_ds\u001b[0m \u001b[0;32mand\u001b[0m \u001b[0misinstance\u001b[0m\u001b[0;34m(\u001b[0m\u001b[0mlist_of_ds\u001b[0m\u001b[0;34m[\u001b[0m\u001b[0;36m0\u001b[0m\u001b[0;34m]\u001b[0m\u001b[0;34m,\u001b[0m \u001b[0mBaseConcatDataset\u001b[0m\u001b[0;34m)\u001b[0m\u001b[0;34m:\u001b[0m\u001b[0;34m\u001b[0m\u001b[0;34m\u001b[0m\u001b[0m\n\u001b[1;32m    262\u001b[0m             \u001b[0mlist_of_ds\u001b[0m \u001b[0;34m=\u001b[0m \u001b[0;34m[\u001b[0m\u001b[0md\u001b[0m \u001b[0;32mfor\u001b[0m \u001b[0mds\u001b[0m \u001b[0;32min\u001b[0m \u001b[0mlist_of_ds\u001b[0m \u001b[0;32mfor\u001b[0m \u001b[0md\u001b[0m \u001b[0;32min\u001b[0m \u001b[0mds\u001b[0m\u001b[0;34m.\u001b[0m\u001b[0mdatasets\u001b[0m\u001b[0;34m]\u001b[0m\u001b[0;34m\u001b[0m\u001b[0;34m\u001b[0m\u001b[0m\n\u001b[0;32m--> 263\u001b[0;31m         \u001b[0msuper\u001b[0m\u001b[0;34m(\u001b[0m\u001b[0;34m)\u001b[0m\u001b[0;34m.\u001b[0m\u001b[0m__init__\u001b[0m\u001b[0;34m(\u001b[0m\u001b[0mlist_of_ds\u001b[0m\u001b[0;34m)\u001b[0m\u001b[0;34m\u001b[0m\u001b[0;34m\u001b[0m\u001b[0m\n\u001b[0m\u001b[1;32m    264\u001b[0m \u001b[0;34m\u001b[0m\u001b[0m\n\u001b[1;32m    265\u001b[0m         \u001b[0mself\u001b[0m\u001b[0;34m.\u001b[0m\u001b[0mtarget_transform\u001b[0m \u001b[0;34m=\u001b[0m \u001b[0mtarget_transform\u001b[0m\u001b[0;34m\u001b[0m\u001b[0;34m\u001b[0m\u001b[0m\n",
      "\u001b[0;32m/opt/conda/lib/python3.9/site-packages/torch/utils/data/dataset.py\u001b[0m in \u001b[0;36m__init__\u001b[0;34m(self, datasets)\u001b[0m\n\u001b[1;32m    215\u001b[0m         \u001b[0msuper\u001b[0m\u001b[0;34m(\u001b[0m\u001b[0mConcatDataset\u001b[0m\u001b[0;34m,\u001b[0m \u001b[0mself\u001b[0m\u001b[0;34m)\u001b[0m\u001b[0;34m.\u001b[0m\u001b[0m__init__\u001b[0m\u001b[0;34m(\u001b[0m\u001b[0;34m)\u001b[0m\u001b[0;34m\u001b[0m\u001b[0;34m\u001b[0m\u001b[0m\n\u001b[1;32m    216\u001b[0m         \u001b[0mself\u001b[0m\u001b[0;34m.\u001b[0m\u001b[0mdatasets\u001b[0m \u001b[0;34m=\u001b[0m \u001b[0mlist\u001b[0m\u001b[0;34m(\u001b[0m\u001b[0mdatasets\u001b[0m\u001b[0;34m)\u001b[0m\u001b[0;34m\u001b[0m\u001b[0;34m\u001b[0m\u001b[0m\n\u001b[0;32m--> 217\u001b[0;31m         \u001b[0;32massert\u001b[0m \u001b[0mlen\u001b[0m\u001b[0;34m(\u001b[0m\u001b[0mself\u001b[0m\u001b[0;34m.\u001b[0m\u001b[0mdatasets\u001b[0m\u001b[0;34m)\u001b[0m \u001b[0;34m>\u001b[0m \u001b[0;36m0\u001b[0m\u001b[0;34m,\u001b[0m \u001b[0;34m'datasets should not be an empty iterable'\u001b[0m  \u001b[0;31m# type: ignore[arg-type]\u001b[0m\u001b[0;34m\u001b[0m\u001b[0;34m\u001b[0m\u001b[0m\n\u001b[0m\u001b[1;32m    218\u001b[0m         \u001b[0;32mfor\u001b[0m \u001b[0md\u001b[0m \u001b[0;32min\u001b[0m \u001b[0mself\u001b[0m\u001b[0;34m.\u001b[0m\u001b[0mdatasets\u001b[0m\u001b[0;34m:\u001b[0m\u001b[0;34m\u001b[0m\u001b[0;34m\u001b[0m\u001b[0m\n\u001b[1;32m    219\u001b[0m             \u001b[0;32massert\u001b[0m \u001b[0;32mnot\u001b[0m \u001b[0misinstance\u001b[0m\u001b[0;34m(\u001b[0m\u001b[0md\u001b[0m\u001b[0;34m,\u001b[0m \u001b[0mIterableDataset\u001b[0m\u001b[0;34m)\u001b[0m\u001b[0;34m,\u001b[0m \u001b[0;34m\"ConcatDataset does not support IterableDataset\"\u001b[0m\u001b[0;34m\u001b[0m\u001b[0;34m\u001b[0m\u001b[0m\n",
      "\u001b[0;31mAssertionError\u001b[0m: datasets should not be an empty iterable"
     ]
    }
   ],
   "source": [
    "c1 = (tuabn_train.description.age - tuabn_train.description.report_age).abs() < 2\n",
    "c2 = (tuabn_train.description.age - tuabn_train.description.date_age).abs() < 2\n",
    "c3 = (tuabn_train.description.date_age - tuabn_train.description.report_age).abs() < 2\n",
    "ids = tuabn_train.description[c1 & c2 & c3].index.to_list()\n",
    "tuabn_train_clean = tuabn_train.split([ids])['0']"
   ]
  },
  {
   "cell_type": "code",
   "execution_count": 9,
   "id": "7865c3a6-3421-4efd-bbe4-7c1bb4095d30",
   "metadata": {},
   "outputs": [
    {
     "data": {
      "text/html": [
       "<div>\n",
       "<style scoped>\n",
       "    .dataframe tbody tr th:only-of-type {\n",
       "        vertical-align: middle;\n",
       "    }\n",
       "\n",
       "    .dataframe tbody tr th {\n",
       "        vertical-align: top;\n",
       "    }\n",
       "\n",
       "    .dataframe thead th {\n",
       "        text-align: right;\n",
       "    }\n",
       "</style>\n",
       "<table border=\"1\" class=\"dataframe\">\n",
       "  <thead>\n",
       "    <tr style=\"text-align: right;\">\n",
       "      <th></th>\n",
       "      <th>path</th>\n",
       "      <th>version</th>\n",
       "      <th>year</th>\n",
       "      <th>month</th>\n",
       "      <th>day</th>\n",
       "      <th>subject</th>\n",
       "      <th>session</th>\n",
       "      <th>segment</th>\n",
       "      <th>train</th>\n",
       "      <th>pathological</th>\n",
       "      <th>report</th>\n",
       "      <th>age</th>\n",
       "      <th>gender</th>\n",
       "      <th>date_age</th>\n",
       "      <th>report_age</th>\n",
       "    </tr>\n",
       "  </thead>\n",
       "  <tbody>\n",
       "    <tr>\n",
       "      <th>0</th>\n",
       "      <td>/home/jovyan/mne_data/TUH/tuh_eeg_abnormal/v2....</td>\n",
       "      <td>v2.0.0</td>\n",
       "      <td>2009</td>\n",
       "      <td>9</td>\n",
       "      <td>4</td>\n",
       "      <td>929</td>\n",
       "      <td>3</td>\n",
       "      <td>2</td>\n",
       "      <td>True</td>\n",
       "      <td>False</td>\n",
       "      <td>CLINICAL HISTORY:  Epilepsy, currently seizure...</td>\n",
       "      <td>39</td>\n",
       "      <td>F</td>\n",
       "      <td>39</td>\n",
       "      <td>38</td>\n",
       "    </tr>\n",
       "    <tr>\n",
       "      <th>1</th>\n",
       "      <td>/home/jovyan/mne_data/TUH/tuh_eeg_abnormal/v2....</td>\n",
       "      <td>v2.0.0</td>\n",
       "      <td>2009</td>\n",
       "      <td>9</td>\n",
       "      <td>9</td>\n",
       "      <td>5909</td>\n",
       "      <td>2</td>\n",
       "      <td>0</td>\n",
       "      <td>True</td>\n",
       "      <td>False</td>\n",
       "      <td>CLINICAL HISTORY: 32 year old male with episod...</td>\n",
       "      <td>32</td>\n",
       "      <td>M</td>\n",
       "      <td>32</td>\n",
       "      <td>32</td>\n",
       "    </tr>\n",
       "    <tr>\n",
       "      <th>2</th>\n",
       "      <td>/home/jovyan/mne_data/TUH/tuh_eeg_abnormal/v2....</td>\n",
       "      <td>v2.0.0</td>\n",
       "      <td>2009</td>\n",
       "      <td>9</td>\n",
       "      <td>10</td>\n",
       "      <td>6201</td>\n",
       "      <td>1</td>\n",
       "      <td>0</td>\n",
       "      <td>False</td>\n",
       "      <td>False</td>\n",
       "      <td>CLINICAL HISTORY: 54 year old male with recurr...</td>\n",
       "      <td>54</td>\n",
       "      <td>M</td>\n",
       "      <td>54</td>\n",
       "      <td>54</td>\n",
       "    </tr>\n",
       "    <tr>\n",
       "      <th>3</th>\n",
       "      <td>/home/jovyan/mne_data/TUH/tuh_eeg_abnormal/v2....</td>\n",
       "      <td>v2.0.0</td>\n",
       "      <td>2009</td>\n",
       "      <td>9</td>\n",
       "      <td>10</td>\n",
       "      <td>6422</td>\n",
       "      <td>1</td>\n",
       "      <td>0</td>\n",
       "      <td>False</td>\n",
       "      <td>False</td>\n",
       "      <td>\\nCLINICAL HISTORY:   49 year old left handed ...</td>\n",
       "      <td>50</td>\n",
       "      <td>M</td>\n",
       "      <td>50</td>\n",
       "      <td>49</td>\n",
       "    </tr>\n",
       "    <tr>\n",
       "      <th>4</th>\n",
       "      <td>/home/jovyan/mne_data/TUH/tuh_eeg_abnormal/v2....</td>\n",
       "      <td>v2.0.0</td>\n",
       "      <td>2009</td>\n",
       "      <td>9</td>\n",
       "      <td>11</td>\n",
       "      <td>5928</td>\n",
       "      <td>1</td>\n",
       "      <td>0</td>\n",
       "      <td>True</td>\n",
       "      <td>True</td>\n",
       "      <td>CLINICAL HISTORY:  71 year old woman with recu...</td>\n",
       "      <td>70</td>\n",
       "      <td>F</td>\n",
       "      <td>70</td>\n",
       "      <td>71</td>\n",
       "    </tr>\n",
       "    <tr>\n",
       "      <th>...</th>\n",
       "      <td>...</td>\n",
       "      <td>...</td>\n",
       "      <td>...</td>\n",
       "      <td>...</td>\n",
       "      <td>...</td>\n",
       "      <td>...</td>\n",
       "      <td>...</td>\n",
       "      <td>...</td>\n",
       "      <td>...</td>\n",
       "      <td>...</td>\n",
       "      <td>...</td>\n",
       "      <td>...</td>\n",
       "      <td>...</td>\n",
       "      <td>...</td>\n",
       "      <td>...</td>\n",
       "    </tr>\n",
       "    <tr>\n",
       "      <th>2713</th>\n",
       "      <td>/home/jovyan/mne_data/TUH/tuh_eeg_abnormal/v2....</td>\n",
       "      <td>v2.0.0</td>\n",
       "      <td>2013</td>\n",
       "      <td>10</td>\n",
       "      <td>7</td>\n",
       "      <td>6091</td>\n",
       "      <td>4</td>\n",
       "      <td>0</td>\n",
       "      <td>False</td>\n",
       "      <td>True</td>\n",
       "      <td>CLINICAL 40-year-old man With LD, Childhood TB...</td>\n",
       "      <td>40</td>\n",
       "      <td>M</td>\n",
       "      <td>40</td>\n",
       "      <td>40</td>\n",
       "    </tr>\n",
       "    <tr>\n",
       "      <th>2714</th>\n",
       "      <td>/home/jovyan/mne_data/TUH/tuh_eeg_abnormal/v2....</td>\n",
       "      <td>v2.0.0</td>\n",
       "      <td>2013</td>\n",
       "      <td>10</td>\n",
       "      <td>7</td>\n",
       "      <td>6881</td>\n",
       "      <td>2</td>\n",
       "      <td>1</td>\n",
       "      <td>True</td>\n",
       "      <td>True</td>\n",
       "      <td>CLINICAL HISTORY: 50-year-old woman with a his...</td>\n",
       "      <td>51</td>\n",
       "      <td>F</td>\n",
       "      <td>51</td>\n",
       "      <td>50</td>\n",
       "    </tr>\n",
       "    <tr>\n",
       "      <th>2715</th>\n",
       "      <td>/home/jovyan/mne_data/TUH/tuh_eeg_abnormal/v2....</td>\n",
       "      <td>v2.0.0</td>\n",
       "      <td>2013</td>\n",
       "      <td>10</td>\n",
       "      <td>7</td>\n",
       "      <td>9289</td>\n",
       "      <td>4</td>\n",
       "      <td>1</td>\n",
       "      <td>True</td>\n",
       "      <td>True</td>\n",
       "      <td>CLINICAL HISTORY: A 22-year-old with refractor...</td>\n",
       "      <td>22</td>\n",
       "      <td>M</td>\n",
       "      <td>22</td>\n",
       "      <td>22</td>\n",
       "    </tr>\n",
       "    <tr>\n",
       "      <th>2716</th>\n",
       "      <td>/home/jovyan/mne_data/TUH/tuh_eeg_abnormal/v2....</td>\n",
       "      <td>v2.0.0</td>\n",
       "      <td>2013</td>\n",
       "      <td>10</td>\n",
       "      <td>10</td>\n",
       "      <td>3240</td>\n",
       "      <td>2</td>\n",
       "      <td>1</td>\n",
       "      <td>True</td>\n",
       "      <td>False</td>\n",
       "      <td>CLINICAL HISTORY:  A 55-year-old woman with re...</td>\n",
       "      <td>55</td>\n",
       "      <td>F</td>\n",
       "      <td>55</td>\n",
       "      <td>55</td>\n",
       "    </tr>\n",
       "    <tr>\n",
       "      <th>2717</th>\n",
       "      <td>/home/jovyan/mne_data/TUH/tuh_eeg_abnormal/v2....</td>\n",
       "      <td>v2.0.0</td>\n",
       "      <td>2013</td>\n",
       "      <td>11</td>\n",
       "      <td>22</td>\n",
       "      <td>10839</td>\n",
       "      <td>1</td>\n",
       "      <td>0</td>\n",
       "      <td>True</td>\n",
       "      <td>False</td>\n",
       "      <td>CLINICAL HISTORY:  A 21-year-old female with m...</td>\n",
       "      <td>21</td>\n",
       "      <td>F</td>\n",
       "      <td>21</td>\n",
       "      <td>21</td>\n",
       "    </tr>\n",
       "  </tbody>\n",
       "</table>\n",
       "<p>2718 rows × 15 columns</p>\n",
       "</div>"
      ],
      "text/plain": [
       "                                                   path version  year  month  \\\n",
       "0     /home/jovyan/mne_data/TUH/tuh_eeg_abnormal/v2....  v2.0.0  2009      9   \n",
       "1     /home/jovyan/mne_data/TUH/tuh_eeg_abnormal/v2....  v2.0.0  2009      9   \n",
       "2     /home/jovyan/mne_data/TUH/tuh_eeg_abnormal/v2....  v2.0.0  2009      9   \n",
       "3     /home/jovyan/mne_data/TUH/tuh_eeg_abnormal/v2....  v2.0.0  2009      9   \n",
       "4     /home/jovyan/mne_data/TUH/tuh_eeg_abnormal/v2....  v2.0.0  2009      9   \n",
       "...                                                 ...     ...   ...    ...   \n",
       "2713  /home/jovyan/mne_data/TUH/tuh_eeg_abnormal/v2....  v2.0.0  2013     10   \n",
       "2714  /home/jovyan/mne_data/TUH/tuh_eeg_abnormal/v2....  v2.0.0  2013     10   \n",
       "2715  /home/jovyan/mne_data/TUH/tuh_eeg_abnormal/v2....  v2.0.0  2013     10   \n",
       "2716  /home/jovyan/mne_data/TUH/tuh_eeg_abnormal/v2....  v2.0.0  2013     10   \n",
       "2717  /home/jovyan/mne_data/TUH/tuh_eeg_abnormal/v2....  v2.0.0  2013     11   \n",
       "\n",
       "      day  subject  session  segment  train  pathological  \\\n",
       "0       4      929        3        2   True         False   \n",
       "1       9     5909        2        0   True         False   \n",
       "2      10     6201        1        0  False         False   \n",
       "3      10     6422        1        0  False         False   \n",
       "4      11     5928        1        0   True          True   \n",
       "...   ...      ...      ...      ...    ...           ...   \n",
       "2713    7     6091        4        0  False          True   \n",
       "2714    7     6881        2        1   True          True   \n",
       "2715    7     9289        4        1   True          True   \n",
       "2716   10     3240        2        1   True         False   \n",
       "2717   22    10839        1        0   True         False   \n",
       "\n",
       "                                                 report  age gender  date_age  \\\n",
       "0     CLINICAL HISTORY:  Epilepsy, currently seizure...   39      F        39   \n",
       "1     CLINICAL HISTORY: 32 year old male with episod...   32      M        32   \n",
       "2     CLINICAL HISTORY: 54 year old male with recurr...   54      M        54   \n",
       "3     \\nCLINICAL HISTORY:   49 year old left handed ...   50      M        50   \n",
       "4     CLINICAL HISTORY:  71 year old woman with recu...   70      F        70   \n",
       "...                                                 ...  ...    ...       ...   \n",
       "2713  CLINICAL 40-year-old man With LD, Childhood TB...   40      M        40   \n",
       "2714  CLINICAL HISTORY: 50-year-old woman with a his...   51      F        51   \n",
       "2715  CLINICAL HISTORY: A 22-year-old with refractor...   22      M        22   \n",
       "2716  CLINICAL HISTORY:  A 55-year-old woman with re...   55      F        55   \n",
       "2717  CLINICAL HISTORY:  A 21-year-old female with m...   21      F        21   \n",
       "\n",
       "      report_age  \n",
       "0             38  \n",
       "1             32  \n",
       "2             54  \n",
       "3             49  \n",
       "4             71  \n",
       "...          ...  \n",
       "2713          40  \n",
       "2714          50  \n",
       "2715          22  \n",
       "2716          55  \n",
       "2717          21  \n",
       "\n",
       "[2718 rows x 15 columns]"
      ]
     },
     "execution_count": 9,
     "metadata": {},
     "output_type": "execute_result"
    }
   ],
   "source": [
    "tuabn_train_clean.description"
   ]
  },
  {
   "cell_type": "code",
   "execution_count": null,
   "id": "01f6cc9b-3a93-477f-80dd-cda88f343ecb",
   "metadata": {},
   "outputs": [],
   "source": []
  },
  {
   "cell_type": "code",
   "execution_count": null,
   "id": "846ea7d0-507d-42b8-b620-e4bb0e850c5a",
   "metadata": {},
   "outputs": [],
   "source": []
  },
  {
   "cell_type": "code",
   "execution_count": null,
   "id": "845b1e05-22a4-4766-a53d-4ed5c7686365",
   "metadata": {},
   "outputs": [],
   "source": []
  },
  {
   "cell_type": "code",
   "execution_count": 6,
   "id": "912f2c07-1fa6-4f21-9841-2f92a0c46fe2",
   "metadata": {},
   "outputs": [],
   "source": [
    "# pattern = r'(\\d+)\\W[dayer]{3,4}\\W[old]{3}'\n",
    "# pattern = r'(\\d+).?[day]+'  # accept day and year\n",
    "# pattern = r'(\\d+).?[dy]+?[ayer]+.?[old]+'\n",
    "# pattern = r'(\\d+)-year-old|(\\d+) year old|(\\d+) years old|(\\d+) day old'\n",
    "pattern = r'(\\d+)[ -]+?[years]{3,5}[ -]+?[old]{3}'"
   ]
  },
  {
   "cell_type": "code",
   "execution_count": 44,
   "id": "65c0c2ab-defd-4c3e-8ff0-0001702d428a",
   "metadata": {
    "scrolled": true,
    "tags": []
   },
   "outputs": [],
   "source": [
    "mne_meas_date = {}\n",
    "birth_years = {}\n",
    "report_ages = {}\n",
    "for i in range(len(d)):\n",
    "    rec_year = tuabn_train.datasets[i].raw.info['meas_date'].year\n",
    "    mne_meas_date[i] = rec_year\n",
    "\n",
    "    p = d.loc[i, 'path']\n",
    "    h = TUHAbnormal._read_edf_header(p)\n",
    "    matches = re.findall(r'\\d{2}-\\w{3}-(\\d{4})', str(h))\n",
    "    assert len(matches) == 1\n",
    "    birth_year = int(matches[0])\n",
    "    birth_years[i] = birth_year\n",
    "\n",
    "    r = d.loc[i, 'report']\n",
    "    matches = re.findall(pattern, r)\n",
    "    if len(matches) >= 1:\n",
    "        match = int(matches[0])\n",
    "    elif len(matches) == 0:\n",
    "        match = np.nan\n",
    "    report_ages[i] = match"
   ]
  },
  {
   "cell_type": "code",
   "execution_count": 45,
   "id": "734b7d71-129b-47a8-ad41-e247683180b3",
   "metadata": {},
   "outputs": [],
   "source": [
    "df = pd.DataFrame([\n",
    "    {k: mne_meas_date[k]-birth_years[k] for k in mne_meas_date.keys()}, \n",
    "    report_ages, \n",
    "    d['age'], \n",
    "    d['pathological']],\n",
    ").T"
   ]
  },
  {
   "cell_type": "code",
   "execution_count": 46,
   "id": "cce66300-e7e7-4574-8369-d60fe45c8bb9",
   "metadata": {},
   "outputs": [],
   "source": [
    "df.columns = ['date_age', 'report_age', 'age', 'pathological']"
   ]
  },
  {
   "cell_type": "code",
   "execution_count": 47,
   "id": "927c7f43-7535-4288-bc9b-0c818831d485",
   "metadata": {},
   "outputs": [
    {
     "data": {
      "text/html": [
       "<div>\n",
       "<style scoped>\n",
       "    .dataframe tbody tr th:only-of-type {\n",
       "        vertical-align: middle;\n",
       "    }\n",
       "\n",
       "    .dataframe tbody tr th {\n",
       "        vertical-align: top;\n",
       "    }\n",
       "\n",
       "    .dataframe thead th {\n",
       "        text-align: right;\n",
       "    }\n",
       "</style>\n",
       "<table border=\"1\" class=\"dataframe\">\n",
       "  <thead>\n",
       "    <tr style=\"text-align: right;\">\n",
       "      <th></th>\n",
       "      <th>date_age</th>\n",
       "      <th>report_age</th>\n",
       "      <th>age</th>\n",
       "      <th>pathological</th>\n",
       "    </tr>\n",
       "  </thead>\n",
       "  <tbody>\n",
       "    <tr>\n",
       "      <th>0</th>\n",
       "      <td>53</td>\n",
       "      <td>NaN</td>\n",
       "      <td>53</td>\n",
       "      <td>False</td>\n",
       "    </tr>\n",
       "    <tr>\n",
       "      <th>1</th>\n",
       "      <td>30</td>\n",
       "      <td>NaN</td>\n",
       "      <td>30</td>\n",
       "      <td>False</td>\n",
       "    </tr>\n",
       "    <tr>\n",
       "      <th>3</th>\n",
       "      <td>65</td>\n",
       "      <td>NaN</td>\n",
       "      <td>65</td>\n",
       "      <td>False</td>\n",
       "    </tr>\n",
       "    <tr>\n",
       "      <th>93</th>\n",
       "      <td>51</td>\n",
       "      <td>NaN</td>\n",
       "      <td>51</td>\n",
       "      <td>True</td>\n",
       "    </tr>\n",
       "    <tr>\n",
       "      <th>117</th>\n",
       "      <td>25</td>\n",
       "      <td>NaN</td>\n",
       "      <td>25</td>\n",
       "      <td>True</td>\n",
       "    </tr>\n",
       "    <tr>\n",
       "      <th>...</th>\n",
       "      <td>...</td>\n",
       "      <td>...</td>\n",
       "      <td>...</td>\n",
       "      <td>...</td>\n",
       "    </tr>\n",
       "    <tr>\n",
       "      <th>2942</th>\n",
       "      <td>77</td>\n",
       "      <td>NaN</td>\n",
       "      <td>77</td>\n",
       "      <td>True</td>\n",
       "    </tr>\n",
       "    <tr>\n",
       "      <th>2958</th>\n",
       "      <td>21</td>\n",
       "      <td>NaN</td>\n",
       "      <td>21</td>\n",
       "      <td>True</td>\n",
       "    </tr>\n",
       "    <tr>\n",
       "      <th>2959</th>\n",
       "      <td>21</td>\n",
       "      <td>NaN</td>\n",
       "      <td>21</td>\n",
       "      <td>True</td>\n",
       "    </tr>\n",
       "    <tr>\n",
       "      <th>2960</th>\n",
       "      <td>21</td>\n",
       "      <td>NaN</td>\n",
       "      <td>21</td>\n",
       "      <td>True</td>\n",
       "    </tr>\n",
       "    <tr>\n",
       "      <th>2975</th>\n",
       "      <td>12</td>\n",
       "      <td>NaN</td>\n",
       "      <td>12</td>\n",
       "      <td>True</td>\n",
       "    </tr>\n",
       "  </tbody>\n",
       "</table>\n",
       "<p>71 rows × 4 columns</p>\n",
       "</div>"
      ],
      "text/plain": [
       "     date_age report_age age pathological\n",
       "0          53        NaN  53        False\n",
       "1          30        NaN  30        False\n",
       "3          65        NaN  65        False\n",
       "93         51        NaN  51         True\n",
       "117        25        NaN  25         True\n",
       "...       ...        ...  ..          ...\n",
       "2942       77        NaN  77         True\n",
       "2958       21        NaN  21         True\n",
       "2959       21        NaN  21         True\n",
       "2960       21        NaN  21         True\n",
       "2975       12        NaN  12         True\n",
       "\n",
       "[71 rows x 4 columns]"
      ]
     },
     "execution_count": 47,
     "metadata": {},
     "output_type": "execute_result"
    }
   ],
   "source": [
    "df[df.report_age.isna()]"
   ]
  },
  {
   "cell_type": "raw",
   "id": "4f1f022e-fd35-4506-aa69-bad7452645db",
   "metadata": {},
   "source": [
    "rec_id 93 has age as 50 but written with O instead of 0"
   ]
  },
  {
   "cell_type": "code",
   "execution_count": 17,
   "id": "cec3f386-8127-4501-8bfb-73d506f877ff",
   "metadata": {},
   "outputs": [
    {
     "name": "stdout",
     "output_type": "stream",
     "text": [
      "CLINICAL HISTORY:  An elderly man with confusion.\n",
      "MEDICATIONS:  Zithromax, ceftriaxone, hydralazine, aspirin, lisinopril, others.\n",
      "INTRODUCTION:  Digital video EEG was performed at the bedside using standard 10-20 system of electrode placement with 1 channel EKG.  The patient was agitated and uncooperative.  Electrode impedances were challenging.\n",
      "DESCRIPTION OF THE RECORD:  The EEG demonstrates a slow and disorganized background.  There are  some sections with a well-defined 7-8 Hz alpha rhythm.  Other sections demonstrate bursts of frontal delta.  There is a significant amount of muscle and movement artifact.  The patient is not always responsive while awake and then demonstrates some inappropriate or involuntary behaviors while awake.\n",
      "A single left temporal sharp waves was identified.\n",
      "At the close of the record, the patient drifts off to sleep.  The background EEG demonstrates a more synchronously sleep slow pattern with a heart rate of 90 BPM.\n",
      "IMPRESSION:  This is a technically challenging, but abnormal EEG due to:\n",
      "Background disorganization and slowing.\n",
      "Bursts of slow, rhythmic frontal delta.\n",
      "CLINICAL CORRELATION:  The features described above are nonspecific.  They can be seen in the context of a toxic or metabolic encephalopathy, but chronic, age-related CNS process may also produce pattern.\n",
      "\n",
      "\n",
      "\n",
      "\n"
     ]
    }
   ],
   "source": [
    "print(d.loc[2942, 'report'])"
   ]
  },
  {
   "cell_type": "code",
   "execution_count": 18,
   "id": "961670cb-b702-4676-bfee-2be10f99da05",
   "metadata": {},
   "outputs": [
    {
     "data": {
      "text/html": [
       "<div>\n",
       "<style scoped>\n",
       "    .dataframe tbody tr th:only-of-type {\n",
       "        vertical-align: middle;\n",
       "    }\n",
       "\n",
       "    .dataframe tbody tr th {\n",
       "        vertical-align: top;\n",
       "    }\n",
       "\n",
       "    .dataframe thead th {\n",
       "        text-align: right;\n",
       "    }\n",
       "</style>\n",
       "<table border=\"1\" class=\"dataframe\">\n",
       "  <thead>\n",
       "    <tr style=\"text-align: right;\">\n",
       "      <th></th>\n",
       "      <th>date_age</th>\n",
       "      <th>report_age</th>\n",
       "      <th>age</th>\n",
       "      <th>pathological</th>\n",
       "    </tr>\n",
       "  </thead>\n",
       "  <tbody>\n",
       "    <tr>\n",
       "      <th>779</th>\n",
       "      <td>14</td>\n",
       "      <td>13</td>\n",
       "      <td>14</td>\n",
       "      <td>False</td>\n",
       "    </tr>\n",
       "  </tbody>\n",
       "</table>\n",
       "</div>"
      ],
      "text/plain": [
       "    date_age report_age age pathological\n",
       "779       14         13  14        False"
      ]
     },
     "execution_count": 18,
     "metadata": {},
     "output_type": "execute_result"
    }
   ],
   "source": [
    "df[df.report_age == 13]"
   ]
  },
  {
   "cell_type": "code",
   "execution_count": null,
   "id": "3cab03a6-4e3c-4b32-bdda-5f18edca68a8",
   "metadata": {},
   "outputs": [],
   "source": []
  },
  {
   "cell_type": "code",
   "execution_count": null,
   "id": "aff27e33-864d-40c9-96b5-03069c2fa83b",
   "metadata": {},
   "outputs": [],
   "source": []
  },
  {
   "cell_type": "code",
   "execution_count": 19,
   "id": "a65744d8-3eba-413e-8a61-63c5a7f281cd",
   "metadata": {},
   "outputs": [
    {
     "data": {
      "text/plain": [
       "2953"
      ]
     },
     "execution_count": 19,
     "metadata": {},
     "output_type": "execute_result"
    }
   ],
   "source": [
    "(df.date_age == df.age).sum()"
   ]
  },
  {
   "cell_type": "code",
   "execution_count": 20,
   "id": "9349cdc5-02bd-40ac-a088-34d241cfd7c4",
   "metadata": {},
   "outputs": [
    {
     "data": {
      "text/plain": [
       "1255"
      ]
     },
     "execution_count": 20,
     "metadata": {},
     "output_type": "execute_result"
    }
   ],
   "source": [
    "(df.date_age == df.report_age).sum()"
   ]
  },
  {
   "cell_type": "code",
   "execution_count": 21,
   "id": "6fb5da87-1e4b-4b8f-a382-ddbfbe8502ef",
   "metadata": {},
   "outputs": [
    {
     "data": {
      "text/plain": [
       "1249"
      ]
     },
     "execution_count": 21,
     "metadata": {},
     "output_type": "execute_result"
    }
   ],
   "source": [
    "(df.age == df.report_age).sum()"
   ]
  },
  {
   "cell_type": "code",
   "execution_count": 22,
   "id": "8a4bd719-f797-4564-940e-c5b302152d83",
   "metadata": {},
   "outputs": [
    {
     "data": {
      "text/html": [
       "<div>\n",
       "<style scoped>\n",
       "    .dataframe tbody tr th:only-of-type {\n",
       "        vertical-align: middle;\n",
       "    }\n",
       "\n",
       "    .dataframe tbody tr th {\n",
       "        vertical-align: top;\n",
       "    }\n",
       "\n",
       "    .dataframe thead th {\n",
       "        text-align: right;\n",
       "    }\n",
       "</style>\n",
       "<table border=\"1\" class=\"dataframe\">\n",
       "  <thead>\n",
       "    <tr style=\"text-align: right;\">\n",
       "      <th></th>\n",
       "      <th>date_age</th>\n",
       "      <th>report_age</th>\n",
       "      <th>age</th>\n",
       "      <th>pathological</th>\n",
       "    </tr>\n",
       "  </thead>\n",
       "  <tbody>\n",
       "    <tr>\n",
       "      <th>137</th>\n",
       "      <td>111</td>\n",
       "      <td>37</td>\n",
       "      <td>37</td>\n",
       "      <td>False</td>\n",
       "    </tr>\n",
       "    <tr>\n",
       "      <th>1011</th>\n",
       "      <td>112</td>\n",
       "      <td>81</td>\n",
       "      <td>82</td>\n",
       "      <td>True</td>\n",
       "    </tr>\n",
       "    <tr>\n",
       "      <th>1016</th>\n",
       "      <td>112</td>\n",
       "      <td>81</td>\n",
       "      <td>82</td>\n",
       "      <td>True</td>\n",
       "    </tr>\n",
       "    <tr>\n",
       "      <th>1169</th>\n",
       "      <td>112</td>\n",
       "      <td>83</td>\n",
       "      <td>83</td>\n",
       "      <td>False</td>\n",
       "    </tr>\n",
       "    <tr>\n",
       "      <th>1760</th>\n",
       "      <td>113</td>\n",
       "      <td>42</td>\n",
       "      <td>42</td>\n",
       "      <td>False</td>\n",
       "    </tr>\n",
       "    <tr>\n",
       "      <th>1786</th>\n",
       "      <td>113</td>\n",
       "      <td>NaN</td>\n",
       "      <td>0</td>\n",
       "      <td>True</td>\n",
       "    </tr>\n",
       "    <tr>\n",
       "      <th>1893</th>\n",
       "      <td>113</td>\n",
       "      <td>68</td>\n",
       "      <td>68</td>\n",
       "      <td>False</td>\n",
       "    </tr>\n",
       "    <tr>\n",
       "      <th>2020</th>\n",
       "      <td>113</td>\n",
       "      <td>51</td>\n",
       "      <td>51</td>\n",
       "      <td>False</td>\n",
       "    </tr>\n",
       "  </tbody>\n",
       "</table>\n",
       "</div>"
      ],
      "text/plain": [
       "     date_age report_age age pathological\n",
       "137       111         37  37        False\n",
       "1011      112         81  82         True\n",
       "1016      112         81  82         True\n",
       "1169      112         83  83        False\n",
       "1760      113         42  42        False\n",
       "1786      113        NaN   0         True\n",
       "1893      113         68  68        False\n",
       "2020      113         51  51        False"
      ]
     },
     "execution_count": 22,
     "metadata": {},
     "output_type": "execute_result"
    }
   ],
   "source": [
    "df[df.date_age > 100]"
   ]
  },
  {
   "cell_type": "code",
   "execution_count": 23,
   "id": "9bb9ea7a-aeeb-4ec8-a548-d4f324b0737a",
   "metadata": {},
   "outputs": [
    {
     "data": {
      "text/plain": [
       "b'0       00009652 M 01-JAN-1899 00009652 Age:51                                          '"
      ]
     },
     "execution_count": 23,
     "metadata": {},
     "output_type": "execute_result"
    }
   ],
   "source": [
    "TUHAbnormal._read_edf_header(d.loc[2020, 'path'])"
   ]
  },
  {
   "cell_type": "code",
   "execution_count": 24,
   "id": "2dafcbad-a81e-4d36-9fe8-2d499981de57",
   "metadata": {},
   "outputs": [
    {
     "data": {
      "text/plain": [
       "b'0       00009208 F 01-JAN-1899 00009208 Age:68                                          '"
      ]
     },
     "execution_count": 24,
     "metadata": {},
     "output_type": "execute_result"
    }
   ],
   "source": [
    "TUHAbnormal._read_edf_header(d.loc[1893, 'path'])"
   ]
  },
  {
   "cell_type": "code",
   "execution_count": 25,
   "id": "3498cf37-b76c-4214-a4f6-71d96681cee5",
   "metadata": {},
   "outputs": [
    {
     "data": {
      "text/plain": [
       "b'0       00008982 M 01-JAN-1899 00008982 Age:0.0137                                      '"
      ]
     },
     "execution_count": 25,
     "metadata": {},
     "output_type": "execute_result"
    }
   ],
   "source": [
    "TUHAbnormal._read_edf_header(d.loc[1786, 'path'])"
   ]
  },
  {
   "cell_type": "code",
   "execution_count": 26,
   "id": "1c5989aa-b15b-453b-a157-a45e7f4d1aad",
   "metadata": {},
   "outputs": [
    {
     "name": "stdout",
     "output_type": "stream",
     "text": [
      "CLINICAL HISTORY:  39-week-old gestational age and 37 conceptional age male born to a mother with drug abuse and history of meconium aspiration and low Apgars of 2, 5 and 6 requiring intubation.\n",
      "MEDICATIONS:  Ativan, Fentanyl, Morphine, Phenobarbital.\n",
      "REASON FOR STUDY:  Low Apgar scores, abnormal behavior.\n",
      "INTRODUCTION:  Digital video routine EEG was performed using the standard 10-20 electrode placement system with EMG, EOG and EKG electrodes.  The patient was recorded in quiet sleep as well as awake.  Activating procedures were not performed.\n",
      "TECHNICAL DIFFICULTIES:  None.\n",
      "DESCRIPTION OF THE RECORD:  The record opens to an awake mixed frequency moderate to high amplitude activity which is fairly continuous and quiet sleep which displays trace alternatives as pattern.  There is some central as well as temporal delta brushes and some scattered temporal and central sharp waves mainly at C4, T4 and C3.\n",
      "ABNORMAL FINDINGS:  There are some positive sharp waves seen at T3.\n",
      "IMPRESSION:  Abnormal EEG due to:\n",
      "Left temporal positive sharp waves.\n",
      "CLINICAL CORRELATION:  This EEG overall reveals normal appropriate architecture for age.  However, the positive sharp waves have a high correlation with a structural lesion in that region in the left temporal lobe sometimes seen with intraventricular hemorrhages.  No seizures or other epileptiform discharges were seen.\n",
      "\n",
      "\n",
      "\n",
      "\n"
     ]
    }
   ],
   "source": [
    "print(d.loc[1786, 'report'])"
   ]
  },
  {
   "cell_type": "code",
   "execution_count": 27,
   "id": "8d889baa-f1e8-47a8-99a5-d69d2dc52c40",
   "metadata": {},
   "outputs": [
    {
     "data": {
      "text/plain": [
       "b'0       00009054 M 01-JAN-1899 00009054 Age:42                                          '"
      ]
     },
     "execution_count": 27,
     "metadata": {},
     "output_type": "execute_result"
    }
   ],
   "source": [
    "TUHAbnormal._read_edf_header(d.loc[1760, 'path'])"
   ]
  },
  {
   "cell_type": "code",
   "execution_count": 28,
   "id": "5248fc8c-f390-42e9-b544-81f242ff97cc",
   "metadata": {},
   "outputs": [
    {
     "data": {
      "text/plain": [
       "b'0       00009690 M 01-JAN-1899 00009690 Age:83                                          '"
      ]
     },
     "execution_count": 28,
     "metadata": {},
     "output_type": "execute_result"
    }
   ],
   "source": [
    "TUHAbnormal._read_edf_header(d.loc[1169, 'path'])"
   ]
  },
  {
   "cell_type": "code",
   "execution_count": null,
   "id": "85927b3b-afef-4727-b01f-3eac7a92de09",
   "metadata": {},
   "outputs": [],
   "source": []
  },
  {
   "cell_type": "code",
   "execution_count": null,
   "id": "461a2441-89b9-4287-baed-a05024f53810",
   "metadata": {},
   "outputs": [],
   "source": []
  },
  {
   "cell_type": "code",
   "execution_count": 29,
   "id": "e7ec5baa-beed-41ba-a7ae-913602c7e570",
   "metadata": {},
   "outputs": [
    {
     "data": {
      "text/html": [
       "<div>\n",
       "<style scoped>\n",
       "    .dataframe tbody tr th:only-of-type {\n",
       "        vertical-align: middle;\n",
       "    }\n",
       "\n",
       "    .dataframe tbody tr th {\n",
       "        vertical-align: top;\n",
       "    }\n",
       "\n",
       "    .dataframe thead th {\n",
       "        text-align: right;\n",
       "    }\n",
       "</style>\n",
       "<table border=\"1\" class=\"dataframe\">\n",
       "  <thead>\n",
       "    <tr style=\"text-align: right;\">\n",
       "      <th></th>\n",
       "      <th>date_age</th>\n",
       "      <th>report_age</th>\n",
       "      <th>age</th>\n",
       "      <th>pathological</th>\n",
       "    </tr>\n",
       "  </thead>\n",
       "  <tbody>\n",
       "    <tr>\n",
       "      <th>265</th>\n",
       "      <td>0</td>\n",
       "      <td>NaN</td>\n",
       "      <td>0</td>\n",
       "      <td>True</td>\n",
       "    </tr>\n",
       "    <tr>\n",
       "      <th>1619</th>\n",
       "      <td>4</td>\n",
       "      <td>24</td>\n",
       "      <td>4</td>\n",
       "      <td>True</td>\n",
       "    </tr>\n",
       "    <tr>\n",
       "      <th>1684</th>\n",
       "      <td>1</td>\n",
       "      <td>71</td>\n",
       "      <td>1</td>\n",
       "      <td>True</td>\n",
       "    </tr>\n",
       "    <tr>\n",
       "      <th>1727</th>\n",
       "      <td>0</td>\n",
       "      <td>51</td>\n",
       "      <td>52</td>\n",
       "      <td>True</td>\n",
       "    </tr>\n",
       "    <tr>\n",
       "      <th>2328</th>\n",
       "      <td>0</td>\n",
       "      <td>72</td>\n",
       "      <td>73</td>\n",
       "      <td>False</td>\n",
       "    </tr>\n",
       "    <tr>\n",
       "      <th>2398</th>\n",
       "      <td>3</td>\n",
       "      <td>20</td>\n",
       "      <td>3</td>\n",
       "      <td>False</td>\n",
       "    </tr>\n",
       "    <tr>\n",
       "      <th>2768</th>\n",
       "      <td>0</td>\n",
       "      <td>NaN</td>\n",
       "      <td>0</td>\n",
       "      <td>False</td>\n",
       "    </tr>\n",
       "    <tr>\n",
       "      <th>2982</th>\n",
       "      <td>1</td>\n",
       "      <td>28</td>\n",
       "      <td>1</td>\n",
       "      <td>False</td>\n",
       "    </tr>\n",
       "  </tbody>\n",
       "</table>\n",
       "</div>"
      ],
      "text/plain": [
       "     date_age report_age age pathological\n",
       "265         0        NaN   0         True\n",
       "1619        4         24   4         True\n",
       "1684        1         71   1         True\n",
       "1727        0         51  52         True\n",
       "2328        0         72  73        False\n",
       "2398        3         20   3        False\n",
       "2768        0        NaN   0        False\n",
       "2982        1         28   1        False"
      ]
     },
     "execution_count": 29,
     "metadata": {},
     "output_type": "execute_result"
    }
   ],
   "source": [
    "df[df.date_age < 5]"
   ]
  },
  {
   "cell_type": "code",
   "execution_count": 30,
   "id": "f989591d-2df9-40ae-8ab3-aea9453fa193",
   "metadata": {},
   "outputs": [
    {
     "data": {
      "text/plain": [
       "b'0       00007304 F 01-JAN-2010 00007304 Age:0.0192                                      '"
      ]
     },
     "execution_count": 30,
     "metadata": {},
     "output_type": "execute_result"
    }
   ],
   "source": [
    "TUHAbnormal._read_edf_header(d.loc[265, 'path'])"
   ]
  },
  {
   "cell_type": "code",
   "execution_count": 31,
   "id": "521a78ff-0e0d-4430-845a-781d9727c8fb",
   "metadata": {},
   "outputs": [
    {
     "name": "stdout",
     "output_type": "stream",
     "text": [
      "CLINICAL HISTORY: 7 day old infant born 37 weeks by history, 35 to 36 weeks by exam to mother with eclampsia. Abnormal MRI of the brain suggesting perinatal anoxia. No report of clinical seizures at this time. The technologist reports that the patient has been doing well but was difficult to arouse during the EEG.\n",
      "\n",
      "MEDICATIONS: Phenobarbital.\n",
      "\n",
      "INTRODUCTION: Digital video EEG was performed at bedside with neonatal mentoring using the neonatal montage with the eye monitor. The child is quite sleepy.\n",
      "\n",
      "DESCRIPTION OF THE RECORD: The background EEG is somewhat slower amplitude than might be anticipated for a neonatal EEG. There are vertex waves observed, delta brushes. There is variability in the record and reactivity. The A1T3 pair demonstrates artifacts. There appears to be some artifact in the left temporal lateral chain. There are a handful of C4 sharp waves as well as O2 sharp waves.\n",
      "\n",
      "HR: 102 bpm\n",
      "\n",
      "IMPRESSION: Abnormal EEG for an infant of this age due to:\n",
      "1. A lower voltage somewhat more discontinuous record than expected.\n",
      "2. Occasional O2 sharp waves and rare C4 sharp waves.\n",
      "\n",
      "CLINICAL CORRELATION: This is an improving pattern compared to the previous study. No seizures were recorded. Some of the features described above may be seen in a sick infant but these findings must also be correlated with this patient's MRI findings.\n",
      "\n",
      "\n",
      "\n",
      "\n"
     ]
    }
   ],
   "source": [
    "print(d.loc[265, 'report'])"
   ]
  },
  {
   "cell_type": "code",
   "execution_count": 32,
   "id": "57d0ac08-b79e-4a06-9b49-b4989898b599",
   "metadata": {},
   "outputs": [
    {
     "data": {
      "text/plain": [
       "'/home/jovyan/mne_data/TUH/tuh_eeg_abnormal/v2.0.0/edf/train/abnormal/01_tcp_ar/088/00008842/s001_2012_05_18/00008842_s001_t000.edf'"
      ]
     },
     "execution_count": 32,
     "metadata": {},
     "output_type": "execute_result"
    }
   ],
   "source": [
    "d.loc[1619, 'path']"
   ]
  },
  {
   "cell_type": "code",
   "execution_count": 33,
   "id": "70644fb6-5cf8-45a9-b590-9856585868dd",
   "metadata": {},
   "outputs": [
    {
     "data": {
      "text/plain": [
       "b'0       00008842 M 01-JAN-2008 00008842 Age:4                                           '"
      ]
     },
     "execution_count": 33,
     "metadata": {},
     "output_type": "execute_result"
    }
   ],
   "source": [
    "TUHAbnormal._read_edf_header(d.loc[1619, 'path'])"
   ]
  },
  {
   "cell_type": "code",
   "execution_count": 34,
   "id": "a122f588-f87d-42cd-827c-25271306c904",
   "metadata": {},
   "outputs": [
    {
     "name": "stdout",
     "output_type": "stream",
     "text": [
      "CLINICAL HISTORY:  24 year old male with an ATV accident in October, central hematoma, cranioplasty with first generalized seizure in March 2012.\n",
      "MEDICATIONS:  Keppra.\n",
      "INTRODUCTION:  Digital video EEG was performed in lab using standard 10-20 system of electrode placement with 1 channel of EKG.  Hyperventilation and photic stimulation are performed.  The patient has a craniotomy defect on the left.\n",
      "DESCRIPTION OF THE RECORD:  This EEG demonstrates an asymmetry. From the right hemisphere, the EEG is relatively well organized with 10 Hz alpha rhythm. Mu was identified bilaterally. The left hemisphere demonstrates a breech rhythm. In addition, there is theta in the left hemisphere particularly frontocentral and temporal regions. The activity is primarily T3 and C3 as the patient becomes drowsy. Photic stimulation elicits some bilateral driving response. Hyperventilation accentuates the focal theta on the left.\n",
      "Deeper stages of sleep are not sustained.\n",
      "HR:    72 bpm\n",
      "IMPRESSION:  Abnormal EEG in wakefulness and drowsiness due to:\n",
      "Left central temporal theta.\n",
      "CLINICAL CORRELATION:  No sharp waves or spikes were seen. If additional information is needed, a follow-up study capturing deeper stages of sleep is suggested.\n",
      "\n",
      "\n",
      "\n",
      "\n"
     ]
    }
   ],
   "source": [
    "print(d.loc[1619, 'report'])"
   ]
  },
  {
   "cell_type": "code",
   "execution_count": null,
   "id": "0cbf9cb9-15e4-46da-9a11-ece65d883f56",
   "metadata": {},
   "outputs": [],
   "source": []
  },
  {
   "cell_type": "code",
   "execution_count": null,
   "id": "8df4e012-7f48-4ab7-b851-1c98df5ba162",
   "metadata": {},
   "outputs": [],
   "source": []
  },
  {
   "cell_type": "code",
   "execution_count": null,
   "id": "293404eb-fe33-44ab-b5fb-e831b1ce099e",
   "metadata": {},
   "outputs": [],
   "source": []
  },
  {
   "cell_type": "code",
   "execution_count": null,
   "id": "d99839a2-7310-40e3-bdb2-8359533c6009",
   "metadata": {},
   "outputs": [],
   "source": []
  },
  {
   "cell_type": "code",
   "execution_count": null,
   "id": "96c856b4-8bd7-4ddd-b4d3-5791eddf0ffa",
   "metadata": {},
   "outputs": [],
   "source": []
  },
  {
   "cell_type": "code",
   "execution_count": 16,
   "id": "ca553c4a-7051-427b-90ae-1cbc7c9511e8",
   "metadata": {},
   "outputs": [
    {
     "name": "stderr",
     "output_type": "stream",
     "text": [
      "<ipython-input-16-d69288766efc>:4: MatplotlibDeprecationWarning: The seaborn styles shipped by Matplotlib are deprecated since 3.6, as they no longer correspond to the styles shipped by seaborn. However, they will remain available as 'seaborn-v0_8-<style>'. Alternatively, directly use the seaborn API instead.\n",
      "  plt.style.use('seaborn')\n"
     ]
    }
   ],
   "source": [
    "import pandas as pd\n",
    "import seaborn as sns\n",
    "import matplotlib.pyplot as plt\n",
    "plt.style.use('seaborn')\n",
    "from sklearn.metrics import mean_absolute_error"
   ]
  },
  {
   "cell_type": "code",
   "execution_count": 17,
   "id": "45c84dc9-b007-4c8e-8f04-ddc6e4e4a042",
   "metadata": {},
   "outputs": [],
   "source": [
    "df = pd.read_csv('/home/lukas/Code/brain_age/ds_descriptions/tuh_abnormal_description_age_sources.csv', index_col=0)"
   ]
  },
  {
   "cell_type": "code",
   "execution_count": 18,
   "id": "a566e6f5-6c28-431a-b013-095293a76802",
   "metadata": {},
   "outputs": [
    {
     "data": {
      "text/plain": [
       "0"
      ]
     },
     "execution_count": 18,
     "metadata": {},
     "output_type": "execute_result"
    }
   ],
   "source": [
    "df.date_age.isna().sum()"
   ]
  },
  {
   "cell_type": "code",
   "execution_count": 19,
   "id": "a6d31ef0-a621-4dba-bd4c-9db500226811",
   "metadata": {},
   "outputs": [
    {
     "data": {
      "text/plain": [
       "71"
      ]
     },
     "execution_count": 19,
     "metadata": {},
     "output_type": "execute_result"
    }
   ],
   "source": [
    "df.report_age.isna().sum()"
   ]
  },
  {
   "cell_type": "code",
   "execution_count": 31,
   "id": "98a0e020-435b-4922-8581-b1dfbe546c6d",
   "metadata": {},
   "outputs": [
    {
     "data": {
      "text/plain": [
       "<matplotlib.legend.Legend at 0x7f85130fee50>"
      ]
     },
     "execution_count": 31,
     "metadata": {},
     "output_type": "execute_result"
    },
    {
     "data": {
      "image/png": "[encoded data removed]",
      "text/plain": [
       "<Figure size 360x360 with 3 Axes>"
      ]
     },
     "metadata": {},
     "output_type": "display_data"
    },
    {
     "data": {
      "image/png": "[encoded data removed]",
      "text/plain": [
       "<Figure size 360x360 with 3 Axes>"
      ]
     },
     "metadata": {},
     "output_type": "display_data"
    },
    {
     "data": {
      "image/png": "[encoded data removed]",
      "text/plain": [
       "<Figure size 360x360 with 3 Axes>"
      ]
     },
     "metadata": {},
     "output_type": "display_data"
    }
   ],
   "source": [
    "ax = sns.jointplot(data=df, x='date_age', y='age', height=5, hue='pathological', palette=['b', 'r'])\n",
    "ax.ax_joint.plot([0, 100], [0, 100], c='k', linewidth=1)\n",
    "ax.ax_joint.set_xlabel(f'Age (n={len(df.date_age)}) [Measurement Date − Birth Year]')\n",
    "ax.ax_joint.set_ylabel(f'Age (n={len(df.age)}) [EDF Header]')\n",
    "ax.ax_joint.plot([0, 100], [0, 100], c='k', linewidth=1)\n",
    "mae = mean_absolute_error(df.date_age, df.age)\n",
    "ax.ax_joint.get_figure().suptitle(f'{mae:.2f} years mae', y=1.01)\n",
    "ax.ax_joint.legend(title='Pathological')\n",
    "ax.ax_joint.plot([10, 100], [0, 90], c='k')\n",
    "\n",
    "ax = sns.jointplot(data=df, x='report_age', y='age', height=5, hue='pathological', palette=['b', 'r'])\n",
    "ax.ax_joint.plot([0, 100], [0, 100], c='k', linewidth=1)\n",
    "ax.ax_joint.set_xlabel(f'Age (n={len(df[~df.report_age.isna()])}) [Medical Report]')\n",
    "ax.ax_joint.set_ylabel(f'Age (n={len(df[~df.report_age.isna()].age)}) [EDF Header]')\n",
    "mae = mean_absolute_error(df[~df.report_age.isna()].report_age, df[~df.report_age.isna()].age)\n",
    "ax.ax_joint.get_figure().suptitle(f'{mae:.2f} years mae', y=1.01)\n",
    "ax.ax_joint.legend(title='Pathological')\n",
    "\n",
    "ax = sns.jointplot(data=df, x='report_age', y='date_age', height=5, hue='pathological', palette=['b', 'r'])\n",
    "ax.ax_joint.plot([0, 100], [0, 100], c='k', linewidth=1)\n",
    "ax.ax_joint.set_xlabel(f'Age (n={len(df.report_age)})[Measurement Date − Birth Year]')\n",
    "ax.ax_joint.set_ylabel(f'Age (n={len(df.date_age)}) [Medical Report]')\n",
    "mae = mean_absolute_error(df[~df.report_age.isna()].report_age, df[~df.report_age.isna()].date_age)\n",
    "ax.ax_joint.get_figure().suptitle(f'{mae:.2f} years mae', y=1.01)\n",
    "ax.ax_joint.legend(title='Pathological')\n"
   ]
  },
  {
   "cell_type": "code",
   "execution_count": 21,
   "id": "d2151503-edca-4d69-8fb1-2bab81fb6b1d",
   "metadata": {},
   "outputs": [
    {
     "data": {
      "text/html": [
       "<div>\n",
       "<style scoped>\n",
       "    .dataframe tbody tr th:only-of-type {\n",
       "        vertical-align: middle;\n",
       "    }\n",
       "\n",
       "    .dataframe tbody tr th {\n",
       "        vertical-align: top;\n",
       "    }\n",
       "\n",
       "    .dataframe thead th {\n",
       "        text-align: right;\n",
       "    }\n",
       "</style>\n",
       "<table border=\"1\" class=\"dataframe\">\n",
       "  <thead>\n",
       "    <tr style=\"text-align: right;\">\n",
       "      <th></th>\n",
       "      <th>path</th>\n",
       "      <th>version</th>\n",
       "      <th>year</th>\n",
       "      <th>month</th>\n",
       "      <th>day</th>\n",
       "      <th>subject</th>\n",
       "      <th>session</th>\n",
       "      <th>segment</th>\n",
       "      <th>train</th>\n",
       "      <th>pathological</th>\n",
       "      <th>report</th>\n",
       "      <th>age</th>\n",
       "      <th>gender</th>\n",
       "      <th>date_age</th>\n",
       "      <th>report_age</th>\n",
       "    </tr>\n",
       "  </thead>\n",
       "  <tbody>\n",
       "    <tr>\n",
       "      <th>2</th>\n",
       "      <td>/home/jovyan/mne_data/TUH/tuh_eeg_abnormal/v2....</td>\n",
       "      <td>v2.0.0</td>\n",
       "      <td>2009</td>\n",
       "      <td>9</td>\n",
       "      <td>4</td>\n",
       "      <td>929</td>\n",
       "      <td>3</td>\n",
       "      <td>2</td>\n",
       "      <td>True</td>\n",
       "      <td>False</td>\n",
       "      <td>CLINICAL HISTORY:  Epilepsy, currently seizure...</td>\n",
       "      <td>39</td>\n",
       "      <td>F</td>\n",
       "      <td>39</td>\n",
       "      <td>38.0</td>\n",
       "    </tr>\n",
       "    <tr>\n",
       "      <th>4</th>\n",
       "      <td>/home/jovyan/mne_data/TUH/tuh_eeg_abnormal/v2....</td>\n",
       "      <td>v2.0.0</td>\n",
       "      <td>2009</td>\n",
       "      <td>9</td>\n",
       "      <td>9</td>\n",
       "      <td>5909</td>\n",
       "      <td>2</td>\n",
       "      <td>0</td>\n",
       "      <td>True</td>\n",
       "      <td>False</td>\n",
       "      <td>CLINICAL HISTORY: 32 year old male with episod...</td>\n",
       "      <td>32</td>\n",
       "      <td>M</td>\n",
       "      <td>32</td>\n",
       "      <td>32.0</td>\n",
       "    </tr>\n",
       "    <tr>\n",
       "      <th>5</th>\n",
       "      <td>/home/jovyan/mne_data/TUH/tuh_eeg_abnormal/v2....</td>\n",
       "      <td>v2.0.0</td>\n",
       "      <td>2009</td>\n",
       "      <td>9</td>\n",
       "      <td>10</td>\n",
       "      <td>6201</td>\n",
       "      <td>1</td>\n",
       "      <td>0</td>\n",
       "      <td>False</td>\n",
       "      <td>False</td>\n",
       "      <td>CLINICAL HISTORY: 54 year old male with recurr...</td>\n",
       "      <td>54</td>\n",
       "      <td>M</td>\n",
       "      <td>54</td>\n",
       "      <td>54.0</td>\n",
       "    </tr>\n",
       "    <tr>\n",
       "      <th>6</th>\n",
       "      <td>/home/jovyan/mne_data/TUH/tuh_eeg_abnormal/v2....</td>\n",
       "      <td>v2.0.0</td>\n",
       "      <td>2009</td>\n",
       "      <td>9</td>\n",
       "      <td>10</td>\n",
       "      <td>6422</td>\n",
       "      <td>1</td>\n",
       "      <td>0</td>\n",
       "      <td>False</td>\n",
       "      <td>False</td>\n",
       "      <td>\\nCLINICAL HISTORY:   49 year old left handed ...</td>\n",
       "      <td>50</td>\n",
       "      <td>M</td>\n",
       "      <td>50</td>\n",
       "      <td>49.0</td>\n",
       "    </tr>\n",
       "    <tr>\n",
       "      <th>7</th>\n",
       "      <td>/home/jovyan/mne_data/TUH/tuh_eeg_abnormal/v2....</td>\n",
       "      <td>v2.0.0</td>\n",
       "      <td>2009</td>\n",
       "      <td>9</td>\n",
       "      <td>11</td>\n",
       "      <td>5928</td>\n",
       "      <td>1</td>\n",
       "      <td>0</td>\n",
       "      <td>True</td>\n",
       "      <td>True</td>\n",
       "      <td>CLINICAL HISTORY:  71 year old woman with recu...</td>\n",
       "      <td>70</td>\n",
       "      <td>F</td>\n",
       "      <td>70</td>\n",
       "      <td>71.0</td>\n",
       "    </tr>\n",
       "    <tr>\n",
       "      <th>...</th>\n",
       "      <td>...</td>\n",
       "      <td>...</td>\n",
       "      <td>...</td>\n",
       "      <td>...</td>\n",
       "      <td>...</td>\n",
       "      <td>...</td>\n",
       "      <td>...</td>\n",
       "      <td>...</td>\n",
       "      <td>...</td>\n",
       "      <td>...</td>\n",
       "      <td>...</td>\n",
       "      <td>...</td>\n",
       "      <td>...</td>\n",
       "      <td>...</td>\n",
       "      <td>...</td>\n",
       "    </tr>\n",
       "    <tr>\n",
       "      <th>2988</th>\n",
       "      <td>/home/jovyan/mne_data/TUH/tuh_eeg_abnormal/v2....</td>\n",
       "      <td>v2.0.0</td>\n",
       "      <td>2013</td>\n",
       "      <td>10</td>\n",
       "      <td>7</td>\n",
       "      <td>6881</td>\n",
       "      <td>2</td>\n",
       "      <td>1</td>\n",
       "      <td>True</td>\n",
       "      <td>True</td>\n",
       "      <td>CLINICAL HISTORY: 50-year-old woman with a his...</td>\n",
       "      <td>51</td>\n",
       "      <td>F</td>\n",
       "      <td>51</td>\n",
       "      <td>50.0</td>\n",
       "    </tr>\n",
       "    <tr>\n",
       "      <th>2989</th>\n",
       "      <td>/home/jovyan/mne_data/TUH/tuh_eeg_abnormal/v2....</td>\n",
       "      <td>v2.0.0</td>\n",
       "      <td>2013</td>\n",
       "      <td>10</td>\n",
       "      <td>7</td>\n",
       "      <td>7757</td>\n",
       "      <td>3</td>\n",
       "      <td>1</td>\n",
       "      <td>True</td>\n",
       "      <td>False</td>\n",
       "      <td>CLINICAL HISTORY:  A 38-year-old woman, with u...</td>\n",
       "      <td>40</td>\n",
       "      <td>F</td>\n",
       "      <td>40</td>\n",
       "      <td>38.0</td>\n",
       "    </tr>\n",
       "    <tr>\n",
       "      <th>2990</th>\n",
       "      <td>/home/jovyan/mne_data/TUH/tuh_eeg_abnormal/v2....</td>\n",
       "      <td>v2.0.0</td>\n",
       "      <td>2013</td>\n",
       "      <td>10</td>\n",
       "      <td>7</td>\n",
       "      <td>9289</td>\n",
       "      <td>4</td>\n",
       "      <td>1</td>\n",
       "      <td>True</td>\n",
       "      <td>True</td>\n",
       "      <td>CLINICAL HISTORY: A 22-year-old with refractor...</td>\n",
       "      <td>22</td>\n",
       "      <td>M</td>\n",
       "      <td>22</td>\n",
       "      <td>22.0</td>\n",
       "    </tr>\n",
       "    <tr>\n",
       "      <th>2991</th>\n",
       "      <td>/home/jovyan/mne_data/TUH/tuh_eeg_abnormal/v2....</td>\n",
       "      <td>v2.0.0</td>\n",
       "      <td>2013</td>\n",
       "      <td>10</td>\n",
       "      <td>10</td>\n",
       "      <td>3240</td>\n",
       "      <td>2</td>\n",
       "      <td>1</td>\n",
       "      <td>True</td>\n",
       "      <td>False</td>\n",
       "      <td>CLINICAL HISTORY:  A 55-year-old woman with re...</td>\n",
       "      <td>55</td>\n",
       "      <td>F</td>\n",
       "      <td>55</td>\n",
       "      <td>55.0</td>\n",
       "    </tr>\n",
       "    <tr>\n",
       "      <th>2992</th>\n",
       "      <td>/home/jovyan/mne_data/TUH/tuh_eeg_abnormal/v2....</td>\n",
       "      <td>v2.0.0</td>\n",
       "      <td>2013</td>\n",
       "      <td>11</td>\n",
       "      <td>22</td>\n",
       "      <td>10839</td>\n",
       "      <td>1</td>\n",
       "      <td>0</td>\n",
       "      <td>True</td>\n",
       "      <td>False</td>\n",
       "      <td>CLINICAL HISTORY:  A 21-year-old female with m...</td>\n",
       "      <td>21</td>\n",
       "      <td>F</td>\n",
       "      <td>21</td>\n",
       "      <td>21.0</td>\n",
       "    </tr>\n",
       "  </tbody>\n",
       "</table>\n",
       "<p>2922 rows × 15 columns</p>\n",
       "</div>"
      ],
      "text/plain": [
       "                                                   path version  year  month  \\\n",
       "2     /home/jovyan/mne_data/TUH/tuh_eeg_abnormal/v2....  v2.0.0  2009      9   \n",
       "4     /home/jovyan/mne_data/TUH/tuh_eeg_abnormal/v2....  v2.0.0  2009      9   \n",
       "5     /home/jovyan/mne_data/TUH/tuh_eeg_abnormal/v2....  v2.0.0  2009      9   \n",
       "6     /home/jovyan/mne_data/TUH/tuh_eeg_abnormal/v2....  v2.0.0  2009      9   \n",
       "7     /home/jovyan/mne_data/TUH/tuh_eeg_abnormal/v2....  v2.0.0  2009      9   \n",
       "...                                                 ...     ...   ...    ...   \n",
       "2988  /home/jovyan/mne_data/TUH/tuh_eeg_abnormal/v2....  v2.0.0  2013     10   \n",
       "2989  /home/jovyan/mne_data/TUH/tuh_eeg_abnormal/v2....  v2.0.0  2013     10   \n",
       "2990  /home/jovyan/mne_data/TUH/tuh_eeg_abnormal/v2....  v2.0.0  2013     10   \n",
       "2991  /home/jovyan/mne_data/TUH/tuh_eeg_abnormal/v2....  v2.0.0  2013     10   \n",
       "2992  /home/jovyan/mne_data/TUH/tuh_eeg_abnormal/v2....  v2.0.0  2013     11   \n",
       "\n",
       "      day  subject  session  segment  train  pathological  \\\n",
       "2       4      929        3        2   True         False   \n",
       "4       9     5909        2        0   True         False   \n",
       "5      10     6201        1        0  False         False   \n",
       "6      10     6422        1        0  False         False   \n",
       "7      11     5928        1        0   True          True   \n",
       "...   ...      ...      ...      ...    ...           ...   \n",
       "2988    7     6881        2        1   True          True   \n",
       "2989    7     7757        3        1   True         False   \n",
       "2990    7     9289        4        1   True          True   \n",
       "2991   10     3240        2        1   True         False   \n",
       "2992   22    10839        1        0   True         False   \n",
       "\n",
       "                                                 report  age gender  date_age  \\\n",
       "2     CLINICAL HISTORY:  Epilepsy, currently seizure...   39      F        39   \n",
       "4     CLINICAL HISTORY: 32 year old male with episod...   32      M        32   \n",
       "5     CLINICAL HISTORY: 54 year old male with recurr...   54      M        54   \n",
       "6     \\nCLINICAL HISTORY:   49 year old left handed ...   50      M        50   \n",
       "7     CLINICAL HISTORY:  71 year old woman with recu...   70      F        70   \n",
       "...                                                 ...  ...    ...       ...   \n",
       "2988  CLINICAL HISTORY: 50-year-old woman with a his...   51      F        51   \n",
       "2989  CLINICAL HISTORY:  A 38-year-old woman, with u...   40      F        40   \n",
       "2990  CLINICAL HISTORY: A 22-year-old with refractor...   22      M        22   \n",
       "2991  CLINICAL HISTORY:  A 55-year-old woman with re...   55      F        55   \n",
       "2992  CLINICAL HISTORY:  A 21-year-old female with m...   21      F        21   \n",
       "\n",
       "      report_age  \n",
       "2           38.0  \n",
       "4           32.0  \n",
       "5           54.0  \n",
       "6           49.0  \n",
       "7           71.0  \n",
       "...          ...  \n",
       "2988        50.0  \n",
       "2989        38.0  \n",
       "2990        22.0  \n",
       "2991        55.0  \n",
       "2992        21.0  \n",
       "\n",
       "[2922 rows x 15 columns]"
      ]
     },
     "execution_count": 21,
     "metadata": {},
     "output_type": "execute_result"
    }
   ],
   "source": [
    "df[~df.report_age.isna()]"
   ]
  },
  {
   "cell_type": "code",
   "execution_count": 22,
   "id": "66038443-e1e2-4455-ad52-cdb1410e31cc",
   "metadata": {},
   "outputs": [],
   "source": [
    "from decode_tueg import plot_heatmaps"
   ]
  },
  {
   "cell_type": "code",
   "execution_count": 23,
   "id": "ecde6d2c-7579-4ac8-b179-3d80708248ec",
   "metadata": {},
   "outputs": [],
   "source": [
    "this_df = df.copy()\n",
    "this_df.rename({'age': 'y_true', 'date_age': 'y_pred'}, axis=1, inplace=True)"
   ]
  },
  {
   "cell_type": "code",
   "execution_count": 26,
   "id": "96432151-593f-47d5-9f4c-830df39a8277",
   "metadata": {},
   "outputs": [
    {
     "data": {
      "image/png": "[encoded data removed]",
      "text/plain": [
       "<Figure size 1296x1296 with 8 Axes>"
      ]
     },
     "metadata": {},
     "output_type": "display_data"
    }
   ],
   "source": [
    "ax = plot_heatmaps(this_df,2,100,100)"
   ]
  },
  {
   "cell_type": "code",
   "execution_count": null,
   "id": "dae58370-82fa-43ab-b9ac-76f16ecc23ed",
   "metadata": {},
   "outputs": [],
   "source": []
  },
  {
   "cell_type": "code",
   "execution_count": null,
   "id": "2753e537-5089-4be4-89ee-df5cccaef567",
   "metadata": {},
   "outputs": [],
   "source": []
  },
  {
   "cell_type": "code",
   "execution_count": null,
   "id": "d0913bdb-0989-4fcc-b7a9-dac7c4a3a687",
   "metadata": {},
   "outputs": [],
   "source": []
  },
  {
   "cell_type": "code",
   "execution_count": null,
   "id": "71aafa36-639f-42cc-b811-aba84bd89c2e",
   "metadata": {},
   "outputs": [],
   "source": []
  }
 ],
 "metadata": {
  "kernelspec": {
   "display_name": "Python 3",
   "language": "python",
   "name": "python3"
  },
  "language_info": {
   "codemirror_mode": {
    "name": "ipython",
    "version": 3
   },
   "file_extension": ".py",
   "mimetype": "text/x-python",
   "name": "python",
   "nbconvert_exporter": "python",
   "pygments_lexer": "ipython3",
   "version": "3.8.15"
  }
 },
 "nbformat": 4,
 "nbformat_minor": 5
}
