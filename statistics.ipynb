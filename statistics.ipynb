{
 "cells": [
  {
   "cell_type": "markdown",
   "id": "e17fbaa5-e8d9-4c90-b5aa-a6eeabeb0e25",
   "metadata": {},
   "source": [
    "__Permutation Test__  \n",
    "Average non-pathological brain age gap vs. average pathological brain age gap"
   ]
  },
  {
   "cell_type": "code",
   "execution_count": 1,
   "id": "daace3e7-f7f9-4ea9-9ef1-c7765222db05",
   "metadata": {},
   "outputs": [],
   "source": [
    "import sys\n",
    "sys.path.insert(0, '/home/jovyan/braindecode/')\n",
    "sys.path.insert(0, '/home/jovyan/mne-python/')\n",
    "import pickle\n",
    "\n",
    "import pandas as pd\n",
    "import numpy as np\n",
    "import seaborn as sns\n",
    "sns.set_color_codes('deep')\n",
    "from sklearn.metrics import mean_absolute_error, balanced_accuracy_score\n",
    "\n",
    "from decode_tueg import plot_violin, age_gap_diff_permutations, accuracy_perumtations"
   ]
  },
  {
   "cell_type": "raw",
   "id": "2e29b489-db0a-4365-b560-33b389eb1597",
   "metadata": {},
   "source": [
    "orig_df = pd.read_csv('/home/jovyan/220824_5fcv_huber.csv', index_col=0)\n",
    "orig_df = orig_df[orig_df.split=='valid']"
   ]
  },
  {
   "cell_type": "code",
   "execution_count": 2,
   "id": "677f92d4-d09d-4913-bf17-22915c56414c",
   "metadata": {},
   "outputs": [],
   "source": [
    "subject_wise = True\n",
    "longitudinal = 'transition'\n",
    "df = pd.read_csv(f'/home/jovyan/220824_5fcv_huber_longitudinal_{longitudinal}.csv', index_col=0)\n",
    "# --- hack\n",
    "with open(f'/home/jovyan/longitudinal/{longitudinal}.pkl', 'rb') as f:\n",
    "    ds = pickle.load(f)\n",
    "df['subject'] = 5*ds.description['subject'].to_list()\n",
    "# ---"
   ]
  },
  {
   "cell_type": "code",
   "execution_count": 3,
   "id": "7f68beab-5c09-4595-8445-8571f0d00282",
   "metadata": {},
   "outputs": [],
   "source": [
    "df['gap'] = df.y_true - df.y_pred"
   ]
  },
  {
   "cell_type": "code",
   "execution_count": 4,
   "id": "dd413417-7cba-439f-a95d-6d89ec6c22e7",
   "metadata": {},
   "outputs": [
    {
     "data": {
      "text/html": [
       "<div>\n",
       "<style scoped>\n",
       "    .dataframe tbody tr th:only-of-type {\n",
       "        vertical-align: middle;\n",
       "    }\n",
       "\n",
       "    .dataframe tbody tr th {\n",
       "        vertical-align: top;\n",
       "    }\n",
       "\n",
       "    .dataframe thead th {\n",
       "        text-align: right;\n",
       "    }\n",
       "</style>\n",
       "<table border=\"1\" class=\"dataframe\">\n",
       "  <thead>\n",
       "    <tr style=\"text-align: right;\">\n",
       "      <th></th>\n",
       "      <th>y_pred</th>\n",
       "      <th>y_true</th>\n",
       "      <th>pathological</th>\n",
       "      <th>exp</th>\n",
       "      <th>split</th>\n",
       "      <th>fold</th>\n",
       "      <th>subject</th>\n",
       "      <th>gap</th>\n",
       "    </tr>\n",
       "  </thead>\n",
       "  <tbody>\n",
       "    <tr>\n",
       "      <th>0</th>\n",
       "      <td>86.959764</td>\n",
       "      <td>48.999998</td>\n",
       "      <td>True</td>\n",
       "      <td>220824144055632350</td>\n",
       "      <td>transition</td>\n",
       "      <td>0</td>\n",
       "      <td>5</td>\n",
       "      <td>-37.959766</td>\n",
       "    </tr>\n",
       "    <tr>\n",
       "      <th>1</th>\n",
       "      <td>27.609126</td>\n",
       "      <td>48.999998</td>\n",
       "      <td>True</td>\n",
       "      <td>220824144055632350</td>\n",
       "      <td>transition</td>\n",
       "      <td>0</td>\n",
       "      <td>5</td>\n",
       "      <td>21.390871</td>\n",
       "    </tr>\n",
       "    <tr>\n",
       "      <th>2</th>\n",
       "      <td>29.524880</td>\n",
       "      <td>50.000002</td>\n",
       "      <td>True</td>\n",
       "      <td>220824144055632350</td>\n",
       "      <td>transition</td>\n",
       "      <td>0</td>\n",
       "      <td>5</td>\n",
       "      <td>20.475121</td>\n",
       "    </tr>\n",
       "    <tr>\n",
       "      <th>3</th>\n",
       "      <td>17.565459</td>\n",
       "      <td>51.000000</td>\n",
       "      <td>False</td>\n",
       "      <td>220824144055632350</td>\n",
       "      <td>transition</td>\n",
       "      <td>0</td>\n",
       "      <td>5</td>\n",
       "      <td>33.434541</td>\n",
       "    </tr>\n",
       "    <tr>\n",
       "      <th>4</th>\n",
       "      <td>55.629012</td>\n",
       "      <td>51.999999</td>\n",
       "      <td>True</td>\n",
       "      <td>220824144055632350</td>\n",
       "      <td>transition</td>\n",
       "      <td>0</td>\n",
       "      <td>5</td>\n",
       "      <td>-3.629013</td>\n",
       "    </tr>\n",
       "    <tr>\n",
       "      <th>...</th>\n",
       "      <td>...</td>\n",
       "      <td>...</td>\n",
       "      <td>...</td>\n",
       "      <td>...</td>\n",
       "      <td>...</td>\n",
       "      <td>...</td>\n",
       "      <td>...</td>\n",
       "      <td>...</td>\n",
       "    </tr>\n",
       "    <tr>\n",
       "      <th>16780</th>\n",
       "      <td>41.147793</td>\n",
       "      <td>43.000000</td>\n",
       "      <td>True</td>\n",
       "      <td>220824144141880751</td>\n",
       "      <td>transition</td>\n",
       "      <td>4</td>\n",
       "      <td>14951</td>\n",
       "      <td>1.852207</td>\n",
       "    </tr>\n",
       "    <tr>\n",
       "      <th>16781</th>\n",
       "      <td>35.264888</td>\n",
       "      <td>43.000000</td>\n",
       "      <td>True</td>\n",
       "      <td>220824144141880751</td>\n",
       "      <td>transition</td>\n",
       "      <td>4</td>\n",
       "      <td>14951</td>\n",
       "      <td>7.735113</td>\n",
       "    </tr>\n",
       "    <tr>\n",
       "      <th>16782</th>\n",
       "      <td>37.178147</td>\n",
       "      <td>43.000000</td>\n",
       "      <td>True</td>\n",
       "      <td>220824144141880751</td>\n",
       "      <td>transition</td>\n",
       "      <td>4</td>\n",
       "      <td>14951</td>\n",
       "      <td>5.821853</td>\n",
       "    </tr>\n",
       "    <tr>\n",
       "      <th>16783</th>\n",
       "      <td>30.927182</td>\n",
       "      <td>43.000000</td>\n",
       "      <td>True</td>\n",
       "      <td>220824144141880751</td>\n",
       "      <td>transition</td>\n",
       "      <td>4</td>\n",
       "      <td>14951</td>\n",
       "      <td>12.072819</td>\n",
       "    </tr>\n",
       "    <tr>\n",
       "      <th>16784</th>\n",
       "      <td>34.897626</td>\n",
       "      <td>43.000000</td>\n",
       "      <td>True</td>\n",
       "      <td>220824144141880751</td>\n",
       "      <td>transition</td>\n",
       "      <td>4</td>\n",
       "      <td>14951</td>\n",
       "      <td>8.102374</td>\n",
       "    </tr>\n",
       "  </tbody>\n",
       "</table>\n",
       "<p>16785 rows × 8 columns</p>\n",
       "</div>"
      ],
      "text/plain": [
       "          y_pred     y_true  pathological                 exp       split  \\\n",
       "0      86.959764  48.999998          True  220824144055632350  transition   \n",
       "1      27.609126  48.999998          True  220824144055632350  transition   \n",
       "2      29.524880  50.000002          True  220824144055632350  transition   \n",
       "3      17.565459  51.000000         False  220824144055632350  transition   \n",
       "4      55.629012  51.999999          True  220824144055632350  transition   \n",
       "...          ...        ...           ...                 ...         ...   \n",
       "16780  41.147793  43.000000          True  220824144141880751  transition   \n",
       "16781  35.264888  43.000000          True  220824144141880751  transition   \n",
       "16782  37.178147  43.000000          True  220824144141880751  transition   \n",
       "16783  30.927182  43.000000          True  220824144141880751  transition   \n",
       "16784  34.897626  43.000000          True  220824144141880751  transition   \n",
       "\n",
       "       fold  subject        gap  \n",
       "0         0        5 -37.959766  \n",
       "1         0        5  21.390871  \n",
       "2         0        5  20.475121  \n",
       "3         0        5  33.434541  \n",
       "4         0        5  -3.629013  \n",
       "...     ...      ...        ...  \n",
       "16780     4    14951   1.852207  \n",
       "16781     4    14951   7.735113  \n",
       "16782     4    14951   5.821853  \n",
       "16783     4    14951  12.072819  \n",
       "16784     4    14951   8.102374  \n",
       "\n",
       "[16785 rows x 8 columns]"
      ]
     },
     "execution_count": 4,
     "metadata": {},
     "output_type": "execute_result"
    }
   ],
   "source": [
    "df"
   ]
  },
  {
   "cell_type": "code",
   "execution_count": 12,
   "id": "0ed498fc-1e5c-4658-ac03-53614220dac1",
   "metadata": {},
   "outputs": [],
   "source": [
    "n_repetitions = 100000"
   ]
  },
  {
   "cell_type": "code",
   "execution_count": 13,
   "id": "0a8e0f67-29f5-4118-b77d-a6a5d53184b8",
   "metadata": {},
   "outputs": [],
   "source": [
    "y, sampled_y = age_gap_diff_permutations(df=df, n_repetitions=n_repetitions, subject_wise=False)"
   ]
  },
  {
   "cell_type": "code",
   "execution_count": 14,
   "id": "8a359cea-4e55-4b69-88b2-318c2355320d",
   "metadata": {},
   "outputs": [
    {
     "data": {
      "image/png": "[encoded data removed]",
      "text/plain": [
       "<Figure size 864x216 with 1 Axes>"
      ]
     },
     "metadata": {
      "needs_background": "light"
     },
     "output_type": "display_data"
    }
   ],
   "source": [
    "ax = plot_violin(\n",
    "    y, \n",
    "    sampled_y,\n",
    "    xlabel='Age [years]',\n",
    ")\n",
    "s = 'subj' if subject_wise else 'recs'\n",
    "# ax.get_figure().savefig(\n",
    "#     f'/home/jovyan/permutation_test_longitudinal_{longitudinal}_{s}.png', bbox_inches='tight', dpi=300)"
   ]
  },
  {
   "cell_type": "code",
   "execution_count": null,
   "id": "48e62418-6da0-4bba-be0a-c217cd7a91e1",
   "metadata": {},
   "outputs": [],
   "source": []
  },
  {
   "cell_type": "code",
   "execution_count": 15,
   "id": "396c2733-5c57-4efb-a9df-1bd553d2f0a2",
   "metadata": {},
   "outputs": [],
   "source": [
    "y, sampled_y = age_gap_diff_permutations(df=df, n_repetitions=n_repetitions, subject_wise=True)"
   ]
  },
  {
   "cell_type": "code",
   "execution_count": 16,
   "id": "899ddd39-643b-47d5-b378-3bf3097250b0",
   "metadata": {},
   "outputs": [
    {
     "data": {
      "image/png": "[encoded data removed]",
      "text/plain": [
       "<Figure size 864x216 with 1 Axes>"
      ]
     },
     "metadata": {
      "needs_background": "light"
     },
     "output_type": "display_data"
    }
   ],
   "source": [
    "ax = plot_violin(\n",
    "    y,\n",
    "#     np.float64(+.68), \n",
    "    sampled_y,\n",
    "    xlabel='Age [years]',\n",
    ")\n",
    "# ax.set_xlabel('Mean Brain Age Gap Difference [years]')\n",
    "ax.set_xlabel('Mean Chronological Age − Predicted Age [years]')\n",
    "s = 'subj' if subject_wise else 'recs'\n",
    "# ax.get_figure().savefig(\n",
    "#     f'/home/jovyan/permutation_test_longitudinal_{longitudinal}_{s}.png', bbox_inches='tight', dpi=300)"
   ]
  },
  {
   "cell_type": "code",
   "execution_count": null,
   "id": "04ab24c2-d42b-4dea-aea4-56f74157f52e",
   "metadata": {},
   "outputs": [],
   "source": []
  },
  {
   "cell_type": "code",
   "execution_count": null,
   "id": "6989a9b3-d45b-4c37-9644-491918d5d245",
   "metadata": {},
   "outputs": [],
   "source": []
  },
  {
   "cell_type": "code",
   "execution_count": null,
   "id": "2a352a2e-7fad-49bf-92ee-45796704b873",
   "metadata": {},
   "outputs": [],
   "source": []
  },
  {
   "cell_type": "markdown",
   "id": "b7a4576e-885b-4126-b818-c3e8fb299efb",
   "metadata": {},
   "source": [
    "__permutation test proxy acc__"
   ]
  },
  {
   "cell_type": "code",
   "execution_count": 7,
   "id": "834c7086-37af-4c09-b054-714eb6b30ef8",
   "metadata": {},
   "outputs": [],
   "source": [
    "df = pd.read_csv('/home/jovyan/220824_5fcv_huber.csv', index_col=0)\n",
    "# only look at valid set\n",
    "df = df[df.split=='valid']\n",
    "df = df[df.subset=='mixed']"
   ]
  },
  {
   "cell_type": "code",
   "execution_count": 8,
   "id": "d2f69e0f-e785-499e-b485-54a9cc6dba7f",
   "metadata": {},
   "outputs": [
    {
     "data": {
      "text/plain": [
       "9.395337378707762"
      ]
     },
     "execution_count": 8,
     "metadata": {},
     "output_type": "execute_result"
    }
   ],
   "source": [
    "mean_absolute_error(df.y_true, df.y_pred)"
   ]
  },
  {
   "cell_type": "code",
   "execution_count": 9,
   "id": "590f74e1-e4ad-4b1c-90a4-d9afa3556284",
   "metadata": {},
   "outputs": [],
   "source": [
    "n_repetitions = 100000"
   ]
  },
  {
   "cell_type": "code",
   "execution_count": 10,
   "id": "e7edb16f-8b98-47d5-812f-a9e7dedb11eb",
   "metadata": {},
   "outputs": [
    {
     "data": {
      "image/png": "[encoded data removed]",
      "text/plain": [
       "<Figure size 864x216 with 1 Axes>"
      ]
     },
     "metadata": {
      "needs_background": "light"
     },
     "output_type": "display_data"
    }
   ],
   "source": [
    "ax = plot_violin(\n",
    "    *(accuracy_perumtations(df, n_repetitions)),\n",
    "    xlabel='Accuracy[%]',\n",
    "    center_value=50,\n",
    ")\n",
    "# ax.get_figure().savefig('/home/jovyan/permutation_test_proxy.png', bbox_inches='tight', dpi=300)"
   ]
  },
  {
   "cell_type": "code",
   "execution_count": null,
   "id": "cf52a0cb-e5f5-40bf-9758-bf97698c2365",
   "metadata": {},
   "outputs": [],
   "source": []
  }
 ],
 "metadata": {
  "kernelspec": {
   "display_name": "Python 3 (ipykernel)",
   "language": "python",
   "name": "python3"
  },
  "language_info": {
   "codemirror_mode": {
    "name": "ipython",
    "version": 3
   },
   "file_extension": ".py",
   "mimetype": "text/x-python",
   "name": "python",
   "nbconvert_exporter": "python",
   "pygments_lexer": "ipython3",
   "version": "3.9.7"
  }
 },
 "nbformat": 4,
 "nbformat_minor": 5
}
