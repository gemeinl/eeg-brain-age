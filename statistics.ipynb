{
 "cells": [
  {
   "cell_type": "markdown",
   "id": "e17fbaa5-e8d9-4c90-b5aa-a6eeabeb0e25",
   "metadata": {},
   "source": [
    "__Permutation Test__  \n",
    "Average non-pathological brain age gap vs. average pathological brain age gap"
   ]
  },
  {
   "cell_type": "code",
   "execution_count": 1,
   "id": "daace3e7-f7f9-4ea9-9ef1-c7765222db05",
   "metadata": {},
   "outputs": [],
   "source": [
    "import sys\n",
    "sys.path.insert(0, '/home/jovyan/braindecode/')\n",
    "sys.path.insert(0, '/home/jovyan/mne-python/')\n",
    "import pickle\n",
    "\n",
    "import pandas as pd\n",
    "import numpy as np\n",
    "import seaborn as sns\n",
    "import matplotlib.pyplot as plt\n",
    "plt.style.use('seaborn')\n",
    "from sklearn.metrics import mean_absolute_error, balanced_accuracy_score\n",
    "\n",
    "from decode_tueg import plot_violin"
   ]
  },
  {
   "cell_type": "raw",
   "id": "2e29b489-db0a-4365-b560-33b389eb1597",
   "metadata": {},
   "source": [
    "orig_df = pd.read_csv('/home/jovyan/220824_5fcv_huber.csv', index_col=0)\n",
    "orig_df = orig_df[orig_df.split=='valid']"
   ]
  },
  {
   "cell_type": "code",
   "execution_count": 9,
   "id": "677f92d4-d09d-4913-bf17-22915c56414c",
   "metadata": {},
   "outputs": [],
   "source": [
    "subject_wise = False\n",
    "longitudinal = 'transition'\n",
    "df = pd.read_csv(f'/home/jovyan/220824_5fcv_huber_longitudinal_{longitudinal}.csv', index_col=0)\n",
    "# --- hack\n",
    "with open(f'/home/jovyan/longitudinal/{longitudinal}.pkl', 'rb') as f:\n",
    "    ds = pickle.load(f)\n",
    "df['subject'] = 5*ds.description['subject'].to_list()\n",
    "# ---\n",
    "if subject_wise:\n",
    "    df = df.groupby(['subject', 'pathological'], as_index=False).mean()\n",
    "orig_df = df"
   ]
  },
  {
   "cell_type": "code",
   "execution_count": 10,
   "id": "30861923-0951-41ab-b341-8f5032b77eaf",
   "metadata": {},
   "outputs": [
    {
     "data": {
      "text/plain": [
       "-2.133356909757584"
      ]
     },
     "execution_count": 10,
     "metadata": {},
     "output_type": "execute_result"
    }
   ],
   "source": [
    "orig_df['gap'] = orig_df.y_true - orig_df.y_pred\n",
    "orig_df_mean = orig_df.groupby('pathological').mean()\n",
    "orig_mean_gap_diff = orig_df_mean.loc[False, 'gap'] - orig_df_mean.loc[True, 'gap']\n",
    "orig_mean_gap_diff"
   ]
  },
  {
   "cell_type": "code",
   "execution_count": 11,
   "id": "0af2f823-fca1-490e-b3c9-885e95e9fcc7",
   "metadata": {},
   "outputs": [],
   "source": [
    "gaps = orig_df['gap'].to_numpy()"
   ]
  },
  {
   "cell_type": "code",
   "execution_count": 12,
   "id": "415468c3-8bed-409b-808c-f58b09d78892",
   "metadata": {},
   "outputs": [],
   "source": [
    "n_repetitions = 100000"
   ]
  },
  {
   "cell_type": "code",
   "execution_count": 13,
   "id": "4df6823a-b19a-419a-8e68-3fe58cd97774",
   "metadata": {},
   "outputs": [],
   "source": [
    "mean_gap_diffs = []\n",
    "for n in range(n_repetitions):\n",
    "    choices = np.random.choice(2, len(gaps))\n",
    "    gaps0 = gaps[choices==0]\n",
    "    gaps1 = gaps[choices==1]\n",
    "    mean_gap_diff = gaps0.mean() - gaps1.mean()\n",
    "    mean_gap_diffs.append(mean_gap_diff)"
   ]
  },
  {
   "cell_type": "code",
   "execution_count": 15,
   "id": "8a359cea-4e55-4b69-88b2-318c2355320d",
   "metadata": {},
   "outputs": [
    {
     "data": {
      "image/png": "[encoded data removed]",
      "text/plain": [
       "<Figure size 864x216 with 1 Axes>"
      ]
     },
     "metadata": {
      "needs_background": "light"
     },
     "output_type": "display_data"
    }
   ],
   "source": [
    "ax = plot_violin(orig_mean_gap_diff, mean_gap_diffs)\n",
    "ax.set_xlabel('Mean Brain Age Gap Difference [years]')\n",
    "# ax.set_xlim(-max(ax.get_xlim()), max(ax.get_xlim()))\n",
    "# ax.get_figure().savefig('/home/jovyan/permutation_test.png', bbox_inches='tight', dpi=300)\n",
    "s = 'subj' if subject_wise else 'recs'\n",
    "# ax.get_figure().savefig(\n",
    "#     f'/home/jovyan/permutation_test_longitudinal_{longitudinal}_{s}.png', bbox_inches='tight', dpi=300)"
   ]
  },
  {
   "cell_type": "code",
   "execution_count": null,
   "id": "338e2be2-8c4b-4458-ac16-f137b0714bdc",
   "metadata": {},
   "outputs": [],
   "source": []
  },
  {
   "cell_type": "code",
   "execution_count": null,
   "id": "bd2d8bf8-a902-4694-9304-bef769599510",
   "metadata": {},
   "outputs": [],
   "source": []
  },
  {
   "cell_type": "code",
   "execution_count": null,
   "id": "2a352a2e-7fad-49bf-92ee-45796704b873",
   "metadata": {},
   "outputs": [],
   "source": []
  },
  {
   "cell_type": "markdown",
   "id": "b7a4576e-885b-4126-b818-c3e8fb299efb",
   "metadata": {},
   "source": [
    "__permutation test proxy acc__"
   ]
  },
  {
   "cell_type": "code",
   "execution_count": 9,
   "id": "834c7086-37af-4c09-b054-714eb6b30ef8",
   "metadata": {},
   "outputs": [],
   "source": [
    "df = pd.read_csv('/home/jovyan/220824_5fcv_huber.csv', index_col=0)\n",
    "# only look at valid set\n",
    "df = df[df.split=='valid']\n",
    "df = df[df.subset=='mixed']"
   ]
  },
  {
   "cell_type": "code",
   "execution_count": 10,
   "id": "62dfa711-0e40-4afe-ab4c-8738fd4d88c1",
   "metadata": {},
   "outputs": [
    {
     "data": {
      "text/plain": [
       "9.395337378707762"
      ]
     },
     "execution_count": 10,
     "metadata": {},
     "output_type": "execute_result"
    }
   ],
   "source": [
    "mean_absolute_error(df.y_true, df.y_pred)"
   ]
  },
  {
   "cell_type": "code",
   "execution_count": 11,
   "id": "46486e40-8666-4da1-a197-ce886c5c71e5",
   "metadata": {},
   "outputs": [],
   "source": [
    "df['gap'] = df.y_true - df.y_pred"
   ]
  },
  {
   "cell_type": "code",
   "execution_count": 12,
   "id": "f4feaed0-ca54-44ae-b229-2c6b866d532f",
   "metadata": {},
   "outputs": [],
   "source": [
    "accs = []\n",
    "for thresh in df.gap:\n",
    "    acc = balanced_accuracy_score(df.pathological, df.gap > thresh) * 100\n",
    "    accs.append(acc)"
   ]
  },
  {
   "cell_type": "code",
   "execution_count": 13,
   "id": "15c8596c-40d1-49b3-b8d2-c2d0b257699e",
   "metadata": {},
   "outputs": [],
   "source": [
    "orig_acc = max(accs)"
   ]
  },
  {
   "cell_type": "code",
   "execution_count": 14,
   "id": "d4c38d34-028c-4817-be6d-b0d923fef4df",
   "metadata": {},
   "outputs": [
    {
     "data": {
      "text/plain": [
       "57.321566892278085"
      ]
     },
     "execution_count": 14,
     "metadata": {},
     "output_type": "execute_result"
    }
   ],
   "source": [
    "orig_acc"
   ]
  },
  {
   "cell_type": "code",
   "execution_count": 15,
   "id": "590f74e1-e4ad-4b1c-90a4-d9afa3556284",
   "metadata": {},
   "outputs": [],
   "source": [
    "n_repetitions = 100000"
   ]
  },
  {
   "cell_type": "code",
   "execution_count": 16,
   "id": "7300efc9-b060-44be-bf61-5a6979dfcc04",
   "metadata": {},
   "outputs": [],
   "source": [
    "accs = []\n",
    "for n in range(n_repetitions):\n",
    "    choices = np.random.choice(2, len(df))\n",
    "    acc = balanced_accuracy_score(df.pathological, choices)*100\n",
    "    accs.append(acc)"
   ]
  },
  {
   "cell_type": "code",
   "execution_count": 17,
   "id": "e7edb16f-8b98-47d5-812f-a9e7dedb11eb",
   "metadata": {},
   "outputs": [
    {
     "data": {
      "image/png": "[encoded data removed]",
      "text/plain": [
       "<Figure size 864x216 with 1 Axes>"
      ]
     },
     "metadata": {
      "needs_background": "light"
     },
     "output_type": "display_data"
    }
   ],
   "source": [
    "ax = plot_violin(orig_acc, accs)\n",
    "# ax.get_figure().savefig('/home/jovyan/permutation_test_proxy.png', bbox_inches='tight', dpi=300)"
   ]
  },
  {
   "cell_type": "code",
   "execution_count": null,
   "id": "cf52a0cb-e5f5-40bf-9758-bf97698c2365",
   "metadata": {},
   "outputs": [],
   "source": []
  }
 ],
 "metadata": {
  "kernelspec": {
   "display_name": "Python 3 (ipykernel)",
   "language": "python",
   "name": "python3"
  },
  "language_info": {
   "codemirror_mode": {
    "name": "ipython",
    "version": 3
   },
   "file_extension": ".py",
   "mimetype": "text/x-python",
   "name": "python",
   "nbconvert_exporter": "python",
   "pygments_lexer": "ipython3",
   "version": "3.9.7"
  }
 },
 "nbformat": 4,
 "nbformat_minor": 5
}
