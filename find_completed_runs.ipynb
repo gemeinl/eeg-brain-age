{
 "cells": [
  {
   "cell_type": "code",
   "execution_count": 1,
   "id": "67ef4c33-f577-4269-9588-50186fd70a36",
   "metadata": {},
   "outputs": [],
   "source": [
    "import os\n",
    "import pandas as pd"
   ]
  },
  {
   "cell_type": "code",
   "execution_count": 2,
   "id": "d75000e7-aba1-40e4-9b69-3522526ba468",
   "metadata": {},
   "outputs": [],
   "source": [
    "base_dir = '/home/jovyan/full_runs/'"
   ]
  },
  {
   "cell_type": "code",
   "execution_count": 3,
   "id": "1c312e50-14f7-4719-866d-ec11605eda47",
   "metadata": {},
   "outputs": [],
   "source": [
    "sub_dirs = os.listdir(base_dir)"
   ]
  },
  {
   "cell_type": "code",
   "execution_count": 16,
   "id": "9b483fa3-1e1c-40d0-988c-83b83cece804",
   "metadata": {},
   "outputs": [],
   "source": [
    "cfgs = []\n",
    "for sub_dir in sub_dirs:\n",
    "    if len(sub_dir) != 18 or sub_dir.startswith('.'):\n",
    "        continue\n",
    "    cfg_path = os.path.join(base_dir, sub_dir, 'config.csv')\n",
    "    if not os.path.exists(cfg_path):\n",
    "        continue\n",
    "    cfg = pd.read_csv(cfg_path, index_col=0).squeeze()\n",
    "    cfg['completed'] = '0'\n",
    "    cfg['exp_path'] = os.path.join(base_dir, sub_dir) \n",
    "    key = 'eval' if cfg['final_eval'] == '1' else 'valid'\n",
    "    history_path = os.path.join(base_dir, sub_dir, 'history.csv')\n",
    "    if os.path.exists(history_path):\n",
    "        history = pd.read_csv(history_path, index_col=0)\n",
    "        if str(len(history)) == cfg['n_epochs']:\n",
    "            cfg['completed'] = '1'\n",
    "            cfg[f'train_end_{key}_trial_age_mae'] = history.tail(1)[f'{key}_age_mae'].squeeze()\n",
    "            cfg[f'valid_best_{key}_trial_age_mae'] = history[history[f'{key}_age_mae_best']].tail(1)[f'{key}_age_mae'].squeeze()\n",
    "            #cfg[f'train_end_{key}_loss'] = history.tail(1)[f'{key}_loss'].squeeze()\n",
    "            #cfg[f'valid_best_{key}_loss'] = history[history[f'{key}_loss_best']].tail(1)[f'{key}_loss'].squeeze()\n",
    "    cfgs.append(cfg)\n",
    "cfgs = pd.concat(cfgs, axis=1, ignore_index=True).sort_index()"
   ]
  },
  {
   "cell_type": "code",
   "execution_count": 17,
   "id": "f574e93c-1671-49e9-a467-98fa08e6726a",
   "metadata": {},
   "outputs": [],
   "source": [
    "def prune(cfgs):\n",
    "    cfgs = cfgs.T\n",
    "    # show only completed valid runs\n",
    "    cfgs = cfgs[(cfgs.completed == '1') & (cfgs.final_eval == '0') & (cfgs.n_epochs == '35') & (cfgs.subset == 'normal')]\n",
    "    # only show those columns where not all values are equal\n",
    "    cfgs = cfgs[cfgs.columns[[cfgs[c].nunique() > 1 for c in cfgs.columns]]]\n",
    "    return cfgs"
   ]
  },
  {
   "cell_type": "code",
   "execution_count": 18,
   "id": "ef9b2bc8-a4a3-43a0-9a95-2b23c36ed16a",
   "metadata": {},
   "outputs": [],
   "source": [
    "cfgs = prune(cfgs)"
   ]
  },
  {
   "cell_type": "code",
   "execution_count": 19,
   "id": "5aec1b37-f6db-4b63-9bb6-d2186eff8de8",
   "metadata": {},
   "outputs": [
    {
     "data": {
      "text/html": [
       "<div>\n",
       "<style scoped>\n",
       "    .dataframe tbody tr th:only-of-type {\n",
       "        vertical-align: middle;\n",
       "    }\n",
       "\n",
       "    .dataframe tbody tr th {\n",
       "        vertical-align: top;\n",
       "    }\n",
       "\n",
       "    .dataframe thead th {\n",
       "        text-align: right;\n",
       "    }\n",
       "</style>\n",
       "<table border=\"1\" class=\"dataframe\">\n",
       "  <thead>\n",
       "    <tr style=\"text-align: right;\">\n",
       "      <th></th>\n",
       "      <th>exp_path</th>\n",
       "      <th>loss</th>\n",
       "      <th>train_end_valid_trial_age_mae</th>\n",
       "      <th>valid_best_valid_trial_age_mae</th>\n",
       "    </tr>\n",
       "  </thead>\n",
       "  <tbody>\n",
       "    <tr>\n",
       "      <th>22</th>\n",
       "      <td>/home/jovyan/full_runs/220809091002554818</td>\n",
       "      <td>mse</td>\n",
       "      <td>7.139167</td>\n",
       "      <td>7.120466</td>\n",
       "    </tr>\n",
       "    <tr>\n",
       "      <th>13</th>\n",
       "      <td>/home/jovyan/full_runs/220808145130107294</td>\n",
       "      <td>huber</td>\n",
       "      <td>7.373691</td>\n",
       "      <td>7.318414</td>\n",
       "    </tr>\n",
       "    <tr>\n",
       "      <th>23</th>\n",
       "      <td>/home/jovyan/full_runs/220808145129781057</td>\n",
       "      <td>mae</td>\n",
       "      <td>7.25364</td>\n",
       "      <td>7.189566</td>\n",
       "    </tr>\n",
       "    <tr>\n",
       "      <th>24</th>\n",
       "      <td>/home/jovyan/full_runs/220730071804431899</td>\n",
       "      <td>mae</td>\n",
       "      <td>7.136507</td>\n",
       "      <td>7.115298</td>\n",
       "    </tr>\n",
       "    <tr>\n",
       "      <th>12</th>\n",
       "      <td>/home/jovyan/full_runs/220730071802841704</td>\n",
       "      <td>mse</td>\n",
       "      <td>7.207405</td>\n",
       "      <td>7.183028</td>\n",
       "    </tr>\n",
       "    <tr>\n",
       "      <th>4</th>\n",
       "      <td>/home/jovyan/full_runs/220729164826192986</td>\n",
       "      <td>huber</td>\n",
       "      <td>7.138583</td>\n",
       "      <td>7.088176</td>\n",
       "    </tr>\n",
       "    <tr>\n",
       "      <th>28</th>\n",
       "      <td>/home/jovyan/full_runs/220726013704644042</td>\n",
       "      <td>mse</td>\n",
       "      <td>7.165513</td>\n",
       "      <td>7.126703</td>\n",
       "    </tr>\n",
       "    <tr>\n",
       "      <th>19</th>\n",
       "      <td>/home/jovyan/full_runs/220726012902832235</td>\n",
       "      <td>mae</td>\n",
       "      <td>7.180033</td>\n",
       "      <td>7.150732</td>\n",
       "    </tr>\n",
       "    <tr>\n",
       "      <th>17</th>\n",
       "      <td>/home/jovyan/full_runs/220725141944002603</td>\n",
       "      <td>huber</td>\n",
       "      <td>7.029969</td>\n",
       "      <td>6.998621</td>\n",
       "    </tr>\n",
       "    <tr>\n",
       "      <th>29</th>\n",
       "      <td>/home/jovyan/full_runs/220725094516530336</td>\n",
       "      <td>mae</td>\n",
       "      <td>7.138562</td>\n",
       "      <td>7.087473</td>\n",
       "    </tr>\n",
       "    <tr>\n",
       "      <th>16</th>\n",
       "      <td>/home/jovyan/full_runs/220725094048398667</td>\n",
       "      <td>mse</td>\n",
       "      <td>7.325506</td>\n",
       "      <td>7.278567</td>\n",
       "    </tr>\n",
       "  </tbody>\n",
       "</table>\n",
       "</div>"
      ],
      "text/plain": [
       "                                     exp_path   loss  \\\n",
       "22  /home/jovyan/full_runs/220809091002554818    mse   \n",
       "13  /home/jovyan/full_runs/220808145130107294  huber   \n",
       "23  /home/jovyan/full_runs/220808145129781057    mae   \n",
       "24  /home/jovyan/full_runs/220730071804431899    mae   \n",
       "12  /home/jovyan/full_runs/220730071802841704    mse   \n",
       "4   /home/jovyan/full_runs/220729164826192986  huber   \n",
       "28  /home/jovyan/full_runs/220726013704644042    mse   \n",
       "19  /home/jovyan/full_runs/220726012902832235    mae   \n",
       "17  /home/jovyan/full_runs/220725141944002603  huber   \n",
       "29  /home/jovyan/full_runs/220725094516530336    mae   \n",
       "16  /home/jovyan/full_runs/220725094048398667    mse   \n",
       "\n",
       "   train_end_valid_trial_age_mae valid_best_valid_trial_age_mae  \n",
       "22                      7.139167                       7.120466  \n",
       "13                      7.373691                       7.318414  \n",
       "23                       7.25364                       7.189566  \n",
       "24                      7.136507                       7.115298  \n",
       "12                      7.207405                       7.183028  \n",
       "4                       7.138583                       7.088176  \n",
       "28                      7.165513                       7.126703  \n",
       "19                      7.180033                       7.150732  \n",
       "17                      7.029969                       6.998621  \n",
       "29                      7.138562                       7.087473  \n",
       "16                      7.325506                       7.278567  "
      ]
     },
     "execution_count": 19,
     "metadata": {},
     "output_type": "execute_result"
    }
   ],
   "source": [
    "cfgs.sort_values('exp_path', ascending=False)"
   ]
  },
  {
   "cell_type": "raw",
   "id": "02cfc89a-4fab-4620-b571-4e7d6cc988fd",
   "metadata": {},
   "source": [
    "cfgs[cfgs.completed == '1']"
   ]
  },
  {
   "cell_type": "code",
   "execution_count": 44,
   "id": "ac41b8bb-4f23-4676-b39e-4c45bdb1623a",
   "metadata": {},
   "outputs": [],
   "source": [
    "import shutil"
   ]
  },
  {
   "cell_type": "raw",
   "id": "041bb917-0f3b-40f2-882d-950ef222a765",
   "metadata": {},
   "source": [
    "for p in cfgs[cfgs.tmax == '120'].exp_path:\n",
    "    shutil.rmtree(p)"
   ]
  },
  {
   "cell_type": "code",
   "execution_count": null,
   "id": "839e8176-8179-4e19-be8f-15103f0a6f99",
   "metadata": {},
   "outputs": [],
   "source": []
  }
 ],
 "metadata": {
  "kernelspec": {
   "display_name": "Python 3 (ipykernel)",
   "language": "python",
   "name": "python3"
  },
  "language_info": {
   "codemirror_mode": {
    "name": "ipython",
    "version": 3
   },
   "file_extension": ".py",
   "mimetype": "text/x-python",
   "name": "python",
   "nbconvert_exporter": "python",
   "pygments_lexer": "ipython3",
   "version": "3.9.7"
  }
 },
 "nbformat": 4,
 "nbformat_minor": 5
}
