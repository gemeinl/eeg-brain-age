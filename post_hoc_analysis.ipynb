{
 "cells": [
  {
   "cell_type": "code",
   "execution_count": 1,
   "id": "0dad0422-16c0-4d3b-ab10-91bd58cf16d8",
   "metadata": {},
   "outputs": [],
   "source": [
    "%load_ext autoreload\n",
    "%autoreload 2"
   ]
  },
  {
   "cell_type": "code",
   "execution_count": 2,
   "id": "b2f2412f-ca61-46e4-bb70-fe97049acc94",
   "metadata": {},
   "outputs": [],
   "source": [
    "import os\n",
    "import sys\n",
    "sys.path.insert(0, '/home/jovyan/braindecode/')\n",
    "sys.path.insert(0, '/home/jovyan/mne-python/')\n",
    "import pickle\n",
    "import warnings\n",
    "warnings.filterwarnings(\"ignore\", message=\"y_pred contains classes not\")\n",
    "\n",
    "import torch\n",
    "import numpy as np\n",
    "import pandas as pd\n",
    "import matplotlib.pyplot as plt\n",
    "from sklearn.metrics import mean_absolute_error, mean_squared_error, balanced_accuracy_score\n",
    "\n",
    "from braindecode.datasets.tuh import TUHAbnormal\n",
    "\n",
    "from decode_tueg import (\n",
    "    DataScaler, TargetScaler, trial_age_mae, Augmenter, ChannelsSymmetryFB,\n",
    "    get_datasets, test_name, \n",
    "    create_windows, _create_windows,\n",
    "    create_final_scores, _create_final_scores,\n",
    "    plot_chronological_vs_predicted_age, plot_age_gap_hist,\n",
    "    plot_thresh_to_acc, plot_joint_scatter, save_fig,\n",
    "    load_exp, predict_ds,\n",
    ")"
   ]
  },
  {
   "cell_type": "code",
   "execution_count": 3,
   "id": "8e98abcd-fef4-41bc-a025-1179756cd219",
   "metadata": {},
   "outputs": [],
   "source": [
    "base_dir = '/home/jovyan/new_full_runs/'\n",
    "exps = {\n",
    "#     3: '220824144139015381',\n",
    "#     1: '220824191628058941',\n",
    "#     4: '220824144141880751',\n",
    "#     2: '220824144128724203',\n",
    "    0: '220824144055632350',\n",
    "}\n",
    "# seeds = []  #  TODO: run multiple seeds\n",
    "model = 'valid_best'  # 'train_end', 'valid_best'\n",
    "n_jobs = 6"
   ]
  },
  {
   "cell_type": "raw",
   "id": "297cc1ee-7474-4ece-9a93-f2245baefeaa",
   "metadata": {},
   "source": [
    "# best run before refactoring to cv\n",
    "base_dir = '/home/jovyan/outdated_runs/'\n",
    "exps = {\n",
    "    0: '220824144254199487',\n",
    "}\n",
    "# seeds = []  #  TODO: run multiple seeds\n",
    "model = 'train_end'  # 'train_end', 'valid_best'\n",
    "n_jobs = 6"
   ]
  },
  {
   "cell_type": "raw",
   "id": "a76cba59-96c2-4cd1-b761-bf414b0e0195",
   "metadata": {},
   "source": [
    "# age_clf\n",
    "exp = '220725141944002603'\n",
    "base_dir = '/home/jovyan/full_runs/'\n",
    "model = 'valid_best'  # 'train_end'"
   ]
  },
  {
   "cell_type": "code",
   "execution_count": 4,
   "id": "53238285-f295-4711-b7d2-21b7ffc8ee13",
   "metadata": {},
   "outputs": [],
   "source": [
    "only_valid = True\n",
    "subsets = ['normal']#, 'mixed', 'abnormal']\n",
    "mem_efficient = True"
   ]
  },
  {
   "cell_type": "code",
   "execution_count": 5,
   "id": "72323481-110f-476f-afb6-4c30fd57c2a1",
   "metadata": {
    "scrolled": true,
    "tags": []
   },
   "outputs": [
    {
     "name": "stdout",
     "output_type": "stream",
     "text": [
      "2022-08-30 14:51:52 DEBUG    indexing files\n",
      "2022-08-30 14:52:29 INFO     validation run, removing eval from dataset with 2993 recordings\n",
      "2022-08-30 14:52:29 DEBUG    into train (0.9) and eval (0.1).\n",
      "2022-08-30 14:52:29 DEBUG    splitting dataset with 2693 recordings\n",
      "2022-08-30 14:52:29 DEBUG    into train (.8) and valid (.2).\n",
      "2022-08-30 14:52:29 DEBUG    from train (2154) and valid (539) selecting normal\n",
      "2022-08-30 14:52:30 DEBUG    selected train (1098) and valid (271)\n",
      "2022-08-30 14:52:30 DEBUG    some raw durations [3023.0, 1187.0, 1147.0]\n",
      "2022-08-30 14:52:30 DEBUG    preprocessing\n",
      "2022-08-30 14:52:30 DEBUG    adding cropper 60 – None\n",
      "2022-08-30 14:52:33 DEBUG    adding cropper 60 – None\n",
      "2022-08-30 14:52:34 DEBUG    some preprocessed durations [2962.99, 1126.99, 1086.99]\n",
      "2022-08-30 14:52:34 DEBUG    train datasets 1098\n",
      "2022-08-30 14:52:34 DEBUG    valid datasets 271\n",
      "(271,) (271,)\n",
      "skipping train\n"
     ]
    }
   ],
   "source": [
    "dfs = []\n",
    "for exp_i, exp in exps.items():\n",
    "    clf, data_scaler, target_scaler, config = load_exp(base_dir, exp, model)\n",
    "    for subset_i, subset in enumerate(subsets):\n",
    "        train, valid, mapping = get_datasets(\n",
    "            config.data_path,\n",
    "            config.target_name,\n",
    "            subset,  # maybe skip the subset used for training. could serve as sanity check though\n",
    "            int(config.n_train_recordings),\n",
    "            int(config.tmin),\n",
    "            int(config.tmax),\n",
    "            int(config.n_jobs),\n",
    "            int(config.final_eval),\n",
    "            float(config.valid_set_i),\n",
    "            int(config.seed),\n",
    "        )\n",
    "\n",
    "        n_channels = train[0][0].shape[0]\n",
    "        t = torch.ones(1, n_channels, int(config.window_size_samples), 1).cuda()\n",
    "        n_preds_per_input = clf.module(t).size()[2]\n",
    "\n",
    "        # order due to indexing ax_arr for plotting\n",
    "        for ds_i, (ds_name, ds) in enumerate(\n",
    "            [(test_name(int(config.final_eval)), valid), ('train', train)]):\n",
    "            mean_train_age = train.description['age'].mean()\n",
    "            if only_valid and ds_name == 'train':\n",
    "                print(\"skipping train\")\n",
    "                continue\n",
    "            preds, targets = predict_ds(\n",
    "                clf,\n",
    "                ds, \n",
    "                config.target_name,\n",
    "                mapping,\n",
    "                target_scaler,\n",
    "                data_scaler,\n",
    "                n_channels,\n",
    "                int(config.window_size_samples),\n",
    "                n_preds_per_input,\n",
    "                min(n_jobs, int(config.n_jobs)),\n",
    "                int(config.preload),\n",
    "                mem_efficient=mem_efficient,\n",
    "            )\n",
    "            print(preds.shape, targets.shape)\n",
    "            if config.target_name in ['age']:\n",
    "                score = mean_absolute_error(targets, preds)\n",
    "            else:\n",
    "                score = balanced_accuracy_score(targets, preds)\n",
    "\n",
    "            df = pd.DataFrame({\n",
    "                'y_pred': preds.ravel(),\n",
    "                'y_true': targets.ravel(),\n",
    "                'pathological': ds.description['pathological'].to_numpy(),\n",
    "                'exp': len(ds.description) * [exp],\n",
    "                'subset': len(ds.description) * [subset],\n",
    "                'split': len(ds.description) * [ds_name],\n",
    "                'fold': len(ds.description) * [exp_i],\n",
    "            })\n",
    "            dfs.append(df)"
   ]
  },
  {
   "cell_type": "code",
   "execution_count": 6,
   "id": "a631c58e-37dd-4ef2-b81c-e9b4b56d2384",
   "metadata": {},
   "outputs": [],
   "source": [
    "df_concat = pd.concat(dfs).reset_index()"
   ]
  },
  {
   "cell_type": "code",
   "execution_count": 7,
   "id": "40d1f837-a417-4105-b57e-5686938e3b55",
   "metadata": {},
   "outputs": [
    {
     "data": {
      "text/html": [
       "<div>\n",
       "<style scoped>\n",
       "    .dataframe tbody tr th:only-of-type {\n",
       "        vertical-align: middle;\n",
       "    }\n",
       "\n",
       "    .dataframe tbody tr th {\n",
       "        vertical-align: top;\n",
       "    }\n",
       "\n",
       "    .dataframe thead th {\n",
       "        text-align: right;\n",
       "    }\n",
       "</style>\n",
       "<table border=\"1\" class=\"dataframe\">\n",
       "  <thead>\n",
       "    <tr style=\"text-align: right;\">\n",
       "      <th></th>\n",
       "      <th>index</th>\n",
       "      <th>y_pred</th>\n",
       "      <th>y_true</th>\n",
       "      <th>pathological</th>\n",
       "      <th>exp</th>\n",
       "      <th>subset</th>\n",
       "      <th>split</th>\n",
       "      <th>fold</th>\n",
       "    </tr>\n",
       "  </thead>\n",
       "  <tbody>\n",
       "    <tr>\n",
       "      <th>0</th>\n",
       "      <td>0</td>\n",
       "      <td>53.873322</td>\n",
       "      <td>53.000004</td>\n",
       "      <td>False</td>\n",
       "      <td>220824144055632350</td>\n",
       "      <td>normal</td>\n",
       "      <td>valid</td>\n",
       "      <td>0</td>\n",
       "    </tr>\n",
       "    <tr>\n",
       "      <th>1</th>\n",
       "      <td>1</td>\n",
       "      <td>43.305187</td>\n",
       "      <td>32.000000</td>\n",
       "      <td>False</td>\n",
       "      <td>220824144055632350</td>\n",
       "      <td>normal</td>\n",
       "      <td>valid</td>\n",
       "      <td>0</td>\n",
       "    </tr>\n",
       "    <tr>\n",
       "      <th>2</th>\n",
       "      <td>2</td>\n",
       "      <td>37.239021</td>\n",
       "      <td>39.000000</td>\n",
       "      <td>False</td>\n",
       "      <td>220824144055632350</td>\n",
       "      <td>normal</td>\n",
       "      <td>valid</td>\n",
       "      <td>0</td>\n",
       "    </tr>\n",
       "    <tr>\n",
       "      <th>3</th>\n",
       "      <td>3</td>\n",
       "      <td>43.747784</td>\n",
       "      <td>28.000000</td>\n",
       "      <td>False</td>\n",
       "      <td>220824144055632350</td>\n",
       "      <td>normal</td>\n",
       "      <td>valid</td>\n",
       "      <td>0</td>\n",
       "    </tr>\n",
       "    <tr>\n",
       "      <th>4</th>\n",
       "      <td>4</td>\n",
       "      <td>50.673134</td>\n",
       "      <td>69.000000</td>\n",
       "      <td>False</td>\n",
       "      <td>220824144055632350</td>\n",
       "      <td>normal</td>\n",
       "      <td>valid</td>\n",
       "      <td>0</td>\n",
       "    </tr>\n",
       "    <tr>\n",
       "      <th>...</th>\n",
       "      <td>...</td>\n",
       "      <td>...</td>\n",
       "      <td>...</td>\n",
       "      <td>...</td>\n",
       "      <td>...</td>\n",
       "      <td>...</td>\n",
       "      <td>...</td>\n",
       "      <td>...</td>\n",
       "    </tr>\n",
       "    <tr>\n",
       "      <th>266</th>\n",
       "      <td>266</td>\n",
       "      <td>45.348957</td>\n",
       "      <td>59.000000</td>\n",
       "      <td>False</td>\n",
       "      <td>220824144055632350</td>\n",
       "      <td>normal</td>\n",
       "      <td>valid</td>\n",
       "      <td>0</td>\n",
       "    </tr>\n",
       "    <tr>\n",
       "      <th>267</th>\n",
       "      <td>267</td>\n",
       "      <td>44.319000</td>\n",
       "      <td>55.000000</td>\n",
       "      <td>False</td>\n",
       "      <td>220824144055632350</td>\n",
       "      <td>normal</td>\n",
       "      <td>valid</td>\n",
       "      <td>0</td>\n",
       "    </tr>\n",
       "    <tr>\n",
       "      <th>268</th>\n",
       "      <td>268</td>\n",
       "      <td>51.179985</td>\n",
       "      <td>59.999996</td>\n",
       "      <td>False</td>\n",
       "      <td>220824144055632350</td>\n",
       "      <td>normal</td>\n",
       "      <td>valid</td>\n",
       "      <td>0</td>\n",
       "    </tr>\n",
       "    <tr>\n",
       "      <th>269</th>\n",
       "      <td>269</td>\n",
       "      <td>56.446735</td>\n",
       "      <td>59.000000</td>\n",
       "      <td>False</td>\n",
       "      <td>220824144055632350</td>\n",
       "      <td>normal</td>\n",
       "      <td>valid</td>\n",
       "      <td>0</td>\n",
       "    </tr>\n",
       "    <tr>\n",
       "      <th>270</th>\n",
       "      <td>270</td>\n",
       "      <td>28.014252</td>\n",
       "      <td>28.000000</td>\n",
       "      <td>False</td>\n",
       "      <td>220824144055632350</td>\n",
       "      <td>normal</td>\n",
       "      <td>valid</td>\n",
       "      <td>0</td>\n",
       "    </tr>\n",
       "  </tbody>\n",
       "</table>\n",
       "<p>271 rows × 8 columns</p>\n",
       "</div>"
      ],
      "text/plain": [
       "     index     y_pred     y_true  pathological                 exp  subset  \\\n",
       "0        0  53.873322  53.000004         False  220824144055632350  normal   \n",
       "1        1  43.305187  32.000000         False  220824144055632350  normal   \n",
       "2        2  37.239021  39.000000         False  220824144055632350  normal   \n",
       "3        3  43.747784  28.000000         False  220824144055632350  normal   \n",
       "4        4  50.673134  69.000000         False  220824144055632350  normal   \n",
       "..     ...        ...        ...           ...                 ...     ...   \n",
       "266    266  45.348957  59.000000         False  220824144055632350  normal   \n",
       "267    267  44.319000  55.000000         False  220824144055632350  normal   \n",
       "268    268  51.179985  59.999996         False  220824144055632350  normal   \n",
       "269    269  56.446735  59.000000         False  220824144055632350  normal   \n",
       "270    270  28.014252  28.000000         False  220824144055632350  normal   \n",
       "\n",
       "     split  fold  \n",
       "0    valid     0  \n",
       "1    valid     0  \n",
       "2    valid     0  \n",
       "3    valid     0  \n",
       "4    valid     0  \n",
       "..     ...   ...  \n",
       "266  valid     0  \n",
       "267  valid     0  \n",
       "268  valid     0  \n",
       "269  valid     0  \n",
       "270  valid     0  \n",
       "\n",
       "[271 rows x 8 columns]"
      ]
     },
     "execution_count": 7,
     "metadata": {},
     "output_type": "execute_result"
    }
   ],
   "source": [
    "df_concat"
   ]
  },
  {
   "cell_type": "raw",
   "id": "a55fde6c-9219-4f96-9b81-0e23386eeb0a",
   "metadata": {},
   "source": [
    "df_concat.to_csv('/home/jovyan/220824_5fcv.csv')"
   ]
  },
  {
   "cell_type": "code",
   "execution_count": 8,
   "id": "6c1ae1d9-53b3-4b0f-a341-25937ae8c16b",
   "metadata": {},
   "outputs": [],
   "source": [
    "#TODO: manually do the jointplot (distplot, regplot, kdeplot)\n",
    "#TODO: plot the gap proxy for normal / pathological indivudally?\n",
    "#TODO: update colors"
   ]
  },
  {
   "cell_type": "code",
   "execution_count": 9,
   "id": "5bf12ada-4598-42be-ba18-0155378ca029",
   "metadata": {},
   "outputs": [],
   "source": [
    "plot_only_valid = False\n",
    "this_df_concat = df_concat[df_concat.split == 'valid'] if plot_only_valid else df_concat"
   ]
  },
  {
   "cell_type": "code",
   "execution_count": 10,
   "id": "7c540f6d-491d-4b78-956c-7a480822fdb8",
   "metadata": {
    "tags": []
   },
   "outputs": [
    {
     "name": "stdout",
     "output_type": "stream",
     "text": [
      "split valid subset normal  (271, 8)\n"
     ]
    },
    {
     "data": {
      "image/png": "[encoded data removed]",
      "text/plain": [
       "<Figure size 360x144 with 1 Axes>"
      ]
     },
     "metadata": {
      "needs_background": "light"
     },
     "output_type": "display_data"
    },
    {
     "data": {
      "image/png": "[encoded data removed]",
      "text/plain": [
       "<Figure size 360x144 with 1 Axes>"
      ]
     },
     "metadata": {
      "needs_background": "light"
     },
     "output_type": "display_data"
    },
    {
     "data": {
      "image/png": "[encoded data removed]",
      "text/plain": [
       "<Figure size 349.2x349.2 with 3 Axes>"
      ]
     },
     "metadata": {
      "needs_background": "light"
     },
     "output_type": "display_data"
    }
   ],
   "source": [
    "grouping = ['split', 'subset']#, 'fold']\n",
    "splits = list(this_df_concat.split.unique())\n",
    "n_splits = len(splits) \n",
    "subsets = list(this_df_concat.subset.unique())\n",
    "n_subsets = len(subsets)\n",
    "fig2, ax_arr2 = plt.subplots(\n",
    "    n_splits, n_subsets, figsize=(5*n_subsets, 2*n_splits), squeeze=False, sharex=True)\n",
    "fig3, ax_arr3 = plt.subplots(\n",
    "    n_splits, n_subsets, figsize=(5*n_subsets, 2*n_splits), squeeze=False, sharex=True)\n",
    "for x, df in this_df_concat.groupby(grouping):\n",
    "    split_i = splits.index(x[0])\n",
    "    subset_i = subsets.index(x[1])\n",
    "    fold = '' if len(x) == 2 else x[2]\n",
    "    print('split', x[0], 'subset', x[1], fold, df.shape)\n",
    "\n",
    "    score_name = 'acc' if config.target_name != 'age' else 'mae'\n",
    "    score = mean_absolute_error(df.y_true, df.y_pred) if config.target_name == 'age' else balanced_accuracy_score(df.y_true, df.y_pred)\n",
    "    title = f\"{x[1]}, {x[0]}, {config.target_name}, {score_name}, {score:.2f}\"\n",
    "    ax4 = plot_joint_scatter(df)\n",
    "    ax4.figure.tight_layout()\n",
    "    ax4.fig.subplots_adjust(top=0.94)\n",
    "    ax4.fig.suptitle(title);\n",
    "\n",
    "    ax2 = plot_age_gap_hist(\n",
    "        df,\n",
    "        ax=ax_arr2[split_i, subset_i],\n",
    "    )\n",
    "    ax2.figure.tight_layout()\n",
    "    ax2.set_title(title)\n",
    "\n",
    "    ax3 = plot_thresh_to_acc(\n",
    "        df,\n",
    "        ax=ax_arr3[split_i, subset_i],\n",
    "    )\n",
    "    ax3.figure.tight_layout()\n",
    "    ax3.set_title(title)"
   ]
  },
  {
   "cell_type": "code",
   "execution_count": null,
   "id": "caf10f3b-76c4-464a-8606-295df5626d85",
   "metadata": {},
   "outputs": [],
   "source": []
  },
  {
   "cell_type": "code",
   "execution_count": null,
   "id": "1760d38f-9649-4683-9eff-944fd20ac415",
   "metadata": {},
   "outputs": [],
   "source": []
  },
  {
   "cell_type": "code",
   "execution_count": null,
   "id": "bfc65d1a-11ff-427e-833c-1681058fd972",
   "metadata": {},
   "outputs": [],
   "source": []
  },
  {
   "cell_type": "code",
   "execution_count": 5,
   "id": "81e08106-9ed5-4239-9de8-7837014acc28",
   "metadata": {},
   "outputs": [],
   "source": [
    "# check whether age_clf lead to bimodal distribution of predictions"
   ]
  },
  {
   "cell_type": "code",
   "execution_count": 6,
   "id": "76e01299-c5e7-4b45-8898-f512819fef49",
   "metadata": {},
   "outputs": [],
   "source": [
    "exp = '220824144254199487'\n",
    "subset = 'normal'\n",
    "ds_name = 'valid'\n",
    "exp_i = 0"
   ]
  },
  {
   "cell_type": "code",
   "execution_count": 7,
   "id": "471c81bf-b344-44cc-b19a-fcf618c47c7b",
   "metadata": {},
   "outputs": [],
   "source": [
    "clf, data_scaler, target_scaler, config = load_exp(\n",
    "    '/home/jovyan/outdated_runs/', exp, 'train_end')"
   ]
  },
  {
   "cell_type": "code",
   "execution_count": 8,
   "id": "1121e806-a623-44d3-a78f-705f2cf02b7f",
   "metadata": {},
   "outputs": [
    {
     "name": "stdout",
     "output_type": "stream",
     "text": [
      "2022-08-30 15:07:12 DEBUG    indexing files\n",
      "2022-08-30 15:07:49 INFO     validation run, removing eval from dataset with 2993 recordings\n",
      "2022-08-30 15:07:49 DEBUG    into train (0.9) and eval (0.1).\n",
      "2022-08-30 15:07:49 DEBUG    splitting dataset with 2693 recordings\n",
      "2022-08-30 15:07:49 DEBUG    into train (.8) and valid (.2).\n",
      "2022-08-30 15:07:49 DEBUG    from train (2154) and valid (539) selecting normal\n",
      "2022-08-30 15:07:50 DEBUG    selected train (1098) and valid (271)\n",
      "2022-08-30 15:07:50 DEBUG    some raw durations [3023.0, 1187.0, 1147.0]\n",
      "2022-08-30 15:07:50 DEBUG    preprocessing\n",
      "2022-08-30 15:07:50 DEBUG    adding cropper 60 – None\n",
      "2022-08-30 15:07:53 DEBUG    adding cropper 60 – None\n",
      "2022-08-30 15:07:54 DEBUG    some preprocessed durations [2962.99, 1126.99, 1086.99]\n",
      "2022-08-30 15:07:54 DEBUG    train datasets 1098\n",
      "2022-08-30 15:07:54 DEBUG    valid datasets 271\n"
     ]
    }
   ],
   "source": [
    "train, valid, mapping = get_datasets(\n",
    "    config.data_path,\n",
    "    config.target_name,\n",
    "    subset,\n",
    "    int(config.n_train_recordings),\n",
    "    int(config.tmin),\n",
    "    int(config.tmax),\n",
    "    int(config.n_jobs),\n",
    "    int(config.final_eval),\n",
    "    float(config.valid_set_i),\n",
    "    int(config.seed),\n",
    ")"
   ]
  },
  {
   "cell_type": "code",
   "execution_count": 9,
   "id": "22d71474-bfca-4165-ac95-bf569ff2db34",
   "metadata": {},
   "outputs": [],
   "source": [
    "n_channels = train[0][0].shape[0]\n",
    "t = torch.ones(1, n_channels, int(config.window_size_samples), 1).cuda()\n",
    "n_preds_per_input = clf.module(t).size()[2]"
   ]
  },
  {
   "cell_type": "code",
   "execution_count": null,
   "id": "0b14864b-e44f-4bee-abd9-15d661daecda",
   "metadata": {},
   "outputs": [],
   "source": [
    "train = None\n",
    "ds = valid\n",
    "preds, targets = predict_ds(\n",
    "    clf, \n",
    "    ds, \n",
    "    config.target_name,\n",
    "    mapping, \n",
    "    target_scaler, \n",
    "    data_scaler, \n",
    "    n_channels, \n",
    "    int(config.window_size_samples),\n",
    "    n_preds_per_input,\n",
    "    n_jobs, \n",
    "    config.preload, \n",
    "    mem_efficient,\n",
    ")"
   ]
  },
  {
   "cell_type": "code",
   "execution_count": 42,
   "id": "1c05b662-2ca9-47f0-80a7-2619d081272c",
   "metadata": {},
   "outputs": [
    {
     "data": {
      "text/plain": [
       "<AxesSubplot:xlabel='Chronological Age [years]', ylabel='Decoded Age [years]'>"
      ]
     },
     "execution_count": 42,
     "metadata": {},
     "output_type": "execute_result"
    },
    {
     "data": {
      "image/png": "[encoded data removed]",
      "text/plain": [
       "<Figure size 504x504 with 1 Axes>"
      ]
     },
     "metadata": {
      "needs_background": "light"
     },
     "output_type": "display_data"
    }
   ],
   "source": [
    "plot_chronological_vs_predicted_age(\n",
    "    pd.DataFrame({\n",
    "        'y_pred': preds.argmax(axis=-1).ravel(),\n",
    "        'y_true': targets.ravel(),\n",
    "        'pathological': ds.description['pathological'].to_numpy(),\n",
    "        'exp': len(ds.description) * [exp],\n",
    "        'subset': len(ds.description) * [subset],\n",
    "        'split': len(ds.description) * [ds_name],\n",
    "        'fold': len(ds.description) * [exp_i],\n",
    "    })\n",
    ")"
   ]
  },
  {
   "cell_type": "code",
   "execution_count": null,
   "id": "404f7ce7-8f14-4fba-9743-532c727a5f0e",
   "metadata": {},
   "outputs": [],
   "source": []
  },
  {
   "cell_type": "code",
   "execution_count": null,
   "id": "e3f8d2ea-6b4e-41a5-8b8d-81a6778a9e0f",
   "metadata": {},
   "outputs": [],
   "source": []
  }
 ],
 "metadata": {
  "kernelspec": {
   "display_name": "Python 3 (ipykernel)",
   "language": "python",
   "name": "python3"
  },
  "language_info": {
   "codemirror_mode": {
    "name": "ipython",
    "version": 3
   },
   "file_extension": ".py",
   "mimetype": "text/x-python",
   "name": "python",
   "nbconvert_exporter": "python",
   "pygments_lexer": "ipython3",
   "version": "3.9.7"
  }
 },
 "nbformat": 4,
 "nbformat_minor": 5
}
