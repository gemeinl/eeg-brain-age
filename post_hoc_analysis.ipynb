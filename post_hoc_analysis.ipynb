{
 "cells": [
  {
   "cell_type": "code",
   "execution_count": null,
   "id": "0dad0422-16c0-4d3b-ab10-91bd58cf16d8",
   "metadata": {},
   "outputs": [],
   "source": [
    "%load_ext autoreload\n",
    "%autoreload 2"
   ]
  },
  {
   "cell_type": "code",
   "execution_count": null,
   "id": "b2f2412f-ca61-46e4-bb70-fe97049acc94",
   "metadata": {},
   "outputs": [],
   "source": [
    "import os\n",
    "import sys\n",
    "sys.path.insert(0, '/home/jovyan/braindecode/')\n",
    "sys.path.insert(0, '/home/jovyan/mne-python/')\n",
    "import pickle\n",
    "\n",
    "import torch\n",
    "import numpy as np\n",
    "import pandas as pd\n",
    "import matplotlib.pyplot as plt\n",
    "from sklearn.metrics import mean_absolute_error, mean_squared_error\n",
    "\n",
    "from braindecode.datasets.tuh import TUHAbnormal\n",
    "\n",
    "from decode_tueg import (\n",
    "    DataScaler, TargetScaler, trial_age_mae, Augmenter, ChannelsSymmetryFB,\n",
    "    get_datasets, test_name, \n",
    "    create_windows, _create_windows,\n",
    "    create_final_scores, _create_final_scores,\n",
    "    plot_chronological_vs_predicted_age, plot_age_gap_hist,\n",
    "    plot_thresh_to_acc,\n",
    ")"
   ]
  },
  {
   "cell_type": "code",
   "execution_count": null,
   "id": "de26ec6b-558a-45df-a46b-ea9e06e418c6",
   "metadata": {},
   "outputs": [],
   "source": [
    "exps = {\n",
    "    3: '220824144139015381',\n",
    "    1: '220824191628058941',\n",
    "    4: '220824144141880751',\n",
    "    2: '220824144128724203',\n",
    "    0: '220824144055632350',\n",
    "}\n",
    "base_dir = '/home/jovyan/new_full_runs/'\n",
    "model = 'valid_best'  # 'train_end'"
   ]
  },
  {
   "cell_type": "raw",
   "id": "a76cba59-96c2-4cd1-b761-bf414b0e0195",
   "metadata": {},
   "source": [
    "exp = '220725141944002603'\n",
    "base_dir = '/home/jovyan/full_runs/'\n",
    "model = 'valid_best'  # 'train_end'"
   ]
  },
  {
   "cell_type": "code",
   "execution_count": null,
   "id": "53238285-f295-4711-b7d2-21b7ffc8ee13",
   "metadata": {},
   "outputs": [],
   "source": [
    "only_valid = True"
   ]
  },
  {
   "cell_type": "code",
   "execution_count": null,
   "id": "49fb5c2e-c598-4fe8-9c80-545e64f6ce0d",
   "metadata": {},
   "outputs": [],
   "source": [
    "fig, ax_arr = plt.subplots(1 if only_valid else 2, 3, figsize=(20, 6), squeeze=False, sharex=True, sharey=True)\n",
    "fig2, ax_arr2 = plt.subplots(3, 1 if only_valid else 2, figsize=(20, 6), squeeze=False, sharex=True, sharey=True)\n",
    "fig3, ax_arr3 = plt.subplots(3, 1 if only_valid else 2, figsize=(20, 6), squeeze=False, sharex=True)"
   ]
  },
  {
   "cell_type": "code",
   "execution_count": null,
   "id": "07113a45-9802-4914-846c-155af3cf9fad",
   "metadata": {},
   "outputs": [],
   "source": [
    "for exp_i, exp in exps.items():\n",
    "    break"
   ]
  },
  {
   "cell_type": "code",
   "execution_count": null,
   "id": "86ae0d5a-aa6a-46ff-a56a-eef6bea0256e",
   "metadata": {},
   "outputs": [],
   "source": [
    "with open(os.path.join(base_dir, exp, f'checkpoint/{model}_model.pkl'), 'rb') as f:\n",
    "    clf = pickle.load(f)\n",
    "with open(os.path.join(base_dir, exp, 'data_scaler.pkl'), 'rb') as f:\n",
    "    data_scaler = pickle.load(f)\n",
    "with open(os.path.join(base_dir, exp, 'target_scaler.pkl'), 'rb') as f:\n",
    "    target_scaler = pickle.load(f)\n",
    "config = pd.read_csv(os.path.join(base_dir, exp, 'config.csv'), index_col=0).squeeze()"
   ]
  },
  {
   "cell_type": "code",
   "execution_count": null,
   "id": "880bf2c9-170b-4c93-8d5e-25d2903e7c76",
   "metadata": {},
   "outputs": [],
   "source": [
    "subsets = ['normal', 'mixed', 'abnormal']\n",
    "for subset_i, subset in enumerate(subsets):\n",
    "    train, valid, mapping = get_datasets(\n",
    "        config.data_path,\n",
    "        config.target_name,\n",
    "        subset,  # maybe skip the subset used for training. could serve as sanity check though\n",
    "        int(config.n_train_recordings),\n",
    "        int(config.tmin),\n",
    "        int(config.tmax),\n",
    "        int(config.n_jobs),\n",
    "        int(config.final_eval),\n",
    "        float(config.valid_set_i),\n",
    "        int(config.seed),\n",
    "    )\n",
    "\n",
    "    n_channels = train[0][0].shape[0]\n",
    "    t = torch.ones(1, n_channels, int(config.window_size_samples), 1).cuda()\n",
    "    n_preds_per_input = clf.module(t).size()[2]\n",
    "\n",
    "    # order due to indexing ax_arr for plotting\n",
    "    for ds_i, (ds_name, ds) in enumerate([(test_name(int(config.final_eval)), valid), ('train', train)]):\n",
    "        mean_train_age = train.description['age'].mean()\n",
    "        if only_valid and ds_name == 'train':\n",
    "            print(\"skipping train\")\n",
    "            continue\n",
    "        ds = _create_windows(\n",
    "            mapping,\n",
    "            ds,\n",
    "            int(config.window_size_samples),\n",
    "            n_channels,\n",
    "            int(config.n_jobs),\n",
    "            int(config.preload),\n",
    "            n_preds_per_input,\n",
    "        )\n",
    "\n",
    "        ds.target_transform = target_scaler\n",
    "        ds.transform = data_scaler\n",
    "\n",
    "        preds, targets = clf.predict_trials(ds)\n",
    "        preds = np.array([p.mean(-1) for p in preds])\n",
    "        preds = target_scaler.invert(preds)\n",
    "        targets = target_scaler.invert(targets)\n",
    "        score = mean_absolute_error(targets, preds)\n",
    "\n",
    "        df = pd.DataFrame({\n",
    "            'y_pred': preds.ravel(),\n",
    "            'y_true': targets.ravel(),\n",
    "            'pathological': ds.description['pathological'].to_numpy(),\n",
    "        })\n",
    "        \n",
    "        title = f\"{subset}, {ds_name}, {config.target_name}, mae, {score:.2f}\"\n",
    "        ax = plot_chronological_vs_predicted_age(\n",
    "            df,\n",
    "            dummy=None,  # mean_train_age,\n",
    "            ax=ax_arr[ds_i, subset_i],\n",
    "        )\n",
    "        ax.set_title(title)\n",
    "        \n",
    "        ax2 = plot_age_gap_hist(\n",
    "            df,\n",
    "            ax=ax_arr2[subset_i, ds_i],\n",
    "        )\n",
    "        ax2.set_title(title)\n",
    "        \n",
    "        ax3 = plot_thresh_to_acc(\n",
    "            df,\n",
    "            ax=ax_arr3[subset_i, ds_i],\n",
    "        )\n",
    "        ax3.set_title(title)"
   ]
  },
  {
   "cell_type": "code",
   "execution_count": null,
   "id": "a7825a6d-d801-4b8b-a480-2c5e9d4c006f",
   "metadata": {},
   "outputs": [],
   "source": [
    "fig"
   ]
  },
  {
   "cell_type": "code",
   "execution_count": null,
   "id": "75589594-8ef7-4089-9c15-a017beb2fae3",
   "metadata": {},
   "outputs": [],
   "source": [
    "fig2"
   ]
  },
  {
   "cell_type": "code",
   "execution_count": null,
   "id": "8c832ded-690b-42a4-b35d-ef2d4a058774",
   "metadata": {},
   "outputs": [],
   "source": [
    "fig3"
   ]
  },
  {
   "cell_type": "code",
   "execution_count": null,
   "id": "0b14864b-e44f-4bee-abd9-15d661daecda",
   "metadata": {},
   "outputs": [],
   "source": []
  },
  {
   "cell_type": "code",
   "execution_count": null,
   "id": "1c05b662-2ca9-47f0-80a7-2619d081272c",
   "metadata": {},
   "outputs": [],
   "source": []
  },
  {
   "cell_type": "code",
   "execution_count": null,
   "id": "8920ccdb-821e-4c2a-89a4-909cdc46c09f",
   "metadata": {},
   "outputs": [],
   "source": []
  },
  {
   "cell_type": "code",
   "execution_count": null,
   "id": "48ff3006-e923-4683-ab08-a8cfd57a0826",
   "metadata": {},
   "outputs": [],
   "source": []
  },
  {
   "cell_type": "raw",
   "id": "a8b7570c-05e5-4460-9254-e0f49f6bfb27",
   "metadata": {},
   "source": [
    "train, valid = create_windows(\n",
    "    mapping,\n",
    "    train,\n",
    "    valid,\n",
    "    int(config.window_size_samples),\n",
    "    n_channels,\n",
    "    int(config.n_jobs),\n",
    "    int(config.preload),\n",
    "    n_preds_per_input,\n",
    "    test_name(int(config.final_eval)),\n",
    ")"
   ]
  },
  {
   "cell_type": "raw",
   "id": "5163e9b5-fda7-4ebc-8e54-aa8339f00e68",
   "metadata": {},
   "source": [
    "train.target_transform = target_scaler\n",
    "train.transform = data_scaler\n",
    "valid.target_transform = target_scaler\n",
    "valid.transform = data_scaler"
   ]
  },
  {
   "cell_type": "raw",
   "id": "332d96af-411a-43c8-badc-37976a8e1eb2",
   "metadata": {},
   "source": [
    "scores = make_final_predictions(\n",
    "    clf,\n",
    "    train,\n",
    "    valid,\n",
    "    test_name(config.final_eval),\n",
    "    config.target_name,\n",
    "    target_scaler,\n",
    ")"
   ]
  }
 ],
 "metadata": {
  "kernelspec": {
   "display_name": "Python 3 (ipykernel)",
   "language": "python",
   "name": "python3"
  },
  "language_info": {
   "codemirror_mode": {
    "name": "ipython",
    "version": 3
   },
   "file_extension": ".py",
   "mimetype": "text/x-python",
   "name": "python",
   "nbconvert_exporter": "python",
   "pygments_lexer": "ipython3",
   "version": "3.9.7"
  }
 },
 "nbformat": 4,
 "nbformat_minor": 5
}
