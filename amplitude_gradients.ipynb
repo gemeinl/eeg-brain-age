{
 "cells": [
  {
   "cell_type": "code",
   "execution_count": 1,
   "id": "fdb52cc7-bca4-470f-9467-7e12e9843b2a",
   "metadata": {},
   "outputs": [
    {
     "name": "stdout",
     "output_type": "stream",
     "text": [
      "Mon Feb  6 13:02:14 2023       \n",
      "+-----------------------------------------------------------------------------+\n",
      "| NVIDIA-SMI 515.48.07    Driver Version: 515.48.07    CUDA Version: 11.7     |\n",
      "|-------------------------------+----------------------+----------------------+\n",
      "| GPU  Name        Persistence-M| Bus-Id        Disp.A | Volatile Uncorr. ECC |\n",
      "| Fan  Temp  Perf  Pwr:Usage/Cap|         Memory-Usage | GPU-Util  Compute M. |\n",
      "|                               |                      |               MIG M. |\n",
      "|===============================+======================+======================|\n",
      "|   0  NVIDIA GeForce ...  On   | 00000000:85:00.0 Off |                  N/A |\n",
      "| 22%   44C    P5    20W / 250W |      4MiB / 12288MiB |      0%      Default |\n",
      "|                               |                      |                  N/A |\n",
      "+-------------------------------+----------------------+----------------------+\n",
      "                                                                               \n",
      "+-----------------------------------------------------------------------------+\n",
      "| Processes:                                                                  |\n",
      "|  GPU   GI   CI        PID   Type   Process name                  GPU Memory |\n",
      "|        ID   ID                                                   Usage      |\n",
      "|=============================================================================|\n",
      "|  No running processes found                                                 |\n",
      "+-----------------------------------------------------------------------------+\n",
      "\n"
     ]
    }
   ],
   "source": [
    "import sys\n",
    "sys.path.insert(0, '/home/jovyan/braindecode/')\n",
    "import pickle\n",
    "\n",
    "import numpy as np\n",
    "import pandas as pd\n",
    "import matplotlib.pyplot as plt\n",
    "\n",
    "import mne\n",
    "from mne.channels import make_standard_montage\n",
    "from mne.viz import plot_topomap\n",
    "\n",
    "from braindecode.visualization import compute_amplitude_gradients\n",
    "\n",
    "from decode_tueg import load_exp, DataScaler, TargetScaler, Augmenter"
   ]
  },
  {
   "cell_type": "code",
   "execution_count": 2,
   "id": "e2b6f088-faec-4bd0-afef-46f06a17e7a8",
   "metadata": {},
   "outputs": [],
   "source": [
    "def add_cbar(fig, ax_img):\n",
    "    # manually add colorbar\n",
    "    ax_x_start = 0.95\n",
    "    ax_x_width = 0.04\n",
    "    ax_y_start = 0.1\n",
    "    ax_y_height = 0.9\n",
    "    cbar_ax = fig.add_axes([ax_x_start, ax_y_start, ax_x_width, ax_y_height])\n",
    "    clb = fig.colorbar(ax_img, cax=cbar_ax)\n",
    "    clb.ax.set_title('') # gradient?"
   ]
  },
  {
   "cell_type": "code",
   "execution_count": 3,
   "id": "fb721ea2-63a3-4d40-8146-983ae6418963",
   "metadata": {},
   "outputs": [],
   "source": [
    "def freq_to_bin(bins, freq):\n",
    "    return np.abs(bins - freq).argmin()\n",
    "\n",
    "\n",
    "def freqs_to_bin(bins, freqs):\n",
    "    return [np.abs(bins - freq).argmin() for freq in freqs]"
   ]
  },
  {
   "cell_type": "code",
   "execution_count": 18,
   "id": "3d504383-11c9-48a4-a37f-c9540d8aa5f0",
   "metadata": {},
   "outputs": [],
   "source": [
    "batch_size = 64\n",
    "n_jobs = 4\n",
    "n_recordings = 200\n",
    "exp_dir = '/home/jovyan/experiments/'\n",
    "checkpoint = 'train_end'"
   ]
  },
  {
   "cell_type": "code",
   "execution_count": 19,
   "id": "560a3f5b-06d0-497d-88c9-a3530e8d5e3f",
   "metadata": {},
   "outputs": [],
   "source": [
    "clf, data_scaler, target_scaler, config = load_exp(\n",
    "    exp_dir,\n",
    "    '2023-02-03T22:27:26.056071/20230203/0',\n",
    "    checkpoint\n",
    ")"
   ]
  },
  {
   "cell_type": "code",
   "execution_count": 20,
   "id": "078e37aa-7268-4cfd-84f7-968194106e2b",
   "metadata": {},
   "outputs": [],
   "source": [
    "for ds_name in ['transition']:  # non-pathological, pathological\n",
    "    break"
   ]
  },
  {
   "cell_type": "code",
   "execution_count": 21,
   "id": "0be63706-d066-47fb-9ead-3434f7f67ad2",
   "metadata": {},
   "outputs": [],
   "source": [
    "with open(f'/home/jovyan/longitudinal/{ds_name}_pre_win.pkl', 'rb') as f:\n",
    "    ds = pickle.load(f)"
   ]
  },
  {
   "cell_type": "code",
   "execution_count": 22,
   "id": "11bc943b-1bae-4338-8e63-f972cdeb954c",
   "metadata": {},
   "outputs": [],
   "source": [
    "names = [ch.split(' ')[-1] for ch in ds.datasets[0].windows.info['ch_names']]\n",
    "names = [ch.replace('Z', 'z') for ch in names]\n",
    "names = [ch.replace('P', 'p') if ch in ['FP1', 'FP2'] else ch for ch in names]"
   ]
  },
  {
   "cell_type": "code",
   "execution_count": 23,
   "id": "855d115a-e945-4c6a-bf95-0d8bd5d21fa3",
   "metadata": {},
   "outputs": [],
   "source": [
    "sfreq = ds.datasets[0].windows.info['sfreq']"
   ]
  },
  {
   "cell_type": "code",
   "execution_count": 24,
   "id": "57dde7dd-b6a4-4a01-a37a-deaed45b65be",
   "metadata": {},
   "outputs": [],
   "source": [
    "freqs = np.fft.rfftfreq(ds[0][0].shape[1], 1/ds.datasets[0].windows.info['sfreq'])"
   ]
  },
  {
   "cell_type": "code",
   "execution_count": 25,
   "id": "ec7a3200-0417-4b06-ad43-fda360293a13",
   "metadata": {},
   "outputs": [],
   "source": [
    "montage = make_standard_montage('standard_1020')\n",
    "info = mne.create_info(names, sfreq, ch_types='eeg')\n",
    "info = info.set_montage(montage)"
   ]
  },
  {
   "cell_type": "code",
   "execution_count": 26,
   "id": "b0aa7223-d709-4fe7-a213-ebfa67c8403b",
   "metadata": {},
   "outputs": [],
   "source": [
    "if n_recordings is not None:\n",
    "    ds = ds.split(list(range(n_recordings)))['0']"
   ]
  },
  {
   "cell_type": "code",
   "execution_count": 27,
   "id": "aa155085-d277-425f-899d-e9b6ccf66161",
   "metadata": {},
   "outputs": [],
   "source": [
    "def compute_gradients(clf, ds, batch_size, n_jobs):\n",
    "    all_grads = {}\n",
    "    for n, d in ds.split('pathological').items():\n",
    "        grads = compute_amplitude_gradients(clf.module, d, batch_size, n_jobs)\n",
    "        avg_grads = grads.mean((1, 0))\n",
    "        all_grads['Non-pathological' if n == '0' else 'Pathological'] = avg_grads\n",
    "    if 'Non-pathological' in all_grads.keys() and 'Pathological' in all_grads.keys():\n",
    "        all_grads['Non-pathological – Pathological'] = all_grads['Non-pathological'] - all_grads['Pathological']\n",
    "    return all_grads"
   ]
  },
  {
   "cell_type": "code",
   "execution_count": null,
   "id": "fc557c91-363f-469f-ac97-6a466c6c3571",
   "metadata": {},
   "outputs": [],
   "source": [
    "%%time\n",
    "all_grads = compute_gradients(clf, ds, batch_size, n_jobs)"
   ]
  },
  {
   "cell_type": "code",
   "execution_count": null,
   "id": "fdd30f42-7aa2-4a3e-96a1-ed427d75ee70",
   "metadata": {},
   "outputs": [],
   "source": [
    "bands = [(0,4),(4,8),(8,13),(13,30),(30,50)]"
   ]
  },
  {
   "cell_type": "code",
   "execution_count": null,
   "id": "54062cd7-0fd2-4299-a837-fffc25474de5",
   "metadata": {},
   "outputs": [],
   "source": [
    "for band in bands:\n",
    "    all_band_grads = []\n",
    "    keys = list(all_grads.keys())\n",
    "    for n_i, key in enumerate(keys):\n",
    "        grads = all_grads[key]\n",
    "        #print(band, key)\n",
    "        # compute all bands gradients\n",
    "        l, h = freqs_to_bin(freqs, band)\n",
    "        band_freqs = freqs[l:h+1]\n",
    "        band_grads = grads[:,l:h+1].mean(axis=1)\n",
    "        all_band_grads.append(band_grads)        \n",
    "\n",
    "    fig, ax_arr = plt.subplots(1, 3, figsize=(10, 3))\n",
    "    # for better comparability, compute vlim over all pathological subsets of a freq band\n",
    "    vmin, vmax = np.min(all_band_grads), np.max(all_band_grads)\n",
    "    max_abs = np.abs([vmin, vmax]).max()\n",
    "\n",
    "    for band_i, band_grads in enumerate(all_band_grads):\n",
    "        ax_img, contours = plot_topomap(\n",
    "            band_grads, \n",
    "            info,\n",
    "            size=3,\n",
    "            names=names,\n",
    "            show=False,\n",
    "            axes=ax_arr[band_i],\n",
    "            vlim=(-max_abs, max_abs),\n",
    "        )\n",
    "        ax_img.axes.set_title(f'{keys[band_i]}\\n')\n",
    "        if band_i == 0:\n",
    "            ax_img.axes.set_ylabel('-'.join([str(i) for i in band])+' Hz\\n')\n",
    "    # move one in for sanity check. one band, all subsets -> same cbar vlim\n",
    "    add_cbar(fig, ax_img)"
   ]
  },
  {
   "cell_type": "code",
   "execution_count": null,
   "id": "5bc6cd01-2af0-4fd5-b176-0c8e5e915620",
   "metadata": {},
   "outputs": [],
   "source": []
  },
  {
   "cell_type": "code",
   "execution_count": null,
   "id": "752cb8a7-01cd-464e-9312-c560c0332d0e",
   "metadata": {},
   "outputs": [],
   "source": []
  },
  {
   "cell_type": "code",
   "execution_count": null,
   "id": "0d275dd3-ac94-4075-afdf-650108f81bb3",
   "metadata": {},
   "outputs": [],
   "source": []
  }
 ],
 "metadata": {
  "kernelspec": {
   "display_name": "Python [conda env:job-env]",
   "language": "python",
   "name": "conda-env-job-env-py"
  },
  "language_info": {
   "codemirror_mode": {
    "name": "ipython",
    "version": 3
   },
   "file_extension": ".py",
   "mimetype": "text/x-python",
   "name": "python",
   "nbconvert_exporter": "python",
   "pygments_lexer": "ipython3",
   "version": "3.9.16"
  }
 },
 "nbformat": 4,
 "nbformat_minor": 5
}
