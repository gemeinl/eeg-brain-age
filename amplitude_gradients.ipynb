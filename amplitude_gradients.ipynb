{
 "cells": [
  {
   "cell_type": "code",
   "execution_count": 1,
   "id": "fdb52cc7-bca4-470f-9467-7e12e9843b2a",
   "metadata": {},
   "outputs": [],
   "source": [
    "import sys\n",
    "sys.path.insert(0, '/home/jovyan/braindecode/')\n",
    "import pickle\n",
    "\n",
    "import numpy as np\n",
    "import pandas as pd\n",
    "import matplotlib.pyplot as plt\n",
    "\n",
    "import mne\n",
    "from mne.channels import make_standard_montage\n",
    "from mne.viz import plot_topomap\n",
    "\n",
    "from braindecode.visualization import compute_amplitude_gradients\n",
    "\n",
    "from decode_tueg import load_exp, DataScaler, TargetScaler, Augmenter"
   ]
  },
  {
   "cell_type": "code",
   "execution_count": 2,
   "id": "e2b6f088-faec-4bd0-afef-46f06a17e7a8",
   "metadata": {},
   "outputs": [],
   "source": [
    "def add_cbar(fig, ax_img):\n",
    "    # manually add colorbar\n",
    "    ax_x_start = 0.95\n",
    "    ax_x_width = 0.04\n",
    "    ax_y_start = 0.1\n",
    "    ax_y_height = 0.9\n",
    "    cbar_ax = fig.add_axes([ax_x_start, ax_y_start, ax_x_width, ax_y_height])\n",
    "    clb = fig.colorbar(ax_img, cax=cbar_ax)\n",
    "    clb.ax.set_title('uV')"
   ]
  },
  {
   "cell_type": "code",
   "execution_count": 3,
   "id": "1dbcc0f2-9fc8-4eab-ac59-0e484cb988b9",
   "metadata": {},
   "outputs": [],
   "source": [
    "names = ['A1', 'A2', 'C3', 'C4', 'Cz', 'F3', 'F4', 'F7', 'F8', 'Fp1', 'Fp2',\n",
    "       'Fz', 'O1', 'O2', 'P3', 'P4', 'Pz', 'T3', 'T4', 'T5', 'T6']"
   ]
  },
  {
   "cell_type": "code",
   "execution_count": 4,
   "id": "eae37b96-0bf3-4ece-b4dd-74a48454777b",
   "metadata": {},
   "outputs": [],
   "source": [
    "montage = make_standard_montage('standard_1020')\n",
    "info = mne.create_info(names, 100, ch_types='eeg')\n",
    "info = info.set_montage(montage)"
   ]
  },
  {
   "cell_type": "code",
   "execution_count": 5,
   "id": "3d504383-11c9-48a4-a37f-c9540d8aa5f0",
   "metadata": {},
   "outputs": [],
   "source": [
    "batch_size = 64\n",
    "n_recordings = None\n",
    "exp_dir = '/home/jovyan/experiments/'\n",
    "checkpoint = 'train_end'"
   ]
  },
  {
   "cell_type": "code",
   "execution_count": 6,
   "id": "560a3f5b-06d0-497d-88c9-a3530e8d5e3f",
   "metadata": {},
   "outputs": [],
   "source": [
    "clf, data_scaler, target_scaler, config = load_exp(\n",
    "    exp_dir,\n",
    "    '2022-10-17T16:24:10.124445/20220429/0',\n",
    "    checkpoint\n",
    ")"
   ]
  },
  {
   "cell_type": "code",
   "execution_count": 7,
   "id": "078e37aa-7268-4cfd-84f7-968194106e2b",
   "metadata": {},
   "outputs": [],
   "source": [
    "for ds_name in ['transition']:  # non-pathological, pathological\n",
    "    break"
   ]
  },
  {
   "cell_type": "code",
   "execution_count": 8,
   "id": "0be63706-d066-47fb-9ead-3434f7f67ad2",
   "metadata": {},
   "outputs": [],
   "source": [
    "with open(f'/home/jovyan/longitudinal/{ds_name}_pre_win.pkl', 'rb') as f:\n",
    "    ds = pickle.load(f)"
   ]
  },
  {
   "cell_type": "code",
   "execution_count": 9,
   "id": "b0aa7223-d709-4fe7-a213-ebfa67c8403b",
   "metadata": {},
   "outputs": [],
   "source": [
    "if n_recordings is not None:\n",
    "    ds = ds.split(list(range(n_recordings)))['0']"
   ]
  },
  {
   "cell_type": "code",
   "execution_count": null,
   "id": "1ee817ab-ee13-41d7-8eaf-df6ce51742fd",
   "metadata": {},
   "outputs": [],
   "source": [
    "all_grads = {}\n",
    "for n, d in ds.split('pathological').items():\n",
    "    grads = compute_amplitude_gradients(clf.module, d, batch_size)\n",
    "    avg_grads = grads.mean((3, 1, 0))\n",
    "    all_grads['Non-pathological' if n == '0' else 'Pathological'] = avg_grads\n",
    "all_grads['Non-pathological – Pathological'] = all_grads['Non-pathological'] - all_grads['Pathological']"
   ]
  },
  {
   "cell_type": "code",
   "execution_count": null,
   "id": "14ce35ac-7c74-47e9-942f-d3537a549ab1",
   "metadata": {},
   "outputs": [],
   "source": [
    "vmin, vmax = pd.DataFrame(all_grads).min().min(), pd.DataFrame(all_grads).max().max()\n",
    "max_abs = np.abs([vmin, vmax]).max()"
   ]
  },
  {
   "cell_type": "code",
   "execution_count": null,
   "id": "655b7d46-de53-40e7-a61c-a4332c8e05aa",
   "metadata": {},
   "outputs": [],
   "source": [
    "fig, ax_arr = plt.subplots(1, 3, figsize=(12, 3))\n",
    "for i, (n, g) in enumerate(all_grads.items()):\n",
    "    ax_img, contours = plot_topomap(\n",
    "        g, \n",
    "        info,\n",
    "        size=5,\n",
    "        names=names,\n",
    "        show=False,\n",
    "        axes=ax_arr[i],\n",
    "        vlim=(-max_abs, max_abs),\n",
    "    )\n",
    "    ax_img.axes.set_title(n)\n",
    "add_cbar(fig, ax_img)"
   ]
  },
  {
   "cell_type": "code",
   "execution_count": null,
   "id": "a3a24045-7232-4224-9ddb-ad03453fb5d4",
   "metadata": {},
   "outputs": [],
   "source": []
  },
  {
   "cell_type": "code",
   "execution_count": null,
   "id": "56f52425-c8e4-4c26-ad8b-8ba7452cd225",
   "metadata": {},
   "outputs": [],
   "source": []
  },
  {
   "cell_type": "code",
   "execution_count": null,
   "id": "33961c7a-4b59-4e66-b9db-4fb3fc501b34",
   "metadata": {},
   "outputs": [],
   "source": []
  }
 ],
 "metadata": {
  "kernelspec": {
   "display_name": "Python 3 (ipykernel)",
   "language": "python",
   "name": "python3"
  },
  "language_info": {
   "codemirror_mode": {
    "name": "ipython",
    "version": 3
   },
   "file_extension": ".py",
   "mimetype": "text/x-python",
   "name": "python",
   "nbconvert_exporter": "python",
   "pygments_lexer": "ipython3",
   "version": "3.9.7"
  }
 },
 "nbformat": 4,
 "nbformat_minor": 5
}
